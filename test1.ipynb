{
  "nbformat": 4,
  "nbformat_minor": 0,
  "metadata": {
    "colab": {
      "name": "test.ipynb",
      "provenance": [],
      "collapsed_sections": [],
      "toc_visible": true
    },
    "kernelspec": {
      "name": "python3",
      "display_name": "Python 3"
    }
  },
  "cells": [
    {
      "cell_type": "code",
      "metadata": {
        "id": "tX-Erfy-j-av"
      },
      "source": [
        "from google.cloud import bigquery\n",
        "import os\n",
        "\n",
        "path = \"/content/credentials.json\"\n",
        "os.environ[\"GOOGLE_APPLICATION_CREDENTIALS\"] = path\n",
        "\n",
        "client = bigquery.Client()\n",
        "dataset_ref = client.dataset(\"iowa_liquor_sales\", project=\"bigquery-public-data\")\n",
        "dataset = client.get_dataset(dataset_ref)\n",
        "table_ref = dataset_ref.table(\"sales\")\n",
        "table = client.get_table(table_ref)\n",
        "\n",
        "df = client.list_rows(table=table, max_results=3000000).to_dataframe()\n",
        "\n",
        "\n"
      ],
      "execution_count": 170,
      "outputs": []
    },
    {
      "cell_type": "markdown",
      "metadata": {
        "id": "WLnvA9kUX7zq"
      },
      "source": [
        "Let's take a look on data"
      ]
    },
    {
      "cell_type": "code",
      "metadata": {
        "id": "gg0LSMctXpEP",
        "outputId": "3cf33ea9-d56f-4c30-d24c-ab1bf87baae9",
        "colab": {
          "base_uri": "https://localhost:8080/",
          "height": 1000
        }
      },
      "source": [
        "df.head(30)\n"
      ],
      "execution_count": 171,
      "outputs": [
        {
          "output_type": "execute_result",
          "data": {
            "text/html": [
              "<div>\n",
              "<style scoped>\n",
              "    .dataframe tbody tr th:only-of-type {\n",
              "        vertical-align: middle;\n",
              "    }\n",
              "\n",
              "    .dataframe tbody tr th {\n",
              "        vertical-align: top;\n",
              "    }\n",
              "\n",
              "    .dataframe thead th {\n",
              "        text-align: right;\n",
              "    }\n",
              "</style>\n",
              "<table border=\"1\" class=\"dataframe\">\n",
              "  <thead>\n",
              "    <tr style=\"text-align: right;\">\n",
              "      <th></th>\n",
              "      <th>invoice_and_item_number</th>\n",
              "      <th>date</th>\n",
              "      <th>store_number</th>\n",
              "      <th>store_name</th>\n",
              "      <th>address</th>\n",
              "      <th>city</th>\n",
              "      <th>zip_code</th>\n",
              "      <th>store_location</th>\n",
              "      <th>county_number</th>\n",
              "      <th>county</th>\n",
              "      <th>category</th>\n",
              "      <th>category_name</th>\n",
              "      <th>vendor_number</th>\n",
              "      <th>vendor_name</th>\n",
              "      <th>item_number</th>\n",
              "      <th>item_description</th>\n",
              "      <th>pack</th>\n",
              "      <th>bottle_volume_ml</th>\n",
              "      <th>state_bottle_cost</th>\n",
              "      <th>state_bottle_retail</th>\n",
              "      <th>bottles_sold</th>\n",
              "      <th>sale_dollars</th>\n",
              "      <th>volume_sold_liters</th>\n",
              "      <th>volume_sold_gallons</th>\n",
              "    </tr>\n",
              "  </thead>\n",
              "  <tbody>\n",
              "    <tr>\n",
              "      <th>0</th>\n",
              "      <td>INV-29710100033</td>\n",
              "      <td>2020-08-25</td>\n",
              "      <td>2665</td>\n",
              "      <td>Hy-Vee / Waukee</td>\n",
              "      <td>1005 E Hickman Rd</td>\n",
              "      <td>Waukee</td>\n",
              "      <td>50263</td>\n",
              "      <td>POINT (-93.854477 41.615059)</td>\n",
              "      <td>25</td>\n",
              "      <td>DALLAS</td>\n",
              "      <td>1081100</td>\n",
              "      <td>Coffee Liqueurs</td>\n",
              "      <td>370</td>\n",
              "      <td>PERNOD RICARD USA</td>\n",
              "      <td>67522</td>\n",
              "      <td>Kahlua Coffee Mini</td>\n",
              "      <td>12</td>\n",
              "      <td>50</td>\n",
              "      <td>6.60</td>\n",
              "      <td>9.90</td>\n",
              "      <td>2</td>\n",
              "      <td>19.80</td>\n",
              "      <td>0.10</td>\n",
              "      <td>0.02</td>\n",
              "    </tr>\n",
              "    <tr>\n",
              "      <th>1</th>\n",
              "      <td>S28766800075</td>\n",
              "      <td>2015-10-29</td>\n",
              "      <td>2627</td>\n",
              "      <td>Hy-Vee Wine and Spirits #1</td>\n",
              "      <td>3424 MARTIN LUTHER KING JR PKW</td>\n",
              "      <td>DES MOINES</td>\n",
              "      <td>50310</td>\n",
              "      <td>POINT (-93.65129 41.626668)</td>\n",
              "      <td>77</td>\n",
              "      <td>Polk</td>\n",
              "      <td>1081030</td>\n",
              "      <td>COFFEE LIQUEURS</td>\n",
              "      <td>370</td>\n",
              "      <td>Pernod Ricard USA/Austin Nichols</td>\n",
              "      <td>67526</td>\n",
              "      <td>Kahlua Coffee Liqueur</td>\n",
              "      <td>12</td>\n",
              "      <td>750</td>\n",
              "      <td>11.99</td>\n",
              "      <td>17.99</td>\n",
              "      <td>36</td>\n",
              "      <td>647.64</td>\n",
              "      <td>27.00</td>\n",
              "      <td>7.13</td>\n",
              "    </tr>\n",
              "    <tr>\n",
              "      <th>2</th>\n",
              "      <td>INV-21177600024</td>\n",
              "      <td>2019-08-12</td>\n",
              "      <td>2465</td>\n",
              "      <td>Sid's Beverage Shop</td>\n",
              "      <td>2727 Dodge St</td>\n",
              "      <td>Dubuque</td>\n",
              "      <td>52003</td>\n",
              "      <td>POINT (-90.705328 42.491862)</td>\n",
              "      <td>31</td>\n",
              "      <td>DUBUQUE</td>\n",
              "      <td>1081100</td>\n",
              "      <td>Coffee Liqueurs</td>\n",
              "      <td>065</td>\n",
              "      <td>Jim Beam Brands</td>\n",
              "      <td>67557</td>\n",
              "      <td>Kamora Coffee Liqueur</td>\n",
              "      <td>12</td>\n",
              "      <td>1000</td>\n",
              "      <td>8.39</td>\n",
              "      <td>12.59</td>\n",
              "      <td>6</td>\n",
              "      <td>75.54</td>\n",
              "      <td>6.00</td>\n",
              "      <td>1.58</td>\n",
              "    </tr>\n",
              "    <tr>\n",
              "      <th>3</th>\n",
              "      <td>INV-21158400005</td>\n",
              "      <td>2019-08-12</td>\n",
              "      <td>2190</td>\n",
              "      <td>Central City Liquor, Inc.</td>\n",
              "      <td>1460 2ND AVE</td>\n",
              "      <td>Des Moines</td>\n",
              "      <td>50314</td>\n",
              "      <td>POINT (-93.619787 41.60566)</td>\n",
              "      <td>77</td>\n",
              "      <td>POLK</td>\n",
              "      <td>1082100</td>\n",
              "      <td>Imported Cordials &amp; Liqueur</td>\n",
              "      <td>421</td>\n",
              "      <td>SAZERAC COMPANY  INC</td>\n",
              "      <td>964039</td>\n",
              "      <td>SOOH Aalborg Taffel Aquavit</td>\n",
              "      <td>6</td>\n",
              "      <td>750</td>\n",
              "      <td>11.00</td>\n",
              "      <td>16.50</td>\n",
              "      <td>30</td>\n",
              "      <td>495.00</td>\n",
              "      <td>22.50</td>\n",
              "      <td>5.94</td>\n",
              "    </tr>\n",
              "    <tr>\n",
              "      <th>4</th>\n",
              "      <td>S23027000038</td>\n",
              "      <td>2014-12-18</td>\n",
              "      <td>3678</td>\n",
              "      <td>Smoke Shop, The</td>\n",
              "      <td>1918 SE 14TH ST</td>\n",
              "      <td>DES MOINES</td>\n",
              "      <td>50320</td>\n",
              "      <td>POINT (-93.597011 41.570844)</td>\n",
              "      <td>77</td>\n",
              "      <td>Polk</td>\n",
              "      <td>1701100</td>\n",
              "      <td>DECANTERS &amp; SPECIALTY PACKAGES</td>\n",
              "      <td>420</td>\n",
              "      <td>Moet Hennessy USA, Inc.</td>\n",
              "      <td>561</td>\n",
              "      <td>Ardbeg 10YR Exploration Pack</td>\n",
              "      <td>6</td>\n",
              "      <td>850</td>\n",
              "      <td>25.98</td>\n",
              "      <td>38.97</td>\n",
              "      <td>2</td>\n",
              "      <td>77.94</td>\n",
              "      <td>1.70</td>\n",
              "      <td>0.45</td>\n",
              "    </tr>\n",
              "    <tr>\n",
              "      <th>5</th>\n",
              "      <td>S25314400137</td>\n",
              "      <td>2015-04-27</td>\n",
              "      <td>2633</td>\n",
              "      <td>Hy-Vee #3 / BDI / Des Moines</td>\n",
              "      <td>3221 SE 14TH ST</td>\n",
              "      <td>DES MOINES</td>\n",
              "      <td>50320</td>\n",
              "      <td>POINT (-93.596754 41.554101)</td>\n",
              "      <td>77</td>\n",
              "      <td>Polk</td>\n",
              "      <td>1081700</td>\n",
              "      <td>DISTILLED SPIRITS SPECIALTY</td>\n",
              "      <td>421</td>\n",
              "      <td>Sazerac Co., Inc.</td>\n",
              "      <td>77487</td>\n",
              "      <td>Tortilla Gold Dss</td>\n",
              "      <td>12</td>\n",
              "      <td>1000</td>\n",
              "      <td>4.51</td>\n",
              "      <td>6.77</td>\n",
              "      <td>48</td>\n",
              "      <td>324.96</td>\n",
              "      <td>48.00</td>\n",
              "      <td>12.68</td>\n",
              "    </tr>\n",
              "    <tr>\n",
              "      <th>6</th>\n",
              "      <td>S11773400003</td>\n",
              "      <td>2013-04-22</td>\n",
              "      <td>3820</td>\n",
              "      <td>Charlie's Wine and Spirits,</td>\n",
              "      <td>507 W 19th St</td>\n",
              "      <td>SIOUX CITY</td>\n",
              "      <td>51103</td>\n",
              "      <td>POINT (-96.420193 42.510535)</td>\n",
              "      <td>97</td>\n",
              "      <td>Woodbury</td>\n",
              "      <td>1081400</td>\n",
              "      <td>TRIPLE SEC</td>\n",
              "      <td>434</td>\n",
              "      <td>Luxco-St Louis</td>\n",
              "      <td>86251</td>\n",
              "      <td>Juarez Triple Sec</td>\n",
              "      <td>12</td>\n",
              "      <td>1000</td>\n",
              "      <td>2.21</td>\n",
              "      <td>3.31</td>\n",
              "      <td>48</td>\n",
              "      <td>158.88</td>\n",
              "      <td>48.00</td>\n",
              "      <td>12.68</td>\n",
              "    </tr>\n",
              "    <tr>\n",
              "      <th>7</th>\n",
              "      <td>S22784200001</td>\n",
              "      <td>2014-12-08</td>\n",
              "      <td>3644</td>\n",
              "      <td>Wal-Mart 2764 / Altoona</td>\n",
              "      <td>3501  8TH ST SW</td>\n",
              "      <td>ALTOONA</td>\n",
              "      <td>50009</td>\n",
              "      <td>POINT (-93.505276 41.644195)</td>\n",
              "      <td>77</td>\n",
              "      <td>Polk</td>\n",
              "      <td>1701100</td>\n",
              "      <td>DECANTERS &amp; SPECIALTY PACKAGES</td>\n",
              "      <td>305</td>\n",
              "      <td>MHW Ltd</td>\n",
              "      <td>40614</td>\n",
              "      <td>Rumchata w/Thermal Cup</td>\n",
              "      <td>6</td>\n",
              "      <td>750</td>\n",
              "      <td>12.50</td>\n",
              "      <td>18.75</td>\n",
              "      <td>30</td>\n",
              "      <td>562.50</td>\n",
              "      <td>22.50</td>\n",
              "      <td>5.94</td>\n",
              "    </tr>\n",
              "    <tr>\n",
              "      <th>8</th>\n",
              "      <td>S08912500001</td>\n",
              "      <td>2012-11-13</td>\n",
              "      <td>4576</td>\n",
              "      <td>THE BOONEDOCKS</td>\n",
              "      <td>228 N HWY 71</td>\n",
              "      <td>ARNOLDS PARK</td>\n",
              "      <td>51331</td>\n",
              "      <td>POINT (-95.125928 43.370941)</td>\n",
              "      <td>30</td>\n",
              "      <td>Dickinson</td>\n",
              "      <td>1011500</td>\n",
              "      <td>STRAIGHT RYE WHISKIES</td>\n",
              "      <td>255</td>\n",
              "      <td>Wilson Daniels Ltd.</td>\n",
              "      <td>27102</td>\n",
              "      <td>Templeton Rye</td>\n",
              "      <td>6</td>\n",
              "      <td>750</td>\n",
              "      <td>18.08</td>\n",
              "      <td>27.13</td>\n",
              "      <td>18</td>\n",
              "      <td>488.34</td>\n",
              "      <td>13.50</td>\n",
              "      <td>3.57</td>\n",
              "    </tr>\n",
              "    <tr>\n",
              "      <th>9</th>\n",
              "      <td>INV-23602600014</td>\n",
              "      <td>2019-12-02</td>\n",
              "      <td>3855</td>\n",
              "      <td>Dyno's Wine and Spirits / Storm Lake</td>\n",
              "      <td>1201 1/2 Lakeshore Dr</td>\n",
              "      <td>Storm Lake</td>\n",
              "      <td>50588</td>\n",
              "      <td>None</td>\n",
              "      <td>11</td>\n",
              "      <td>BUENA VIST</td>\n",
              "      <td>1062100</td>\n",
              "      <td>Gold Rum</td>\n",
              "      <td>035</td>\n",
              "      <td>BACARDI USA INC</td>\n",
              "      <td>43037</td>\n",
              "      <td>Bacardi Gold</td>\n",
              "      <td>12</td>\n",
              "      <td>1000</td>\n",
              "      <td>9.50</td>\n",
              "      <td>14.25</td>\n",
              "      <td>2</td>\n",
              "      <td>28.50</td>\n",
              "      <td>2.00</td>\n",
              "      <td>0.52</td>\n",
              "    </tr>\n",
              "    <tr>\n",
              "      <th>10</th>\n",
              "      <td>S28360900006</td>\n",
              "      <td>2015-10-08</td>\n",
              "      <td>2248</td>\n",
              "      <td>Ingersoll Liquor and Beverage</td>\n",
              "      <td>3500 INGERSOLL AVE</td>\n",
              "      <td>DES MOINES</td>\n",
              "      <td>50312</td>\n",
              "      <td>POINT (-93.664182 41.586319)</td>\n",
              "      <td>77</td>\n",
              "      <td>Polk</td>\n",
              "      <td>1701100</td>\n",
              "      <td>DECANTERS &amp; SPECIALTY PACKAGES</td>\n",
              "      <td>260</td>\n",
              "      <td>Diageo Americas</td>\n",
              "      <td>558</td>\n",
              "      <td>Crown Royal w/2 Glasses</td>\n",
              "      <td>4</td>\n",
              "      <td>1750</td>\n",
              "      <td>31.99</td>\n",
              "      <td>47.99</td>\n",
              "      <td>4</td>\n",
              "      <td>191.96</td>\n",
              "      <td>7.00</td>\n",
              "      <td>1.85</td>\n",
              "    </tr>\n",
              "    <tr>\n",
              "      <th>11</th>\n",
              "      <td>S28488500093</td>\n",
              "      <td>2015-10-15</td>\n",
              "      <td>4829</td>\n",
              "      <td>Central City 2</td>\n",
              "      <td>1501 MICHIGAN AVE</td>\n",
              "      <td>DES MOINES</td>\n",
              "      <td>50314</td>\n",
              "      <td>POINT (-93.613739 41.60572)</td>\n",
              "      <td>77</td>\n",
              "      <td>Polk</td>\n",
              "      <td>1081330</td>\n",
              "      <td>PEACH SCHNAPPS</td>\n",
              "      <td>65</td>\n",
              "      <td>Jim Beam Brands</td>\n",
              "      <td>82847</td>\n",
              "      <td>Dekuyper Peachtree</td>\n",
              "      <td>12</td>\n",
              "      <td>1000</td>\n",
              "      <td>7.62</td>\n",
              "      <td>11.43</td>\n",
              "      <td>72</td>\n",
              "      <td>822.96</td>\n",
              "      <td>72.00</td>\n",
              "      <td>19.02</td>\n",
              "    </tr>\n",
              "    <tr>\n",
              "      <th>12</th>\n",
              "      <td>S16488700057</td>\n",
              "      <td>2013-12-27</td>\n",
              "      <td>3814</td>\n",
              "      <td>Costco Wholesale #788</td>\n",
              "      <td>7205 MILLS CIVIC PKWY</td>\n",
              "      <td>WEST DES MOINES</td>\n",
              "      <td>50266</td>\n",
              "      <td>POINT (-93.806489 41.561342)</td>\n",
              "      <td>25</td>\n",
              "      <td>Dallas</td>\n",
              "      <td>1081015</td>\n",
              "      <td>IMPORTED AMARETTO</td>\n",
              "      <td>130</td>\n",
              "      <td>Disaronno International LLC</td>\n",
              "      <td>64136</td>\n",
              "      <td>Disaronno Amaretto</td>\n",
              "      <td>12</td>\n",
              "      <td>750</td>\n",
              "      <td>12.86</td>\n",
              "      <td>19.79</td>\n",
              "      <td>108</td>\n",
              "      <td>2137.32</td>\n",
              "      <td>81.00</td>\n",
              "      <td>21.40</td>\n",
              "    </tr>\n",
              "    <tr>\n",
              "      <th>13</th>\n",
              "      <td>INV-29820800112</td>\n",
              "      <td>2020-08-28</td>\n",
              "      <td>4291</td>\n",
              "      <td>Fareway Stores #597 / Creston</td>\n",
              "      <td>105 E Adams St</td>\n",
              "      <td>Creston</td>\n",
              "      <td>50801</td>\n",
              "      <td>POINT (-94.237509 40.715722)</td>\n",
              "      <td>88</td>\n",
              "      <td>UNION</td>\n",
              "      <td>1081500</td>\n",
              "      <td>Triple Sec</td>\n",
              "      <td>434</td>\n",
              "      <td>LUXCO INC</td>\n",
              "      <td>86251</td>\n",
              "      <td>Juarez Triple Sec</td>\n",
              "      <td>12</td>\n",
              "      <td>1000</td>\n",
              "      <td>2.42</td>\n",
              "      <td>3.63</td>\n",
              "      <td>5</td>\n",
              "      <td>18.15</td>\n",
              "      <td>5.00</td>\n",
              "      <td>1.32</td>\n",
              "    </tr>\n",
              "    <tr>\n",
              "      <th>14</th>\n",
              "      <td>INV-29829800003</td>\n",
              "      <td>2020-08-28</td>\n",
              "      <td>2718</td>\n",
              "      <td>Hy-Vee Waukon Dollar Fresh</td>\n",
              "      <td>819 11th Ave SW</td>\n",
              "      <td>Waukon</td>\n",
              "      <td>52172</td>\n",
              "      <td>POINT (-91.487004 43.256597)</td>\n",
              "      <td>3</td>\n",
              "      <td>ALLAMAKEE</td>\n",
              "      <td>1011600</td>\n",
              "      <td>Straight Rye Whiskies</td>\n",
              "      <td>255</td>\n",
              "      <td>Infinium Spirits</td>\n",
              "      <td>27102</td>\n",
              "      <td>Templeton 4YR Rye</td>\n",
              "      <td>6</td>\n",
              "      <td>750</td>\n",
              "      <td>18.09</td>\n",
              "      <td>27.14</td>\n",
              "      <td>30</td>\n",
              "      <td>814.20</td>\n",
              "      <td>22.50</td>\n",
              "      <td>5.94</td>\n",
              "    </tr>\n",
              "    <tr>\n",
              "      <th>15</th>\n",
              "      <td>INV-29859200055</td>\n",
              "      <td>2020-08-31</td>\n",
              "      <td>2593</td>\n",
              "      <td>Hy-Vee Food Store / Carroll</td>\n",
              "      <td>905 US Highway 30 West</td>\n",
              "      <td>Carroll</td>\n",
              "      <td>51401</td>\n",
              "      <td>POINT (-94.853591 42.064155)</td>\n",
              "      <td>14</td>\n",
              "      <td>CARROLL</td>\n",
              "      <td>1011600</td>\n",
              "      <td>Straight Rye Whiskies</td>\n",
              "      <td>255</td>\n",
              "      <td>Infinium Spirits</td>\n",
              "      <td>27125</td>\n",
              "      <td>Templeton 6YR Rye</td>\n",
              "      <td>6</td>\n",
              "      <td>750</td>\n",
              "      <td>22.75</td>\n",
              "      <td>34.13</td>\n",
              "      <td>60</td>\n",
              "      <td>2047.80</td>\n",
              "      <td>45.00</td>\n",
              "      <td>11.88</td>\n",
              "    </tr>\n",
              "    <tr>\n",
              "      <th>16</th>\n",
              "      <td>INV-21532100232</td>\n",
              "      <td>2019-08-27</td>\n",
              "      <td>2621</td>\n",
              "      <td>Hy-Vee Food Store #3 / Sioux City</td>\n",
              "      <td>3301 Gordon Dr</td>\n",
              "      <td>Sioux City</td>\n",
              "      <td>51105</td>\n",
              "      <td>POINT (-96.364108 42.487752)</td>\n",
              "      <td>97</td>\n",
              "      <td>WOODBURY</td>\n",
              "      <td>1081500</td>\n",
              "      <td>Triple Sec</td>\n",
              "      <td>434</td>\n",
              "      <td>LUXCO INC</td>\n",
              "      <td>86251</td>\n",
              "      <td>Juarez Triple Sec</td>\n",
              "      <td>12</td>\n",
              "      <td>1000</td>\n",
              "      <td>2.42</td>\n",
              "      <td>3.63</td>\n",
              "      <td>6</td>\n",
              "      <td>21.78</td>\n",
              "      <td>6.00</td>\n",
              "      <td>1.58</td>\n",
              "    </tr>\n",
              "    <tr>\n",
              "      <th>17</th>\n",
              "      <td>S22239300002</td>\n",
              "      <td>2014-11-07</td>\n",
              "      <td>4098</td>\n",
              "      <td>Wal-Mart 1475 / Washington</td>\n",
              "      <td>2485 HWY 92</td>\n",
              "      <td>WASHINGTON</td>\n",
              "      <td>52353</td>\n",
              "      <td>POINT (-91.660194 41.296202)</td>\n",
              "      <td>92</td>\n",
              "      <td>Washington</td>\n",
              "      <td>1701100</td>\n",
              "      <td>DECANTERS &amp; SPECIALTY PACKAGES</td>\n",
              "      <td>305</td>\n",
              "      <td>MHW Ltd</td>\n",
              "      <td>40614</td>\n",
              "      <td>Rumchata w/Thermal Cup</td>\n",
              "      <td>6</td>\n",
              "      <td>750</td>\n",
              "      <td>12.50</td>\n",
              "      <td>18.75</td>\n",
              "      <td>36</td>\n",
              "      <td>675.00</td>\n",
              "      <td>27.00</td>\n",
              "      <td>7.13</td>\n",
              "    </tr>\n",
              "    <tr>\n",
              "      <th>18</th>\n",
              "      <td>S14080600046</td>\n",
              "      <td>2013-10-11</td>\n",
              "      <td>2512</td>\n",
              "      <td>Hy-Vee Wine and Spirits / Iowa City</td>\n",
              "      <td>1720 WATERFRONT DR</td>\n",
              "      <td>IOWA CITY</td>\n",
              "      <td>52240</td>\n",
              "      <td>POINT (-91.53046300000001 41.642764)</td>\n",
              "      <td>52</td>\n",
              "      <td>Johnson</td>\n",
              "      <td>1701100</td>\n",
              "      <td>DECANTERS &amp; SPECIALTY PACKAGES</td>\n",
              "      <td>370</td>\n",
              "      <td>Pernod Ricard USA/Austin Nichols</td>\n",
              "      <td>1500</td>\n",
              "      <td>Jameson Irish Whiskey Tin</td>\n",
              "      <td>6</td>\n",
              "      <td>750</td>\n",
              "      <td>13.74</td>\n",
              "      <td>20.99</td>\n",
              "      <td>56</td>\n",
              "      <td>1175.44</td>\n",
              "      <td>42.00</td>\n",
              "      <td>11.10</td>\n",
              "    </tr>\n",
              "    <tr>\n",
              "      <th>19</th>\n",
              "      <td>S32091700014</td>\n",
              "      <td>2016-05-02</td>\n",
              "      <td>2512</td>\n",
              "      <td>Hy-Vee Wine and Spirits / Iowa City</td>\n",
              "      <td>1720 Waterfront Dr</td>\n",
              "      <td>Iowa City</td>\n",
              "      <td>52240</td>\n",
              "      <td>POINT (-91.53046300000001 41.642764)</td>\n",
              "      <td>52</td>\n",
              "      <td>Johnson</td>\n",
              "      <td>1081330</td>\n",
              "      <td>PEACH SCHNAPPS</td>\n",
              "      <td>434</td>\n",
              "      <td>Luxco-St Louis</td>\n",
              "      <td>84457</td>\n",
              "      <td>Paramount Peach Schnapps</td>\n",
              "      <td>12</td>\n",
              "      <td>1000</td>\n",
              "      <td>5.42</td>\n",
              "      <td>8.13</td>\n",
              "      <td>96</td>\n",
              "      <td>780.48</td>\n",
              "      <td>96.00</td>\n",
              "      <td>25.36</td>\n",
              "    </tr>\n",
              "    <tr>\n",
              "      <th>20</th>\n",
              "      <td>INV-15505000094</td>\n",
              "      <td>2018-11-06</td>\n",
              "      <td>3385</td>\n",
              "      <td>Sam's Club 8162 / Cedar Rapids</td>\n",
              "      <td>2605 Blairs Ferry Rd NE</td>\n",
              "      <td>Cedar Rapids</td>\n",
              "      <td>52402</td>\n",
              "      <td>POINT (-91.67969 42.031819)</td>\n",
              "      <td>57</td>\n",
              "      <td>LINN</td>\n",
              "      <td>1081500</td>\n",
              "      <td>Triple Sec</td>\n",
              "      <td>055</td>\n",
              "      <td>SAZERAC NORTH AMERICA</td>\n",
              "      <td>86390</td>\n",
              "      <td>Montezuma Triple Sec</td>\n",
              "      <td>12</td>\n",
              "      <td>1000</td>\n",
              "      <td>2.13</td>\n",
              "      <td>3.20</td>\n",
              "      <td>660</td>\n",
              "      <td>2112.00</td>\n",
              "      <td>660.00</td>\n",
              "      <td>174.35</td>\n",
              "    </tr>\n",
              "    <tr>\n",
              "      <th>21</th>\n",
              "      <td>INV-15718500035</td>\n",
              "      <td>2018-11-14</td>\n",
              "      <td>5380</td>\n",
              "      <td>Transit General Store</td>\n",
              "      <td>2324 Transit Plaza</td>\n",
              "      <td>Sioux City</td>\n",
              "      <td>51106</td>\n",
              "      <td>POINT (-96.378682 42.476368)</td>\n",
              "      <td>97</td>\n",
              "      <td>WOODBURY</td>\n",
              "      <td>None</td>\n",
              "      <td>None</td>\n",
              "      <td>055</td>\n",
              "      <td>SAZERAC NORTH AMERICA</td>\n",
              "      <td>84197</td>\n",
              "      <td>99 Pineapple Mini</td>\n",
              "      <td>10</td>\n",
              "      <td>600</td>\n",
              "      <td>6.00</td>\n",
              "      <td>9.00</td>\n",
              "      <td>2</td>\n",
              "      <td>18.00</td>\n",
              "      <td>1.20</td>\n",
              "      <td>0.31</td>\n",
              "    </tr>\n",
              "    <tr>\n",
              "      <th>22</th>\n",
              "      <td>INV-15670700168</td>\n",
              "      <td>2018-11-13</td>\n",
              "      <td>2513</td>\n",
              "      <td>Hy-Vee Food Store #2 / Iowa City</td>\n",
              "      <td>812  S 1st Ave</td>\n",
              "      <td>Iowa City</td>\n",
              "      <td>52240</td>\n",
              "      <td>None</td>\n",
              "      <td>52</td>\n",
              "      <td>JOHNSON</td>\n",
              "      <td>1081500</td>\n",
              "      <td>Triple Sec</td>\n",
              "      <td>434</td>\n",
              "      <td>LUXCO INC</td>\n",
              "      <td>86251</td>\n",
              "      <td>Juarez Triple Sec</td>\n",
              "      <td>12</td>\n",
              "      <td>1000</td>\n",
              "      <td>2.42</td>\n",
              "      <td>3.63</td>\n",
              "      <td>6</td>\n",
              "      <td>21.78</td>\n",
              "      <td>6.00</td>\n",
              "      <td>1.58</td>\n",
              "    </tr>\n",
              "    <tr>\n",
              "      <th>23</th>\n",
              "      <td>INV-01461500057</td>\n",
              "      <td>2016-11-08</td>\n",
              "      <td>4167</td>\n",
              "      <td>Iowa Street Market, Inc.</td>\n",
              "      <td>1256 Iowa St</td>\n",
              "      <td>Dubuque</td>\n",
              "      <td>52001</td>\n",
              "      <td>POINT (-90.668138 42.504959)</td>\n",
              "      <td>31</td>\n",
              "      <td>DUBUQUE</td>\n",
              "      <td>1092100</td>\n",
              "      <td>Imported Distilled Spirit Specialty</td>\n",
              "      <td>055</td>\n",
              "      <td>SAZERAC NORTH AMERICA</td>\n",
              "      <td>76227</td>\n",
              "      <td>Montezuma Blue</td>\n",
              "      <td>12</td>\n",
              "      <td>1000</td>\n",
              "      <td>4.66</td>\n",
              "      <td>6.99</td>\n",
              "      <td>16</td>\n",
              "      <td>111.84</td>\n",
              "      <td>16.00</td>\n",
              "      <td>4.23</td>\n",
              "    </tr>\n",
              "    <tr>\n",
              "      <th>24</th>\n",
              "      <td>INV-10798900011</td>\n",
              "      <td>2018-03-08</td>\n",
              "      <td>2515</td>\n",
              "      <td>Hy-Vee Food Store #1 / Mason City</td>\n",
              "      <td>2400 4th St SW</td>\n",
              "      <td>Mason City</td>\n",
              "      <td>50401</td>\n",
              "      <td>POINT (-93.23551 43.149557)</td>\n",
              "      <td>17</td>\n",
              "      <td>CERRO GORD</td>\n",
              "      <td>1012300</td>\n",
              "      <td>Single Malt Scotch</td>\n",
              "      <td>370</td>\n",
              "      <td>PERNOD RICARD USA</td>\n",
              "      <td>5153</td>\n",
              "      <td>Glenlivet Founders Reserve</td>\n",
              "      <td>12</td>\n",
              "      <td>750</td>\n",
              "      <td>19.98</td>\n",
              "      <td>29.97</td>\n",
              "      <td>120</td>\n",
              "      <td>3596.40</td>\n",
              "      <td>90.00</td>\n",
              "      <td>23.78</td>\n",
              "    </tr>\n",
              "    <tr>\n",
              "      <th>25</th>\n",
              "      <td>INV-04738400060</td>\n",
              "      <td>2017-05-04</td>\n",
              "      <td>2130</td>\n",
              "      <td>Sycamore Convenience</td>\n",
              "      <td>617 Sycamore</td>\n",
              "      <td>Waterloo</td>\n",
              "      <td>50703</td>\n",
              "      <td>POINT (-92.335358 42.497854)</td>\n",
              "      <td>7</td>\n",
              "      <td>BLACK HAWK</td>\n",
              "      <td>1081500</td>\n",
              "      <td>Triple Sec</td>\n",
              "      <td>434</td>\n",
              "      <td>LUXCO INC</td>\n",
              "      <td>86251</td>\n",
              "      <td>Juarez Triple Sec</td>\n",
              "      <td>12</td>\n",
              "      <td>1000</td>\n",
              "      <td>2.42</td>\n",
              "      <td>3.63</td>\n",
              "      <td>72</td>\n",
              "      <td>261.36</td>\n",
              "      <td>72.00</td>\n",
              "      <td>19.02</td>\n",
              "    </tr>\n",
              "    <tr>\n",
              "      <th>26</th>\n",
              "      <td>INV-26587500021</td>\n",
              "      <td>2020-04-15</td>\n",
              "      <td>2584</td>\n",
              "      <td>Hy-Vee Food Store / Fort Madison</td>\n",
              "      <td>2606 Avenue L</td>\n",
              "      <td>Fort Madison</td>\n",
              "      <td>52627</td>\n",
              "      <td>POINT (-91.343544 40.626988)</td>\n",
              "      <td>56</td>\n",
              "      <td>LEE</td>\n",
              "      <td>1062100</td>\n",
              "      <td>Gold Rum</td>\n",
              "      <td>434</td>\n",
              "      <td>LUXCO INC</td>\n",
              "      <td>45248</td>\n",
              "      <td>Paramount Gold Rum</td>\n",
              "      <td>6</td>\n",
              "      <td>1750</td>\n",
              "      <td>7.50</td>\n",
              "      <td>11.25</td>\n",
              "      <td>3</td>\n",
              "      <td>33.75</td>\n",
              "      <td>5.25</td>\n",
              "      <td>1.38</td>\n",
              "    </tr>\n",
              "    <tr>\n",
              "      <th>27</th>\n",
              "      <td>INV-23960300100</td>\n",
              "      <td>2019-12-16</td>\n",
              "      <td>2573</td>\n",
              "      <td>Hy-Vee Food Store / Muscatine</td>\n",
              "      <td>2400 2nd Ave</td>\n",
              "      <td>Muscatine</td>\n",
              "      <td>52761</td>\n",
              "      <td>POINT (-91.035138 41.451349)</td>\n",
              "      <td>70</td>\n",
              "      <td>MUSCATINE</td>\n",
              "      <td>1011600</td>\n",
              "      <td>Straight Rye Whiskies</td>\n",
              "      <td>260</td>\n",
              "      <td>DIAGEO AMERICAS</td>\n",
              "      <td>27026</td>\n",
              "      <td>Bulleit 95 Rye</td>\n",
              "      <td>12</td>\n",
              "      <td>1000</td>\n",
              "      <td>20.49</td>\n",
              "      <td>30.74</td>\n",
              "      <td>2</td>\n",
              "      <td>61.48</td>\n",
              "      <td>2.00</td>\n",
              "      <td>0.52</td>\n",
              "    </tr>\n",
              "    <tr>\n",
              "      <th>28</th>\n",
              "      <td>INV-24003200025</td>\n",
              "      <td>2019-12-18</td>\n",
              "      <td>2521</td>\n",
              "      <td>Hy-Vee Food and Drug / Grand / WDM</td>\n",
              "      <td>1990 Grand Avenue</td>\n",
              "      <td>West Des Moines</td>\n",
              "      <td>50265</td>\n",
              "      <td>POINT (-93.73162 41.571127)</td>\n",
              "      <td>77</td>\n",
              "      <td>POLK</td>\n",
              "      <td>1081100</td>\n",
              "      <td>Coffee Liqueurs</td>\n",
              "      <td>370</td>\n",
              "      <td>PERNOD RICARD USA</td>\n",
              "      <td>67526</td>\n",
              "      <td>Kahlua Coffee</td>\n",
              "      <td>12</td>\n",
              "      <td>750</td>\n",
              "      <td>12.49</td>\n",
              "      <td>18.74</td>\n",
              "      <td>60</td>\n",
              "      <td>1124.40</td>\n",
              "      <td>45.00</td>\n",
              "      <td>11.88</td>\n",
              "    </tr>\n",
              "    <tr>\n",
              "      <th>29</th>\n",
              "      <td>S23808300138</td>\n",
              "      <td>2015-02-02</td>\n",
              "      <td>2633</td>\n",
              "      <td>Hy-Vee #3 / BDI / Des Moines</td>\n",
              "      <td>3221 SE 14TH ST</td>\n",
              "      <td>DES MOINES</td>\n",
              "      <td>50320</td>\n",
              "      <td>POINT (-93.596754 41.554101)</td>\n",
              "      <td>77</td>\n",
              "      <td>Polk</td>\n",
              "      <td>1081400</td>\n",
              "      <td>TRIPLE SEC</td>\n",
              "      <td>434</td>\n",
              "      <td>Luxco-St Louis</td>\n",
              "      <td>86251</td>\n",
              "      <td>Juarez Triple Sec</td>\n",
              "      <td>12</td>\n",
              "      <td>1000</td>\n",
              "      <td>2.42</td>\n",
              "      <td>3.63</td>\n",
              "      <td>60</td>\n",
              "      <td>217.80</td>\n",
              "      <td>60.00</td>\n",
              "      <td>15.85</td>\n",
              "    </tr>\n",
              "  </tbody>\n",
              "</table>\n",
              "</div>"
            ],
            "text/plain": [
              "   invoice_and_item_number        date  ... volume_sold_liters volume_sold_gallons\n",
              "0          INV-29710100033  2020-08-25  ...               0.10                0.02\n",
              "1             S28766800075  2015-10-29  ...              27.00                7.13\n",
              "2          INV-21177600024  2019-08-12  ...               6.00                1.58\n",
              "3          INV-21158400005  2019-08-12  ...              22.50                5.94\n",
              "4             S23027000038  2014-12-18  ...               1.70                0.45\n",
              "5             S25314400137  2015-04-27  ...              48.00               12.68\n",
              "6             S11773400003  2013-04-22  ...              48.00               12.68\n",
              "7             S22784200001  2014-12-08  ...              22.50                5.94\n",
              "8             S08912500001  2012-11-13  ...              13.50                3.57\n",
              "9          INV-23602600014  2019-12-02  ...               2.00                0.52\n",
              "10            S28360900006  2015-10-08  ...               7.00                1.85\n",
              "11            S28488500093  2015-10-15  ...              72.00               19.02\n",
              "12            S16488700057  2013-12-27  ...              81.00               21.40\n",
              "13         INV-29820800112  2020-08-28  ...               5.00                1.32\n",
              "14         INV-29829800003  2020-08-28  ...              22.50                5.94\n",
              "15         INV-29859200055  2020-08-31  ...              45.00               11.88\n",
              "16         INV-21532100232  2019-08-27  ...               6.00                1.58\n",
              "17            S22239300002  2014-11-07  ...              27.00                7.13\n",
              "18            S14080600046  2013-10-11  ...              42.00               11.10\n",
              "19            S32091700014  2016-05-02  ...              96.00               25.36\n",
              "20         INV-15505000094  2018-11-06  ...             660.00              174.35\n",
              "21         INV-15718500035  2018-11-14  ...               1.20                0.31\n",
              "22         INV-15670700168  2018-11-13  ...               6.00                1.58\n",
              "23         INV-01461500057  2016-11-08  ...              16.00                4.23\n",
              "24         INV-10798900011  2018-03-08  ...              90.00               23.78\n",
              "25         INV-04738400060  2017-05-04  ...              72.00               19.02\n",
              "26         INV-26587500021  2020-04-15  ...               5.25                1.38\n",
              "27         INV-23960300100  2019-12-16  ...               2.00                0.52\n",
              "28         INV-24003200025  2019-12-18  ...              45.00               11.88\n",
              "29            S23808300138  2015-02-02  ...              60.00               15.85\n",
              "\n",
              "[30 rows x 24 columns]"
            ]
          },
          "metadata": {
            "tags": []
          },
          "execution_count": 171
        }
      ]
    },
    {
      "cell_type": "code",
      "metadata": {
        "id": "k_OGo1cmYuhr",
        "outputId": "961d0e27-f246-4081-fc7d-e53d3f191334",
        "colab": {
          "base_uri": "https://localhost:8080/",
          "height": 317
        }
      },
      "source": [
        "df.describe()\n"
      ],
      "execution_count": 172,
      "outputs": [
        {
          "output_type": "execute_result",
          "data": {
            "text/html": [
              "<div>\n",
              "<style scoped>\n",
              "    .dataframe tbody tr th:only-of-type {\n",
              "        vertical-align: middle;\n",
              "    }\n",
              "\n",
              "    .dataframe tbody tr th {\n",
              "        vertical-align: top;\n",
              "    }\n",
              "\n",
              "    .dataframe thead th {\n",
              "        text-align: right;\n",
              "    }\n",
              "</style>\n",
              "<table border=\"1\" class=\"dataframe\">\n",
              "  <thead>\n",
              "    <tr style=\"text-align: right;\">\n",
              "      <th></th>\n",
              "      <th>pack</th>\n",
              "      <th>bottle_volume_ml</th>\n",
              "      <th>state_bottle_cost</th>\n",
              "      <th>state_bottle_retail</th>\n",
              "      <th>bottles_sold</th>\n",
              "      <th>sale_dollars</th>\n",
              "      <th>volume_sold_liters</th>\n",
              "      <th>volume_sold_gallons</th>\n",
              "    </tr>\n",
              "  </thead>\n",
              "  <tbody>\n",
              "    <tr>\n",
              "      <th>count</th>\n",
              "      <td>3.000000e+06</td>\n",
              "      <td>3.000000e+06</td>\n",
              "      <td>2.999998e+06</td>\n",
              "      <td>2.999998e+06</td>\n",
              "      <td>3.000000e+06</td>\n",
              "      <td>2.999998e+06</td>\n",
              "      <td>3.000000e+06</td>\n",
              "      <td>3.000000e+06</td>\n",
              "    </tr>\n",
              "    <tr>\n",
              "      <th>mean</th>\n",
              "      <td>1.227861e+01</td>\n",
              "      <td>9.214285e+02</td>\n",
              "      <td>9.905795e+00</td>\n",
              "      <td>1.487315e+01</td>\n",
              "      <td>1.054028e+01</td>\n",
              "      <td>1.371533e+02</td>\n",
              "      <td>9.423947e+00</td>\n",
              "      <td>2.488150e+00</td>\n",
              "    </tr>\n",
              "    <tr>\n",
              "      <th>std</th>\n",
              "      <td>7.731639e+00</td>\n",
              "      <td>7.535907e+02</td>\n",
              "      <td>1.229157e+01</td>\n",
              "      <td>1.843689e+01</td>\n",
              "      <td>2.811279e+01</td>\n",
              "      <td>4.749231e+02</td>\n",
              "      <td>3.367423e+01</td>\n",
              "      <td>8.895850e+00</td>\n",
              "    </tr>\n",
              "    <tr>\n",
              "      <th>min</th>\n",
              "      <td>1.000000e+00</td>\n",
              "      <td>1.500000e+01</td>\n",
              "      <td>0.000000e+00</td>\n",
              "      <td>0.000000e+00</td>\n",
              "      <td>1.000000e+00</td>\n",
              "      <td>0.000000e+00</td>\n",
              "      <td>2.000000e-02</td>\n",
              "      <td>0.000000e+00</td>\n",
              "    </tr>\n",
              "    <tr>\n",
              "      <th>25%</th>\n",
              "      <td>6.000000e+00</td>\n",
              "      <td>7.500000e+02</td>\n",
              "      <td>5.500000e+00</td>\n",
              "      <td>8.250000e+00</td>\n",
              "      <td>3.000000e+00</td>\n",
              "      <td>3.240000e+01</td>\n",
              "      <td>1.750000e+00</td>\n",
              "      <td>4.600000e-01</td>\n",
              "    </tr>\n",
              "    <tr>\n",
              "      <th>50%</th>\n",
              "      <td>1.200000e+01</td>\n",
              "      <td>7.500000e+02</td>\n",
              "      <td>8.000000e+00</td>\n",
              "      <td>1.200000e+01</td>\n",
              "      <td>6.000000e+00</td>\n",
              "      <td>7.200000e+01</td>\n",
              "      <td>6.000000e+00</td>\n",
              "      <td>1.590000e+00</td>\n",
              "    </tr>\n",
              "    <tr>\n",
              "      <th>75%</th>\n",
              "      <td>1.200000e+01</td>\n",
              "      <td>1.000000e+03</td>\n",
              "      <td>1.199000e+01</td>\n",
              "      <td>1.799000e+01</td>\n",
              "      <td>1.200000e+01</td>\n",
              "      <td>1.403400e+02</td>\n",
              "      <td>1.050000e+01</td>\n",
              "      <td>2.770000e+00</td>\n",
              "    </tr>\n",
              "    <tr>\n",
              "      <th>max</th>\n",
              "      <td>3.360000e+02</td>\n",
              "      <td>3.780000e+05</td>\n",
              "      <td>6.100000e+03</td>\n",
              "      <td>9.150000e+03</td>\n",
              "      <td>7.632000e+03</td>\n",
              "      <td>1.819620e+05</td>\n",
              "      <td>7.632000e+03</td>\n",
              "      <td>2.016160e+03</td>\n",
              "    </tr>\n",
              "  </tbody>\n",
              "</table>\n",
              "</div>"
            ],
            "text/plain": [
              "               pack  bottle_volume_ml  ...  volume_sold_liters  volume_sold_gallons\n",
              "count  3.000000e+06      3.000000e+06  ...        3.000000e+06         3.000000e+06\n",
              "mean   1.227861e+01      9.214285e+02  ...        9.423947e+00         2.488150e+00\n",
              "std    7.731639e+00      7.535907e+02  ...        3.367423e+01         8.895850e+00\n",
              "min    1.000000e+00      1.500000e+01  ...        2.000000e-02         0.000000e+00\n",
              "25%    6.000000e+00      7.500000e+02  ...        1.750000e+00         4.600000e-01\n",
              "50%    1.200000e+01      7.500000e+02  ...        6.000000e+00         1.590000e+00\n",
              "75%    1.200000e+01      1.000000e+03  ...        1.050000e+01         2.770000e+00\n",
              "max    3.360000e+02      3.780000e+05  ...        7.632000e+03         2.016160e+03\n",
              "\n",
              "[8 rows x 8 columns]"
            ]
          },
          "metadata": {
            "tags": []
          },
          "execution_count": 172
        }
      ]
    },
    {
      "cell_type": "code",
      "metadata": {
        "id": "kbo737-_YvxQ",
        "outputId": "d3a05024-493a-4bc6-e08a-bf90e0294d93",
        "colab": {
          "base_uri": "https://localhost:8080/"
        }
      },
      "source": [
        "df.columns.tolist()"
      ],
      "execution_count": 173,
      "outputs": [
        {
          "output_type": "execute_result",
          "data": {
            "text/plain": [
              "['invoice_and_item_number',\n",
              " 'date',\n",
              " 'store_number',\n",
              " 'store_name',\n",
              " 'address',\n",
              " 'city',\n",
              " 'zip_code',\n",
              " 'store_location',\n",
              " 'county_number',\n",
              " 'county',\n",
              " 'category',\n",
              " 'category_name',\n",
              " 'vendor_number',\n",
              " 'vendor_name',\n",
              " 'item_number',\n",
              " 'item_description',\n",
              " 'pack',\n",
              " 'bottle_volume_ml',\n",
              " 'state_bottle_cost',\n",
              " 'state_bottle_retail',\n",
              " 'bottles_sold',\n",
              " 'sale_dollars',\n",
              " 'volume_sold_liters',\n",
              " 'volume_sold_gallons']"
            ]
          },
          "metadata": {
            "tags": []
          },
          "execution_count": 173
        }
      ]
    },
    {
      "cell_type": "markdown",
      "metadata": {
        "id": "6tG182LLN65X"
      },
      "source": [
        "# Data Cleaning"
      ]
    },
    {
      "cell_type": "code",
      "metadata": {
        "id": "-gfVswduKWPp"
      },
      "source": [
        "import numpy as np\n",
        "import plotly.graph_objects as go\n",
        "import plotly.express as px\n",
        "import numpy as np\n",
        "import pandas as pd\n",
        "import seaborn as sns\n",
        "import matplotlib.pyplot as plt\n",
        "import datetime\n",
        "from plotly.offline import init_notebook_mode, iplot\n",
        "%matplotlib inline"
      ],
      "execution_count": 174,
      "outputs": []
    },
    {
      "cell_type": "code",
      "metadata": {
        "id": "XeJ5m-SeNJCX",
        "outputId": "48f5d9a1-59cc-4c8b-f91c-58db042e854e",
        "colab": {
          "base_uri": "https://localhost:8080/"
        }
      },
      "source": [
        "df.dtypes"
      ],
      "execution_count": 175,
      "outputs": [
        {
          "output_type": "execute_result",
          "data": {
            "text/plain": [
              "invoice_and_item_number     object\n",
              "date                        object\n",
              "store_number                object\n",
              "store_name                  object\n",
              "address                     object\n",
              "city                        object\n",
              "zip_code                    object\n",
              "store_location              object\n",
              "county_number               object\n",
              "county                      object\n",
              "category                    object\n",
              "category_name               object\n",
              "vendor_number               object\n",
              "vendor_name                 object\n",
              "item_number                 object\n",
              "item_description            object\n",
              "pack                         int64\n",
              "bottle_volume_ml             int64\n",
              "state_bottle_cost          float64\n",
              "state_bottle_retail        float64\n",
              "bottles_sold                 int64\n",
              "sale_dollars               float64\n",
              "volume_sold_liters         float64\n",
              "volume_sold_gallons        float64\n",
              "dtype: object"
            ]
          },
          "metadata": {
            "tags": []
          },
          "execution_count": 175
        }
      ]
    },
    {
      "cell_type": "code",
      "metadata": {
        "id": "fSyhBu7IaLpz",
        "outputId": "3b3f50c2-6a0d-4733-b98d-78963290cdab",
        "colab": {
          "base_uri": "https://localhost:8080/"
        }
      },
      "source": [
        "df['city'].value_counts()"
      ],
      "execution_count": 176,
      "outputs": [
        {
          "output_type": "execute_result",
          "data": {
            "text/plain": [
              "Des Moines          137481\n",
              "DES MOINES          119954\n",
              "Cedar Rapids        105226\n",
              "CEDAR RAPIDS         88848\n",
              "Davenport            69198\n",
              "                     ...  \n",
              "RUNNELLS                10\n",
              "LOHRVILLE                8\n",
              "Colesburg                4\n",
              "ALVORD                   2\n",
              "Colorado Springs         1\n",
              "Name: city, Length: 837, dtype: int64"
            ]
          },
          "metadata": {
            "tags": []
          },
          "execution_count": 176
        }
      ]
    },
    {
      "cell_type": "markdown",
      "metadata": {
        "id": "i_f8uyMvaQ6Y"
      },
      "source": [
        "##### We can see that there are register problem in the data"
      ]
    },
    {
      "cell_type": "code",
      "metadata": {
        "id": "AGVKEqD-NXsJ",
        "outputId": "d6118c2b-e76c-4f86-a447-5495a7b9971f",
        "colab": {
          "base_uri": "https://localhost:8080/"
        }
      },
      "source": [
        "df['city'] = df['city'].str.lower()\n",
        "print(df['city'].nunique())\n",
        "df['city'].value_counts()\n"
      ],
      "execution_count": 177,
      "outputs": [
        {
          "output_type": "stream",
          "text": [
            "456\n"
          ],
          "name": "stdout"
        },
        {
          "output_type": "execute_result",
          "data": {
            "text/plain": [
              "des moines          257435\n",
              "cedar rapids        194074\n",
              "davenport           130599\n",
              "waterloo             95650\n",
              "council bluffs       88141\n",
              "                     ...  \n",
              "rudd                    20\n",
              "wyoming                 19\n",
              "earling                 17\n",
              "alvord                   2\n",
              "colorado springs         1\n",
              "Name: city, Length: 456, dtype: int64"
            ]
          },
          "metadata": {
            "tags": []
          },
          "execution_count": 177
        }
      ]
    },
    {
      "cell_type": "markdown",
      "metadata": {
        "id": "nd08N6Lhjyqa"
      },
      "source": [
        "##### Let's do it for \"same\" columns"
      ]
    },
    {
      "cell_type": "code",
      "metadata": {
        "id": "QD6zOipOjg5d"
      },
      "source": [
        "def register_preprocess(columns, df):\n",
        "  for col in columns:\n",
        "    df[col] = df[col].str.lower()\n",
        "  return df"
      ],
      "execution_count": 178,
      "outputs": []
    },
    {
      "cell_type": "code",
      "metadata": {
        "id": "VD51hd47hBle"
      },
      "source": [
        "columns = ['city', 'category_name', 'item_description', 'county', 'vendor_name']"
      ],
      "execution_count": 179,
      "outputs": []
    },
    {
      "cell_type": "code",
      "metadata": {
        "id": "A8rd0VZbjjS7"
      },
      "source": [
        "df = register_preprocess(columns=columns, df=df)"
      ],
      "execution_count": 180,
      "outputs": []
    },
    {
      "cell_type": "markdown",
      "metadata": {
        "id": "YuLNagk9CNFv"
      },
      "source": [
        "##### Double check"
      ]
    },
    {
      "cell_type": "code",
      "metadata": {
        "id": "RP_4a_M1BKwy",
        "outputId": "0a2d4749-f4cf-4650-d0d9-ef31a443b253",
        "colab": {
          "base_uri": "https://localhost:8080/"
        }
      },
      "source": [
        "df['category_name'].value_counts()"
      ],
      "execution_count": 181,
      "outputs": [
        {
          "output_type": "execute_result",
          "data": {
            "text/plain": [
              "canadian whiskies                  320151\n",
              "american vodkas                    249665\n",
              "vodka 80 proof                     210629\n",
              "spiced rum                         170585\n",
              "blended whiskies                   143650\n",
              "                                    ...  \n",
              "delisted items                          6\n",
              "high proof beer - american              4\n",
              "temporary  & specialty packages         4\n",
              "schnapps - imported                     3\n",
              "imported vodka - cherry                 2\n",
              "Name: category_name, Length: 108, dtype: int64"
            ]
          },
          "metadata": {
            "tags": []
          },
          "execution_count": 181
        }
      ]
    },
    {
      "cell_type": "markdown",
      "metadata": {
        "id": "-m1pOu26UdKE"
      },
      "source": [
        "##### Lets calculate amount of missing values"
      ]
    },
    {
      "cell_type": "code",
      "metadata": {
        "id": "CMsWY-6aS0mC",
        "outputId": "db275329-43a5-4c63-958e-2d3b4da1f171",
        "colab": {
          "base_uri": "https://localhost:8080/"
        }
      },
      "source": [
        "df.isnull().sum()"
      ],
      "execution_count": 182,
      "outputs": [
        {
          "output_type": "execute_result",
          "data": {
            "text/plain": [
              "invoice_and_item_number         0\n",
              "date                            0\n",
              "store_number                    0\n",
              "store_name                      0\n",
              "address                     12072\n",
              "city                        12072\n",
              "zip_code                    12078\n",
              "store_location             286797\n",
              "county_number               23669\n",
              "county                      23668\n",
              "category                     2820\n",
              "category_name                4143\n",
              "vendor_number                   0\n",
              "vendor_name                     0\n",
              "item_number                     0\n",
              "item_description                0\n",
              "pack                            0\n",
              "bottle_volume_ml                0\n",
              "state_bottle_cost               2\n",
              "state_bottle_retail             2\n",
              "bottles_sold                    0\n",
              "sale_dollars                    2\n",
              "volume_sold_liters              0\n",
              "volume_sold_gallons             0\n",
              "dtype: int64"
            ]
          },
          "metadata": {
            "tags": []
          },
          "execution_count": 182
        }
      ]
    },
    {
      "cell_type": "markdown",
      "metadata": {
        "id": "1efMsmrCO5mM"
      },
      "source": [
        "##### Let's delete column 'store location'. This column is useless for our analysis and also contains a lot of missing values. Also we don't need \"volume sold gallons\" column because we have same information in \"volume sold liters\" column."
      ]
    },
    {
      "cell_type": "code",
      "metadata": {
        "id": "smK5DG4dS8e6",
        "outputId": "ed948546-0a37-4c67-f8f2-6e75ba7658f7",
        "colab": {
          "base_uri": "https://localhost:8080/"
        }
      },
      "source": [
        "df = df.drop(['store_location','volume_sold_gallons'], 1)\n",
        "df.isnull().sum()"
      ],
      "execution_count": 183,
      "outputs": [
        {
          "output_type": "execute_result",
          "data": {
            "text/plain": [
              "invoice_and_item_number        0\n",
              "date                           0\n",
              "store_number                   0\n",
              "store_name                     0\n",
              "address                    12072\n",
              "city                       12072\n",
              "zip_code                   12078\n",
              "county_number              23669\n",
              "county                     23668\n",
              "category                    2820\n",
              "category_name               4143\n",
              "vendor_number                  0\n",
              "vendor_name                    0\n",
              "item_number                    0\n",
              "item_description               0\n",
              "pack                           0\n",
              "bottle_volume_ml               0\n",
              "state_bottle_cost              2\n",
              "state_bottle_retail            2\n",
              "bottles_sold                   0\n",
              "sale_dollars                   2\n",
              "volume_sold_liters             0\n",
              "dtype: int64"
            ]
          },
          "metadata": {
            "tags": []
          },
          "execution_count": 183
        }
      ]
    },
    {
      "cell_type": "markdown",
      "metadata": {
        "id": "_WWbbG3VPbe7"
      },
      "source": [
        "##### There are also missed values in other columns. Their amount relatively to size of the dataset is quite low thats why we can just delete rows which contain missing values.\n",
        "##### If percentage of those values would be higher we could use hand-made dictionary or replace them on random value from distribution of values"
      ]
    },
    {
      "cell_type": "code",
      "metadata": {
        "id": "y0NjY_-abmDX",
        "outputId": "419363f0-0f6e-4ed6-a4da-1f1d2df07aed",
        "colab": {
          "base_uri": "https://localhost:8080/"
        }
      },
      "source": [
        "df.shape"
      ],
      "execution_count": 184,
      "outputs": [
        {
          "output_type": "execute_result",
          "data": {
            "text/plain": [
              "(3000000, 22)"
            ]
          },
          "metadata": {
            "tags": []
          },
          "execution_count": 184
        }
      ]
    },
    {
      "cell_type": "code",
      "metadata": {
        "id": "1LBiaUg8P7Xf",
        "outputId": "a1233530-2404-4e60-a9fd-9781408b93f6",
        "colab": {
          "base_uri": "https://localhost:8080/"
        }
      },
      "source": [
        "df.dropna(inplace = True)\n",
        "df.shape"
      ],
      "execution_count": 185,
      "outputs": [
        {
          "output_type": "execute_result",
          "data": {
            "text/plain": [
              "(2972252, 22)"
            ]
          },
          "metadata": {
            "tags": []
          },
          "execution_count": 185
        }
      ]
    },
    {
      "cell_type": "markdown",
      "metadata": {
        "id": "6CJzy_33b65y"
      },
      "source": [
        "##### We can preprocess data entries and separate them to 3 distinct columns."
      ]
    },
    {
      "cell_type": "code",
      "metadata": {
        "id": "ITNnfdFpQAUa"
      },
      "source": [
        "df['date'] = pd.to_datetime(df['date'])"
      ],
      "execution_count": 186,
      "outputs": []
    },
    {
      "cell_type": "code",
      "metadata": {
        "id": "lJPGlQCOcBKv"
      },
      "source": [
        "df['year'] = df['date'].dt.year\n",
        "df['month'] = df['date'].dt.month\n",
        "df['day'] = df['date'].dt.day"
      ],
      "execution_count": 187,
      "outputs": []
    },
    {
      "cell_type": "code",
      "metadata": {
        "id": "gSewpJdjQHh8",
        "outputId": "0c9079c4-9ca2-4d30-e66b-0a2bf57579f9",
        "colab": {
          "base_uri": "https://localhost:8080/",
          "height": 428
        }
      },
      "source": [
        "df.head()"
      ],
      "execution_count": 188,
      "outputs": [
        {
          "output_type": "execute_result",
          "data": {
            "text/html": [
              "<div>\n",
              "<style scoped>\n",
              "    .dataframe tbody tr th:only-of-type {\n",
              "        vertical-align: middle;\n",
              "    }\n",
              "\n",
              "    .dataframe tbody tr th {\n",
              "        vertical-align: top;\n",
              "    }\n",
              "\n",
              "    .dataframe thead th {\n",
              "        text-align: right;\n",
              "    }\n",
              "</style>\n",
              "<table border=\"1\" class=\"dataframe\">\n",
              "  <thead>\n",
              "    <tr style=\"text-align: right;\">\n",
              "      <th></th>\n",
              "      <th>invoice_and_item_number</th>\n",
              "      <th>date</th>\n",
              "      <th>store_number</th>\n",
              "      <th>store_name</th>\n",
              "      <th>address</th>\n",
              "      <th>city</th>\n",
              "      <th>zip_code</th>\n",
              "      <th>county_number</th>\n",
              "      <th>county</th>\n",
              "      <th>category</th>\n",
              "      <th>category_name</th>\n",
              "      <th>vendor_number</th>\n",
              "      <th>vendor_name</th>\n",
              "      <th>item_number</th>\n",
              "      <th>item_description</th>\n",
              "      <th>pack</th>\n",
              "      <th>bottle_volume_ml</th>\n",
              "      <th>state_bottle_cost</th>\n",
              "      <th>state_bottle_retail</th>\n",
              "      <th>bottles_sold</th>\n",
              "      <th>sale_dollars</th>\n",
              "      <th>volume_sold_liters</th>\n",
              "      <th>year</th>\n",
              "      <th>month</th>\n",
              "      <th>day</th>\n",
              "    </tr>\n",
              "  </thead>\n",
              "  <tbody>\n",
              "    <tr>\n",
              "      <th>0</th>\n",
              "      <td>INV-29710100033</td>\n",
              "      <td>2020-08-25</td>\n",
              "      <td>2665</td>\n",
              "      <td>Hy-Vee / Waukee</td>\n",
              "      <td>1005 E Hickman Rd</td>\n",
              "      <td>waukee</td>\n",
              "      <td>50263</td>\n",
              "      <td>25</td>\n",
              "      <td>dallas</td>\n",
              "      <td>1081100</td>\n",
              "      <td>coffee liqueurs</td>\n",
              "      <td>370</td>\n",
              "      <td>pernod ricard usa</td>\n",
              "      <td>67522</td>\n",
              "      <td>kahlua coffee mini</td>\n",
              "      <td>12</td>\n",
              "      <td>50</td>\n",
              "      <td>6.60</td>\n",
              "      <td>9.90</td>\n",
              "      <td>2</td>\n",
              "      <td>19.80</td>\n",
              "      <td>0.1</td>\n",
              "      <td>2020</td>\n",
              "      <td>8</td>\n",
              "      <td>25</td>\n",
              "    </tr>\n",
              "    <tr>\n",
              "      <th>1</th>\n",
              "      <td>S28766800075</td>\n",
              "      <td>2015-10-29</td>\n",
              "      <td>2627</td>\n",
              "      <td>Hy-Vee Wine and Spirits #1</td>\n",
              "      <td>3424 MARTIN LUTHER KING JR PKW</td>\n",
              "      <td>des moines</td>\n",
              "      <td>50310</td>\n",
              "      <td>77</td>\n",
              "      <td>polk</td>\n",
              "      <td>1081030</td>\n",
              "      <td>coffee liqueurs</td>\n",
              "      <td>370</td>\n",
              "      <td>pernod ricard usa/austin nichols</td>\n",
              "      <td>67526</td>\n",
              "      <td>kahlua coffee liqueur</td>\n",
              "      <td>12</td>\n",
              "      <td>750</td>\n",
              "      <td>11.99</td>\n",
              "      <td>17.99</td>\n",
              "      <td>36</td>\n",
              "      <td>647.64</td>\n",
              "      <td>27.0</td>\n",
              "      <td>2015</td>\n",
              "      <td>10</td>\n",
              "      <td>29</td>\n",
              "    </tr>\n",
              "    <tr>\n",
              "      <th>2</th>\n",
              "      <td>INV-21177600024</td>\n",
              "      <td>2019-08-12</td>\n",
              "      <td>2465</td>\n",
              "      <td>Sid's Beverage Shop</td>\n",
              "      <td>2727 Dodge St</td>\n",
              "      <td>dubuque</td>\n",
              "      <td>52003</td>\n",
              "      <td>31</td>\n",
              "      <td>dubuque</td>\n",
              "      <td>1081100</td>\n",
              "      <td>coffee liqueurs</td>\n",
              "      <td>065</td>\n",
              "      <td>jim beam brands</td>\n",
              "      <td>67557</td>\n",
              "      <td>kamora coffee liqueur</td>\n",
              "      <td>12</td>\n",
              "      <td>1000</td>\n",
              "      <td>8.39</td>\n",
              "      <td>12.59</td>\n",
              "      <td>6</td>\n",
              "      <td>75.54</td>\n",
              "      <td>6.0</td>\n",
              "      <td>2019</td>\n",
              "      <td>8</td>\n",
              "      <td>12</td>\n",
              "    </tr>\n",
              "    <tr>\n",
              "      <th>3</th>\n",
              "      <td>INV-21158400005</td>\n",
              "      <td>2019-08-12</td>\n",
              "      <td>2190</td>\n",
              "      <td>Central City Liquor, Inc.</td>\n",
              "      <td>1460 2ND AVE</td>\n",
              "      <td>des moines</td>\n",
              "      <td>50314</td>\n",
              "      <td>77</td>\n",
              "      <td>polk</td>\n",
              "      <td>1082100</td>\n",
              "      <td>imported cordials &amp; liqueur</td>\n",
              "      <td>421</td>\n",
              "      <td>sazerac company  inc</td>\n",
              "      <td>964039</td>\n",
              "      <td>sooh aalborg taffel aquavit</td>\n",
              "      <td>6</td>\n",
              "      <td>750</td>\n",
              "      <td>11.00</td>\n",
              "      <td>16.50</td>\n",
              "      <td>30</td>\n",
              "      <td>495.00</td>\n",
              "      <td>22.5</td>\n",
              "      <td>2019</td>\n",
              "      <td>8</td>\n",
              "      <td>12</td>\n",
              "    </tr>\n",
              "    <tr>\n",
              "      <th>4</th>\n",
              "      <td>S23027000038</td>\n",
              "      <td>2014-12-18</td>\n",
              "      <td>3678</td>\n",
              "      <td>Smoke Shop, The</td>\n",
              "      <td>1918 SE 14TH ST</td>\n",
              "      <td>des moines</td>\n",
              "      <td>50320</td>\n",
              "      <td>77</td>\n",
              "      <td>polk</td>\n",
              "      <td>1701100</td>\n",
              "      <td>decanters &amp; specialty packages</td>\n",
              "      <td>420</td>\n",
              "      <td>moet hennessy usa, inc.</td>\n",
              "      <td>561</td>\n",
              "      <td>ardbeg 10yr exploration pack</td>\n",
              "      <td>6</td>\n",
              "      <td>850</td>\n",
              "      <td>25.98</td>\n",
              "      <td>38.97</td>\n",
              "      <td>2</td>\n",
              "      <td>77.94</td>\n",
              "      <td>1.7</td>\n",
              "      <td>2014</td>\n",
              "      <td>12</td>\n",
              "      <td>18</td>\n",
              "    </tr>\n",
              "  </tbody>\n",
              "</table>\n",
              "</div>"
            ],
            "text/plain": [
              "  invoice_and_item_number       date store_number  ...  year month day\n",
              "0         INV-29710100033 2020-08-25         2665  ...  2020     8  25\n",
              "1            S28766800075 2015-10-29         2627  ...  2015    10  29\n",
              "2         INV-21177600024 2019-08-12         2465  ...  2019     8  12\n",
              "3         INV-21158400005 2019-08-12         2190  ...  2019     8  12\n",
              "4            S23027000038 2014-12-18         3678  ...  2014    12  18\n",
              "\n",
              "[5 rows x 25 columns]"
            ]
          },
          "metadata": {
            "tags": []
          },
          "execution_count": 188
        }
      ]
    },
    {
      "cell_type": "markdown",
      "metadata": {
        "id": "SpCl87f5C-Lb"
      },
      "source": [
        "##### time frame of data"
      ]
    },
    {
      "cell_type": "code",
      "metadata": {
        "id": "z3IDccHpQP6z",
        "outputId": "63195a20-ac5d-47a7-a04b-61047575fdbc",
        "colab": {
          "base_uri": "https://localhost:8080/"
        }
      },
      "source": [
        "print(df['date'].min())\n",
        "print(df['date'].max())"
      ],
      "execution_count": 189,
      "outputs": [
        {
          "output_type": "stream",
          "text": [
            "2012-01-03 00:00:00\n",
            "2020-10-30 00:00:00\n"
          ],
          "name": "stdout"
        }
      ]
    },
    {
      "cell_type": "markdown",
      "metadata": {
        "id": "cpASthb4Xe3n"
      },
      "source": [
        "### Basic analysis"
      ]
    },
    {
      "cell_type": "code",
      "metadata": {
        "id": "X0-z-R7nkTEq",
        "outputId": "ee0477ca-fdb8-4cbe-d36a-80a09048c369",
        "colab": {
          "base_uri": "https://localhost:8080/",
          "height": 224
        }
      },
      "source": [
        "df_num = df.select_dtypes(include = ['float64', 'int64'])\n",
        "df_num.head()"
      ],
      "execution_count": 190,
      "outputs": [
        {
          "output_type": "execute_result",
          "data": {
            "text/html": [
              "<div>\n",
              "<style scoped>\n",
              "    .dataframe tbody tr th:only-of-type {\n",
              "        vertical-align: middle;\n",
              "    }\n",
              "\n",
              "    .dataframe tbody tr th {\n",
              "        vertical-align: top;\n",
              "    }\n",
              "\n",
              "    .dataframe thead th {\n",
              "        text-align: right;\n",
              "    }\n",
              "</style>\n",
              "<table border=\"1\" class=\"dataframe\">\n",
              "  <thead>\n",
              "    <tr style=\"text-align: right;\">\n",
              "      <th></th>\n",
              "      <th>pack</th>\n",
              "      <th>bottle_volume_ml</th>\n",
              "      <th>state_bottle_cost</th>\n",
              "      <th>state_bottle_retail</th>\n",
              "      <th>bottles_sold</th>\n",
              "      <th>sale_dollars</th>\n",
              "      <th>volume_sold_liters</th>\n",
              "      <th>year</th>\n",
              "      <th>month</th>\n",
              "      <th>day</th>\n",
              "    </tr>\n",
              "  </thead>\n",
              "  <tbody>\n",
              "    <tr>\n",
              "      <th>0</th>\n",
              "      <td>12</td>\n",
              "      <td>50</td>\n",
              "      <td>6.60</td>\n",
              "      <td>9.90</td>\n",
              "      <td>2</td>\n",
              "      <td>19.80</td>\n",
              "      <td>0.1</td>\n",
              "      <td>2020</td>\n",
              "      <td>8</td>\n",
              "      <td>25</td>\n",
              "    </tr>\n",
              "    <tr>\n",
              "      <th>1</th>\n",
              "      <td>12</td>\n",
              "      <td>750</td>\n",
              "      <td>11.99</td>\n",
              "      <td>17.99</td>\n",
              "      <td>36</td>\n",
              "      <td>647.64</td>\n",
              "      <td>27.0</td>\n",
              "      <td>2015</td>\n",
              "      <td>10</td>\n",
              "      <td>29</td>\n",
              "    </tr>\n",
              "    <tr>\n",
              "      <th>2</th>\n",
              "      <td>12</td>\n",
              "      <td>1000</td>\n",
              "      <td>8.39</td>\n",
              "      <td>12.59</td>\n",
              "      <td>6</td>\n",
              "      <td>75.54</td>\n",
              "      <td>6.0</td>\n",
              "      <td>2019</td>\n",
              "      <td>8</td>\n",
              "      <td>12</td>\n",
              "    </tr>\n",
              "    <tr>\n",
              "      <th>3</th>\n",
              "      <td>6</td>\n",
              "      <td>750</td>\n",
              "      <td>11.00</td>\n",
              "      <td>16.50</td>\n",
              "      <td>30</td>\n",
              "      <td>495.00</td>\n",
              "      <td>22.5</td>\n",
              "      <td>2019</td>\n",
              "      <td>8</td>\n",
              "      <td>12</td>\n",
              "    </tr>\n",
              "    <tr>\n",
              "      <th>4</th>\n",
              "      <td>6</td>\n",
              "      <td>850</td>\n",
              "      <td>25.98</td>\n",
              "      <td>38.97</td>\n",
              "      <td>2</td>\n",
              "      <td>77.94</td>\n",
              "      <td>1.7</td>\n",
              "      <td>2014</td>\n",
              "      <td>12</td>\n",
              "      <td>18</td>\n",
              "    </tr>\n",
              "  </tbody>\n",
              "</table>\n",
              "</div>"
            ],
            "text/plain": [
              "   pack  bottle_volume_ml  state_bottle_cost  ...  year  month  day\n",
              "0    12                50               6.60  ...  2020      8   25\n",
              "1    12               750              11.99  ...  2015     10   29\n",
              "2    12              1000               8.39  ...  2019      8   12\n",
              "3     6               750              11.00  ...  2019      8   12\n",
              "4     6               850              25.98  ...  2014     12   18\n",
              "\n",
              "[5 rows x 10 columns]"
            ]
          },
          "metadata": {
            "tags": []
          },
          "execution_count": 190
        }
      ]
    },
    {
      "cell_type": "code",
      "metadata": {
        "id": "YQrjiA62GnA3",
        "outputId": "8f43cbaa-b7fd-4977-ede2-bf3a1e96ab8e",
        "colab": {
          "base_uri": "https://localhost:8080/",
          "height": 1000
        }
      },
      "source": [
        "df_num.hist(figsize=(16, 20), bins=10, xlabelsize=8, ylabelsize=8)"
      ],
      "execution_count": 191,
      "outputs": [
        {
          "output_type": "execute_result",
          "data": {
            "text/plain": [
              "array([[<matplotlib.axes._subplots.AxesSubplot object at 0x7f36124e5978>,\n",
              "        <matplotlib.axes._subplots.AxesSubplot object at 0x7f361dc91d30>,\n",
              "        <matplotlib.axes._subplots.AxesSubplot object at 0x7f360fc4fc88>],\n",
              "       [<matplotlib.axes._subplots.AxesSubplot object at 0x7f3612f48278>,\n",
              "        <matplotlib.axes._subplots.AxesSubplot object at 0x7f361b762278>,\n",
              "        <matplotlib.axes._subplots.AxesSubplot object at 0x7f360a87b400>],\n",
              "       [<matplotlib.axes._subplots.AxesSubplot object at 0x7f360beee5c0>,\n",
              "        <matplotlib.axes._subplots.AxesSubplot object at 0x7f36142ca320>,\n",
              "        <matplotlib.axes._subplots.AxesSubplot object at 0x7f36141f8fd0>],\n",
              "       [<matplotlib.axes._subplots.AxesSubplot object at 0x7f3617c6fd30>,\n",
              "        <matplotlib.axes._subplots.AxesSubplot object at 0x7f361b704080>,\n",
              "        <matplotlib.axes._subplots.AxesSubplot object at 0x7f361adec358>]],\n",
              "      dtype=object)"
            ]
          },
          "metadata": {
            "tags": []
          },
          "execution_count": 191
        },
        {
          "output_type": "display_data",
          "data": {
            "image/png": "[encoded data removed]",
            "text/plain": [
              "<Figure size 1152x1440 with 12 Axes>"
            ]
          },
          "metadata": {
            "tags": [],
            "needs_background": "light"
          }
        }
      ]
    },
    {
      "cell_type": "markdown",
      "metadata": {
        "id": "gdW2ZkBBG2Ky"
      },
      "source": [
        "Lets see on 'bottle_volume_ml' values. There are few outliers."
      ]
    },
    {
      "cell_type": "code",
      "metadata": {
        "id": "b3GnCkbCH-NR",
        "outputId": "4bf1c98c-6fea-45c1-e373-8566ffa6aa54",
        "colab": {
          "base_uri": "https://localhost:8080/"
        }
      },
      "source": [
        "df_num['bottle_volume_ml'].value_counts()"
      ],
      "execution_count": 192,
      "outputs": [
        {
          "output_type": "execute_result",
          "data": {
            "text/plain": [
              "750       1299289\n",
              "1750       620952\n",
              "1000       402433\n",
              "375        303840\n",
              "200        105978\n",
              "500        104857\n",
              "50          47079\n",
              "600         32869\n",
              "300         15695\n",
              "3000        15605\n",
              "100         15390\n",
              "800          3258\n",
              "1200         1879\n",
              "2400         1184\n",
              "850           301\n",
              "400           240\n",
              "6000          181\n",
              "1850          177\n",
              "900           112\n",
              "150           101\n",
              "250            99\n",
              "1950           88\n",
              "4800           86\n",
              "20             84\n",
              "950            79\n",
              "1125           64\n",
              "502            63\n",
              "1800           56\n",
              "3500           55\n",
              "2250           28\n",
              "301            20\n",
              "603            16\n",
              "1500           16\n",
              "3600           15\n",
              "25             14\n",
              "31500           8\n",
              "378000          6\n",
              "4500            5\n",
              "2550            5\n",
              "1420            4\n",
              "3900            4\n",
              "2000            4\n",
              "2125            3\n",
              "140000          2\n",
              "175             2\n",
              "425             2\n",
              "355             1\n",
              "7580            1\n",
              "180000          1\n",
              "15              1\n",
              "Name: bottle_volume_ml, dtype: int64"
            ]
          },
          "metadata": {
            "tags": []
          },
          "execution_count": 192
        }
      ]
    },
    {
      "cell_type": "markdown",
      "metadata": {
        "id": "bsreNLI7ICP1"
      },
      "source": [
        "##### Most likely it's not possible to have 378l or 140l bottles. So it's outlier and we have to implement function to delete outliers"
      ]
    },
    {
      "cell_type": "code",
      "metadata": {
        "id": "m2WHeV94IbsZ",
        "outputId": "d1c10a46-9a6a-4c2e-8886-2ff4de5d5063",
        "colab": {
          "base_uri": "https://localhost:8080/",
          "height": 131
        }
      },
      "source": [
        "df_num.loc[df_num.bottle_volume_ml == 140000]"
      ],
      "execution_count": 193,
      "outputs": [
        {
          "output_type": "execute_result",
          "data": {
            "text/html": [
              "<div>\n",
              "<style scoped>\n",
              "    .dataframe tbody tr th:only-of-type {\n",
              "        vertical-align: middle;\n",
              "    }\n",
              "\n",
              "    .dataframe tbody tr th {\n",
              "        vertical-align: top;\n",
              "    }\n",
              "\n",
              "    .dataframe thead th {\n",
              "        text-align: right;\n",
              "    }\n",
              "</style>\n",
              "<table border=\"1\" class=\"dataframe\">\n",
              "  <thead>\n",
              "    <tr style=\"text-align: right;\">\n",
              "      <th></th>\n",
              "      <th>pack</th>\n",
              "      <th>bottle_volume_ml</th>\n",
              "      <th>state_bottle_cost</th>\n",
              "      <th>state_bottle_retail</th>\n",
              "      <th>bottles_sold</th>\n",
              "      <th>sale_dollars</th>\n",
              "      <th>volume_sold_liters</th>\n",
              "      <th>year</th>\n",
              "      <th>month</th>\n",
              "      <th>day</th>\n",
              "    </tr>\n",
              "  </thead>\n",
              "  <tbody>\n",
              "    <tr>\n",
              "      <th>2154</th>\n",
              "      <td>1</td>\n",
              "      <td>140000</td>\n",
              "      <td>1599.2</td>\n",
              "      <td>2398.8</td>\n",
              "      <td>1</td>\n",
              "      <td>2398.8</td>\n",
              "      <td>140.0</td>\n",
              "      <td>2014</td>\n",
              "      <td>2</td>\n",
              "      <td>26</td>\n",
              "    </tr>\n",
              "    <tr>\n",
              "      <th>1662484</th>\n",
              "      <td>1</td>\n",
              "      <td>140000</td>\n",
              "      <td>1599.2</td>\n",
              "      <td>2398.8</td>\n",
              "      <td>1</td>\n",
              "      <td>2398.8</td>\n",
              "      <td>140.0</td>\n",
              "      <td>2014</td>\n",
              "      <td>2</td>\n",
              "      <td>26</td>\n",
              "    </tr>\n",
              "  </tbody>\n",
              "</table>\n",
              "</div>"
            ],
            "text/plain": [
              "         pack  bottle_volume_ml  state_bottle_cost  ...  year  month  day\n",
              "2154        1            140000             1599.2  ...  2014      2   26\n",
              "1662484     1            140000             1599.2  ...  2014      2   26\n",
              "\n",
              "[2 rows x 10 columns]"
            ]
          },
          "metadata": {
            "tags": []
          },
          "execution_count": 193
        }
      ]
    },
    {
      "cell_type": "code",
      "metadata": {
        "id": "y5eoS72HJAAH"
      },
      "source": [
        "def treshold(col, df_num):\n",
        "  q1 = df_num[col].quantile([0.25]).values[0]\n",
        "  q3 = df_num[col].quantile([0.75]).values[0]\n",
        "  IRQ = q3 - q1\n",
        "  df_num = df_num[(df_num[col] >= q1 - IRQ*1.5) & (df_num[col] <= q3 + IRQ*1.5)]\n",
        "  return df_num\n"
      ],
      "execution_count": 194,
      "outputs": []
    },
    {
      "cell_type": "code",
      "metadata": {
        "id": "wDN9H7D4kVgT",
        "outputId": "ac840390-6d22-4d65-dc42-a43dd1c11672",
        "colab": {
          "base_uri": "https://localhost:8080/",
          "height": 224
        }
      },
      "source": [
        "\n",
        "df_num = treshold(col = 'bottle_volume_ml', df_num=df_num)\n",
        "df_num.head()\n",
        "\n",
        "\n"
      ],
      "execution_count": 195,
      "outputs": [
        {
          "output_type": "execute_result",
          "data": {
            "text/html": [
              "<div>\n",
              "<style scoped>\n",
              "    .dataframe tbody tr th:only-of-type {\n",
              "        vertical-align: middle;\n",
              "    }\n",
              "\n",
              "    .dataframe tbody tr th {\n",
              "        vertical-align: top;\n",
              "    }\n",
              "\n",
              "    .dataframe thead th {\n",
              "        text-align: right;\n",
              "    }\n",
              "</style>\n",
              "<table border=\"1\" class=\"dataframe\">\n",
              "  <thead>\n",
              "    <tr style=\"text-align: right;\">\n",
              "      <th></th>\n",
              "      <th>pack</th>\n",
              "      <th>bottle_volume_ml</th>\n",
              "      <th>state_bottle_cost</th>\n",
              "      <th>state_bottle_retail</th>\n",
              "      <th>bottles_sold</th>\n",
              "      <th>sale_dollars</th>\n",
              "      <th>volume_sold_liters</th>\n",
              "      <th>year</th>\n",
              "      <th>month</th>\n",
              "      <th>day</th>\n",
              "    </tr>\n",
              "  </thead>\n",
              "  <tbody>\n",
              "    <tr>\n",
              "      <th>1</th>\n",
              "      <td>12</td>\n",
              "      <td>750</td>\n",
              "      <td>11.99</td>\n",
              "      <td>17.99</td>\n",
              "      <td>36</td>\n",
              "      <td>647.64</td>\n",
              "      <td>27.0</td>\n",
              "      <td>2015</td>\n",
              "      <td>10</td>\n",
              "      <td>29</td>\n",
              "    </tr>\n",
              "    <tr>\n",
              "      <th>2</th>\n",
              "      <td>12</td>\n",
              "      <td>1000</td>\n",
              "      <td>8.39</td>\n",
              "      <td>12.59</td>\n",
              "      <td>6</td>\n",
              "      <td>75.54</td>\n",
              "      <td>6.0</td>\n",
              "      <td>2019</td>\n",
              "      <td>8</td>\n",
              "      <td>12</td>\n",
              "    </tr>\n",
              "    <tr>\n",
              "      <th>3</th>\n",
              "      <td>6</td>\n",
              "      <td>750</td>\n",
              "      <td>11.00</td>\n",
              "      <td>16.50</td>\n",
              "      <td>30</td>\n",
              "      <td>495.00</td>\n",
              "      <td>22.5</td>\n",
              "      <td>2019</td>\n",
              "      <td>8</td>\n",
              "      <td>12</td>\n",
              "    </tr>\n",
              "    <tr>\n",
              "      <th>4</th>\n",
              "      <td>6</td>\n",
              "      <td>850</td>\n",
              "      <td>25.98</td>\n",
              "      <td>38.97</td>\n",
              "      <td>2</td>\n",
              "      <td>77.94</td>\n",
              "      <td>1.7</td>\n",
              "      <td>2014</td>\n",
              "      <td>12</td>\n",
              "      <td>18</td>\n",
              "    </tr>\n",
              "    <tr>\n",
              "      <th>5</th>\n",
              "      <td>12</td>\n",
              "      <td>1000</td>\n",
              "      <td>4.51</td>\n",
              "      <td>6.77</td>\n",
              "      <td>48</td>\n",
              "      <td>324.96</td>\n",
              "      <td>48.0</td>\n",
              "      <td>2015</td>\n",
              "      <td>4</td>\n",
              "      <td>27</td>\n",
              "    </tr>\n",
              "  </tbody>\n",
              "</table>\n",
              "</div>"
            ],
            "text/plain": [
              "   pack  bottle_volume_ml  state_bottle_cost  ...  year  month  day\n",
              "1    12               750              11.99  ...  2015     10   29\n",
              "2    12              1000               8.39  ...  2019      8   12\n",
              "3     6               750              11.00  ...  2019      8   12\n",
              "4     6               850              25.98  ...  2014     12   18\n",
              "5    12              1000               4.51  ...  2015      4   27\n",
              "\n",
              "[5 rows x 10 columns]"
            ]
          },
          "metadata": {
            "tags": []
          },
          "execution_count": 195
        }
      ]
    },
    {
      "cell_type": "code",
      "metadata": {
        "id": "JYLNRyvINoEJ",
        "outputId": "fc062737-f32d-4449-8929-7e187a1d5bdb",
        "colab": {
          "base_uri": "https://localhost:8080/"
        }
      },
      "source": [
        "mn = min(df_num['bottle_volume_ml'].value_counts().index)\n",
        "mx = max(df_num['bottle_volume_ml'].value_counts().index)\n",
        "df_num['bottle_volume_ml'].value_counts()"
      ],
      "execution_count": 196,
      "outputs": [
        {
          "output_type": "execute_result",
          "data": {
            "text/plain": [
              "750     1299289\n",
              "1000     402433\n",
              "375      303840\n",
              "500      104857\n",
              "600       32869\n",
              "800        3258\n",
              "1200       1879\n",
              "850         301\n",
              "400         240\n",
              "900         112\n",
              "950          79\n",
              "1125         64\n",
              "502          63\n",
              "603          16\n",
              "425           2\n",
              "Name: bottle_volume_ml, dtype: int64"
            ]
          },
          "metadata": {
            "tags": []
          },
          "execution_count": 196
        }
      ]
    },
    {
      "cell_type": "markdown",
      "metadata": {
        "id": "YIxwjHRTGSXX"
      },
      "source": [
        "##### Now lets see distribution of values in this columns after transform"
      ]
    },
    {
      "cell_type": "code",
      "metadata": {
        "id": "cfhY2ujvEvw-",
        "outputId": "65929d1e-1812-4200-ce53-490d2be47389",
        "colab": {
          "base_uri": "https://localhost:8080/",
          "height": 293
        }
      },
      "source": [
        "df_num['bottle_volume_ml'].hist(bins=[i for i in range(mn,mx,100)])"
      ],
      "execution_count": 197,
      "outputs": [
        {
          "output_type": "execute_result",
          "data": {
            "text/plain": [
              "<matplotlib.axes._subplots.AxesSubplot at 0x7f361054c4a8>"
            ]
          },
          "metadata": {
            "tags": []
          },
          "execution_count": 197
        },
        {
          "output_type": "display_data",
          "data": {
            "image/png": "[encoded data removed]",
            "text/plain": [
              "<Figure size 432x288 with 1 Axes>"
            ]
          },
          "metadata": {
            "tags": [],
            "needs_background": "light"
          }
        }
      ]
    },
    {
      "cell_type": "markdown",
      "metadata": {
        "id": "Q-2CP36hPAy6"
      },
      "source": [
        "##### Let's check other columns\n"
      ]
    },
    {
      "cell_type": "code",
      "metadata": {
        "id": "53KI1VokOyf4",
        "outputId": "68003d1f-2c92-4898-9af7-df95099fc05f",
        "colab": {
          "base_uri": "https://localhost:8080/"
        }
      },
      "source": [
        "df_num.bottles_sold.value_counts()"
      ],
      "execution_count": 198,
      "outputs": [
        {
          "output_type": "execute_result",
          "data": {
            "text/plain": [
              "12      721757\n",
              "2       319335\n",
              "1       256277\n",
              "3       252620\n",
              "6       180232\n",
              "         ...  \n",
              "87           1\n",
              "89           1\n",
              "208          1\n",
              "2895         1\n",
              "2040         1\n",
              "Name: bottles_sold, Length: 244, dtype: int64"
            ]
          },
          "metadata": {
            "tags": []
          },
          "execution_count": 198
        }
      ]
    },
    {
      "cell_type": "code",
      "metadata": {
        "id": "Qqz20kohSzwI"
      },
      "source": [
        ""
      ],
      "execution_count": 198,
      "outputs": []
    },
    {
      "cell_type": "code",
      "metadata": {
        "id": "MmqcfKtzGObd",
        "outputId": "2feaf587-6589-40c8-c696-032f46a1ee67",
        "colab": {
          "base_uri": "https://localhost:8080/",
          "height": 162
        }
      },
      "source": [
        "df_num[df_num.bottles_sold==1020]"
      ],
      "execution_count": 199,
      "outputs": [
        {
          "output_type": "execute_result",
          "data": {
            "text/html": [
              "<div>\n",
              "<style scoped>\n",
              "    .dataframe tbody tr th:only-of-type {\n",
              "        vertical-align: middle;\n",
              "    }\n",
              "\n",
              "    .dataframe tbody tr th {\n",
              "        vertical-align: top;\n",
              "    }\n",
              "\n",
              "    .dataframe thead th {\n",
              "        text-align: right;\n",
              "    }\n",
              "</style>\n",
              "<table border=\"1\" class=\"dataframe\">\n",
              "  <thead>\n",
              "    <tr style=\"text-align: right;\">\n",
              "      <th></th>\n",
              "      <th>pack</th>\n",
              "      <th>bottle_volume_ml</th>\n",
              "      <th>state_bottle_cost</th>\n",
              "      <th>state_bottle_retail</th>\n",
              "      <th>bottles_sold</th>\n",
              "      <th>sale_dollars</th>\n",
              "      <th>volume_sold_liters</th>\n",
              "      <th>year</th>\n",
              "      <th>month</th>\n",
              "      <th>day</th>\n",
              "    </tr>\n",
              "  </thead>\n",
              "  <tbody>\n",
              "    <tr>\n",
              "      <th>601606</th>\n",
              "      <td>12</td>\n",
              "      <td>1000</td>\n",
              "      <td>3.97</td>\n",
              "      <td>5.96</td>\n",
              "      <td>1020</td>\n",
              "      <td>6079.2</td>\n",
              "      <td>1020.0</td>\n",
              "      <td>2016</td>\n",
              "      <td>12</td>\n",
              "      <td>26</td>\n",
              "    </tr>\n",
              "    <tr>\n",
              "      <th>1496560</th>\n",
              "      <td>12</td>\n",
              "      <td>750</td>\n",
              "      <td>16.50</td>\n",
              "      <td>24.75</td>\n",
              "      <td>1020</td>\n",
              "      <td>25245.0</td>\n",
              "      <td>765.0</td>\n",
              "      <td>2019</td>\n",
              "      <td>9</td>\n",
              "      <td>24</td>\n",
              "    </tr>\n",
              "    <tr>\n",
              "      <th>2264416</th>\n",
              "      <td>12</td>\n",
              "      <td>1000</td>\n",
              "      <td>3.97</td>\n",
              "      <td>5.96</td>\n",
              "      <td>1020</td>\n",
              "      <td>6079.2</td>\n",
              "      <td>1020.0</td>\n",
              "      <td>2020</td>\n",
              "      <td>2</td>\n",
              "      <td>12</td>\n",
              "    </tr>\n",
              "  </tbody>\n",
              "</table>\n",
              "</div>"
            ],
            "text/plain": [
              "         pack  bottle_volume_ml  state_bottle_cost  ...  year  month  day\n",
              "601606     12              1000               3.97  ...  2016     12   26\n",
              "1496560    12               750              16.50  ...  2019      9   24\n",
              "2264416    12              1000               3.97  ...  2020      2   12\n",
              "\n",
              "[3 rows x 10 columns]"
            ]
          },
          "metadata": {
            "tags": []
          },
          "execution_count": 199
        }
      ]
    },
    {
      "cell_type": "markdown",
      "metadata": {
        "id": "-d_dsjoiP4un"
      },
      "source": [
        "##### Very expensive alcohol is possible so we will prefer to keep this info.\n"
      ]
    },
    {
      "cell_type": "code",
      "metadata": {
        "id": "Y7NcY4ozPF0c",
        "outputId": "f6aafba4-7c67-45c4-b138-87af9bb60065",
        "colab": {
          "base_uri": "https://localhost:8080/"
        }
      },
      "source": [
        "print(max(df_num.state_bottle_retail))\n",
        "print(np.mean(df_num.state_bottle_retail))"
      ],
      "execution_count": 200,
      "outputs": [
        {
          "output_type": "stream",
          "text": [
            "9000.0\n",
            "14.389273787401528\n"
          ],
          "name": "stdout"
        }
      ]
    },
    {
      "cell_type": "markdown",
      "metadata": {
        "id": "ryMV548EQnnn"
      },
      "source": [
        "##### Transform bottle_volume_ml in original dataset"
      ]
    },
    {
      "cell_type": "code",
      "metadata": {
        "id": "DZdWvOg8O9i_"
      },
      "source": [
        "df = treshold(col = 'bottle_volume_ml', df_num=df)"
      ],
      "execution_count": 201,
      "outputs": []
    },
    {
      "cell_type": "markdown",
      "metadata": {
        "id": "MbdQ2swdXxm7"
      },
      "source": [
        "##### Top 10 sales in dollars depending on category"
      ]
    },
    {
      "cell_type": "code",
      "metadata": {
        "id": "E4kPbNVJSVXF"
      },
      "source": [
        "df_plot = df.groupby(['category_name'])['sale_dollars'].sum().sort_values(ascending=False)\n",
        "top_count = pd.DataFrame(df_plot)\n",
        "top_count1 = pd.DataFrame(df_plot.head(10))"
      ],
      "execution_count": 202,
      "outputs": []
    },
    {
      "cell_type": "code",
      "metadata": {
        "id": "Mr5Rb2VRSi1n",
        "outputId": "cb4848be-5c21-4053-b9d7-0665cfe5cf0e",
        "colab": {
          "base_uri": "https://localhost:8080/",
          "height": 542
        }
      },
      "source": [
        "\n",
        "\n",
        "fig_reg = px.bar(top_count1,x=top_count1.index, y='sale_dollars',color='sale_dollars')\n",
        "fig_reg.update_layout(\n",
        "    title=\"Sales of liquor per category\",\n",
        "    xaxis_title=\" Category Name\",\n",
        "    yaxis_title=\"Sales in dollars\",\n",
        "    )\n",
        "fig_reg.show()"
      ],
      "execution_count": 203,
      "outputs": [
        {
          "output_type": "display_data",
          "data": {
            "text/html": [
              "<html>\n",
              "<head><meta charset=\"utf-8\" /></head>\n",
              "<body>\n",
              "    <div>\n",
              "            <script src=\"https://cdnjs.cloudflare.com/ajax/libs/mathjax/2.7.5/MathJax.js?config=TeX-AMS-MML_SVG\"></script><script type=\"text/javascript\">if (window.MathJax) {MathJax.Hub.Config({SVG: {font: \"STIX-Web\"}});}</script>\n",
              "                <script type=\"text/javascript\">window.PlotlyConfig = {MathJaxConfig: 'local'};</script>\n",
              "        <script src=\"https://cdn.plot.ly/plotly-latest.min.js\"></script>    \n",
              "            <div id=\"d3829efd-1f37-4a7d-a071-84605922d629\" class=\"plotly-graph-div\" style=\"height:525px; width:100%;\"></div>\n",
              "            <script type=\"text/javascript\">\n",
              "                \n",
              "                    window.PLOTLYENV=window.PLOTLYENV || {};\n",
              "                    \n",
              "                if (document.getElementById(\"d3829efd-1f37-4a7d-a071-84605922d629\")) {\n",
              "                    Plotly.newPlot(\n",
              "                        'd3829efd-1f37-4a7d-a071-84605922d629',\n",
              "                        [{\"alignmentgroup\": \"True\", \"hoverlabel\": {\"namelength\": 0}, \"hovertemplate\": \"x=%{x}<br>sale_dollars=%{marker.color}\", \"legendgroup\": \"\", \"marker\": {\"color\": [30381605.4699853, 19058944.64999086, 18435353.510001916, 15371965.779999621, 14023206.799999751, 12253150.909998843, 10360205.880001966, 10140531.830000468, 9313341.19000019, 9148033.020002196], \"coloraxis\": \"coloraxis\"}, \"name\": \"\", \"offsetgroup\": \"\", \"orientation\": \"v\", \"showlegend\": false, \"textposition\": \"auto\", \"type\": \"bar\", \"x\": [\"canadian whiskies\", \"spiced rum\", \"american vodkas\", \"tennessee whiskies\", \"whiskey liqueur\", \"vodka 80 proof\", \"tequila\", \"straight bourbon whiskies\", \"cream liqueurs\", \"imported vodka\"], \"xaxis\": \"x\", \"y\": [30381605.4699853, 19058944.64999086, 18435353.510001916, 15371965.779999621, 14023206.799999751, 12253150.909998843, 10360205.880001966, 10140531.830000468, 9313341.19000019, 9148033.020002196], \"yaxis\": \"y\"}],\n",
              "                        {\"barmode\": \"relative\", \"coloraxis\": {\"colorbar\": {\"title\": {\"text\": \"sale_dollars\"}}, \"colorscale\": [[0.0, \"#0d0887\"], [0.1111111111111111, \"#46039f\"], [0.2222222222222222, \"#7201a8\"], [0.3333333333333333, \"#9c179e\"], [0.4444444444444444, \"#bd3786\"], [0.5555555555555556, \"#d8576b\"], [0.6666666666666666, \"#ed7953\"], [0.7777777777777778, \"#fb9f3a\"], [0.8888888888888888, \"#fdca26\"], [1.0, \"#f0f921\"]]}, \"legend\": {\"tracegroupgap\": 0}, \"margin\": {\"t\": 60}, \"template\": {\"data\": {\"bar\": [{\"error_x\": {\"color\": \"#2a3f5f\"}, \"error_y\": {\"color\": \"#2a3f5f\"}, \"marker\": {\"line\": {\"color\": \"#E5ECF6\", \"width\": 0.5}}, \"type\": \"bar\"}], \"barpolar\": [{\"marker\": {\"line\": {\"color\": \"#E5ECF6\", \"width\": 0.5}}, \"type\": \"barpolar\"}], \"carpet\": [{\"aaxis\": {\"endlinecolor\": \"#2a3f5f\", \"gridcolor\": \"white\", \"linecolor\": \"white\", \"minorgridcolor\": \"white\", \"startlinecolor\": \"#2a3f5f\"}, \"baxis\": {\"endlinecolor\": \"#2a3f5f\", \"gridcolor\": \"white\", \"linecolor\": \"white\", \"minorgridcolor\": \"white\", \"startlinecolor\": \"#2a3f5f\"}, \"type\": \"carpet\"}], \"choropleth\": [{\"colorbar\": {\"outlinewidth\": 0, \"ticks\": \"\"}, \"type\": \"choropleth\"}], \"contour\": [{\"colorbar\": {\"outlinewidth\": 0, \"ticks\": \"\"}, \"colorscale\": [[0.0, \"#0d0887\"], [0.1111111111111111, \"#46039f\"], [0.2222222222222222, \"#7201a8\"], [0.3333333333333333, \"#9c179e\"], [0.4444444444444444, \"#bd3786\"], [0.5555555555555556, \"#d8576b\"], [0.6666666666666666, \"#ed7953\"], [0.7777777777777778, \"#fb9f3a\"], [0.8888888888888888, \"#fdca26\"], [1.0, \"#f0f921\"]], \"type\": \"contour\"}], \"contourcarpet\": [{\"colorbar\": {\"outlinewidth\": 0, \"ticks\": \"\"}, \"type\": \"contourcarpet\"}], \"heatmap\": [{\"colorbar\": {\"outlinewidth\": 0, \"ticks\": \"\"}, \"colorscale\": [[0.0, \"#0d0887\"], [0.1111111111111111, \"#46039f\"], [0.2222222222222222, \"#7201a8\"], [0.3333333333333333, \"#9c179e\"], [0.4444444444444444, \"#bd3786\"], [0.5555555555555556, \"#d8576b\"], [0.6666666666666666, \"#ed7953\"], [0.7777777777777778, \"#fb9f3a\"], [0.8888888888888888, \"#fdca26\"], [1.0, \"#f0f921\"]], \"type\": \"heatmap\"}], \"heatmapgl\": [{\"colorbar\": {\"outlinewidth\": 0, \"ticks\": \"\"}, \"colorscale\": [[0.0, \"#0d0887\"], [0.1111111111111111, \"#46039f\"], [0.2222222222222222, \"#7201a8\"], [0.3333333333333333, \"#9c179e\"], [0.4444444444444444, \"#bd3786\"], [0.5555555555555556, \"#d8576b\"], [0.6666666666666666, \"#ed7953\"], [0.7777777777777778, \"#fb9f3a\"], [0.8888888888888888, \"#fdca26\"], [1.0, \"#f0f921\"]], \"type\": \"heatmapgl\"}], \"histogram\": [{\"marker\": {\"colorbar\": {\"outlinewidth\": 0, \"ticks\": \"\"}}, \"type\": \"histogram\"}], \"histogram2d\": [{\"colorbar\": {\"outlinewidth\": 0, \"ticks\": \"\"}, \"colorscale\": [[0.0, \"#0d0887\"], [0.1111111111111111, \"#46039f\"], [0.2222222222222222, \"#7201a8\"], [0.3333333333333333, \"#9c179e\"], [0.4444444444444444, \"#bd3786\"], [0.5555555555555556, \"#d8576b\"], [0.6666666666666666, \"#ed7953\"], [0.7777777777777778, \"#fb9f3a\"], [0.8888888888888888, \"#fdca26\"], [1.0, \"#f0f921\"]], \"type\": \"histogram2d\"}], \"histogram2dcontour\": [{\"colorbar\": {\"outlinewidth\": 0, \"ticks\": \"\"}, \"colorscale\": [[0.0, \"#0d0887\"], [0.1111111111111111, \"#46039f\"], [0.2222222222222222, \"#7201a8\"], [0.3333333333333333, \"#9c179e\"], [0.4444444444444444, \"#bd3786\"], [0.5555555555555556, \"#d8576b\"], [0.6666666666666666, \"#ed7953\"], [0.7777777777777778, \"#fb9f3a\"], [0.8888888888888888, \"#fdca26\"], [1.0, \"#f0f921\"]], \"type\": \"histogram2dcontour\"}], \"mesh3d\": [{\"colorbar\": {\"outlinewidth\": 0, \"ticks\": \"\"}, \"type\": \"mesh3d\"}], \"parcoords\": [{\"line\": {\"colorbar\": {\"outlinewidth\": 0, \"ticks\": \"\"}}, \"type\": \"parcoords\"}], \"pie\": [{\"automargin\": true, \"type\": \"pie\"}], \"scatter\": [{\"marker\": {\"colorbar\": {\"outlinewidth\": 0, \"ticks\": \"\"}}, \"type\": \"scatter\"}], \"scatter3d\": [{\"line\": {\"colorbar\": {\"outlinewidth\": 0, \"ticks\": \"\"}}, \"marker\": {\"colorbar\": {\"outlinewidth\": 0, \"ticks\": \"\"}}, \"type\": \"scatter3d\"}], \"scattercarpet\": [{\"marker\": {\"colorbar\": {\"outlinewidth\": 0, \"ticks\": \"\"}}, \"type\": \"scattercarpet\"}], \"scattergeo\": [{\"marker\": {\"colorbar\": {\"outlinewidth\": 0, \"ticks\": \"\"}}, \"type\": \"scattergeo\"}], \"scattergl\": [{\"marker\": {\"colorbar\": {\"outlinewidth\": 0, \"ticks\": \"\"}}, \"type\": \"scattergl\"}], \"scattermapbox\": [{\"marker\": {\"colorbar\": {\"outlinewidth\": 0, \"ticks\": \"\"}}, \"type\": \"scattermapbox\"}], \"scatterpolar\": [{\"marker\": {\"colorbar\": {\"outlinewidth\": 0, \"ticks\": \"\"}}, \"type\": \"scatterpolar\"}], \"scatterpolargl\": [{\"marker\": {\"colorbar\": {\"outlinewidth\": 0, \"ticks\": \"\"}}, \"type\": \"scatterpolargl\"}], \"scatterternary\": [{\"marker\": {\"colorbar\": {\"outlinewidth\": 0, \"ticks\": \"\"}}, \"type\": \"scatterternary\"}], \"surface\": [{\"colorbar\": {\"outlinewidth\": 0, \"ticks\": \"\"}, \"colorscale\": [[0.0, \"#0d0887\"], [0.1111111111111111, \"#46039f\"], [0.2222222222222222, \"#7201a8\"], [0.3333333333333333, \"#9c179e\"], [0.4444444444444444, \"#bd3786\"], [0.5555555555555556, \"#d8576b\"], [0.6666666666666666, \"#ed7953\"], [0.7777777777777778, \"#fb9f3a\"], [0.8888888888888888, \"#fdca26\"], [1.0, \"#f0f921\"]], \"type\": \"surface\"}], \"table\": [{\"cells\": {\"fill\": {\"color\": \"#EBF0F8\"}, \"line\": {\"color\": \"white\"}}, \"header\": {\"fill\": {\"color\": \"#C8D4E3\"}, \"line\": {\"color\": \"white\"}}, \"type\": \"table\"}]}, \"layout\": {\"annotationdefaults\": {\"arrowcolor\": \"#2a3f5f\", \"arrowhead\": 0, \"arrowwidth\": 1}, \"coloraxis\": {\"colorbar\": {\"outlinewidth\": 0, \"ticks\": \"\"}}, \"colorscale\": {\"diverging\": [[0, \"#8e0152\"], [0.1, \"#c51b7d\"], [0.2, \"#de77ae\"], [0.3, \"#f1b6da\"], [0.4, \"#fde0ef\"], [0.5, \"#f7f7f7\"], [0.6, \"#e6f5d0\"], [0.7, \"#b8e186\"], [0.8, \"#7fbc41\"], [0.9, \"#4d9221\"], [1, \"#276419\"]], \"sequential\": [[0.0, \"#0d0887\"], [0.1111111111111111, \"#46039f\"], [0.2222222222222222, \"#7201a8\"], [0.3333333333333333, \"#9c179e\"], [0.4444444444444444, \"#bd3786\"], [0.5555555555555556, \"#d8576b\"], [0.6666666666666666, \"#ed7953\"], [0.7777777777777778, \"#fb9f3a\"], [0.8888888888888888, \"#fdca26\"], [1.0, \"#f0f921\"]], \"sequentialminus\": [[0.0, \"#0d0887\"], [0.1111111111111111, \"#46039f\"], [0.2222222222222222, \"#7201a8\"], [0.3333333333333333, \"#9c179e\"], [0.4444444444444444, \"#bd3786\"], [0.5555555555555556, \"#d8576b\"], [0.6666666666666666, \"#ed7953\"], [0.7777777777777778, \"#fb9f3a\"], [0.8888888888888888, \"#fdca26\"], [1.0, \"#f0f921\"]]}, \"colorway\": [\"#636efa\", \"#EF553B\", \"#00cc96\", \"#ab63fa\", \"#FFA15A\", \"#19d3f3\", \"#FF6692\", \"#B6E880\", \"#FF97FF\", \"#FECB52\"], \"font\": {\"color\": \"#2a3f5f\"}, \"geo\": {\"bgcolor\": \"white\", \"lakecolor\": \"white\", \"landcolor\": \"#E5ECF6\", \"showlakes\": true, \"showland\": true, \"subunitcolor\": \"white\"}, \"hoverlabel\": {\"align\": \"left\"}, \"hovermode\": \"closest\", \"mapbox\": {\"style\": \"light\"}, \"paper_bgcolor\": \"white\", \"plot_bgcolor\": \"#E5ECF6\", \"polar\": {\"angularaxis\": {\"gridcolor\": \"white\", \"linecolor\": \"white\", \"ticks\": \"\"}, \"bgcolor\": \"#E5ECF6\", \"radialaxis\": {\"gridcolor\": \"white\", \"linecolor\": \"white\", \"ticks\": \"\"}}, \"scene\": {\"xaxis\": {\"backgroundcolor\": \"#E5ECF6\", \"gridcolor\": \"white\", \"gridwidth\": 2, \"linecolor\": \"white\", \"showbackground\": true, \"ticks\": \"\", \"zerolinecolor\": \"white\"}, \"yaxis\": {\"backgroundcolor\": \"#E5ECF6\", \"gridcolor\": \"white\", \"gridwidth\": 2, \"linecolor\": \"white\", \"showbackground\": true, \"ticks\": \"\", \"zerolinecolor\": \"white\"}, \"zaxis\": {\"backgroundcolor\": \"#E5ECF6\", \"gridcolor\": \"white\", \"gridwidth\": 2, \"linecolor\": \"white\", \"showbackground\": true, \"ticks\": \"\", \"zerolinecolor\": \"white\"}}, \"shapedefaults\": {\"line\": {\"color\": \"#2a3f5f\"}}, \"ternary\": {\"aaxis\": {\"gridcolor\": \"white\", \"linecolor\": \"white\", \"ticks\": \"\"}, \"baxis\": {\"gridcolor\": \"white\", \"linecolor\": \"white\", \"ticks\": \"\"}, \"bgcolor\": \"#E5ECF6\", \"caxis\": {\"gridcolor\": \"white\", \"linecolor\": \"white\", \"ticks\": \"\"}}, \"title\": {\"x\": 0.05}, \"xaxis\": {\"automargin\": true, \"gridcolor\": \"white\", \"linecolor\": \"white\", \"ticks\": \"\", \"title\": {\"standoff\": 15}, \"zerolinecolor\": \"white\", \"zerolinewidth\": 2}, \"yaxis\": {\"automargin\": true, \"gridcolor\": \"white\", \"linecolor\": \"white\", \"ticks\": \"\", \"title\": {\"standoff\": 15}, \"zerolinecolor\": \"white\", \"zerolinewidth\": 2}}}, \"title\": {\"text\": \"Sales of liquor per category\"}, \"xaxis\": {\"anchor\": \"y\", \"domain\": [0.0, 1.0], \"title\": {\"text\": \" Category Name\"}}, \"yaxis\": {\"anchor\": \"x\", \"domain\": [0.0, 1.0], \"title\": {\"text\": \"Sales in dollars\"}}},\n",
              "                        {\"responsive\": true}\n",
              "                    ).then(function(){\n",
              "                            \n",
              "var gd = document.getElementById('d3829efd-1f37-4a7d-a071-84605922d629');\n",
              "var x = new MutationObserver(function (mutations, observer) {{\n",
              "        var display = window.getComputedStyle(gd).display;\n",
              "        if (!display || display === 'none') {{\n",
              "            console.log([gd, 'removed!']);\n",
              "            Plotly.purge(gd);\n",
              "            observer.disconnect();\n",
              "        }}\n",
              "}});\n",
              "\n",
              "// Listen for the removal of the full notebook cells\n",
              "var notebookContainer = gd.closest('#notebook-container');\n",
              "if (notebookContainer) {{\n",
              "    x.observe(notebookContainer, {childList: true});\n",
              "}}\n",
              "\n",
              "// Listen for the clearing of the current output cell\n",
              "var outputEl = gd.closest('.output');\n",
              "if (outputEl) {{\n",
              "    x.observe(outputEl, {childList: true});\n",
              "}}\n",
              "\n",
              "                        })\n",
              "                };\n",
              "                \n",
              "            </script>\n",
              "        </div>\n",
              "</body>\n",
              "</html>"
            ]
          },
          "metadata": {
            "tags": []
          }
        }
      ]
    },
    {
      "cell_type": "markdown",
      "metadata": {
        "id": "zSX8cSTKX7me"
      },
      "source": [
        "###### Top 10 sales in dollars dependent on city"
      ]
    },
    {
      "cell_type": "code",
      "metadata": {
        "id": "48-s5IeyXtB5"
      },
      "source": [
        "df_plot = df.groupby(['city'])['sale_dollars'].sum().sort_values(ascending=False)\n",
        "top_count = pd.DataFrame(df_plot)\n",
        "top_count1 = pd.DataFrame(df_plot.head(10))\n"
      ],
      "execution_count": 204,
      "outputs": []
    },
    {
      "cell_type": "code",
      "metadata": {
        "id": "VJ_hwMEoXNq9",
        "outputId": "f13cab7a-518b-481f-fe74-ef2ea6233c22",
        "colab": {
          "base_uri": "https://localhost:8080/",
          "height": 542
        }
      },
      "source": [
        "fig_reg = px.bar(top_count1,x=top_count1.index, y='sale_dollars',color='sale_dollars')\n",
        "fig_reg.update_layout(\n",
        "    title=\"Sales of liquor per city\",\n",
        "    xaxis_title=\" city\",\n",
        "    yaxis_title=\"Sales in dollars\",\n",
        "    )\n",
        "fig_reg.show()"
      ],
      "execution_count": 205,
      "outputs": [
        {
          "output_type": "display_data",
          "data": {
            "text/html": [
              "<html>\n",
              "<head><meta charset=\"utf-8\" /></head>\n",
              "<body>\n",
              "    <div>\n",
              "            <script src=\"https://cdnjs.cloudflare.com/ajax/libs/mathjax/2.7.5/MathJax.js?config=TeX-AMS-MML_SVG\"></script><script type=\"text/javascript\">if (window.MathJax) {MathJax.Hub.Config({SVG: {font: \"STIX-Web\"}});}</script>\n",
              "                <script type=\"text/javascript\">window.PlotlyConfig = {MathJaxConfig: 'local'};</script>\n",
              "        <script src=\"https://cdn.plot.ly/plotly-latest.min.js\"></script>    \n",
              "            <div id=\"1720ea42-6816-4898-833e-36ba4da56ac2\" class=\"plotly-graph-div\" style=\"height:525px; width:100%;\"></div>\n",
              "            <script type=\"text/javascript\">\n",
              "                \n",
              "                    window.PLOTLYENV=window.PLOTLYENV || {};\n",
              "                    \n",
              "                if (document.getElementById(\"1720ea42-6816-4898-833e-36ba4da56ac2\")) {\n",
              "                    Plotly.newPlot(\n",
              "                        '1720ea42-6816-4898-833e-36ba4da56ac2',\n",
              "                        [{\"alignmentgroup\": \"True\", \"hoverlabel\": {\"namelength\": 0}, \"hovertemplate\": \"x=%{x}<br>sale_dollars=%{marker.color}\", \"legendgroup\": \"\", \"marker\": {\"color\": [41346361.010002494, 19005350.830003716, 14240596.530001525, 10720308.180000218, 10113266.999999985, 9716825.959999628, 9540440.089999512, 9452633.339999657, 8164528.379999606, 7841450.659999732], \"coloraxis\": \"coloraxis\"}, \"name\": \"\", \"offsetgroup\": \"\", \"orientation\": \"v\", \"showlegend\": false, \"textposition\": \"auto\", \"type\": \"bar\", \"x\": [\"des moines\", \"cedar rapids\", \"davenport\", \"iowa city\", \"waterloo\", \"sioux city\", \"council bluffs\", \"west des moines\", \"dubuque\", \"ames\"], \"xaxis\": \"x\", \"y\": [41346361.010002494, 19005350.830003716, 14240596.530001525, 10720308.180000218, 10113266.999999985, 9716825.959999628, 9540440.089999512, 9452633.339999657, 8164528.379999606, 7841450.659999732], \"yaxis\": \"y\"}],\n",
              "                        {\"barmode\": \"relative\", \"coloraxis\": {\"colorbar\": {\"title\": {\"text\": \"sale_dollars\"}}, \"colorscale\": [[0.0, \"#0d0887\"], [0.1111111111111111, \"#46039f\"], [0.2222222222222222, \"#7201a8\"], [0.3333333333333333, \"#9c179e\"], [0.4444444444444444, \"#bd3786\"], [0.5555555555555556, \"#d8576b\"], [0.6666666666666666, \"#ed7953\"], [0.7777777777777778, \"#fb9f3a\"], [0.8888888888888888, \"#fdca26\"], [1.0, \"#f0f921\"]]}, \"legend\": {\"tracegroupgap\": 0}, \"margin\": {\"t\": 60}, \"template\": {\"data\": {\"bar\": [{\"error_x\": {\"color\": \"#2a3f5f\"}, \"error_y\": {\"color\": \"#2a3f5f\"}, \"marker\": {\"line\": {\"color\": \"#E5ECF6\", \"width\": 0.5}}, \"type\": \"bar\"}], \"barpolar\": [{\"marker\": {\"line\": {\"color\": \"#E5ECF6\", \"width\": 0.5}}, \"type\": \"barpolar\"}], \"carpet\": [{\"aaxis\": {\"endlinecolor\": \"#2a3f5f\", \"gridcolor\": \"white\", \"linecolor\": \"white\", \"minorgridcolor\": \"white\", \"startlinecolor\": \"#2a3f5f\"}, \"baxis\": {\"endlinecolor\": \"#2a3f5f\", \"gridcolor\": \"white\", \"linecolor\": \"white\", \"minorgridcolor\": \"white\", \"startlinecolor\": \"#2a3f5f\"}, \"type\": \"carpet\"}], \"choropleth\": [{\"colorbar\": {\"outlinewidth\": 0, \"ticks\": \"\"}, \"type\": \"choropleth\"}], \"contour\": [{\"colorbar\": {\"outlinewidth\": 0, \"ticks\": \"\"}, \"colorscale\": [[0.0, \"#0d0887\"], [0.1111111111111111, \"#46039f\"], [0.2222222222222222, \"#7201a8\"], [0.3333333333333333, \"#9c179e\"], [0.4444444444444444, \"#bd3786\"], [0.5555555555555556, \"#d8576b\"], [0.6666666666666666, \"#ed7953\"], [0.7777777777777778, \"#fb9f3a\"], [0.8888888888888888, \"#fdca26\"], [1.0, \"#f0f921\"]], \"type\": \"contour\"}], \"contourcarpet\": [{\"colorbar\": {\"outlinewidth\": 0, \"ticks\": \"\"}, \"type\": \"contourcarpet\"}], \"heatmap\": [{\"colorbar\": {\"outlinewidth\": 0, \"ticks\": \"\"}, \"colorscale\": [[0.0, \"#0d0887\"], [0.1111111111111111, \"#46039f\"], [0.2222222222222222, \"#7201a8\"], [0.3333333333333333, \"#9c179e\"], [0.4444444444444444, \"#bd3786\"], [0.5555555555555556, \"#d8576b\"], [0.6666666666666666, \"#ed7953\"], [0.7777777777777778, \"#fb9f3a\"], [0.8888888888888888, \"#fdca26\"], [1.0, \"#f0f921\"]], \"type\": \"heatmap\"}], \"heatmapgl\": [{\"colorbar\": {\"outlinewidth\": 0, \"ticks\": \"\"}, \"colorscale\": [[0.0, \"#0d0887\"], [0.1111111111111111, \"#46039f\"], [0.2222222222222222, \"#7201a8\"], [0.3333333333333333, \"#9c179e\"], [0.4444444444444444, \"#bd3786\"], [0.5555555555555556, \"#d8576b\"], [0.6666666666666666, \"#ed7953\"], [0.7777777777777778, \"#fb9f3a\"], [0.8888888888888888, \"#fdca26\"], [1.0, \"#f0f921\"]], \"type\": \"heatmapgl\"}], \"histogram\": [{\"marker\": {\"colorbar\": {\"outlinewidth\": 0, \"ticks\": \"\"}}, \"type\": \"histogram\"}], \"histogram2d\": [{\"colorbar\": {\"outlinewidth\": 0, \"ticks\": \"\"}, \"colorscale\": [[0.0, \"#0d0887\"], [0.1111111111111111, \"#46039f\"], [0.2222222222222222, \"#7201a8\"], [0.3333333333333333, \"#9c179e\"], [0.4444444444444444, \"#bd3786\"], [0.5555555555555556, \"#d8576b\"], [0.6666666666666666, \"#ed7953\"], [0.7777777777777778, \"#fb9f3a\"], [0.8888888888888888, \"#fdca26\"], [1.0, \"#f0f921\"]], \"type\": \"histogram2d\"}], \"histogram2dcontour\": [{\"colorbar\": {\"outlinewidth\": 0, \"ticks\": \"\"}, \"colorscale\": [[0.0, \"#0d0887\"], [0.1111111111111111, \"#46039f\"], [0.2222222222222222, \"#7201a8\"], [0.3333333333333333, \"#9c179e\"], [0.4444444444444444, \"#bd3786\"], [0.5555555555555556, \"#d8576b\"], [0.6666666666666666, \"#ed7953\"], [0.7777777777777778, \"#fb9f3a\"], [0.8888888888888888, \"#fdca26\"], [1.0, \"#f0f921\"]], \"type\": \"histogram2dcontour\"}], \"mesh3d\": [{\"colorbar\": {\"outlinewidth\": 0, \"ticks\": \"\"}, \"type\": \"mesh3d\"}], \"parcoords\": [{\"line\": {\"colorbar\": {\"outlinewidth\": 0, \"ticks\": \"\"}}, \"type\": \"parcoords\"}], \"pie\": [{\"automargin\": true, \"type\": \"pie\"}], \"scatter\": [{\"marker\": {\"colorbar\": {\"outlinewidth\": 0, \"ticks\": \"\"}}, \"type\": \"scatter\"}], \"scatter3d\": [{\"line\": {\"colorbar\": {\"outlinewidth\": 0, \"ticks\": \"\"}}, \"marker\": {\"colorbar\": {\"outlinewidth\": 0, \"ticks\": \"\"}}, \"type\": \"scatter3d\"}], \"scattercarpet\": [{\"marker\": {\"colorbar\": {\"outlinewidth\": 0, \"ticks\": \"\"}}, \"type\": \"scattercarpet\"}], \"scattergeo\": [{\"marker\": {\"colorbar\": {\"outlinewidth\": 0, \"ticks\": \"\"}}, \"type\": \"scattergeo\"}], \"scattergl\": [{\"marker\": {\"colorbar\": {\"outlinewidth\": 0, \"ticks\": \"\"}}, \"type\": \"scattergl\"}], \"scattermapbox\": [{\"marker\": {\"colorbar\": {\"outlinewidth\": 0, \"ticks\": \"\"}}, \"type\": \"scattermapbox\"}], \"scatterpolar\": [{\"marker\": {\"colorbar\": {\"outlinewidth\": 0, \"ticks\": \"\"}}, \"type\": \"scatterpolar\"}], \"scatterpolargl\": [{\"marker\": {\"colorbar\": {\"outlinewidth\": 0, \"ticks\": \"\"}}, \"type\": \"scatterpolargl\"}], \"scatterternary\": [{\"marker\": {\"colorbar\": {\"outlinewidth\": 0, \"ticks\": \"\"}}, \"type\": \"scatterternary\"}], \"surface\": [{\"colorbar\": {\"outlinewidth\": 0, \"ticks\": \"\"}, \"colorscale\": [[0.0, \"#0d0887\"], [0.1111111111111111, \"#46039f\"], [0.2222222222222222, \"#7201a8\"], [0.3333333333333333, \"#9c179e\"], [0.4444444444444444, \"#bd3786\"], [0.5555555555555556, \"#d8576b\"], [0.6666666666666666, \"#ed7953\"], [0.7777777777777778, \"#fb9f3a\"], [0.8888888888888888, \"#fdca26\"], [1.0, \"#f0f921\"]], \"type\": \"surface\"}], \"table\": [{\"cells\": {\"fill\": {\"color\": \"#EBF0F8\"}, \"line\": {\"color\": \"white\"}}, \"header\": {\"fill\": {\"color\": \"#C8D4E3\"}, \"line\": {\"color\": \"white\"}}, \"type\": \"table\"}]}, \"layout\": {\"annotationdefaults\": {\"arrowcolor\": \"#2a3f5f\", \"arrowhead\": 0, \"arrowwidth\": 1}, \"coloraxis\": {\"colorbar\": {\"outlinewidth\": 0, \"ticks\": \"\"}}, \"colorscale\": {\"diverging\": [[0, \"#8e0152\"], [0.1, \"#c51b7d\"], [0.2, \"#de77ae\"], [0.3, \"#f1b6da\"], [0.4, \"#fde0ef\"], [0.5, \"#f7f7f7\"], [0.6, \"#e6f5d0\"], [0.7, \"#b8e186\"], [0.8, \"#7fbc41\"], [0.9, \"#4d9221\"], [1, \"#276419\"]], \"sequential\": [[0.0, \"#0d0887\"], [0.1111111111111111, \"#46039f\"], [0.2222222222222222, \"#7201a8\"], [0.3333333333333333, \"#9c179e\"], [0.4444444444444444, \"#bd3786\"], [0.5555555555555556, \"#d8576b\"], [0.6666666666666666, \"#ed7953\"], [0.7777777777777778, \"#fb9f3a\"], [0.8888888888888888, \"#fdca26\"], [1.0, \"#f0f921\"]], \"sequentialminus\": [[0.0, \"#0d0887\"], [0.1111111111111111, \"#46039f\"], [0.2222222222222222, \"#7201a8\"], [0.3333333333333333, \"#9c179e\"], [0.4444444444444444, \"#bd3786\"], [0.5555555555555556, \"#d8576b\"], [0.6666666666666666, \"#ed7953\"], [0.7777777777777778, \"#fb9f3a\"], [0.8888888888888888, \"#fdca26\"], [1.0, \"#f0f921\"]]}, \"colorway\": [\"#636efa\", \"#EF553B\", \"#00cc96\", \"#ab63fa\", \"#FFA15A\", \"#19d3f3\", \"#FF6692\", \"#B6E880\", \"#FF97FF\", \"#FECB52\"], \"font\": {\"color\": \"#2a3f5f\"}, \"geo\": {\"bgcolor\": \"white\", \"lakecolor\": \"white\", \"landcolor\": \"#E5ECF6\", \"showlakes\": true, \"showland\": true, \"subunitcolor\": \"white\"}, \"hoverlabel\": {\"align\": \"left\"}, \"hovermode\": \"closest\", \"mapbox\": {\"style\": \"light\"}, \"paper_bgcolor\": \"white\", \"plot_bgcolor\": \"#E5ECF6\", \"polar\": {\"angularaxis\": {\"gridcolor\": \"white\", \"linecolor\": \"white\", \"ticks\": \"\"}, \"bgcolor\": \"#E5ECF6\", \"radialaxis\": {\"gridcolor\": \"white\", \"linecolor\": \"white\", \"ticks\": \"\"}}, \"scene\": {\"xaxis\": {\"backgroundcolor\": \"#E5ECF6\", \"gridcolor\": \"white\", \"gridwidth\": 2, \"linecolor\": \"white\", \"showbackground\": true, \"ticks\": \"\", \"zerolinecolor\": \"white\"}, \"yaxis\": {\"backgroundcolor\": \"#E5ECF6\", \"gridcolor\": \"white\", \"gridwidth\": 2, \"linecolor\": \"white\", \"showbackground\": true, \"ticks\": \"\", \"zerolinecolor\": \"white\"}, \"zaxis\": {\"backgroundcolor\": \"#E5ECF6\", \"gridcolor\": \"white\", \"gridwidth\": 2, \"linecolor\": \"white\", \"showbackground\": true, \"ticks\": \"\", \"zerolinecolor\": \"white\"}}, \"shapedefaults\": {\"line\": {\"color\": \"#2a3f5f\"}}, \"ternary\": {\"aaxis\": {\"gridcolor\": \"white\", \"linecolor\": \"white\", \"ticks\": \"\"}, \"baxis\": {\"gridcolor\": \"white\", \"linecolor\": \"white\", \"ticks\": \"\"}, \"bgcolor\": \"#E5ECF6\", \"caxis\": {\"gridcolor\": \"white\", \"linecolor\": \"white\", \"ticks\": \"\"}}, \"title\": {\"x\": 0.05}, \"xaxis\": {\"automargin\": true, \"gridcolor\": \"white\", \"linecolor\": \"white\", \"ticks\": \"\", \"title\": {\"standoff\": 15}, \"zerolinecolor\": \"white\", \"zerolinewidth\": 2}, \"yaxis\": {\"automargin\": true, \"gridcolor\": \"white\", \"linecolor\": \"white\", \"ticks\": \"\", \"title\": {\"standoff\": 15}, \"zerolinecolor\": \"white\", \"zerolinewidth\": 2}}}, \"title\": {\"text\": \"Sales of liquor per city\"}, \"xaxis\": {\"anchor\": \"y\", \"domain\": [0.0, 1.0], \"title\": {\"text\": \" city\"}}, \"yaxis\": {\"anchor\": \"x\", \"domain\": [0.0, 1.0], \"title\": {\"text\": \"Sales in dollars\"}}},\n",
              "                        {\"responsive\": true}\n",
              "                    ).then(function(){\n",
              "                            \n",
              "var gd = document.getElementById('1720ea42-6816-4898-833e-36ba4da56ac2');\n",
              "var x = new MutationObserver(function (mutations, observer) {{\n",
              "        var display = window.getComputedStyle(gd).display;\n",
              "        if (!display || display === 'none') {{\n",
              "            console.log([gd, 'removed!']);\n",
              "            Plotly.purge(gd);\n",
              "            observer.disconnect();\n",
              "        }}\n",
              "}});\n",
              "\n",
              "// Listen for the removal of the full notebook cells\n",
              "var notebookContainer = gd.closest('#notebook-container');\n",
              "if (notebookContainer) {{\n",
              "    x.observe(notebookContainer, {childList: true});\n",
              "}}\n",
              "\n",
              "// Listen for the clearing of the current output cell\n",
              "var outputEl = gd.closest('.output');\n",
              "if (outputEl) {{\n",
              "    x.observe(outputEl, {childList: true});\n",
              "}}\n",
              "\n",
              "                        })\n",
              "                };\n",
              "                \n",
              "            </script>\n",
              "        </div>\n",
              "</body>\n",
              "</html>"
            ]
          },
          "metadata": {
            "tags": []
          }
        }
      ]
    },
    {
      "cell_type": "code",
      "metadata": {
        "id": "hAesLJyMaq3t"
      },
      "source": [
        "def transform(a):\n",
        "  return datetime.date(1900, a, 1).strftime('%B')"
      ],
      "execution_count": 206,
      "outputs": []
    },
    {
      "cell_type": "markdown",
      "metadata": {
        "id": "RZLabbAsZGfV"
      },
      "source": [
        "##### Distribution of sales during the year"
      ]
    },
    {
      "cell_type": "code",
      "metadata": {
        "id": "o6ChHjqZZAg8"
      },
      "source": [
        "df_plot = df.groupby(['month'])['sale_dollars'].sum().sort_values(ascending=False)\n",
        "top_count = pd.DataFrame(df_plot)\n",
        "new = []\n",
        "for i in top_count.index:\n",
        "  new.append(transform(i))"
      ],
      "execution_count": 207,
      "outputs": []
    },
    {
      "cell_type": "code",
      "metadata": {
        "id": "hLgQ7W6AZQhx",
        "outputId": "2fefcc2d-0aac-468b-bd06-223803b2c680",
        "colab": {
          "base_uri": "https://localhost:8080/",
          "height": 542
        }
      },
      "source": [
        "fig_reg = px.bar(top_count,x=new, y='sale_dollars',color='sale_dollars')\n",
        "fig_reg.update_layout(\n",
        "    title=\"Sales of liquor per month\",\n",
        "    xaxis_title=\" Month\",\n",
        "    yaxis_title=\"Sales in dollars\",\n",
        "    )\n",
        "fig_reg.show()"
      ],
      "execution_count": 208,
      "outputs": [
        {
          "output_type": "display_data",
          "data": {
            "text/html": [
              "<html>\n",
              "<head><meta charset=\"utf-8\" /></head>\n",
              "<body>\n",
              "    <div>\n",
              "            <script src=\"https://cdnjs.cloudflare.com/ajax/libs/mathjax/2.7.5/MathJax.js?config=TeX-AMS-MML_SVG\"></script><script type=\"text/javascript\">if (window.MathJax) {MathJax.Hub.Config({SVG: {font: \"STIX-Web\"}});}</script>\n",
              "                <script type=\"text/javascript\">window.PlotlyConfig = {MathJaxConfig: 'local'};</script>\n",
              "        <script src=\"https://cdn.plot.ly/plotly-latest.min.js\"></script>    \n",
              "            <div id=\"63e4bd6d-a53f-4bee-95b1-913061fa3c37\" class=\"plotly-graph-div\" style=\"height:525px; width:100%;\"></div>\n",
              "            <script type=\"text/javascript\">\n",
              "                \n",
              "                    window.PLOTLYENV=window.PLOTLYENV || {};\n",
              "                    \n",
              "                if (document.getElementById(\"63e4bd6d-a53f-4bee-95b1-913061fa3c37\")) {\n",
              "                    Plotly.newPlot(\n",
              "                        '63e4bd6d-a53f-4bee-95b1-913061fa3c37',\n",
              "                        [{\"alignmentgroup\": \"True\", \"hoverlabel\": {\"namelength\": 0}, \"hovertemplate\": \"x=%{x}<br>sale_dollars=%{marker.color}\", \"legendgroup\": \"\", \"marker\": {\"color\": [29531587.659995995, 27376715.229997993, 24894357.869999893, 24330090.43000001, 23930884.85000063, 23648389.2000017, 23176224.13000225, 22942187.400003295, 22381765.55000205, 20983277.260002814, 20160735.600003064, 20023300.92000275], \"coloraxis\": \"coloraxis\"}, \"name\": \"\", \"offsetgroup\": \"\", \"orientation\": \"v\", \"showlegend\": false, \"textposition\": \"auto\", \"type\": \"bar\", \"x\": [\"October\", \"December\", \"June\", \"August\", \"May\", \"July\", \"September\", \"April\", \"March\", \"November\", \"January\", \"February\"], \"xaxis\": \"x\", \"y\": [29531587.659995995, 27376715.229997993, 24894357.869999893, 24330090.43000001, 23930884.85000063, 23648389.2000017, 23176224.13000225, 22942187.400003295, 22381765.55000205, 20983277.260002814, 20160735.600003064, 20023300.92000275], \"yaxis\": \"y\"}],\n",
              "                        {\"barmode\": \"relative\", \"coloraxis\": {\"colorbar\": {\"title\": {\"text\": \"sale_dollars\"}}, \"colorscale\": [[0.0, \"#0d0887\"], [0.1111111111111111, \"#46039f\"], [0.2222222222222222, \"#7201a8\"], [0.3333333333333333, \"#9c179e\"], [0.4444444444444444, \"#bd3786\"], [0.5555555555555556, \"#d8576b\"], [0.6666666666666666, \"#ed7953\"], [0.7777777777777778, \"#fb9f3a\"], [0.8888888888888888, \"#fdca26\"], [1.0, \"#f0f921\"]]}, \"legend\": {\"tracegroupgap\": 0}, \"margin\": {\"t\": 60}, \"template\": {\"data\": {\"bar\": [{\"error_x\": {\"color\": \"#2a3f5f\"}, \"error_y\": {\"color\": \"#2a3f5f\"}, \"marker\": {\"line\": {\"color\": \"#E5ECF6\", \"width\": 0.5}}, \"type\": \"bar\"}], \"barpolar\": [{\"marker\": {\"line\": {\"color\": \"#E5ECF6\", \"width\": 0.5}}, \"type\": \"barpolar\"}], \"carpet\": [{\"aaxis\": {\"endlinecolor\": \"#2a3f5f\", \"gridcolor\": \"white\", \"linecolor\": \"white\", \"minorgridcolor\": \"white\", \"startlinecolor\": \"#2a3f5f\"}, \"baxis\": {\"endlinecolor\": \"#2a3f5f\", \"gridcolor\": \"white\", \"linecolor\": \"white\", \"minorgridcolor\": \"white\", \"startlinecolor\": \"#2a3f5f\"}, \"type\": \"carpet\"}], \"choropleth\": [{\"colorbar\": {\"outlinewidth\": 0, \"ticks\": \"\"}, \"type\": \"choropleth\"}], \"contour\": [{\"colorbar\": {\"outlinewidth\": 0, \"ticks\": \"\"}, \"colorscale\": [[0.0, \"#0d0887\"], [0.1111111111111111, \"#46039f\"], [0.2222222222222222, \"#7201a8\"], [0.3333333333333333, \"#9c179e\"], [0.4444444444444444, \"#bd3786\"], [0.5555555555555556, \"#d8576b\"], [0.6666666666666666, \"#ed7953\"], [0.7777777777777778, \"#fb9f3a\"], [0.8888888888888888, \"#fdca26\"], [1.0, \"#f0f921\"]], \"type\": \"contour\"}], \"contourcarpet\": [{\"colorbar\": {\"outlinewidth\": 0, \"ticks\": \"\"}, \"type\": \"contourcarpet\"}], \"heatmap\": [{\"colorbar\": {\"outlinewidth\": 0, \"ticks\": \"\"}, \"colorscale\": [[0.0, \"#0d0887\"], [0.1111111111111111, \"#46039f\"], [0.2222222222222222, \"#7201a8\"], [0.3333333333333333, \"#9c179e\"], [0.4444444444444444, \"#bd3786\"], [0.5555555555555556, \"#d8576b\"], [0.6666666666666666, \"#ed7953\"], [0.7777777777777778, \"#fb9f3a\"], [0.8888888888888888, \"#fdca26\"], [1.0, \"#f0f921\"]], \"type\": \"heatmap\"}], \"heatmapgl\": [{\"colorbar\": {\"outlinewidth\": 0, \"ticks\": \"\"}, \"colorscale\": [[0.0, \"#0d0887\"], [0.1111111111111111, \"#46039f\"], [0.2222222222222222, \"#7201a8\"], [0.3333333333333333, \"#9c179e\"], [0.4444444444444444, \"#bd3786\"], [0.5555555555555556, \"#d8576b\"], [0.6666666666666666, \"#ed7953\"], [0.7777777777777778, \"#fb9f3a\"], [0.8888888888888888, \"#fdca26\"], [1.0, \"#f0f921\"]], \"type\": \"heatmapgl\"}], \"histogram\": [{\"marker\": {\"colorbar\": {\"outlinewidth\": 0, \"ticks\": \"\"}}, \"type\": \"histogram\"}], \"histogram2d\": [{\"colorbar\": {\"outlinewidth\": 0, \"ticks\": \"\"}, \"colorscale\": [[0.0, \"#0d0887\"], [0.1111111111111111, \"#46039f\"], [0.2222222222222222, \"#7201a8\"], [0.3333333333333333, \"#9c179e\"], [0.4444444444444444, \"#bd3786\"], [0.5555555555555556, \"#d8576b\"], [0.6666666666666666, \"#ed7953\"], [0.7777777777777778, \"#fb9f3a\"], [0.8888888888888888, \"#fdca26\"], [1.0, \"#f0f921\"]], \"type\": \"histogram2d\"}], \"histogram2dcontour\": [{\"colorbar\": {\"outlinewidth\": 0, \"ticks\": \"\"}, \"colorscale\": [[0.0, \"#0d0887\"], [0.1111111111111111, \"#46039f\"], [0.2222222222222222, \"#7201a8\"], [0.3333333333333333, \"#9c179e\"], [0.4444444444444444, \"#bd3786\"], [0.5555555555555556, \"#d8576b\"], [0.6666666666666666, \"#ed7953\"], [0.7777777777777778, \"#fb9f3a\"], [0.8888888888888888, \"#fdca26\"], [1.0, \"#f0f921\"]], \"type\": \"histogram2dcontour\"}], \"mesh3d\": [{\"colorbar\": {\"outlinewidth\": 0, \"ticks\": \"\"}, \"type\": \"mesh3d\"}], \"parcoords\": [{\"line\": {\"colorbar\": {\"outlinewidth\": 0, \"ticks\": \"\"}}, \"type\": \"parcoords\"}], \"pie\": [{\"automargin\": true, \"type\": \"pie\"}], \"scatter\": [{\"marker\": {\"colorbar\": {\"outlinewidth\": 0, \"ticks\": \"\"}}, \"type\": \"scatter\"}], \"scatter3d\": [{\"line\": {\"colorbar\": {\"outlinewidth\": 0, \"ticks\": \"\"}}, \"marker\": {\"colorbar\": {\"outlinewidth\": 0, \"ticks\": \"\"}}, \"type\": \"scatter3d\"}], \"scattercarpet\": [{\"marker\": {\"colorbar\": {\"outlinewidth\": 0, \"ticks\": \"\"}}, \"type\": \"scattercarpet\"}], \"scattergeo\": [{\"marker\": {\"colorbar\": {\"outlinewidth\": 0, \"ticks\": \"\"}}, \"type\": \"scattergeo\"}], \"scattergl\": [{\"marker\": {\"colorbar\": {\"outlinewidth\": 0, \"ticks\": \"\"}}, \"type\": \"scattergl\"}], \"scattermapbox\": [{\"marker\": {\"colorbar\": {\"outlinewidth\": 0, \"ticks\": \"\"}}, \"type\": \"scattermapbox\"}], \"scatterpolar\": [{\"marker\": {\"colorbar\": {\"outlinewidth\": 0, \"ticks\": \"\"}}, \"type\": \"scatterpolar\"}], \"scatterpolargl\": [{\"marker\": {\"colorbar\": {\"outlinewidth\": 0, \"ticks\": \"\"}}, \"type\": \"scatterpolargl\"}], \"scatterternary\": [{\"marker\": {\"colorbar\": {\"outlinewidth\": 0, \"ticks\": \"\"}}, \"type\": \"scatterternary\"}], \"surface\": [{\"colorbar\": {\"outlinewidth\": 0, \"ticks\": \"\"}, \"colorscale\": [[0.0, \"#0d0887\"], [0.1111111111111111, \"#46039f\"], [0.2222222222222222, \"#7201a8\"], [0.3333333333333333, \"#9c179e\"], [0.4444444444444444, \"#bd3786\"], [0.5555555555555556, \"#d8576b\"], [0.6666666666666666, \"#ed7953\"], [0.7777777777777778, \"#fb9f3a\"], [0.8888888888888888, \"#fdca26\"], [1.0, \"#f0f921\"]], \"type\": \"surface\"}], \"table\": [{\"cells\": {\"fill\": {\"color\": \"#EBF0F8\"}, \"line\": {\"color\": \"white\"}}, \"header\": {\"fill\": {\"color\": \"#C8D4E3\"}, \"line\": {\"color\": \"white\"}}, \"type\": \"table\"}]}, \"layout\": {\"annotationdefaults\": {\"arrowcolor\": \"#2a3f5f\", \"arrowhead\": 0, \"arrowwidth\": 1}, \"coloraxis\": {\"colorbar\": {\"outlinewidth\": 0, \"ticks\": \"\"}}, \"colorscale\": {\"diverging\": [[0, \"#8e0152\"], [0.1, \"#c51b7d\"], [0.2, \"#de77ae\"], [0.3, \"#f1b6da\"], [0.4, \"#fde0ef\"], [0.5, \"#f7f7f7\"], [0.6, \"#e6f5d0\"], [0.7, \"#b8e186\"], [0.8, \"#7fbc41\"], [0.9, \"#4d9221\"], [1, \"#276419\"]], \"sequential\": [[0.0, \"#0d0887\"], [0.1111111111111111, \"#46039f\"], [0.2222222222222222, \"#7201a8\"], [0.3333333333333333, \"#9c179e\"], [0.4444444444444444, \"#bd3786\"], [0.5555555555555556, \"#d8576b\"], [0.6666666666666666, \"#ed7953\"], [0.7777777777777778, \"#fb9f3a\"], [0.8888888888888888, \"#fdca26\"], [1.0, \"#f0f921\"]], \"sequentialminus\": [[0.0, \"#0d0887\"], [0.1111111111111111, \"#46039f\"], [0.2222222222222222, \"#7201a8\"], [0.3333333333333333, \"#9c179e\"], [0.4444444444444444, \"#bd3786\"], [0.5555555555555556, \"#d8576b\"], [0.6666666666666666, \"#ed7953\"], [0.7777777777777778, \"#fb9f3a\"], [0.8888888888888888, \"#fdca26\"], [1.0, \"#f0f921\"]]}, \"colorway\": [\"#636efa\", \"#EF553B\", \"#00cc96\", \"#ab63fa\", \"#FFA15A\", \"#19d3f3\", \"#FF6692\", \"#B6E880\", \"#FF97FF\", \"#FECB52\"], \"font\": {\"color\": \"#2a3f5f\"}, \"geo\": {\"bgcolor\": \"white\", \"lakecolor\": \"white\", \"landcolor\": \"#E5ECF6\", \"showlakes\": true, \"showland\": true, \"subunitcolor\": \"white\"}, \"hoverlabel\": {\"align\": \"left\"}, \"hovermode\": \"closest\", \"mapbox\": {\"style\": \"light\"}, \"paper_bgcolor\": \"white\", \"plot_bgcolor\": \"#E5ECF6\", \"polar\": {\"angularaxis\": {\"gridcolor\": \"white\", \"linecolor\": \"white\", \"ticks\": \"\"}, \"bgcolor\": \"#E5ECF6\", \"radialaxis\": {\"gridcolor\": \"white\", \"linecolor\": \"white\", \"ticks\": \"\"}}, \"scene\": {\"xaxis\": {\"backgroundcolor\": \"#E5ECF6\", \"gridcolor\": \"white\", \"gridwidth\": 2, \"linecolor\": \"white\", \"showbackground\": true, \"ticks\": \"\", \"zerolinecolor\": \"white\"}, \"yaxis\": {\"backgroundcolor\": \"#E5ECF6\", \"gridcolor\": \"white\", \"gridwidth\": 2, \"linecolor\": \"white\", \"showbackground\": true, \"ticks\": \"\", \"zerolinecolor\": \"white\"}, \"zaxis\": {\"backgroundcolor\": \"#E5ECF6\", \"gridcolor\": \"white\", \"gridwidth\": 2, \"linecolor\": \"white\", \"showbackground\": true, \"ticks\": \"\", \"zerolinecolor\": \"white\"}}, \"shapedefaults\": {\"line\": {\"color\": \"#2a3f5f\"}}, \"ternary\": {\"aaxis\": {\"gridcolor\": \"white\", \"linecolor\": \"white\", \"ticks\": \"\"}, \"baxis\": {\"gridcolor\": \"white\", \"linecolor\": \"white\", \"ticks\": \"\"}, \"bgcolor\": \"#E5ECF6\", \"caxis\": {\"gridcolor\": \"white\", \"linecolor\": \"white\", \"ticks\": \"\"}}, \"title\": {\"x\": 0.05}, \"xaxis\": {\"automargin\": true, \"gridcolor\": \"white\", \"linecolor\": \"white\", \"ticks\": \"\", \"title\": {\"standoff\": 15}, \"zerolinecolor\": \"white\", \"zerolinewidth\": 2}, \"yaxis\": {\"automargin\": true, \"gridcolor\": \"white\", \"linecolor\": \"white\", \"ticks\": \"\", \"title\": {\"standoff\": 15}, \"zerolinecolor\": \"white\", \"zerolinewidth\": 2}}}, \"title\": {\"text\": \"Sales of liquor per month\"}, \"xaxis\": {\"anchor\": \"y\", \"domain\": [0.0, 1.0], \"title\": {\"text\": \" Month\"}}, \"yaxis\": {\"anchor\": \"x\", \"domain\": [0.0, 1.0], \"title\": {\"text\": \"Sales in dollars\"}}},\n",
              "                        {\"responsive\": true}\n",
              "                    ).then(function(){\n",
              "                            \n",
              "var gd = document.getElementById('63e4bd6d-a53f-4bee-95b1-913061fa3c37');\n",
              "var x = new MutationObserver(function (mutations, observer) {{\n",
              "        var display = window.getComputedStyle(gd).display;\n",
              "        if (!display || display === 'none') {{\n",
              "            console.log([gd, 'removed!']);\n",
              "            Plotly.purge(gd);\n",
              "            observer.disconnect();\n",
              "        }}\n",
              "}});\n",
              "\n",
              "// Listen for the removal of the full notebook cells\n",
              "var notebookContainer = gd.closest('#notebook-container');\n",
              "if (notebookContainer) {{\n",
              "    x.observe(notebookContainer, {childList: true});\n",
              "}}\n",
              "\n",
              "// Listen for the clearing of the current output cell\n",
              "var outputEl = gd.closest('.output');\n",
              "if (outputEl) {{\n",
              "    x.observe(outputEl, {childList: true});\n",
              "}}\n",
              "\n",
              "                        })\n",
              "                };\n",
              "                \n",
              "            </script>\n",
              "        </div>\n",
              "</body>\n",
              "</html>"
            ]
          },
          "metadata": {
            "tags": []
          }
        }
      ]
    },
    {
      "cell_type": "code",
      "metadata": {
        "id": "mVG8E0pwzyEp"
      },
      "source": [
        "df_plot = df.groupby(['vendor_name'])['sale_dollars'].sum().sort_values(ascending=False)\n",
        "top_count = pd.DataFrame(df_plot)\n",
        "top_count1 = top_count.head(10)"
      ],
      "execution_count": 209,
      "outputs": []
    },
    {
      "cell_type": "code",
      "metadata": {
        "id": "46ukhwrIz5Kq",
        "outputId": "622d960a-ff18-4c6b-cadd-607b841057b0",
        "colab": {
          "base_uri": "https://localhost:8080/",
          "height": 542
        }
      },
      "source": [
        "fig_reg = px.bar(top_count1,x=top_count1.index, y='sale_dollars',color='sale_dollars')\n",
        "fig_reg.update_layout(\n",
        "    title=\"Sales of liquor per vendor_name\",\n",
        "    xaxis_title=\" Vendor_name\",\n",
        "    yaxis_title=\"Sales in dollars\",\n",
        "    )\n",
        "fig_reg.show()"
      ],
      "execution_count": 210,
      "outputs": [
        {
          "output_type": "display_data",
          "data": {
            "text/html": [
              "<html>\n",
              "<head><meta charset=\"utf-8\" /></head>\n",
              "<body>\n",
              "    <div>\n",
              "            <script src=\"https://cdnjs.cloudflare.com/ajax/libs/mathjax/2.7.5/MathJax.js?config=TeX-AMS-MML_SVG\"></script><script type=\"text/javascript\">if (window.MathJax) {MathJax.Hub.Config({SVG: {font: \"STIX-Web\"}});}</script>\n",
              "                <script type=\"text/javascript\">window.PlotlyConfig = {MathJaxConfig: 'local'};</script>\n",
              "        <script src=\"https://cdn.plot.ly/plotly-latest.min.js\"></script>    \n",
              "            <div id=\"1c4f9906-bd51-465e-bb4f-6078c0862e47\" class=\"plotly-graph-div\" style=\"height:525px; width:100%;\"></div>\n",
              "            <script type=\"text/javascript\">\n",
              "                \n",
              "                    window.PLOTLYENV=window.PLOTLYENV || {};\n",
              "                    \n",
              "                if (document.getElementById(\"1c4f9906-bd51-465e-bb4f-6078c0862e47\")) {\n",
              "                    Plotly.newPlot(\n",
              "                        '1c4f9906-bd51-465e-bb4f-6078c0862e47',\n",
              "                        [{\"alignmentgroup\": \"True\", \"hoverlabel\": {\"namelength\": 0}, \"hovertemplate\": \"x=%{x}<br>sale_dollars=%{marker.color}\", \"legendgroup\": \"\", \"marker\": {\"color\": [67637991.27001275, 19265717.059997074, 12985033.900010455, 12436214.940012688, 10892469.420001803, 10571307.499999318, 8812540.150000315, 8774967.13000093, 8251251.039998178, 7794214.059999022], \"coloraxis\": \"coloraxis\"}, \"name\": \"\", \"offsetgroup\": \"\", \"orientation\": \"v\", \"showlegend\": false, \"textposition\": \"auto\", \"type\": \"bar\", \"x\": [\"diageo americas\", \"jim beam brands\", \"pernod ricard usa\", \"pernod ricard usa/austin nichols\", \"sazerac company  inc\", \"brown-forman corporation\", \"proximo\", \"brown forman corp.\", \"luxco-st louis\", \"sazerac co., inc.\"], \"xaxis\": \"x\", \"y\": [67637991.27001275, 19265717.059997074, 12985033.900010455, 12436214.940012688, 10892469.420001803, 10571307.499999318, 8812540.150000315, 8774967.13000093, 8251251.039998178, 7794214.059999022], \"yaxis\": \"y\"}],\n",
              "                        {\"barmode\": \"relative\", \"coloraxis\": {\"colorbar\": {\"title\": {\"text\": \"sale_dollars\"}}, \"colorscale\": [[0.0, \"#0d0887\"], [0.1111111111111111, \"#46039f\"], [0.2222222222222222, \"#7201a8\"], [0.3333333333333333, \"#9c179e\"], [0.4444444444444444, \"#bd3786\"], [0.5555555555555556, \"#d8576b\"], [0.6666666666666666, \"#ed7953\"], [0.7777777777777778, \"#fb9f3a\"], [0.8888888888888888, \"#fdca26\"], [1.0, \"#f0f921\"]]}, \"legend\": {\"tracegroupgap\": 0}, \"margin\": {\"t\": 60}, \"template\": {\"data\": {\"bar\": [{\"error_x\": {\"color\": \"#2a3f5f\"}, \"error_y\": {\"color\": \"#2a3f5f\"}, \"marker\": {\"line\": {\"color\": \"#E5ECF6\", \"width\": 0.5}}, \"type\": \"bar\"}], \"barpolar\": [{\"marker\": {\"line\": {\"color\": \"#E5ECF6\", \"width\": 0.5}}, \"type\": \"barpolar\"}], \"carpet\": [{\"aaxis\": {\"endlinecolor\": \"#2a3f5f\", \"gridcolor\": \"white\", \"linecolor\": \"white\", \"minorgridcolor\": \"white\", \"startlinecolor\": \"#2a3f5f\"}, \"baxis\": {\"endlinecolor\": \"#2a3f5f\", \"gridcolor\": \"white\", \"linecolor\": \"white\", \"minorgridcolor\": \"white\", \"startlinecolor\": \"#2a3f5f\"}, \"type\": \"carpet\"}], \"choropleth\": [{\"colorbar\": {\"outlinewidth\": 0, \"ticks\": \"\"}, \"type\": \"choropleth\"}], \"contour\": [{\"colorbar\": {\"outlinewidth\": 0, \"ticks\": \"\"}, \"colorscale\": [[0.0, \"#0d0887\"], [0.1111111111111111, \"#46039f\"], [0.2222222222222222, \"#7201a8\"], [0.3333333333333333, \"#9c179e\"], [0.4444444444444444, \"#bd3786\"], [0.5555555555555556, \"#d8576b\"], [0.6666666666666666, \"#ed7953\"], [0.7777777777777778, \"#fb9f3a\"], [0.8888888888888888, \"#fdca26\"], [1.0, \"#f0f921\"]], \"type\": \"contour\"}], \"contourcarpet\": [{\"colorbar\": {\"outlinewidth\": 0, \"ticks\": \"\"}, \"type\": \"contourcarpet\"}], \"heatmap\": [{\"colorbar\": {\"outlinewidth\": 0, \"ticks\": \"\"}, \"colorscale\": [[0.0, \"#0d0887\"], [0.1111111111111111, \"#46039f\"], [0.2222222222222222, \"#7201a8\"], [0.3333333333333333, \"#9c179e\"], [0.4444444444444444, \"#bd3786\"], [0.5555555555555556, \"#d8576b\"], [0.6666666666666666, \"#ed7953\"], [0.7777777777777778, \"#fb9f3a\"], [0.8888888888888888, \"#fdca26\"], [1.0, \"#f0f921\"]], \"type\": \"heatmap\"}], \"heatmapgl\": [{\"colorbar\": {\"outlinewidth\": 0, \"ticks\": \"\"}, \"colorscale\": [[0.0, \"#0d0887\"], [0.1111111111111111, \"#46039f\"], [0.2222222222222222, \"#7201a8\"], [0.3333333333333333, \"#9c179e\"], [0.4444444444444444, \"#bd3786\"], [0.5555555555555556, \"#d8576b\"], [0.6666666666666666, \"#ed7953\"], [0.7777777777777778, \"#fb9f3a\"], [0.8888888888888888, \"#fdca26\"], [1.0, \"#f0f921\"]], \"type\": \"heatmapgl\"}], \"histogram\": [{\"marker\": {\"colorbar\": {\"outlinewidth\": 0, \"ticks\": \"\"}}, \"type\": \"histogram\"}], \"histogram2d\": [{\"colorbar\": {\"outlinewidth\": 0, \"ticks\": \"\"}, \"colorscale\": [[0.0, \"#0d0887\"], [0.1111111111111111, \"#46039f\"], [0.2222222222222222, \"#7201a8\"], [0.3333333333333333, \"#9c179e\"], [0.4444444444444444, \"#bd3786\"], [0.5555555555555556, \"#d8576b\"], [0.6666666666666666, \"#ed7953\"], [0.7777777777777778, \"#fb9f3a\"], [0.8888888888888888, \"#fdca26\"], [1.0, \"#f0f921\"]], \"type\": \"histogram2d\"}], \"histogram2dcontour\": [{\"colorbar\": {\"outlinewidth\": 0, \"ticks\": \"\"}, \"colorscale\": [[0.0, \"#0d0887\"], [0.1111111111111111, \"#46039f\"], [0.2222222222222222, \"#7201a8\"], [0.3333333333333333, \"#9c179e\"], [0.4444444444444444, \"#bd3786\"], [0.5555555555555556, \"#d8576b\"], [0.6666666666666666, \"#ed7953\"], [0.7777777777777778, \"#fb9f3a\"], [0.8888888888888888, \"#fdca26\"], [1.0, \"#f0f921\"]], \"type\": \"histogram2dcontour\"}], \"mesh3d\": [{\"colorbar\": {\"outlinewidth\": 0, \"ticks\": \"\"}, \"type\": \"mesh3d\"}], \"parcoords\": [{\"line\": {\"colorbar\": {\"outlinewidth\": 0, \"ticks\": \"\"}}, \"type\": \"parcoords\"}], \"pie\": [{\"automargin\": true, \"type\": \"pie\"}], \"scatter\": [{\"marker\": {\"colorbar\": {\"outlinewidth\": 0, \"ticks\": \"\"}}, \"type\": \"scatter\"}], \"scatter3d\": [{\"line\": {\"colorbar\": {\"outlinewidth\": 0, \"ticks\": \"\"}}, \"marker\": {\"colorbar\": {\"outlinewidth\": 0, \"ticks\": \"\"}}, \"type\": \"scatter3d\"}], \"scattercarpet\": [{\"marker\": {\"colorbar\": {\"outlinewidth\": 0, \"ticks\": \"\"}}, \"type\": \"scattercarpet\"}], \"scattergeo\": [{\"marker\": {\"colorbar\": {\"outlinewidth\": 0, \"ticks\": \"\"}}, \"type\": \"scattergeo\"}], \"scattergl\": [{\"marker\": {\"colorbar\": {\"outlinewidth\": 0, \"ticks\": \"\"}}, \"type\": \"scattergl\"}], \"scattermapbox\": [{\"marker\": {\"colorbar\": {\"outlinewidth\": 0, \"ticks\": \"\"}}, \"type\": \"scattermapbox\"}], \"scatterpolar\": [{\"marker\": {\"colorbar\": {\"outlinewidth\": 0, \"ticks\": \"\"}}, \"type\": \"scatterpolar\"}], \"scatterpolargl\": [{\"marker\": {\"colorbar\": {\"outlinewidth\": 0, \"ticks\": \"\"}}, \"type\": \"scatterpolargl\"}], \"scatterternary\": [{\"marker\": {\"colorbar\": {\"outlinewidth\": 0, \"ticks\": \"\"}}, \"type\": \"scatterternary\"}], \"surface\": [{\"colorbar\": {\"outlinewidth\": 0, \"ticks\": \"\"}, \"colorscale\": [[0.0, \"#0d0887\"], [0.1111111111111111, \"#46039f\"], [0.2222222222222222, \"#7201a8\"], [0.3333333333333333, \"#9c179e\"], [0.4444444444444444, \"#bd3786\"], [0.5555555555555556, \"#d8576b\"], [0.6666666666666666, \"#ed7953\"], [0.7777777777777778, \"#fb9f3a\"], [0.8888888888888888, \"#fdca26\"], [1.0, \"#f0f921\"]], \"type\": \"surface\"}], \"table\": [{\"cells\": {\"fill\": {\"color\": \"#EBF0F8\"}, \"line\": {\"color\": \"white\"}}, \"header\": {\"fill\": {\"color\": \"#C8D4E3\"}, \"line\": {\"color\": \"white\"}}, \"type\": \"table\"}]}, \"layout\": {\"annotationdefaults\": {\"arrowcolor\": \"#2a3f5f\", \"arrowhead\": 0, \"arrowwidth\": 1}, \"coloraxis\": {\"colorbar\": {\"outlinewidth\": 0, \"ticks\": \"\"}}, \"colorscale\": {\"diverging\": [[0, \"#8e0152\"], [0.1, \"#c51b7d\"], [0.2, \"#de77ae\"], [0.3, \"#f1b6da\"], [0.4, \"#fde0ef\"], [0.5, \"#f7f7f7\"], [0.6, \"#e6f5d0\"], [0.7, \"#b8e186\"], [0.8, \"#7fbc41\"], [0.9, \"#4d9221\"], [1, \"#276419\"]], \"sequential\": [[0.0, \"#0d0887\"], [0.1111111111111111, \"#46039f\"], [0.2222222222222222, \"#7201a8\"], [0.3333333333333333, \"#9c179e\"], [0.4444444444444444, \"#bd3786\"], [0.5555555555555556, \"#d8576b\"], [0.6666666666666666, \"#ed7953\"], [0.7777777777777778, \"#fb9f3a\"], [0.8888888888888888, \"#fdca26\"], [1.0, \"#f0f921\"]], \"sequentialminus\": [[0.0, \"#0d0887\"], [0.1111111111111111, \"#46039f\"], [0.2222222222222222, \"#7201a8\"], [0.3333333333333333, \"#9c179e\"], [0.4444444444444444, \"#bd3786\"], [0.5555555555555556, \"#d8576b\"], [0.6666666666666666, \"#ed7953\"], [0.7777777777777778, \"#fb9f3a\"], [0.8888888888888888, \"#fdca26\"], [1.0, \"#f0f921\"]]}, \"colorway\": [\"#636efa\", \"#EF553B\", \"#00cc96\", \"#ab63fa\", \"#FFA15A\", \"#19d3f3\", \"#FF6692\", \"#B6E880\", \"#FF97FF\", \"#FECB52\"], \"font\": {\"color\": \"#2a3f5f\"}, \"geo\": {\"bgcolor\": \"white\", \"lakecolor\": \"white\", \"landcolor\": \"#E5ECF6\", \"showlakes\": true, \"showland\": true, \"subunitcolor\": \"white\"}, \"hoverlabel\": {\"align\": \"left\"}, \"hovermode\": \"closest\", \"mapbox\": {\"style\": \"light\"}, \"paper_bgcolor\": \"white\", \"plot_bgcolor\": \"#E5ECF6\", \"polar\": {\"angularaxis\": {\"gridcolor\": \"white\", \"linecolor\": \"white\", \"ticks\": \"\"}, \"bgcolor\": \"#E5ECF6\", \"radialaxis\": {\"gridcolor\": \"white\", \"linecolor\": \"white\", \"ticks\": \"\"}}, \"scene\": {\"xaxis\": {\"backgroundcolor\": \"#E5ECF6\", \"gridcolor\": \"white\", \"gridwidth\": 2, \"linecolor\": \"white\", \"showbackground\": true, \"ticks\": \"\", \"zerolinecolor\": \"white\"}, \"yaxis\": {\"backgroundcolor\": \"#E5ECF6\", \"gridcolor\": \"white\", \"gridwidth\": 2, \"linecolor\": \"white\", \"showbackground\": true, \"ticks\": \"\", \"zerolinecolor\": \"white\"}, \"zaxis\": {\"backgroundcolor\": \"#E5ECF6\", \"gridcolor\": \"white\", \"gridwidth\": 2, \"linecolor\": \"white\", \"showbackground\": true, \"ticks\": \"\", \"zerolinecolor\": \"white\"}}, \"shapedefaults\": {\"line\": {\"color\": \"#2a3f5f\"}}, \"ternary\": {\"aaxis\": {\"gridcolor\": \"white\", \"linecolor\": \"white\", \"ticks\": \"\"}, \"baxis\": {\"gridcolor\": \"white\", \"linecolor\": \"white\", \"ticks\": \"\"}, \"bgcolor\": \"#E5ECF6\", \"caxis\": {\"gridcolor\": \"white\", \"linecolor\": \"white\", \"ticks\": \"\"}}, \"title\": {\"x\": 0.05}, \"xaxis\": {\"automargin\": true, \"gridcolor\": \"white\", \"linecolor\": \"white\", \"ticks\": \"\", \"title\": {\"standoff\": 15}, \"zerolinecolor\": \"white\", \"zerolinewidth\": 2}, \"yaxis\": {\"automargin\": true, \"gridcolor\": \"white\", \"linecolor\": \"white\", \"ticks\": \"\", \"title\": {\"standoff\": 15}, \"zerolinecolor\": \"white\", \"zerolinewidth\": 2}}}, \"title\": {\"text\": \"Sales of liquor per vendor_name\"}, \"xaxis\": {\"anchor\": \"y\", \"domain\": [0.0, 1.0], \"title\": {\"text\": \" Vendor_name\"}}, \"yaxis\": {\"anchor\": \"x\", \"domain\": [0.0, 1.0], \"title\": {\"text\": \"Sales in dollars\"}}},\n",
              "                        {\"responsive\": true}\n",
              "                    ).then(function(){\n",
              "                            \n",
              "var gd = document.getElementById('1c4f9906-bd51-465e-bb4f-6078c0862e47');\n",
              "var x = new MutationObserver(function (mutations, observer) {{\n",
              "        var display = window.getComputedStyle(gd).display;\n",
              "        if (!display || display === 'none') {{\n",
              "            console.log([gd, 'removed!']);\n",
              "            Plotly.purge(gd);\n",
              "            observer.disconnect();\n",
              "        }}\n",
              "}});\n",
              "\n",
              "// Listen for the removal of the full notebook cells\n",
              "var notebookContainer = gd.closest('#notebook-container');\n",
              "if (notebookContainer) {{\n",
              "    x.observe(notebookContainer, {childList: true});\n",
              "}}\n",
              "\n",
              "// Listen for the clearing of the current output cell\n",
              "var outputEl = gd.closest('.output');\n",
              "if (outputEl) {{\n",
              "    x.observe(outputEl, {childList: true});\n",
              "}}\n",
              "\n",
              "                        })\n",
              "                };\n",
              "                \n",
              "            </script>\n",
              "        </div>\n",
              "</body>\n",
              "</html>"
            ]
          },
          "metadata": {
            "tags": []
          }
        }
      ]
    },
    {
      "cell_type": "markdown",
      "metadata": {
        "id": "1ewu8ZEQovoW"
      },
      "source": [
        "##### Also we can take a look at daily sales data"
      ]
    },
    {
      "cell_type": "code",
      "metadata": {
        "id": "D2vK0nU8cWbd"
      },
      "source": [
        "daily_sales = df.groupby('date', as_index=False)['sale_dollars'].sum()"
      ],
      "execution_count": 211,
      "outputs": []
    },
    {
      "cell_type": "code",
      "metadata": {
        "id": "8aIJS4DpcXqr",
        "outputId": "cf5da6eb-8a58-4d18-834e-43c3013b663b",
        "colab": {
          "base_uri": "https://localhost:8080/",
          "height": 542
        }
      },
      "source": [
        "daily_sales_sc = go.Scatter(x=daily_sales['date'], y=daily_sales['sale_dollars'])\n",
        "layout = go.Layout(title='Daily sales', xaxis=dict(title='date'), yaxis=dict(title='sales'))\n",
        "fig = go.Figure(data=[daily_sales_sc], layout=layout)\n",
        "iplot(fig)"
      ],
      "execution_count": 212,
      "outputs": [
        {
          "output_type": "display_data",
          "data": {
            "text/html": [
              "<html>\n",
              "<head><meta charset=\"utf-8\" /></head>\n",
              "<body>\n",
              "    <div>\n",
              "            <script src=\"https://cdnjs.cloudflare.com/ajax/libs/mathjax/2.7.5/MathJax.js?config=TeX-AMS-MML_SVG\"></script><script type=\"text/javascript\">if (window.MathJax) {MathJax.Hub.Config({SVG: {font: \"STIX-Web\"}});}</script>\n",
              "                <script type=\"text/javascript\">window.PlotlyConfig = {MathJaxConfig: 'local'};</script>\n",
              "        <script src=\"https://cdn.plot.ly/plotly-latest.min.js\"></script>    \n",
              "            <div id=\"f9e70fb7-f8d8-4c3b-953c-33fcbeaaa8af\" class=\"plotly-graph-div\" style=\"height:525px; width:100%;\"></div>\n",
              "            <script type=\"text/javascript\">\n",
              "                \n",
              "                    window.PLOTLYENV=window.PLOTLYENV || {};\n",
              "                    \n",
              "                if (document.getElementById(\"f9e70fb7-f8d8-4c3b-953c-33fcbeaaa8af\")) {\n",
              "                    Plotly.newPlot(\n",
              "                        'f9e70fb7-f8d8-4c3b-953c-33fcbeaaa8af',\n",
              "                        [{\"type\": \"scatter\", \"x\": [\"2012-01-03T00:00:00\", \"2012-01-04T00:00:00\", \"2012-01-05T00:00:00\", \"2012-01-09T00:00:00\", \"2012-01-10T00:00:00\", \"2012-01-11T00:00:00\", \"2012-01-12T00:00:00\", \"2012-01-16T00:00:00\", \"2012-01-17T00:00:00\", \"2012-01-18T00:00:00\", \"2012-01-19T00:00:00\", \"2012-01-23T00:00:00\", \"2012-01-24T00:00:00\", \"2012-01-25T00:00:00\", \"2012-01-26T00:00:00\", \"2012-01-27T00:00:00\", \"2012-01-30T00:00:00\", \"2012-01-31T00:00:00\", \"2012-02-01T00:00:00\", \"2012-02-02T00:00:00\", \"2012-02-06T00:00:00\", \"2012-02-07T00:00:00\", \"2012-02-08T00:00:00\", \"2012-02-09T00:00:00\", \"2012-02-13T00:00:00\", \"2012-02-14T00:00:00\", \"2012-02-15T00:00:00\", \"2012-02-16T00:00:00\", \"2012-02-20T00:00:00\", \"2012-02-21T00:00:00\", \"2012-02-22T00:00:00\", \"2012-02-23T00:00:00\", \"2012-02-27T00:00:00\", \"2012-02-28T00:00:00\", \"2012-02-29T00:00:00\", \"2012-03-01T00:00:00\", \"2012-03-05T00:00:00\", \"2012-03-06T00:00:00\", \"2012-03-07T00:00:00\", \"2012-03-08T00:00:00\", \"2012-03-09T00:00:00\", \"2012-03-12T00:00:00\", \"2012-03-13T00:00:00\", \"2012-03-14T00:00:00\", \"2012-03-15T00:00:00\", \"2012-03-19T00:00:00\", \"2012-03-20T00:00:00\", \"2012-03-21T00:00:00\", \"2012-03-22T00:00:00\", \"2012-03-26T00:00:00\", \"2012-03-27T00:00:00\", \"2012-03-28T00:00:00\", \"2012-03-29T00:00:00\", \"2012-04-02T00:00:00\", \"2012-04-03T00:00:00\", \"2012-04-04T00:00:00\", \"2012-04-05T00:00:00\", \"2012-04-09T00:00:00\", \"2012-04-10T00:00:00\", \"2012-04-11T00:00:00\", \"2012-04-12T00:00:00\", \"2012-04-16T00:00:00\", \"2012-04-17T00:00:00\", \"2012-04-18T00:00:00\", \"2012-04-19T00:00:00\", \"2012-04-23T00:00:00\", \"2012-04-24T00:00:00\", \"2012-04-25T00:00:00\", \"2012-04-26T00:00:00\", \"2012-04-27T00:00:00\", \"2012-04-30T00:00:00\", \"2012-05-01T00:00:00\", \"2012-05-02T00:00:00\", \"2012-05-03T00:00:00\", \"2012-05-07T00:00:00\", \"2012-05-08T00:00:00\", \"2012-05-09T00:00:00\", \"2012-05-10T00:00:00\", \"2012-05-14T00:00:00\", \"2012-05-15T00:00:00\", \"2012-05-16T00:00:00\", \"2012-05-17T00:00:00\", \"2012-05-21T00:00:00\", \"2012-05-22T00:00:00\", \"2012-05-23T00:00:00\", \"2012-05-24T00:00:00\", \"2012-05-25T00:00:00\", \"2012-05-29T00:00:00\", \"2012-05-30T00:00:00\", \"2012-05-31T00:00:00\", \"2012-06-01T00:00:00\", \"2012-06-04T00:00:00\", \"2012-06-05T00:00:00\", \"2012-06-06T00:00:00\", \"2012-06-07T00:00:00\", \"2012-06-11T00:00:00\", \"2012-06-12T00:00:00\", \"2012-06-13T00:00:00\", \"2012-06-14T00:00:00\", \"2012-06-18T00:00:00\", \"2012-06-19T00:00:00\", \"2012-06-20T00:00:00\", \"2012-06-21T00:00:00\", \"2012-06-22T00:00:00\", \"2012-06-25T00:00:00\", \"2012-06-26T00:00:00\", \"2012-06-27T00:00:00\", \"2012-06-28T00:00:00\", \"2012-06-29T00:00:00\", \"2012-07-02T00:00:00\", \"2012-07-03T00:00:00\", \"2012-07-05T00:00:00\", \"2012-07-06T00:00:00\", \"2012-07-09T00:00:00\", \"2012-07-10T00:00:00\", \"2012-07-11T00:00:00\", \"2012-07-12T00:00:00\", \"2012-07-16T00:00:00\", \"2012-07-17T00:00:00\", \"2012-07-18T00:00:00\", \"2012-07-19T00:00:00\", \"2012-07-23T00:00:00\", \"2012-07-24T00:00:00\", \"2012-07-25T00:00:00\", \"2012-07-26T00:00:00\", \"2012-07-27T00:00:00\", \"2012-07-30T00:00:00\", \"2012-07-31T00:00:00\", \"2012-08-01T00:00:00\", \"2012-08-02T00:00:00\", \"2012-08-03T00:00:00\", \"2012-08-06T00:00:00\", \"2012-08-07T00:00:00\", \"2012-08-08T00:00:00\", \"2012-08-09T00:00:00\", \"2012-08-13T00:00:00\", \"2012-08-14T00:00:00\", \"2012-08-15T00:00:00\", \"2012-08-16T00:00:00\", \"2012-08-20T00:00:00\", \"2012-08-21T00:00:00\", \"2012-08-22T00:00:00\", \"2012-08-23T00:00:00\", \"2012-08-27T00:00:00\", \"2012-08-28T00:00:00\", \"2012-08-29T00:00:00\", \"2012-08-30T00:00:00\", \"2012-08-31T00:00:00\", \"2012-09-04T00:00:00\", \"2012-09-05T00:00:00\", \"2012-09-06T00:00:00\", \"2012-09-10T00:00:00\", \"2012-09-11T00:00:00\", \"2012-09-12T00:00:00\", \"2012-09-13T00:00:00\", \"2012-09-14T00:00:00\", \"2012-09-17T00:00:00\", \"2012-09-18T00:00:00\", \"2012-09-19T00:00:00\", \"2012-09-20T00:00:00\", \"2012-09-24T00:00:00\", \"2012-09-25T00:00:00\", \"2012-09-26T00:00:00\", \"2012-09-27T00:00:00\", \"2012-10-01T00:00:00\", \"2012-10-02T00:00:00\", \"2012-10-03T00:00:00\", \"2012-10-04T00:00:00\", \"2012-10-05T00:00:00\", \"2012-10-08T00:00:00\", \"2012-10-09T00:00:00\", \"2012-10-10T00:00:00\", \"2012-10-11T00:00:00\", \"2012-10-12T00:00:00\", \"2012-10-15T00:00:00\", \"2012-10-16T00:00:00\", \"2012-10-17T00:00:00\", \"2012-10-18T00:00:00\", \"2012-10-19T00:00:00\", \"2012-10-22T00:00:00\", \"2012-10-23T00:00:00\", \"2012-10-24T00:00:00\", \"2012-10-25T00:00:00\", \"2012-10-26T00:00:00\", \"2012-10-29T00:00:00\", \"2012-10-30T00:00:00\", \"2012-10-31T00:00:00\", \"2012-11-01T00:00:00\", \"2012-11-05T00:00:00\", \"2012-11-06T00:00:00\", \"2012-11-07T00:00:00\", \"2012-11-08T00:00:00\", \"2012-11-12T00:00:00\", \"2012-11-13T00:00:00\", \"2012-11-14T00:00:00\", \"2012-11-15T00:00:00\", \"2012-11-16T00:00:00\", \"2012-11-17T00:00:00\", \"2012-11-19T00:00:00\", \"2012-11-20T00:00:00\", \"2012-11-21T00:00:00\", \"2012-11-26T00:00:00\", \"2012-11-27T00:00:00\", \"2012-11-28T00:00:00\", \"2012-11-29T00:00:00\", \"2012-12-03T00:00:00\", \"2012-12-04T00:00:00\", \"2012-12-05T00:00:00\", \"2012-12-06T00:00:00\", \"2012-12-10T00:00:00\", \"2012-12-11T00:00:00\", \"2012-12-12T00:00:00\", \"2012-12-13T00:00:00\", \"2012-12-14T00:00:00\", \"2012-12-17T00:00:00\", \"2012-12-18T00:00:00\", \"2012-12-19T00:00:00\", \"2012-12-20T00:00:00\", \"2012-12-21T00:00:00\", \"2012-12-24T00:00:00\", \"2012-12-26T00:00:00\", \"2012-12-27T00:00:00\", \"2012-12-28T00:00:00\", \"2012-12-31T00:00:00\", \"2013-01-02T00:00:00\", \"2013-01-03T00:00:00\", \"2013-01-07T00:00:00\", \"2013-01-08T00:00:00\", \"2013-01-09T00:00:00\", \"2013-01-10T00:00:00\", \"2013-01-14T00:00:00\", \"2013-01-15T00:00:00\", \"2013-01-16T00:00:00\", \"2013-01-17T00:00:00\", \"2013-01-21T00:00:00\", \"2013-01-22T00:00:00\", \"2013-01-23T00:00:00\", \"2013-01-24T00:00:00\", \"2013-01-28T00:00:00\", \"2013-01-29T00:00:00\", \"2013-01-30T00:00:00\", \"2013-01-31T00:00:00\", \"2013-02-04T00:00:00\", \"2013-02-05T00:00:00\", \"2013-02-06T00:00:00\", \"2013-02-07T00:00:00\", \"2013-02-11T00:00:00\", \"2013-02-12T00:00:00\", \"2013-02-13T00:00:00\", \"2013-02-14T00:00:00\", \"2013-02-18T00:00:00\", \"2013-02-19T00:00:00\", \"2013-02-20T00:00:00\", \"2013-02-21T00:00:00\", \"2013-02-22T00:00:00\", \"2013-02-25T00:00:00\", \"2013-02-26T00:00:00\", \"2013-02-27T00:00:00\", \"2013-02-28T00:00:00\", \"2013-03-04T00:00:00\", \"2013-03-05T00:00:00\", \"2013-03-06T00:00:00\", \"2013-03-07T00:00:00\", \"2013-03-11T00:00:00\", \"2013-03-12T00:00:00\", \"2013-03-13T00:00:00\", \"2013-03-14T00:00:00\", \"2013-03-15T00:00:00\", \"2013-03-18T00:00:00\", \"2013-03-19T00:00:00\", \"2013-03-20T00:00:00\", \"2013-03-21T00:00:00\", \"2013-03-25T00:00:00\", \"2013-03-26T00:00:00\", \"2013-03-27T00:00:00\", \"2013-03-28T00:00:00\", \"2013-04-01T00:00:00\", \"2013-04-02T00:00:00\", \"2013-04-03T00:00:00\", \"2013-04-04T00:00:00\", \"2013-04-08T00:00:00\", \"2013-04-09T00:00:00\", \"2013-04-10T00:00:00\", \"2013-04-11T00:00:00\", \"2013-04-15T00:00:00\", \"2013-04-16T00:00:00\", \"2013-04-17T00:00:00\", \"2013-04-18T00:00:00\", \"2013-04-22T00:00:00\", \"2013-04-23T00:00:00\", \"2013-04-24T00:00:00\", \"2013-04-25T00:00:00\", \"2013-04-29T00:00:00\", \"2013-04-30T00:00:00\", \"2013-05-01T00:00:00\", \"2013-05-02T00:00:00\", \"2013-05-03T00:00:00\", \"2013-05-06T00:00:00\", \"2013-05-07T00:00:00\", \"2013-05-08T00:00:00\", \"2013-05-09T00:00:00\", \"2013-05-13T00:00:00\", \"2013-05-14T00:00:00\", \"2013-05-15T00:00:00\", \"2013-05-16T00:00:00\", \"2013-05-20T00:00:00\", \"2013-05-21T00:00:00\", \"2013-05-22T00:00:00\", \"2013-05-23T00:00:00\", \"2013-05-24T00:00:00\", \"2013-05-28T00:00:00\", \"2013-05-29T00:00:00\", \"2013-05-30T00:00:00\", \"2013-05-31T00:00:00\", \"2013-06-03T00:00:00\", \"2013-06-04T00:00:00\", \"2013-06-05T00:00:00\", \"2013-06-06T00:00:00\", \"2013-06-10T00:00:00\", \"2013-06-11T00:00:00\", \"2013-06-12T00:00:00\", \"2013-06-13T00:00:00\", \"2013-06-14T00:00:00\", \"2013-06-15T00:00:00\", \"2013-06-17T00:00:00\", \"2013-06-18T00:00:00\", \"2013-06-21T00:00:00\", \"2013-06-22T00:00:00\", \"2013-06-24T00:00:00\", \"2013-06-25T00:00:00\", \"2013-06-26T00:00:00\", \"2013-06-27T00:00:00\", \"2013-07-01T00:00:00\", \"2013-07-02T00:00:00\", \"2013-07-03T00:00:00\", \"2013-07-04T00:00:00\", \"2013-07-08T00:00:00\", \"2013-07-09T00:00:00\", \"2013-07-10T00:00:00\", \"2013-07-11T00:00:00\", \"2013-07-15T00:00:00\", \"2013-07-16T00:00:00\", \"2013-07-17T00:00:00\", \"2013-07-18T00:00:00\", \"2013-07-22T00:00:00\", \"2013-07-23T00:00:00\", \"2013-07-24T00:00:00\", \"2013-07-25T00:00:00\", \"2013-07-29T00:00:00\", \"2013-07-30T00:00:00\", \"2013-07-31T00:00:00\", \"2013-08-01T00:00:00\", \"2013-08-05T00:00:00\", \"2013-08-06T00:00:00\", \"2013-08-07T00:00:00\", \"2013-08-08T00:00:00\", \"2013-08-12T00:00:00\", \"2013-08-13T00:00:00\", \"2013-08-14T00:00:00\", \"2013-08-15T00:00:00\", \"2013-08-16T00:00:00\", \"2013-08-19T00:00:00\", \"2013-08-20T00:00:00\", \"2013-08-21T00:00:00\", \"2013-08-22T00:00:00\", \"2013-08-26T00:00:00\", \"2013-08-27T00:00:00\", \"2013-08-28T00:00:00\", \"2013-08-29T00:00:00\", \"2013-08-30T00:00:00\", \"2013-09-03T00:00:00\", \"2013-09-04T00:00:00\", \"2013-09-05T00:00:00\", \"2013-09-06T00:00:00\", \"2013-09-09T00:00:00\", \"2013-09-10T00:00:00\", \"2013-09-11T00:00:00\", \"2013-09-12T00:00:00\", \"2013-09-16T00:00:00\", \"2013-09-17T00:00:00\", \"2013-09-18T00:00:00\", \"2013-09-19T00:00:00\", \"2013-09-20T00:00:00\", \"2013-09-23T00:00:00\", \"2013-09-24T00:00:00\", \"2013-09-25T00:00:00\", \"2013-09-26T00:00:00\", \"2013-09-30T00:00:00\", \"2013-10-01T00:00:00\", \"2013-10-02T00:00:00\", \"2013-10-03T00:00:00\", \"2013-10-04T00:00:00\", \"2013-10-07T00:00:00\", \"2013-10-08T00:00:00\", \"2013-10-09T00:00:00\", \"2013-10-10T00:00:00\", \"2013-10-11T00:00:00\", \"2013-10-14T00:00:00\", \"2013-10-15T00:00:00\", \"2013-10-16T00:00:00\", \"2013-10-17T00:00:00\", \"2013-10-21T00:00:00\", \"2013-10-22T00:00:00\", \"2013-10-23T00:00:00\", \"2013-10-24T00:00:00\", \"2013-10-25T00:00:00\", \"2013-10-28T00:00:00\", \"2013-10-29T00:00:00\", \"2013-10-30T00:00:00\", \"2013-10-31T00:00:00\", \"2013-11-01T00:00:00\", \"2013-11-04T00:00:00\", \"2013-11-05T00:00:00\", \"2013-11-06T00:00:00\", \"2013-11-07T00:00:00\", \"2013-11-08T00:00:00\", \"2013-11-11T00:00:00\", \"2013-11-12T00:00:00\", \"2013-11-13T00:00:00\", \"2013-11-14T00:00:00\", \"2013-11-15T00:00:00\", \"2013-11-18T00:00:00\", \"2013-11-19T00:00:00\", \"2013-11-20T00:00:00\", \"2013-11-21T00:00:00\", \"2013-11-22T00:00:00\", \"2013-11-23T00:00:00\", \"2013-11-25T00:00:00\", \"2013-11-26T00:00:00\", \"2013-11-27T00:00:00\", \"2013-12-02T00:00:00\", \"2013-12-03T00:00:00\", \"2013-12-04T00:00:00\", \"2013-12-05T00:00:00\", \"2013-12-06T00:00:00\", \"2013-12-09T00:00:00\", \"2013-12-10T00:00:00\", \"2013-12-11T00:00:00\", \"2013-12-12T00:00:00\", \"2013-12-13T00:00:00\", \"2013-12-16T00:00:00\", \"2013-12-17T00:00:00\", \"2013-12-18T00:00:00\", \"2013-12-19T00:00:00\", \"2013-12-20T00:00:00\", \"2013-12-21T00:00:00\", \"2013-12-23T00:00:00\", \"2013-12-24T00:00:00\", \"2013-12-26T00:00:00\", \"2013-12-27T00:00:00\", \"2013-12-28T00:00:00\", \"2013-12-30T00:00:00\", \"2013-12-31T00:00:00\", \"2014-01-02T00:00:00\", \"2014-01-06T00:00:00\", \"2014-01-07T00:00:00\", \"2014-01-08T00:00:00\", \"2014-01-09T00:00:00\", \"2014-01-13T00:00:00\", \"2014-01-14T00:00:00\", \"2014-01-15T00:00:00\", \"2014-01-16T00:00:00\", \"2014-01-17T00:00:00\", \"2014-01-20T00:00:00\", \"2014-01-21T00:00:00\", \"2014-01-22T00:00:00\", \"2014-01-23T00:00:00\", \"2014-01-27T00:00:00\", \"2014-01-28T00:00:00\", \"2014-01-29T00:00:00\", \"2014-01-30T00:00:00\", \"2014-01-31T00:00:00\", \"2014-02-03T00:00:00\", \"2014-02-04T00:00:00\", \"2014-02-05T00:00:00\", \"2014-02-06T00:00:00\", \"2014-02-10T00:00:00\", \"2014-02-11T00:00:00\", \"2014-02-12T00:00:00\", \"2014-02-13T00:00:00\", \"2014-02-17T00:00:00\", \"2014-02-18T00:00:00\", \"2014-02-19T00:00:00\", \"2014-02-20T00:00:00\", \"2014-02-24T00:00:00\", \"2014-02-25T00:00:00\", \"2014-02-26T00:00:00\", \"2014-02-27T00:00:00\", \"2014-03-03T00:00:00\", \"2014-03-04T00:00:00\", \"2014-03-05T00:00:00\", \"2014-03-06T00:00:00\", \"2014-03-10T00:00:00\", \"2014-03-11T00:00:00\", \"2014-03-12T00:00:00\", \"2014-03-13T00:00:00\", \"2014-03-14T00:00:00\", \"2014-03-17T00:00:00\", \"2014-03-18T00:00:00\", \"2014-03-19T00:00:00\", \"2014-03-20T00:00:00\", \"2014-03-24T00:00:00\", \"2014-03-25T00:00:00\", \"2014-03-26T00:00:00\", \"2014-03-27T00:00:00\", \"2014-03-31T00:00:00\", \"2014-04-01T00:00:00\", \"2014-04-02T00:00:00\", \"2014-04-03T00:00:00\", \"2014-04-07T00:00:00\", \"2014-04-08T00:00:00\", \"2014-04-09T00:00:00\", \"2014-04-10T00:00:00\", \"2014-04-11T00:00:00\", \"2014-04-14T00:00:00\", \"2014-04-15T00:00:00\", \"2014-04-16T00:00:00\", \"2014-04-17T00:00:00\", \"2014-04-21T00:00:00\", \"2014-04-22T00:00:00\", \"2014-04-23T00:00:00\", \"2014-04-24T00:00:00\", \"2014-04-28T00:00:00\", \"2014-04-29T00:00:00\", \"2014-04-30T00:00:00\", \"2014-05-01T00:00:00\", \"2014-05-05T00:00:00\", \"2014-05-06T00:00:00\", \"2014-05-07T00:00:00\", \"2014-05-08T00:00:00\", \"2014-05-12T00:00:00\", \"2014-05-13T00:00:00\", \"2014-05-14T00:00:00\", \"2014-05-15T00:00:00\", \"2014-05-19T00:00:00\", \"2014-05-20T00:00:00\", \"2014-05-21T00:00:00\", \"2014-05-22T00:00:00\", \"2014-05-23T00:00:00\", \"2014-05-27T00:00:00\", \"2014-05-28T00:00:00\", \"2014-05-29T00:00:00\", \"2014-06-02T00:00:00\", \"2014-06-03T00:00:00\", \"2014-06-04T00:00:00\", \"2014-06-05T00:00:00\", \"2014-06-09T00:00:00\", \"2014-06-10T00:00:00\", \"2014-06-11T00:00:00\", \"2014-06-12T00:00:00\", \"2014-06-16T00:00:00\", \"2014-06-17T00:00:00\", \"2014-06-18T00:00:00\", \"2014-06-19T00:00:00\", \"2014-06-23T00:00:00\", \"2014-06-24T00:00:00\", \"2014-06-25T00:00:00\", \"2014-06-26T00:00:00\", \"2014-06-27T00:00:00\", \"2014-06-30T00:00:00\", \"2014-07-01T00:00:00\", \"2014-07-02T00:00:00\", \"2014-07-03T00:00:00\", \"2014-07-07T00:00:00\", \"2014-07-08T00:00:00\", \"2014-07-09T00:00:00\", \"2014-07-10T00:00:00\", \"2014-07-14T00:00:00\", \"2014-07-15T00:00:00\", \"2014-07-16T00:00:00\", \"2014-07-17T00:00:00\", \"2014-07-21T00:00:00\", \"2014-07-22T00:00:00\", \"2014-07-23T00:00:00\", \"2014-07-24T00:00:00\", \"2014-07-28T00:00:00\", \"2014-07-29T00:00:00\", \"2014-07-30T00:00:00\", \"2014-07-31T00:00:00\", \"2014-08-04T00:00:00\", \"2014-08-05T00:00:00\", \"2014-08-06T00:00:00\", \"2014-08-07T00:00:00\", \"2014-08-11T00:00:00\", \"2014-08-12T00:00:00\", \"2014-08-13T00:00:00\", \"2014-08-14T00:00:00\", \"2014-08-18T00:00:00\", \"2014-08-19T00:00:00\", \"2014-08-20T00:00:00\", \"2014-08-21T00:00:00\", \"2014-08-25T00:00:00\", \"2014-08-26T00:00:00\", \"2014-08-27T00:00:00\", \"2014-08-28T00:00:00\", \"2014-08-29T00:00:00\", \"2014-09-02T00:00:00\", \"2014-09-03T00:00:00\", \"2014-09-04T00:00:00\", \"2014-09-08T00:00:00\", \"2014-09-09T00:00:00\", \"2014-09-10T00:00:00\", \"2014-09-11T00:00:00\", \"2014-09-15T00:00:00\", \"2014-09-16T00:00:00\", \"2014-09-17T00:00:00\", \"2014-09-18T00:00:00\", \"2014-09-22T00:00:00\", \"2014-09-23T00:00:00\", \"2014-09-24T00:00:00\", \"2014-09-25T00:00:00\", \"2014-09-29T00:00:00\", \"2014-09-30T00:00:00\", \"2014-10-01T00:00:00\", \"2014-10-02T00:00:00\", \"2014-10-06T00:00:00\", \"2014-10-07T00:00:00\", \"2014-10-08T00:00:00\", \"2014-10-09T00:00:00\", \"2014-10-10T00:00:00\", \"2014-10-13T00:00:00\", \"2014-10-14T00:00:00\", \"2014-10-15T00:00:00\", \"2014-10-16T00:00:00\", \"2014-10-20T00:00:00\", \"2014-10-21T00:00:00\", \"2014-10-22T00:00:00\", \"2014-10-23T00:00:00\", \"2014-10-27T00:00:00\", \"2014-10-28T00:00:00\", \"2014-10-29T00:00:00\", \"2014-10-30T00:00:00\", \"2014-11-03T00:00:00\", \"2014-11-04T00:00:00\", \"2014-11-05T00:00:00\", \"2014-11-06T00:00:00\", \"2014-11-07T00:00:00\", \"2014-11-10T00:00:00\", \"2014-11-12T00:00:00\", \"2014-11-13T00:00:00\", \"2014-11-17T00:00:00\", \"2014-11-18T00:00:00\", \"2014-11-19T00:00:00\", \"2014-11-20T00:00:00\", \"2014-11-21T00:00:00\", \"2014-11-22T00:00:00\", \"2014-11-24T00:00:00\", \"2014-11-25T00:00:00\", \"2014-11-26T00:00:00\", \"2014-12-01T00:00:00\", \"2014-12-02T00:00:00\", \"2014-12-03T00:00:00\", \"2014-12-04T00:00:00\", \"2014-12-08T00:00:00\", \"2014-12-09T00:00:00\", \"2014-12-10T00:00:00\", \"2014-12-11T00:00:00\", \"2014-12-12T00:00:00\", \"2014-12-15T00:00:00\", \"2014-12-16T00:00:00\", \"2014-12-17T00:00:00\", \"2014-12-18T00:00:00\", \"2014-12-19T00:00:00\", \"2014-12-20T00:00:00\", \"2014-12-22T00:00:00\", \"2014-12-23T00:00:00\", \"2014-12-24T00:00:00\", \"2014-12-26T00:00:00\", \"2014-12-27T00:00:00\", \"2014-12-29T00:00:00\", \"2014-12-30T00:00:00\", \"2014-12-31T00:00:00\", \"2015-01-05T00:00:00\", \"2015-01-06T00:00:00\", \"2015-01-07T00:00:00\", \"2015-01-08T00:00:00\", \"2015-01-12T00:00:00\", \"2015-01-13T00:00:00\", \"2015-01-14T00:00:00\", \"2015-01-15T00:00:00\", \"2015-01-16T00:00:00\", \"2015-01-20T00:00:00\", \"2015-01-21T00:00:00\", \"2015-01-22T00:00:00\", \"2015-01-23T00:00:00\", \"2015-01-26T00:00:00\", \"2015-01-27T00:00:00\", \"2015-01-28T00:00:00\", \"2015-01-29T00:00:00\", \"2015-02-02T00:00:00\", \"2015-02-03T00:00:00\", \"2015-02-04T00:00:00\", \"2015-02-05T00:00:00\", \"2015-02-09T00:00:00\", \"2015-02-10T00:00:00\", \"2015-02-11T00:00:00\", \"2015-02-12T00:00:00\", \"2015-02-16T00:00:00\", \"2015-02-17T00:00:00\", \"2015-02-18T00:00:00\", \"2015-02-19T00:00:00\", \"2015-02-23T00:00:00\", \"2015-02-24T00:00:00\", \"2015-02-25T00:00:00\", \"2015-02-26T00:00:00\", \"2015-03-02T00:00:00\", \"2015-03-03T00:00:00\", \"2015-03-04T00:00:00\", \"2015-03-05T00:00:00\", \"2015-03-09T00:00:00\", \"2015-03-10T00:00:00\", \"2015-03-11T00:00:00\", \"2015-03-12T00:00:00\", \"2015-03-16T00:00:00\", \"2015-03-17T00:00:00\", \"2015-03-18T00:00:00\", \"2015-03-19T00:00:00\", \"2015-03-23T00:00:00\", \"2015-03-24T00:00:00\", \"2015-03-25T00:00:00\", \"2015-03-26T00:00:00\", \"2015-03-30T00:00:00\", \"2015-03-31T00:00:00\", \"2015-04-01T00:00:00\", \"2015-04-02T00:00:00\", \"2015-04-06T00:00:00\", \"2015-04-07T00:00:00\", \"2015-04-08T00:00:00\", \"2015-04-09T00:00:00\", \"2015-04-13T00:00:00\", \"2015-04-14T00:00:00\", \"2015-04-15T00:00:00\", \"2015-04-16T00:00:00\", \"2015-04-20T00:00:00\", \"2015-04-21T00:00:00\", \"2015-04-22T00:00:00\", \"2015-04-23T00:00:00\", \"2015-04-27T00:00:00\", \"2015-04-28T00:00:00\", \"2015-04-29T00:00:00\", \"2015-04-30T00:00:00\", \"2015-05-04T00:00:00\", \"2015-05-05T00:00:00\", \"2015-05-06T00:00:00\", \"2015-05-07T00:00:00\", \"2015-05-11T00:00:00\", \"2015-05-12T00:00:00\", \"2015-05-13T00:00:00\", \"2015-05-14T00:00:00\", \"2015-05-18T00:00:00\", \"2015-05-19T00:00:00\", \"2015-05-20T00:00:00\", \"2015-05-21T00:00:00\", \"2015-05-22T00:00:00\", \"2015-05-26T00:00:00\", \"2015-05-27T00:00:00\", \"2015-05-28T00:00:00\", \"2015-06-01T00:00:00\", \"2015-06-02T00:00:00\", \"2015-06-03T00:00:00\", \"2015-06-04T00:00:00\", \"2015-06-08T00:00:00\", \"2015-06-09T00:00:00\", \"2015-06-10T00:00:00\", \"2015-06-11T00:00:00\", \"2015-06-12T00:00:00\", \"2015-06-15T00:00:00\", \"2015-06-16T00:00:00\", \"2015-06-17T00:00:00\", \"2015-06-18T00:00:00\", \"2015-06-22T00:00:00\", \"2015-06-23T00:00:00\", \"2015-06-24T00:00:00\", \"2015-06-25T00:00:00\", \"2015-06-26T00:00:00\", \"2015-06-29T00:00:00\", \"2015-06-30T00:00:00\", \"2015-07-01T00:00:00\", \"2015-07-02T00:00:00\", \"2015-07-06T00:00:00\", \"2015-07-07T00:00:00\", \"2015-07-08T00:00:00\", \"2015-07-09T00:00:00\", \"2015-07-13T00:00:00\", \"2015-07-14T00:00:00\", \"2015-07-15T00:00:00\", \"2015-07-16T00:00:00\", \"2015-07-20T00:00:00\", \"2015-07-21T00:00:00\", \"2015-07-22T00:00:00\", \"2015-07-23T00:00:00\", \"2015-07-27T00:00:00\", \"2015-07-28T00:00:00\", \"2015-07-29T00:00:00\", \"2015-07-30T00:00:00\", \"2015-08-03T00:00:00\", \"2015-08-04T00:00:00\", \"2015-08-05T00:00:00\", \"2015-08-06T00:00:00\", \"2015-08-07T00:00:00\", \"2015-08-10T00:00:00\", \"2015-08-11T00:00:00\", \"2015-08-12T00:00:00\", \"2015-08-13T00:00:00\", \"2015-08-17T00:00:00\", \"2015-08-18T00:00:00\", \"2015-08-19T00:00:00\", \"2015-08-20T00:00:00\", \"2015-08-24T00:00:00\", \"2015-08-25T00:00:00\", \"2015-08-26T00:00:00\", \"2015-08-27T00:00:00\", \"2015-08-31T00:00:00\", \"2015-09-01T00:00:00\", \"2015-09-02T00:00:00\", \"2015-09-03T00:00:00\", \"2015-09-04T00:00:00\", \"2015-09-08T00:00:00\", \"2015-09-09T00:00:00\", \"2015-09-10T00:00:00\", \"2015-09-14T00:00:00\", \"2015-09-15T00:00:00\", \"2015-09-16T00:00:00\", \"2015-09-17T00:00:00\", \"2015-09-18T00:00:00\", \"2015-09-21T00:00:00\", \"2015-09-22T00:00:00\", \"2015-09-23T00:00:00\", \"2015-09-24T00:00:00\", \"2015-09-25T00:00:00\", \"2015-09-28T00:00:00\", \"2015-09-29T00:00:00\", \"2015-09-30T00:00:00\", \"2015-10-01T00:00:00\", \"2015-10-02T00:00:00\", \"2015-10-05T00:00:00\", \"2015-10-06T00:00:00\", \"2015-10-07T00:00:00\", \"2015-10-08T00:00:00\", \"2015-10-12T00:00:00\", \"2015-10-13T00:00:00\", \"2015-10-14T00:00:00\", \"2015-10-15T00:00:00\", \"2015-10-19T00:00:00\", \"2015-10-20T00:00:00\", \"2015-10-21T00:00:00\", \"2015-10-22T00:00:00\", \"2015-10-26T00:00:00\", \"2015-10-27T00:00:00\", \"2015-10-28T00:00:00\", \"2015-10-29T00:00:00\", \"2015-11-02T00:00:00\", \"2015-11-03T00:00:00\", \"2015-11-04T00:00:00\", \"2015-11-05T00:00:00\", \"2015-11-09T00:00:00\", \"2015-11-10T00:00:00\", \"2015-11-11T00:00:00\", \"2015-11-12T00:00:00\", \"2015-11-16T00:00:00\", \"2015-11-17T00:00:00\", \"2015-11-18T00:00:00\", \"2015-11-19T00:00:00\", \"2015-11-20T00:00:00\", \"2015-11-21T00:00:00\", \"2015-11-23T00:00:00\", \"2015-11-24T00:00:00\", \"2015-11-25T00:00:00\", \"2015-11-30T00:00:00\", \"2015-12-01T00:00:00\", \"2015-12-02T00:00:00\", \"2015-12-03T00:00:00\", \"2015-12-04T00:00:00\", \"2015-12-07T00:00:00\", \"2015-12-08T00:00:00\", \"2015-12-09T00:00:00\", \"2015-12-10T00:00:00\", \"2015-12-14T00:00:00\", \"2015-12-15T00:00:00\", \"2015-12-16T00:00:00\", \"2015-12-17T00:00:00\", \"2015-12-18T00:00:00\", \"2015-12-21T00:00:00\", \"2015-12-22T00:00:00\", \"2015-12-23T00:00:00\", \"2015-12-24T00:00:00\", \"2015-12-26T00:00:00\", \"2015-12-28T00:00:00\", \"2015-12-29T00:00:00\", \"2015-12-30T00:00:00\", \"2015-12-31T00:00:00\", \"2016-01-04T00:00:00\", \"2016-01-05T00:00:00\", \"2016-01-06T00:00:00\", \"2016-01-07T00:00:00\", \"2016-01-11T00:00:00\", \"2016-01-12T00:00:00\", \"2016-01-13T00:00:00\", \"2016-01-14T00:00:00\", \"2016-01-15T00:00:00\", \"2016-01-19T00:00:00\", \"2016-01-20T00:00:00\", \"2016-01-21T00:00:00\", \"2016-01-25T00:00:00\", \"2016-01-26T00:00:00\", \"2016-01-27T00:00:00\", \"2016-01-28T00:00:00\", \"2016-02-01T00:00:00\", \"2016-02-02T00:00:00\", \"2016-02-03T00:00:00\", \"2016-02-04T00:00:00\", \"2016-02-08T00:00:00\", \"2016-02-09T00:00:00\", \"2016-02-10T00:00:00\", \"2016-02-11T00:00:00\", \"2016-02-15T00:00:00\", \"2016-02-16T00:00:00\", \"2016-02-17T00:00:00\", \"2016-02-18T00:00:00\", \"2016-02-22T00:00:00\", \"2016-02-23T00:00:00\", \"2016-02-24T00:00:00\", \"2016-02-25T00:00:00\", \"2016-02-29T00:00:00\", \"2016-03-01T00:00:00\", \"2016-03-02T00:00:00\", \"2016-03-03T00:00:00\", \"2016-03-04T00:00:00\", \"2016-03-07T00:00:00\", \"2016-03-08T00:00:00\", \"2016-03-09T00:00:00\", \"2016-03-10T00:00:00\", \"2016-03-14T00:00:00\", \"2016-03-15T00:00:00\", \"2016-03-16T00:00:00\", \"2016-03-17T00:00:00\", \"2016-03-21T00:00:00\", \"2016-03-22T00:00:00\", \"2016-03-23T00:00:00\", \"2016-03-24T00:00:00\", \"2016-03-25T00:00:00\", \"2016-03-28T00:00:00\", \"2016-03-29T00:00:00\", \"2016-03-30T00:00:00\", \"2016-03-31T00:00:00\", \"2016-04-04T00:00:00\", \"2016-04-05T00:00:00\", \"2016-04-06T00:00:00\", \"2016-04-07T00:00:00\", \"2016-04-11T00:00:00\", \"2016-04-12T00:00:00\", \"2016-04-13T00:00:00\", \"2016-04-14T00:00:00\", \"2016-04-18T00:00:00\", \"2016-04-19T00:00:00\", \"2016-04-20T00:00:00\", \"2016-04-21T00:00:00\", \"2016-04-25T00:00:00\", \"2016-04-26T00:00:00\", \"2016-04-27T00:00:00\", \"2016-04-28T00:00:00\", \"2016-05-02T00:00:00\", \"2016-05-03T00:00:00\", \"2016-05-04T00:00:00\", \"2016-05-05T00:00:00\", \"2016-05-06T00:00:00\", \"2016-05-09T00:00:00\", \"2016-05-10T00:00:00\", \"2016-05-11T00:00:00\", \"2016-05-12T00:00:00\", \"2016-05-16T00:00:00\", \"2016-05-17T00:00:00\", \"2016-05-18T00:00:00\", \"2016-05-19T00:00:00\", \"2016-05-23T00:00:00\", \"2016-05-24T00:00:00\", \"2016-05-25T00:00:00\", \"2016-05-26T00:00:00\", \"2016-05-27T00:00:00\", \"2016-05-31T00:00:00\", \"2016-06-01T00:00:00\", \"2016-06-02T00:00:00\", \"2016-06-03T00:00:00\", \"2016-06-06T00:00:00\", \"2016-06-07T00:00:00\", \"2016-06-08T00:00:00\", \"2016-06-09T00:00:00\", \"2016-06-13T00:00:00\", \"2016-06-14T00:00:00\", \"2016-06-15T00:00:00\", \"2016-06-16T00:00:00\", \"2016-06-20T00:00:00\", \"2016-06-21T00:00:00\", \"2016-06-22T00:00:00\", \"2016-06-23T00:00:00\", \"2016-06-24T00:00:00\", \"2016-06-27T00:00:00\", \"2016-06-28T00:00:00\", \"2016-06-29T00:00:00\", \"2016-06-30T00:00:00\", \"2016-07-01T00:00:00\", \"2016-07-05T00:00:00\", \"2016-07-06T00:00:00\", \"2016-07-07T00:00:00\", \"2016-07-08T00:00:00\", \"2016-07-11T00:00:00\", \"2016-07-12T00:00:00\", \"2016-07-13T00:00:00\", \"2016-07-14T00:00:00\", \"2016-07-15T00:00:00\", \"2016-07-18T00:00:00\", \"2016-07-19T00:00:00\", \"2016-07-20T00:00:00\", \"2016-07-21T00:00:00\", \"2016-07-22T00:00:00\", \"2016-07-25T00:00:00\", \"2016-07-26T00:00:00\", \"2016-07-27T00:00:00\", \"2016-07-28T00:00:00\", \"2016-07-29T00:00:00\", \"2016-08-01T00:00:00\", \"2016-08-02T00:00:00\", \"2016-08-03T00:00:00\", \"2016-08-04T00:00:00\", \"2016-08-05T00:00:00\", \"2016-08-08T00:00:00\", \"2016-08-09T00:00:00\", \"2016-08-10T00:00:00\", \"2016-08-11T00:00:00\", \"2016-08-12T00:00:00\", \"2016-08-15T00:00:00\", \"2016-08-16T00:00:00\", \"2016-08-17T00:00:00\", \"2016-08-18T00:00:00\", \"2016-08-19T00:00:00\", \"2016-08-22T00:00:00\", \"2016-08-23T00:00:00\", \"2016-08-24T00:00:00\", \"2016-08-25T00:00:00\", \"2016-08-26T00:00:00\", \"2016-08-29T00:00:00\", \"2016-08-30T00:00:00\", \"2016-08-31T00:00:00\", \"2016-09-01T00:00:00\", \"2016-09-02T00:00:00\", \"2016-09-03T00:00:00\", \"2016-09-06T00:00:00\", \"2016-09-07T00:00:00\", \"2016-09-08T00:00:00\", \"2016-09-09T00:00:00\", \"2016-09-12T00:00:00\", \"2016-09-13T00:00:00\", \"2016-09-14T00:00:00\", \"2016-09-15T00:00:00\", \"2016-09-16T00:00:00\", \"2016-09-19T00:00:00\", \"2016-09-20T00:00:00\", \"2016-09-21T00:00:00\", \"2016-09-22T00:00:00\", \"2016-09-23T00:00:00\", \"2016-09-26T00:00:00\", \"2016-09-27T00:00:00\", \"2016-09-28T00:00:00\", \"2016-09-29T00:00:00\", \"2016-09-30T00:00:00\", \"2016-10-03T00:00:00\", \"2016-10-04T00:00:00\", \"2016-10-05T00:00:00\", \"2016-10-06T00:00:00\", \"2016-10-07T00:00:00\", \"2016-10-10T00:00:00\", \"2016-10-11T00:00:00\", \"2016-10-12T00:00:00\", \"2016-10-13T00:00:00\", \"2016-10-14T00:00:00\", \"2016-10-17T00:00:00\", \"2016-10-18T00:00:00\", \"2016-10-19T00:00:00\", \"2016-10-20T00:00:00\", \"2016-10-21T00:00:00\", \"2016-10-24T00:00:00\", \"2016-10-25T00:00:00\", \"2016-10-26T00:00:00\", \"2016-10-27T00:00:00\", \"2016-10-28T00:00:00\", \"2016-10-31T00:00:00\", \"2016-11-01T00:00:00\", \"2016-11-02T00:00:00\", \"2016-11-03T00:00:00\", \"2016-11-04T00:00:00\", \"2016-11-07T00:00:00\", \"2016-11-08T00:00:00\", \"2016-11-09T00:00:00\", \"2016-11-10T00:00:00\", \"2016-11-11T00:00:00\", \"2016-11-14T00:00:00\", \"2016-11-15T00:00:00\", \"2016-11-16T00:00:00\", \"2016-11-17T00:00:00\", \"2016-11-18T00:00:00\", \"2016-11-21T00:00:00\", \"2016-11-22T00:00:00\", \"2016-11-23T00:00:00\", \"2016-11-28T00:00:00\", \"2016-11-29T00:00:00\", \"2016-11-30T00:00:00\", \"2016-12-01T00:00:00\", \"2016-12-02T00:00:00\", \"2016-12-05T00:00:00\", \"2016-12-06T00:00:00\", \"2016-12-07T00:00:00\", \"2016-12-08T00:00:00\", \"2016-12-09T00:00:00\", \"2016-12-12T00:00:00\", \"2016-12-13T00:00:00\", \"2016-12-14T00:00:00\", \"2016-12-15T00:00:00\", \"2016-12-16T00:00:00\", \"2016-12-19T00:00:00\", \"2016-12-20T00:00:00\", \"2016-12-21T00:00:00\", \"2016-12-22T00:00:00\", \"2016-12-23T00:00:00\", \"2016-12-26T00:00:00\", \"2016-12-27T00:00:00\", \"2016-12-28T00:00:00\", \"2016-12-29T00:00:00\", \"2016-12-30T00:00:00\", \"2017-01-03T00:00:00\", \"2017-01-04T00:00:00\", \"2017-01-05T00:00:00\", \"2017-01-06T00:00:00\", \"2017-01-09T00:00:00\", \"2017-01-10T00:00:00\", \"2017-01-11T00:00:00\", \"2017-01-12T00:00:00\", \"2017-01-13T00:00:00\", \"2017-01-16T00:00:00\", \"2017-01-17T00:00:00\", \"2017-01-18T00:00:00\", \"2017-01-19T00:00:00\", \"2017-01-20T00:00:00\", \"2017-01-23T00:00:00\", \"2017-01-24T00:00:00\", \"2017-01-25T00:00:00\", \"2017-01-26T00:00:00\", \"2017-01-27T00:00:00\", \"2017-01-30T00:00:00\", \"2017-01-31T00:00:00\", \"2017-02-01T00:00:00\", \"2017-02-02T00:00:00\", \"2017-02-03T00:00:00\", \"2017-02-06T00:00:00\", \"2017-02-07T00:00:00\", \"2017-02-08T00:00:00\", \"2017-02-09T00:00:00\", \"2017-02-10T00:00:00\", \"2017-02-13T00:00:00\", \"2017-02-14T00:00:00\", \"2017-02-15T00:00:00\", \"2017-02-16T00:00:00\", \"2017-02-17T00:00:00\", \"2017-02-20T00:00:00\", \"2017-02-21T00:00:00\", \"2017-02-22T00:00:00\", \"2017-02-23T00:00:00\", \"2017-02-24T00:00:00\", \"2017-02-27T00:00:00\", \"2017-02-28T00:00:00\", \"2017-03-01T00:00:00\", \"2017-03-02T00:00:00\", \"2017-03-03T00:00:00\", \"2017-03-06T00:00:00\", \"2017-03-07T00:00:00\", \"2017-03-08T00:00:00\", \"2017-03-09T00:00:00\", \"2017-03-10T00:00:00\", \"2017-03-13T00:00:00\", \"2017-03-14T00:00:00\", \"2017-03-15T00:00:00\", \"2017-03-16T00:00:00\", \"2017-03-17T00:00:00\", \"2017-03-20T00:00:00\", \"2017-03-21T00:00:00\", \"2017-03-22T00:00:00\", \"2017-03-23T00:00:00\", \"2017-03-24T00:00:00\", \"2017-03-27T00:00:00\", \"2017-03-28T00:00:00\", \"2017-03-29T00:00:00\", \"2017-03-30T00:00:00\", \"2017-03-31T00:00:00\", \"2017-04-03T00:00:00\", \"2017-04-04T00:00:00\", \"2017-04-05T00:00:00\", \"2017-04-06T00:00:00\", \"2017-04-07T00:00:00\", \"2017-04-10T00:00:00\", \"2017-04-11T00:00:00\", \"2017-04-12T00:00:00\", \"2017-04-13T00:00:00\", \"2017-04-14T00:00:00\", \"2017-04-17T00:00:00\", \"2017-04-18T00:00:00\", \"2017-04-19T00:00:00\", \"2017-04-20T00:00:00\", \"2017-04-21T00:00:00\", \"2017-04-24T00:00:00\", \"2017-04-25T00:00:00\", \"2017-04-26T00:00:00\", \"2017-04-27T00:00:00\", \"2017-04-28T00:00:00\", \"2017-05-01T00:00:00\", \"2017-05-02T00:00:00\", \"2017-05-03T00:00:00\", \"2017-05-04T00:00:00\", \"2017-05-05T00:00:00\", \"2017-05-08T00:00:00\", \"2017-05-09T00:00:00\", \"2017-05-10T00:00:00\", \"2017-05-11T00:00:00\", \"2017-05-12T00:00:00\", \"2017-05-15T00:00:00\", \"2017-05-16T00:00:00\", \"2017-05-17T00:00:00\", \"2017-05-18T00:00:00\", \"2017-05-19T00:00:00\", \"2017-05-22T00:00:00\", \"2017-05-23T00:00:00\", \"2017-05-24T00:00:00\", \"2017-05-25T00:00:00\", \"2017-05-26T00:00:00\", \"2017-05-30T00:00:00\", \"2017-05-31T00:00:00\", \"2017-06-01T00:00:00\", \"2017-06-02T00:00:00\", \"2017-06-05T00:00:00\", \"2017-06-06T00:00:00\", \"2017-06-07T00:00:00\", \"2017-06-08T00:00:00\", \"2017-06-09T00:00:00\", \"2017-06-12T00:00:00\", \"2017-06-13T00:00:00\", \"2017-06-14T00:00:00\", \"2017-06-15T00:00:00\", \"2017-06-16T00:00:00\", \"2017-06-19T00:00:00\", \"2017-06-20T00:00:00\", \"2017-06-21T00:00:00\", \"2017-06-22T00:00:00\", \"2017-06-23T00:00:00\", \"2017-06-26T00:00:00\", \"2017-06-27T00:00:00\", \"2017-06-28T00:00:00\", \"2017-06-29T00:00:00\", \"2017-06-30T00:00:00\", \"2017-07-03T00:00:00\", \"2017-07-04T00:00:00\", \"2017-07-05T00:00:00\", \"2017-07-06T00:00:00\", \"2017-07-07T00:00:00\", \"2017-07-10T00:00:00\", \"2017-07-11T00:00:00\", \"2017-07-12T00:00:00\", \"2017-07-13T00:00:00\", \"2017-07-14T00:00:00\", \"2017-07-17T00:00:00\", \"2017-07-18T00:00:00\", \"2017-07-19T00:00:00\", \"2017-07-20T00:00:00\", \"2017-07-21T00:00:00\", \"2017-07-24T00:00:00\", \"2017-07-25T00:00:00\", \"2017-07-26T00:00:00\", \"2017-07-27T00:00:00\", \"2017-07-28T00:00:00\", \"2017-07-31T00:00:00\", \"2017-08-01T00:00:00\", \"2017-08-02T00:00:00\", \"2017-08-03T00:00:00\", \"2017-08-04T00:00:00\", \"2017-08-07T00:00:00\", \"2017-08-08T00:00:00\", \"2017-08-09T00:00:00\", \"2017-08-10T00:00:00\", \"2017-08-11T00:00:00\", \"2017-08-14T00:00:00\", \"2017-08-15T00:00:00\", \"2017-08-16T00:00:00\", \"2017-08-17T00:00:00\", \"2017-08-18T00:00:00\", \"2017-08-21T00:00:00\", \"2017-08-22T00:00:00\", \"2017-08-23T00:00:00\", \"2017-08-24T00:00:00\", \"2017-08-25T00:00:00\", \"2017-08-28T00:00:00\", \"2017-08-29T00:00:00\", \"2017-08-30T00:00:00\", \"2017-08-31T00:00:00\", \"2017-09-01T00:00:00\", \"2017-09-05T00:00:00\", \"2017-09-06T00:00:00\", \"2017-09-07T00:00:00\", \"2017-09-08T00:00:00\", \"2017-09-11T00:00:00\", \"2017-09-12T00:00:00\", \"2017-09-13T00:00:00\", \"2017-09-14T00:00:00\", \"2017-09-15T00:00:00\", \"2017-09-18T00:00:00\", \"2017-09-19T00:00:00\", \"2017-09-20T00:00:00\", \"2017-09-21T00:00:00\", \"2017-09-22T00:00:00\", \"2017-09-25T00:00:00\", \"2017-09-26T00:00:00\", \"2017-09-27T00:00:00\", \"2017-09-28T00:00:00\", \"2017-09-29T00:00:00\", \"2017-10-02T00:00:00\", \"2017-10-03T00:00:00\", \"2017-10-04T00:00:00\", \"2017-10-05T00:00:00\", \"2017-10-06T00:00:00\", \"2017-10-09T00:00:00\", \"2017-10-10T00:00:00\", \"2017-10-11T00:00:00\", \"2017-10-12T00:00:00\", \"2017-10-13T00:00:00\", \"2017-10-16T00:00:00\", \"2017-10-17T00:00:00\", \"2017-10-18T00:00:00\", \"2017-10-19T00:00:00\", \"2017-10-20T00:00:00\", \"2017-10-23T00:00:00\", \"2017-10-24T00:00:00\", \"2017-10-25T00:00:00\", \"2017-10-26T00:00:00\", \"2017-10-27T00:00:00\", \"2017-10-30T00:00:00\", \"2017-10-31T00:00:00\", \"2017-11-01T00:00:00\", \"2017-11-02T00:00:00\", \"2017-11-03T00:00:00\", \"2017-11-06T00:00:00\", \"2017-11-07T00:00:00\", \"2017-11-08T00:00:00\", \"2017-11-09T00:00:00\", \"2017-11-10T00:00:00\", \"2017-11-13T00:00:00\", \"2017-11-14T00:00:00\", \"2017-11-15T00:00:00\", \"2017-11-16T00:00:00\", \"2017-11-17T00:00:00\", \"2017-11-20T00:00:00\", \"2017-11-21T00:00:00\", \"2017-11-22T00:00:00\", \"2017-11-27T00:00:00\", \"2017-11-28T00:00:00\", \"2017-11-29T00:00:00\", \"2017-11-30T00:00:00\", \"2017-12-01T00:00:00\", \"2017-12-04T00:00:00\", \"2017-12-05T00:00:00\", \"2017-12-06T00:00:00\", \"2017-12-07T00:00:00\", \"2017-12-08T00:00:00\", \"2017-12-11T00:00:00\", \"2017-12-12T00:00:00\", \"2017-12-13T00:00:00\", \"2017-12-14T00:00:00\", \"2017-12-15T00:00:00\", \"2017-12-18T00:00:00\", \"2017-12-19T00:00:00\", \"2017-12-20T00:00:00\", \"2017-12-21T00:00:00\", \"2017-12-22T00:00:00\", \"2017-12-26T00:00:00\", \"2017-12-27T00:00:00\", \"2017-12-28T00:00:00\", \"2017-12-29T00:00:00\", \"2018-01-02T00:00:00\", \"2018-01-03T00:00:00\", \"2018-01-04T00:00:00\", \"2018-01-05T00:00:00\", \"2018-01-08T00:00:00\", \"2018-01-09T00:00:00\", \"2018-01-10T00:00:00\", \"2018-01-11T00:00:00\", \"2018-01-12T00:00:00\", \"2018-01-15T00:00:00\", \"2018-01-16T00:00:00\", \"2018-01-17T00:00:00\", \"2018-01-18T00:00:00\", \"2018-01-19T00:00:00\", \"2018-01-22T00:00:00\", \"2018-01-23T00:00:00\", \"2018-01-24T00:00:00\", \"2018-01-25T00:00:00\", \"2018-01-26T00:00:00\", \"2018-01-29T00:00:00\", \"2018-01-30T00:00:00\", \"2018-01-31T00:00:00\", \"2018-02-01T00:00:00\", \"2018-02-02T00:00:00\", \"2018-02-05T00:00:00\", \"2018-02-06T00:00:00\", \"2018-02-07T00:00:00\", \"2018-02-08T00:00:00\", \"2018-02-09T00:00:00\", \"2018-02-12T00:00:00\", \"2018-02-13T00:00:00\", \"2018-02-14T00:00:00\", \"2018-02-15T00:00:00\", \"2018-02-16T00:00:00\", \"2018-02-19T00:00:00\", \"2018-02-20T00:00:00\", \"2018-02-21T00:00:00\", \"2018-02-22T00:00:00\", \"2018-02-23T00:00:00\", \"2018-02-26T00:00:00\", \"2018-02-27T00:00:00\", \"2018-02-28T00:00:00\", \"2018-03-01T00:00:00\", \"2018-03-02T00:00:00\", \"2018-03-05T00:00:00\", \"2018-03-06T00:00:00\", \"2018-03-07T00:00:00\", \"2018-03-08T00:00:00\", \"2018-03-09T00:00:00\", \"2018-03-12T00:00:00\", \"2018-03-13T00:00:00\", \"2018-03-14T00:00:00\", \"2018-03-15T00:00:00\", \"2018-03-16T00:00:00\", \"2018-03-19T00:00:00\", \"2018-03-20T00:00:00\", \"2018-03-21T00:00:00\", \"2018-03-22T00:00:00\", \"2018-03-23T00:00:00\", \"2018-03-26T00:00:00\", \"2018-03-27T00:00:00\", \"2018-03-28T00:00:00\", \"2018-03-29T00:00:00\", \"2018-03-30T00:00:00\", \"2018-04-02T00:00:00\", \"2018-04-03T00:00:00\", \"2018-04-04T00:00:00\", \"2018-04-05T00:00:00\", \"2018-04-06T00:00:00\", \"2018-04-09T00:00:00\", \"2018-04-10T00:00:00\", \"2018-04-11T00:00:00\", \"2018-04-12T00:00:00\", \"2018-04-13T00:00:00\", \"2018-04-16T00:00:00\", \"2018-04-17T00:00:00\", \"2018-04-18T00:00:00\", \"2018-04-19T00:00:00\", \"2018-04-20T00:00:00\", \"2018-04-23T00:00:00\", \"2018-04-24T00:00:00\", \"2018-04-25T00:00:00\", \"2018-04-26T00:00:00\", \"2018-04-27T00:00:00\", \"2018-04-30T00:00:00\", \"2018-05-01T00:00:00\", \"2018-05-02T00:00:00\", \"2018-05-03T00:00:00\", \"2018-05-04T00:00:00\", \"2018-05-07T00:00:00\", \"2018-05-08T00:00:00\", \"2018-05-09T00:00:00\", \"2018-05-10T00:00:00\", \"2018-05-11T00:00:00\", \"2018-05-14T00:00:00\", \"2018-05-15T00:00:00\", \"2018-05-16T00:00:00\", \"2018-05-17T00:00:00\", \"2018-05-18T00:00:00\", \"2018-05-21T00:00:00\", \"2018-05-22T00:00:00\", \"2018-05-23T00:00:00\", \"2018-05-24T00:00:00\", \"2018-05-25T00:00:00\", \"2018-05-29T00:00:00\", \"2018-05-30T00:00:00\", \"2018-05-31T00:00:00\", \"2018-06-01T00:00:00\", \"2018-06-04T00:00:00\", \"2018-06-05T00:00:00\", \"2018-06-06T00:00:00\", \"2018-06-07T00:00:00\", \"2018-06-08T00:00:00\", \"2018-06-11T00:00:00\", \"2018-06-12T00:00:00\", \"2018-06-13T00:00:00\", \"2018-06-14T00:00:00\", \"2018-06-15T00:00:00\", \"2018-06-18T00:00:00\", \"2018-06-19T00:00:00\", \"2018-06-20T00:00:00\", \"2018-06-21T00:00:00\", \"2018-06-22T00:00:00\", \"2018-06-25T00:00:00\", \"2018-06-26T00:00:00\", \"2018-06-27T00:00:00\", \"2018-06-28T00:00:00\", \"2018-06-29T00:00:00\", \"2018-07-02T00:00:00\", \"2018-07-03T00:00:00\", \"2018-07-05T00:00:00\", \"2018-07-06T00:00:00\", \"2018-07-09T00:00:00\", \"2018-07-10T00:00:00\", \"2018-07-11T00:00:00\", \"2018-07-12T00:00:00\", \"2018-07-13T00:00:00\", \"2018-07-16T00:00:00\", \"2018-07-17T00:00:00\", \"2018-07-18T00:00:00\", \"2018-07-19T00:00:00\", \"2018-07-20T00:00:00\", \"2018-07-23T00:00:00\", \"2018-07-24T00:00:00\", \"2018-07-25T00:00:00\", \"2018-07-26T00:00:00\", \"2018-07-27T00:00:00\", \"2018-07-30T00:00:00\", \"2018-07-31T00:00:00\", \"2018-08-01T00:00:00\", \"2018-08-02T00:00:00\", \"2018-08-03T00:00:00\", \"2018-08-06T00:00:00\", \"2018-08-07T00:00:00\", \"2018-08-08T00:00:00\", \"2018-08-09T00:00:00\", \"2018-08-10T00:00:00\", \"2018-08-13T00:00:00\", \"2018-08-14T00:00:00\", \"2018-08-15T00:00:00\", \"2018-08-16T00:00:00\", \"2018-08-17T00:00:00\", \"2018-08-20T00:00:00\", \"2018-08-21T00:00:00\", \"2018-08-22T00:00:00\", \"2018-08-23T00:00:00\", \"2018-08-24T00:00:00\", \"2018-08-27T00:00:00\", \"2018-08-28T00:00:00\", \"2018-08-29T00:00:00\", \"2018-08-30T00:00:00\", \"2018-08-31T00:00:00\", \"2018-09-04T00:00:00\", \"2018-09-05T00:00:00\", \"2018-09-06T00:00:00\", \"2018-09-07T00:00:00\", \"2018-09-10T00:00:00\", \"2018-09-11T00:00:00\", \"2018-09-12T00:00:00\", \"2018-09-13T00:00:00\", \"2018-09-14T00:00:00\", \"2018-09-17T00:00:00\", \"2018-09-18T00:00:00\", \"2018-09-19T00:00:00\", \"2018-09-20T00:00:00\", \"2018-09-21T00:00:00\", \"2018-09-24T00:00:00\", \"2018-09-25T00:00:00\", \"2018-09-26T00:00:00\", \"2018-09-27T00:00:00\", \"2018-09-28T00:00:00\", \"2018-10-01T00:00:00\", \"2018-10-02T00:00:00\", \"2018-10-03T00:00:00\", \"2018-10-04T00:00:00\", \"2018-10-05T00:00:00\", \"2018-10-08T00:00:00\", \"2018-10-09T00:00:00\", \"2018-10-10T00:00:00\", \"2018-10-11T00:00:00\", \"2018-10-12T00:00:00\", \"2018-10-15T00:00:00\", \"2018-10-16T00:00:00\", \"2018-10-17T00:00:00\", \"2018-10-18T00:00:00\", \"2018-10-19T00:00:00\", \"2018-10-22T00:00:00\", \"2018-10-23T00:00:00\", \"2018-10-24T00:00:00\", \"2018-10-25T00:00:00\", \"2018-10-26T00:00:00\", \"2018-10-29T00:00:00\", \"2018-10-30T00:00:00\", \"2018-10-31T00:00:00\", \"2018-11-01T00:00:00\", \"2018-11-02T00:00:00\", \"2018-11-05T00:00:00\", \"2018-11-06T00:00:00\", \"2018-11-07T00:00:00\", \"2018-11-08T00:00:00\", \"2018-11-09T00:00:00\", \"2018-11-12T00:00:00\", \"2018-11-13T00:00:00\", \"2018-11-14T00:00:00\", \"2018-11-15T00:00:00\", \"2018-11-16T00:00:00\", \"2018-11-19T00:00:00\", \"2018-11-20T00:00:00\", \"2018-11-21T00:00:00\", \"2018-11-26T00:00:00\", \"2018-11-27T00:00:00\", \"2018-11-28T00:00:00\", \"2018-11-29T00:00:00\", \"2018-11-30T00:00:00\", \"2018-12-03T00:00:00\", \"2018-12-04T00:00:00\", \"2018-12-05T00:00:00\", \"2018-12-06T00:00:00\", \"2018-12-07T00:00:00\", \"2018-12-10T00:00:00\", \"2018-12-11T00:00:00\", \"2018-12-12T00:00:00\", \"2018-12-13T00:00:00\", \"2018-12-14T00:00:00\", \"2018-12-17T00:00:00\", \"2018-12-18T00:00:00\", \"2018-12-19T00:00:00\", \"2018-12-20T00:00:00\", \"2018-12-21T00:00:00\", \"2018-12-24T00:00:00\", \"2018-12-26T00:00:00\", \"2018-12-27T00:00:00\", \"2018-12-28T00:00:00\", \"2018-12-29T00:00:00\", \"2018-12-31T00:00:00\", \"2019-01-02T00:00:00\", \"2019-01-03T00:00:00\", \"2019-01-04T00:00:00\", \"2019-01-07T00:00:00\", \"2019-01-08T00:00:00\", \"2019-01-09T00:00:00\", \"2019-01-10T00:00:00\", \"2019-01-11T00:00:00\", \"2019-01-14T00:00:00\", \"2019-01-15T00:00:00\", \"2019-01-16T00:00:00\", \"2019-01-17T00:00:00\", \"2019-01-18T00:00:00\", \"2019-01-22T00:00:00\", \"2019-01-23T00:00:00\", \"2019-01-24T00:00:00\", \"2019-01-25T00:00:00\", \"2019-01-28T00:00:00\", \"2019-01-29T00:00:00\", \"2019-01-30T00:00:00\", \"2019-01-31T00:00:00\", \"2019-02-01T00:00:00\", \"2019-02-04T00:00:00\", \"2019-02-05T00:00:00\", \"2019-02-06T00:00:00\", \"2019-02-07T00:00:00\", \"2019-02-08T00:00:00\", \"2019-02-11T00:00:00\", \"2019-02-12T00:00:00\", \"2019-02-13T00:00:00\", \"2019-02-14T00:00:00\", \"2019-02-15T00:00:00\", \"2019-02-18T00:00:00\", \"2019-02-19T00:00:00\", \"2019-02-20T00:00:00\", \"2019-02-21T00:00:00\", \"2019-02-22T00:00:00\", \"2019-02-25T00:00:00\", \"2019-02-26T00:00:00\", \"2019-02-27T00:00:00\", \"2019-02-28T00:00:00\", \"2019-03-01T00:00:00\", \"2019-03-04T00:00:00\", \"2019-03-05T00:00:00\", \"2019-03-06T00:00:00\", \"2019-03-07T00:00:00\", \"2019-03-08T00:00:00\", \"2019-03-11T00:00:00\", \"2019-03-12T00:00:00\", \"2019-03-13T00:00:00\", \"2019-03-14T00:00:00\", \"2019-03-15T00:00:00\", \"2019-03-18T00:00:00\", \"2019-03-19T00:00:00\", \"2019-03-20T00:00:00\", \"2019-03-21T00:00:00\", \"2019-03-22T00:00:00\", \"2019-03-25T00:00:00\", \"2019-03-26T00:00:00\", \"2019-03-27T00:00:00\", \"2019-03-28T00:00:00\", \"2019-03-29T00:00:00\", \"2019-04-01T00:00:00\", \"2019-04-02T00:00:00\", \"2019-04-03T00:00:00\", \"2019-04-04T00:00:00\", \"2019-04-05T00:00:00\", \"2019-04-08T00:00:00\", \"2019-04-09T00:00:00\", \"2019-04-10T00:00:00\", \"2019-04-11T00:00:00\", \"2019-04-13T00:00:00\", \"2019-04-15T00:00:00\", \"2019-04-16T00:00:00\", \"2019-04-17T00:00:00\", \"2019-04-18T00:00:00\", \"2019-04-19T00:00:00\", \"2019-04-22T00:00:00\", \"2019-04-23T00:00:00\", \"2019-04-24T00:00:00\", \"2019-04-25T00:00:00\", \"2019-04-26T00:00:00\", \"2019-04-29T00:00:00\", \"2019-04-30T00:00:00\", \"2019-05-01T00:00:00\", \"2019-05-02T00:00:00\", \"2019-05-03T00:00:00\", \"2019-05-06T00:00:00\", \"2019-05-07T00:00:00\", \"2019-05-08T00:00:00\", \"2019-05-09T00:00:00\", \"2019-05-10T00:00:00\", \"2019-05-13T00:00:00\", \"2019-05-14T00:00:00\", \"2019-05-15T00:00:00\", \"2019-05-16T00:00:00\", \"2019-05-17T00:00:00\", \"2019-05-19T00:00:00\", \"2019-05-20T00:00:00\", \"2019-05-21T00:00:00\", \"2019-05-22T00:00:00\", \"2019-05-23T00:00:00\", \"2019-05-24T00:00:00\", \"2019-05-28T00:00:00\", \"2019-05-29T00:00:00\", \"2019-05-30T00:00:00\", \"2019-05-31T00:00:00\", \"2019-06-03T00:00:00\", \"2019-06-04T00:00:00\", \"2019-06-05T00:00:00\", \"2019-06-06T00:00:00\", \"2019-06-07T00:00:00\", \"2019-06-10T00:00:00\", \"2019-06-11T00:00:00\", \"2019-06-12T00:00:00\", \"2019-06-13T00:00:00\", \"2019-06-14T00:00:00\", \"2019-06-15T00:00:00\", \"2019-06-17T00:00:00\", \"2019-06-18T00:00:00\", \"2019-06-19T00:00:00\", \"2019-06-20T00:00:00\", \"2019-06-21T00:00:00\", \"2019-06-24T00:00:00\", \"2019-06-25T00:00:00\", \"2019-06-26T00:00:00\", \"2019-06-27T00:00:00\", \"2019-06-28T00:00:00\", \"2019-07-01T00:00:00\", \"2019-07-02T00:00:00\", \"2019-07-03T00:00:00\", \"2019-07-04T00:00:00\", \"2019-07-05T00:00:00\", \"2019-07-08T00:00:00\", \"2019-07-09T00:00:00\", \"2019-07-10T00:00:00\", \"2019-07-11T00:00:00\", \"2019-07-12T00:00:00\", \"2019-07-15T00:00:00\", \"2019-07-16T00:00:00\", \"2019-07-17T00:00:00\", \"2019-07-18T00:00:00\", \"2019-07-19T00:00:00\", \"2019-07-22T00:00:00\", \"2019-07-23T00:00:00\", \"2019-07-24T00:00:00\", \"2019-07-25T00:00:00\", \"2019-07-26T00:00:00\", \"2019-07-29T00:00:00\", \"2019-07-30T00:00:00\", \"2019-07-31T00:00:00\", \"2019-08-01T00:00:00\", \"2019-08-02T00:00:00\", \"2019-08-05T00:00:00\", \"2019-08-06T00:00:00\", \"2019-08-07T00:00:00\", \"2019-08-08T00:00:00\", \"2019-08-09T00:00:00\", \"2019-08-12T00:00:00\", \"2019-08-13T00:00:00\", \"2019-08-14T00:00:00\", \"2019-08-15T00:00:00\", \"2019-08-16T00:00:00\", \"2019-08-19T00:00:00\", \"2019-08-20T00:00:00\", \"2019-08-21T00:00:00\", \"2019-08-22T00:00:00\", \"2019-08-23T00:00:00\", \"2019-08-26T00:00:00\", \"2019-08-27T00:00:00\", \"2019-08-28T00:00:00\", \"2019-08-29T00:00:00\", \"2019-08-30T00:00:00\", \"2019-09-03T00:00:00\", \"2019-09-04T00:00:00\", \"2019-09-05T00:00:00\", \"2019-09-06T00:00:00\", \"2019-09-09T00:00:00\", \"2019-09-10T00:00:00\", \"2019-09-11T00:00:00\", \"2019-09-12T00:00:00\", \"2019-09-13T00:00:00\", \"2019-09-16T00:00:00\", \"2019-09-17T00:00:00\", \"2019-09-18T00:00:00\", \"2019-09-19T00:00:00\", \"2019-09-20T00:00:00\", \"2019-09-23T00:00:00\", \"2019-09-24T00:00:00\", \"2019-09-25T00:00:00\", \"2019-09-26T00:00:00\", \"2019-09-27T00:00:00\", \"2019-09-29T00:00:00\", \"2019-09-30T00:00:00\", \"2019-10-01T00:00:00\", \"2019-10-02T00:00:00\", \"2019-10-03T00:00:00\", \"2019-10-04T00:00:00\", \"2019-10-07T00:00:00\", \"2019-10-08T00:00:00\", \"2019-10-09T00:00:00\", \"2019-10-10T00:00:00\", \"2019-10-11T00:00:00\", \"2019-10-14T00:00:00\", \"2019-10-15T00:00:00\", \"2019-10-16T00:00:00\", \"2019-10-17T00:00:00\", \"2019-10-18T00:00:00\", \"2019-10-21T00:00:00\", \"2019-10-22T00:00:00\", \"2019-10-23T00:00:00\", \"2019-10-24T00:00:00\", \"2019-10-25T00:00:00\", \"2019-10-28T00:00:00\", \"2019-10-29T00:00:00\", \"2019-10-30T00:00:00\", \"2019-10-31T00:00:00\", \"2019-11-01T00:00:00\", \"2019-11-02T00:00:00\", \"2019-11-04T00:00:00\", \"2019-11-05T00:00:00\", \"2019-11-06T00:00:00\", \"2019-11-07T00:00:00\", \"2019-11-08T00:00:00\", \"2019-11-11T00:00:00\", \"2019-11-12T00:00:00\", \"2019-11-13T00:00:00\", \"2019-11-14T00:00:00\", \"2019-11-15T00:00:00\", \"2019-11-16T00:00:00\", \"2019-11-18T00:00:00\", \"2019-11-19T00:00:00\", \"2019-11-20T00:00:00\", \"2019-11-21T00:00:00\", \"2019-11-22T00:00:00\", \"2019-11-23T00:00:00\", \"2019-11-25T00:00:00\", \"2019-11-26T00:00:00\", \"2019-11-27T00:00:00\", \"2019-11-29T00:00:00\", \"2019-11-30T00:00:00\", \"2019-12-02T00:00:00\", \"2019-12-03T00:00:00\", \"2019-12-04T00:00:00\", \"2019-12-05T00:00:00\", \"2019-12-06T00:00:00\", \"2019-12-09T00:00:00\", \"2019-12-10T00:00:00\", \"2019-12-11T00:00:00\", \"2019-12-12T00:00:00\", \"2019-12-13T00:00:00\", \"2019-12-16T00:00:00\", \"2019-12-17T00:00:00\", \"2019-12-18T00:00:00\", \"2019-12-19T00:00:00\", \"2019-12-20T00:00:00\", \"2019-12-23T00:00:00\", \"2019-12-24T00:00:00\", \"2019-12-26T00:00:00\", \"2019-12-27T00:00:00\", \"2019-12-28T00:00:00\", \"2019-12-30T00:00:00\", \"2019-12-31T00:00:00\", \"2020-01-02T00:00:00\", \"2020-01-03T00:00:00\", \"2020-01-06T00:00:00\", \"2020-01-07T00:00:00\", \"2020-01-08T00:00:00\", \"2020-01-09T00:00:00\", \"2020-01-10T00:00:00\", \"2020-01-13T00:00:00\", \"2020-01-14T00:00:00\", \"2020-01-15T00:00:00\", \"2020-01-16T00:00:00\", \"2020-01-17T00:00:00\", \"2020-01-20T00:00:00\", \"2020-01-21T00:00:00\", \"2020-01-22T00:00:00\", \"2020-01-23T00:00:00\", \"2020-01-24T00:00:00\", \"2020-01-27T00:00:00\", \"2020-01-28T00:00:00\", \"2020-01-29T00:00:00\", \"2020-01-30T00:00:00\", \"2020-01-31T00:00:00\", \"2020-02-03T00:00:00\", \"2020-02-04T00:00:00\", \"2020-02-05T00:00:00\", \"2020-02-06T00:00:00\", \"2020-02-07T00:00:00\", \"2020-02-10T00:00:00\", \"2020-02-11T00:00:00\", \"2020-02-12T00:00:00\", \"2020-02-13T00:00:00\", \"2020-02-14T00:00:00\", \"2020-02-17T00:00:00\", \"2020-02-18T00:00:00\", \"2020-02-19T00:00:00\", \"2020-02-20T00:00:00\", \"2020-02-21T00:00:00\", \"2020-02-24T00:00:00\", \"2020-02-25T00:00:00\", \"2020-02-26T00:00:00\", \"2020-02-27T00:00:00\", \"2020-02-28T00:00:00\", \"2020-03-02T00:00:00\", \"2020-03-03T00:00:00\", \"2020-03-04T00:00:00\", \"2020-03-05T00:00:00\", \"2020-03-06T00:00:00\", \"2020-03-09T00:00:00\", \"2020-03-10T00:00:00\", \"2020-03-11T00:00:00\", \"2020-03-12T00:00:00\", \"2020-03-13T00:00:00\", \"2020-03-16T00:00:00\", \"2020-03-17T00:00:00\", \"2020-03-18T00:00:00\", \"2020-03-19T00:00:00\", \"2020-03-20T00:00:00\", \"2020-03-23T00:00:00\", \"2020-03-24T00:00:00\", \"2020-03-25T00:00:00\", \"2020-03-26T00:00:00\", \"2020-03-27T00:00:00\", \"2020-03-30T00:00:00\", \"2020-03-31T00:00:00\", \"2020-04-01T00:00:00\", \"2020-04-02T00:00:00\", \"2020-04-03T00:00:00\", \"2020-04-06T00:00:00\", \"2020-04-07T00:00:00\", \"2020-04-08T00:00:00\", \"2020-04-09T00:00:00\", \"2020-04-10T00:00:00\", \"2020-04-13T00:00:00\", \"2020-04-14T00:00:00\", \"2020-04-15T00:00:00\", \"2020-04-16T00:00:00\", \"2020-04-17T00:00:00\", \"2020-04-20T00:00:00\", \"2020-04-21T00:00:00\", \"2020-04-22T00:00:00\", \"2020-04-23T00:00:00\", \"2020-04-24T00:00:00\", \"2020-04-27T00:00:00\", \"2020-04-28T00:00:00\", \"2020-04-29T00:00:00\", \"2020-04-30T00:00:00\", \"2020-05-01T00:00:00\", \"2020-05-04T00:00:00\", \"2020-05-05T00:00:00\", \"2020-05-06T00:00:00\", \"2020-05-07T00:00:00\", \"2020-05-08T00:00:00\", \"2020-05-11T00:00:00\", \"2020-05-12T00:00:00\", \"2020-05-13T00:00:00\", \"2020-05-14T00:00:00\", \"2020-05-15T00:00:00\", \"2020-05-18T00:00:00\", \"2020-05-19T00:00:00\", \"2020-05-20T00:00:00\", \"2020-05-21T00:00:00\", \"2020-05-22T00:00:00\", \"2020-05-26T00:00:00\", \"2020-05-27T00:00:00\", \"2020-05-28T00:00:00\", \"2020-05-29T00:00:00\", \"2020-06-01T00:00:00\", \"2020-06-02T00:00:00\", \"2020-06-03T00:00:00\", \"2020-06-04T00:00:00\", \"2020-06-05T00:00:00\", \"2020-06-08T00:00:00\", \"2020-06-09T00:00:00\", \"2020-06-10T00:00:00\", \"2020-06-11T00:00:00\", \"2020-06-12T00:00:00\", \"2020-06-15T00:00:00\", \"2020-06-16T00:00:00\", \"2020-06-17T00:00:00\", \"2020-06-18T00:00:00\", \"2020-06-19T00:00:00\", \"2020-06-22T00:00:00\", \"2020-06-23T00:00:00\", \"2020-06-24T00:00:00\", \"2020-06-25T00:00:00\", \"2020-06-26T00:00:00\", \"2020-06-29T00:00:00\", \"2020-06-30T00:00:00\", \"2020-07-01T00:00:00\", \"2020-07-02T00:00:00\", \"2020-07-03T00:00:00\", \"2020-07-06T00:00:00\", \"2020-07-07T00:00:00\", \"2020-07-08T00:00:00\", \"2020-07-09T00:00:00\", \"2020-07-10T00:00:00\", \"2020-07-13T00:00:00\", \"2020-07-14T00:00:00\", \"2020-07-15T00:00:00\", \"2020-07-16T00:00:00\", \"2020-07-17T00:00:00\", \"2020-07-20T00:00:00\", \"2020-07-21T00:00:00\", \"2020-07-22T00:00:00\", \"2020-07-23T00:00:00\", \"2020-07-24T00:00:00\", \"2020-07-26T00:00:00\", \"2020-07-27T00:00:00\", \"2020-07-28T00:00:00\", \"2020-07-29T00:00:00\", \"2020-07-30T00:00:00\", \"2020-07-31T00:00:00\", \"2020-08-03T00:00:00\", \"2020-08-04T00:00:00\", \"2020-08-05T00:00:00\", \"2020-08-06T00:00:00\", \"2020-08-07T00:00:00\", \"2020-08-10T00:00:00\", \"2020-08-11T00:00:00\", \"2020-08-12T00:00:00\", \"2020-08-13T00:00:00\", \"2020-08-14T00:00:00\", \"2020-08-17T00:00:00\", \"2020-08-18T00:00:00\", \"2020-08-19T00:00:00\", \"2020-08-20T00:00:00\", \"2020-08-21T00:00:00\", \"2020-08-24T00:00:00\", \"2020-08-25T00:00:00\", \"2020-08-26T00:00:00\", \"2020-08-27T00:00:00\", \"2020-08-28T00:00:00\", \"2020-08-30T00:00:00\", \"2020-08-31T00:00:00\", \"2020-09-01T00:00:00\", \"2020-09-02T00:00:00\", \"2020-09-03T00:00:00\", \"2020-09-04T00:00:00\", \"2020-09-08T00:00:00\", \"2020-09-09T00:00:00\", \"2020-09-10T00:00:00\", \"2020-09-11T00:00:00\", \"2020-09-14T00:00:00\", \"2020-09-15T00:00:00\", \"2020-09-16T00:00:00\", \"2020-09-17T00:00:00\", \"2020-09-18T00:00:00\", \"2020-09-21T00:00:00\", \"2020-09-22T00:00:00\", \"2020-09-23T00:00:00\", \"2020-09-24T00:00:00\", \"2020-09-25T00:00:00\", \"2020-09-28T00:00:00\", \"2020-09-29T00:00:00\", \"2020-09-30T00:00:00\", \"2020-10-01T00:00:00\", \"2020-10-02T00:00:00\", \"2020-10-05T00:00:00\", \"2020-10-06T00:00:00\", \"2020-10-07T00:00:00\", \"2020-10-08T00:00:00\", \"2020-10-09T00:00:00\", \"2020-10-11T00:00:00\", \"2020-10-12T00:00:00\", \"2020-10-13T00:00:00\", \"2020-10-14T00:00:00\", \"2020-10-15T00:00:00\", \"2020-10-16T00:00:00\", \"2020-10-19T00:00:00\", \"2020-10-20T00:00:00\", \"2020-10-21T00:00:00\", \"2020-10-22T00:00:00\", \"2020-10-23T00:00:00\", \"2020-10-26T00:00:00\", \"2020-10-27T00:00:00\", \"2020-10-28T00:00:00\", \"2020-10-29T00:00:00\", \"2020-10-30T00:00:00\"], \"y\": [130975.45000000024, 95740.73000000007, 112744.50000000012, 107480.52000000016, 104469.63000000012, 83522.73999999996, 119691.71000000006, 100321.26, 92507.66999999998, 91228.25999999998, 109919.62999999999, 118536.22000000002, 107305.74000000006, 77206.03000000022, 122436.39000000004, 117.41999999999999, 109554.33, 108408.03000000014, 109712.78000000016, 146875.05000000013, 127116.12999999996, 110775.72000000025, 99785.48000000011, 116523.71000000008, 114756.6600000002, 117385.4300000002, 91786.2900000001, 116590.11000000012, 127997.2600000003, 116641.90000000014, 81821.07999999999, 122726.8500000002, 118086.60000000012, 110207.24000000009, 83767.76000000005, 135815.08000000016, 131417.4100000001, 128863.45000000039, 93370.87000000024, 154943.02000000028, 190.66000000000003, 131649.75000000003, 120043.74999999994, 102131.43000000021, 158713.4700000001, 126017.74000000008, 111848.09000000007, 104314.06000000016, 116685.55000000012, 120078.43000000021, 102128.43000000007, 87007.16999999993, 111522.32000000024, 139550.17, 171525.58000000005, 109681.05000000002, 150364.31999999992, 108924.0600000001, 141963.0600000001, 122463.68000000011, 134331.90000000014, 131762.8400000001, 131338.36000000028, 106137.76000000008, 145584.37, 120071.17999999988, 137951.5700000002, 89039.45999999996, 122852.35000000011, 3098.6800000000003, 142813.2300000004, 132995.39999999994, 101653.90000000017, 151299.27999999974, 126318.69000000012, 120407.95000000003, 99235.73000000014, 120325.00000000022, 108331.68000000017, 126572.79000000023, 109728.12000000008, 130313.55, 134104.54000000007, 139668.2300000001, 99257.92000000011, 146650.30999999997, 87006.01999999997, 141572.17000000016, 107708.14000000006, 136040.63000000018, 476.88, 136861.1300000003, 135965.21, 132208.50000000023, 133018.88999999984, 155265.29999999993, 157436.72999999998, 128914.05999999987, 138972.8300000003, 128337.54000000014, 146636.52000000016, 90722.96999999996, 122287.86000000026, 674.9100000000001, 141349.17000000013, 179091.4600000001, 146068.79000000007, 174469.89000000036, 2727.0400000000004, 138957.21000000008, 128841.47000000019, 104458.78000000026, 115050.74000000034, 125852.86000000009, 146196.8200000001, 92392.35000000012, 122850.97000000004, 145292.21999999997, 148249.9200000004, 118513.40000000014, 140729.76000000007, 166226.6800000002, 117175.2500000002, 98524.31000000027, 127810.69000000024, 416.02, 123018.77000000021, 131381.17000000013, 88602.89000000006, 117672.23000000021, 121.86, 126055.26000000029, 144781.73000000016, 110616.13000000009, 126466.27000000022, 126609.39000000023, 136756.5800000004, 93160.63000000027, 146035.1800000003, 118644.00000000013, 131810.9800000003, 107511.46000000025, 132003.8700000001, 127003.77000000018, 164027.74000000028, 113432.11000000013, 148703.2700000002, 92123.9700000001, 139276.6500000004, 107278.68000000017, 166528.2900000005, 181584.5500000003, 169423.21000000046, 159497.07000000004, 161094.56000000008, 319.14000000000004, 118419.89000000013, 152090.4900000003, 89061.57999999994, 124081.62000000045, 120767.62000000017, 136681.5600000002, 106911.01000000013, 115352.28000000007, 146517.87999999977, 205663.95000000036, 112407.88000000031, 152191.82000000027, 158626.2500000002, 157151.90000000034, 168126.8700000005, 140649.14000000025, 170536.06000000023, 157984.15000000014, 158766.4300000001, 178074.0200000001, 197014.95000000013, 156760.64, 144083.11, 124788.07000000031, 125989.69000000025, 184231.4300000003, 144031.58999999997, 214301.09999999998, 140190.0100000002, 120985.85000000022, 100059.60000000024, 118400.53000000001, 128892.67000000001, 140026.81000000026, 134754.72000000026, 153873.49000000014, 128026.6100000004, 124967.74000000012, 127913.85000000027, 184291.3000000005, 104788.25000000006, 119039.43000000023, 99906.4000000002, 127606.66000000016, 5777.169999999999, 151343.61000000004, 172658.75000000032, 105786.44000000025, 144182.97000000023, 161070.91000000012, 121809.48000000027, 105353.51000000036, 149209.17000000025, 192725.85000000018, 138937.43000000037, 269569.7600000005, 157138.5200000003, 303.24, 245075.30000000022, 187255.87000000037, 185741.4800000005, 177529.62000000072, 136854.37000000014, 202853.06000000055, 150856.54000000027, 207451.0100000002, 152808.7900000001, 123707.59000000033, 95167.1600000002, 119878.84000000016, 149770.85000000018, 118734.38000000018, 90061.13000000005, 107654.29000000005, 105150.3500000002, 105527.15000000018, 96577.31000000016, 120837.01000000015, 113738.65000000005, 106365.67000000032, 108866.78000000016, 133430.2600000002, 130354.98000000017, 113035.72000000012, 80108.61000000003, 116448.09999999996, 143168.66, 127092.03000000032, 97439.60000000022, 169391.78000000046, 128993.9800000004, 120256.31000000022, 118475.5600000002, 131270.12000000014, 114786.08000000038, 123692.53000000016, 89958.78000000013, 156154.5500000001, 275.2, 123003.63000000027, 119190.00000000026, 110121.38000000025, 122333.70000000023, 154758.81999999995, 141310.15000000029, 89550.97000000022, 152625.6200000001, 156202.30000000037, 157726.43000000002, 159463.08000000034, 152700.0700000001, 1959.6, 126049.67000000016, 115814.81000000035, 105898.02000000008, 126021.31000000033, 123537.46000000024, 121333.15000000034, 103240.42000000016, 145081.55000000028, 128435.83000000015, 135072.45000000027, 106357.09000000027, 133322.76000000018, 141802.77000000014, 141707.29000000036, 133790.1200000003, 158597.29000000053, 122438.97000000022, 114707.05000000015, 93251.70000000023, 145774.78000000012, 131141.15000000008, 116088.08000000006, 93636.87000000013, 149459.27000000016, 158402.36000000022, 156335.37000000055, 88565.03000000026, 129548.75000000022, 847.44, 145187.1900000004, 133490.25000000026, 103304.46000000017, 148144.88, 149898.98, 143590.99000000028, 90617.9200000003, 132175.49000000046, 129214.50000000013, 145776.37000000017, 110740.14000000003, 150352.32000000018, 3382.8100000000004, 134211.44000000035, 151145.77000000037, 109248.28000000032, 172198.82000000033, 117753.27000000027, 151239.92000000022, 130959.02000000015, 140203.6300000005, 198175.55000000025, 128702.00000000029, 99220.65000000008, 120920.36000000018, 93138.01000000001, 111786.72000000025, 98941.16000000006, 145242.90000000037, 3784.66, 524.63, 157919.90000000043, 183929.5800000002, 124228.89000000013, 187264.73000000077, 125686.45000000039, 162645.9400000003, 104076.68000000027, 131981.1100000002, 138629.30000000013, 97366.1700000002, 157755.53, 139611.74000000005, 159927.2300000004, 125136.5400000001, 96651.84000000027, 129643.22000000003, 153123.23000000027, 92128.4100000002, 136125.3200000002, 94422.22000000013, 166507.5900000003, 96864.03000000025, 175304.81000000073, 121050.50000000007, 155871.08999999997, 122935.20000000014, 168843.32999999993, 117465.12000000026, 146977.10000000038, 143145.33000000042, 116015.67000000016, 128422.90000000027, 2576.8400000000006, 182036.6300000001, 128200.81000000023, 133676.15000000023, 128916.60000000015, 185198.9200000002, 106017.94000000026, 184178.3200000005, 225658.30000000022, 920.47, 161468.2700000002, 110429.22000000028, 152883.67000000036, 93995.66000000006, 161642.53000000032, 82511.47000000018, 132050.03000000026, 104284.91000000019, 142579.10000000015, 84896.5700000002, 115723.28000000006, 119925.06000000022, 107.96000000000001, 176817.54000000007, 87425.69000000009, 121109.50000000007, 113322.0700000001, 159155.15999999983, 88487.62000000023, 205134.78000000032, 184546.71000000028, 379971.65000000026, 223431.18000000037, 99499.8800000003, 141934.21000000034, 145631.32000000047, 309048.0900000001, 269986.1600000004, 135810.13000000044, 219142.19000000003, 123022.57000000024, 146122.07000000027, 87221.41000000027, 128642.90000000013, 126502.69000000024, 1210.6599999999999, 175860.7500000005, 96001.30000000028, 126622.83000000026, 122579.53000000019, 383.4, 142525.15, 78241.63999999993, 129541.29000000012, 127237.45999999995, 1887.92, 169427.14000000045, 74847.36000000007, 164364.95000000016, 110005.76999999997, 464.68000000000006, 183109.85000000038, 104415.52000000014, 131227.02, 136421.47999999998, 96367.70000000001, 66418.14999999997, 121947.51, 117806.15999999997, 8516.64, 224283.43999999994, 139878.18000000025, 178611.51000000004, 136445.53999999998, 1802.0, 169463.2200000001, 119681.8000000002, 172376.59000000037, 137133.84000000017, 5064.270000000001, 219294.75000000017, 128148.00000000022, 195491.62000000043, 174634.60000000036, 146971.66000000015, 82536.69999999997, 138314.30000000013, 7162.0, 171212.2400000002, 210287.86000000074, 102700.49000000014, 165359.83000000005, 11572.810000000001, 116542.3900000001, 179372.3, 103667.52000000009, 165078.03999999975, 129476.38000000006, 144778.3599999999, 84830.45000000001, 124361.95999999998, 89278.90999999995, 92.25, 144018.40999999997, 88386.49999999991, 130100.04000000001, 116628.9999999999, 167915.28000000012, 96426.28000000009, 136843.3199999999, 130371.52000000009, 1539.24, 171340.9300000002, 99469.29, 128568.50000000007, 118191.83999999987, 200335.54000000018, 78810.07, 141564.00000000006, 137518.32999999993, 151885.56999999995, 74019.43000000004, 123666.54999999996, 121407.11999999988, 189962.22000000038, 76586.25000000001, 120700.77999999998, 119875.11000000009, 166683.05000000028, 90340.84999999998, 147291.34000000017, 139495.4800000001, 204220.4300000004, 92599.94000000018, 135125.73000000019, 116630.80000000013, 1431.6, 140197.70000000016, 100353.84000000013, 114596.15000000011, 102530.13000000005, 129135.93000000018, 75181.94000000002, 118383.66000000006, 82435.02000000009, 142407.23000000016, 86785.48999999998, 153945.49000000022, 133224.94000000026, 182276.56999999977, 88006.14000000006, 155743.82999999987, 135768.4900000002, 751.41, 188313.7000000001, 81680.60000000011, 122824.0500000001, 136186.81000000008, 143197.2000000003, 100750.73000000017, 126988.88000000028, 132378.72999999995, 171895.42000000007, 96768.53000000007, 134260.70000000016, 119663.69999999995, 165404.36000000002, 127017.8100000001, 135443.33999999997, 125912.45999999996, 193569.3700000002, 90925.69000000003, 132158.9, 127062.08999999985, 153277.44000000003, 102792.51999999997, 135519.83999999988, 121914.95999999989, 128703.23999999992, 94812.76000000011, 145097.9799999999, 130478.71999999986, 193885.82000000056, 109674.08000000002, 142011.86000000025, 116785.69000000003, 181868.30000000028, 108828.95000000006, 152875.52000000005, 113724.29000000001, 176440.8500000001, 109315.37999999992, 134415.07000000012, 112397.62000000017, 194235.3800000003, 122435.03000000012, 149969.63999999996, 150688.46000000005, 167256.37000000034, 101444.77000000016, 132323.29000000004, 129771.09000000005, 6006.150000000001, 170041.67000000025, 127565.77000000027, 142600.86000000004, 117305.70000000017, 162723.08000000025, 97343.70000000011, 144127.06000000026, 112163.02999999991, 165446.72000000012, 102797.04000000002, 136432.83000000022, 109913.48999999983, 155331.23000000004, 87942.8500000001, 141800.37000000008, 132505.31000000003, 182272.9600000002, 117271.30999999995, 170607.0500000002, 132402.21999999988, 187601.50000000026, 93886.02999999984, 137411.63999999987, 122955.85999999994, 145052.52000000002, 107492.8799999999, 164390.7900000002, 121021.39999999997, 178203.41999999998, 111806.02999999985, 193583.38000000006, 118027.3399999998, 110808.21999999972, 109552.37999999983, 208953.16000000006, 147820.27000000016, 204047.10000000047, 143682.50999999992, 210240.12000000052, 123349.00999999986, 191302.7900000003, 98077.48999999973, 168892.55000000022, 130823.11999999992, 143309.06999999998, 110944.04999999987, 132936.11999999973, 96126.72999999976, 186363.88000000032, 142799.28999999986, 190582.9100000004, 158456.6699999999, 181242.59000000008, 130347.48999999987, 179518.0600000002, 116615.47999999982, 814.0899999999999, 259958.41000000056, 120492.36999999979, 166606.8400000001, 122579.15999999992, 193633.61000000022, 126824.09999999989, 167128.19000000032, 155207.79000000027, 213182.28000000017, 134513.8700000001, 187854.95000000013, 130277.8399999998, 155719.63999999993, 107422.14, 198013.2600000006, 104908.1199999998, 107954.66999999993, 85595.71999999986, 176671.26000000018, 157636.51000000015, 205427.12000000034, 160376.93000000005, 188152.14000000042, 143914.42000000022, 116182.79999999986, 84487.64999999985, 144313.89999999994, 122245.69999999992, 1962.4700000000003, 243294.79000000027, 152548.9600000001, 205388.4100000004, 163146.50999999983, 217142.87000000043, 169202.6700000001, 207955.8800000005, 163093.67999999996, 2839.4300000000003, 207025.9200000002, 121446.24999999988, 198209.0700000004, 135328.0699999999, 138990.78999999998, 106179.96999999984, 184418.33000000025, 126745.88999999993, 7513.469999999999, 179302.03000000038, 127063.98999999971, 231058.7700000004, 158290.82999999987, 9641.970000000003, 175313.05000000022, 115219.43000000005, 163441.91000000061, 126608.9299999999, 131493.67999999988, 134734.25999999992, 86964.3399999999, 121648.99999999981, 100354.96999999983, 100993.37999999979, 172039.53000000026, 97706.3199999998, 443.21000000000004, 192127.49000000046, 90629.00999999986, 159179.2200000004, 112955.26999999997, 158227.9800000002, 102661.84999999989, 159586.6300000001, 131261.45999999988, 164216.0100000002, 99426.48999999993, 175764.1300000004, 113691.53999999994, 161513.61000000025, 118447.94999999984, 142428.82000000015, 116788.75000000001, 159814.92000000004, 112612.35999999991, 136170.1799999997, 118450.95999999992, 146466.20999999996, 129159.26999999973, 149007.0300000001, 128185.11999999991, 159589.6900000001, 128801.15999999999, 133727.05000000002, 135758.87999999998, 321986.89000000054, 168492.7200000003, 160930.96999999997, 117199.10999999987, 132566.0799999998, 104740.69999999994, 126403.7999999998, 95708.70999999986, 148906.96999999994, 121608.02999999985, 133837.00999999992, 129972.75000000003, 139834.5899999999, 111017.53999999973, 133986.42999999988, 123198.97000000002, 136395.68000000005, 117490.32999999965, 131635.4399999998, 110782.40000000001, 156054.66000000018, 113437.30999999985, 155808.92000000048, 123256.74999999983, 230364.8300000003, 151654.81, 183783.34000000032, 123806.8099999999, 161286.83000000025, 117993.69999999998, 136783.6399999997, 120008.65999999992, 151025.63000000012, 127861.43999999986, 139559.1299999999, 156162.38999999978, 227402.00999999998, 179128.81000000064, 179142.61000000048, 134407.77999999982, 128303.23999999995, 139495.5999999998, 143930.95, 120519.6699999999, 180974.8700000006, 134882.88999999984, 146012.30000000028, 137482.71999999986, 152663.3100000002, 141391.43999999997, 142871.85999999987, 129760.08999999982, 2431.68, 193400.13000000015, 186242.7400000003, 178484.47999999986, 139476.0099999999, 167663.46, 156593.85000000015, 156632.08000000005, 170577.91000000006, 158234.0399999998, 138850.69999999995, 129773.12999999993, 126302.19999999978, 8157.329999999998, 168785.52000000016, 157539.24000000002, 145169.45999999982, 138737.19999999978, 178779.54999999996, 134080.61999999973, 147937.65999999995, 121099.73999999985, 168535.9700000001, 110049.0799999998, 129070.59999999976, 109487.35999999999, 184080.94000000026, 139063.2900000001, 150257.0399999999, 123693.73999999996, 178037.77000000016, 135055.9799999999, 151077.02000000002, 130579.76999999979, 673.5999999999999, 146464.64000000004, 113610.16999999995, 123127.89999999989, 109103.38999999987, 154013.58, 107245.29999999984, 148262.23, 116029.54999999976, 187937.54000000027, 146549.76999999981, 162679.61000000036, 118365.9699999999, 170660.70000000016, 149401.9200000001, 167466.04000000024, 147738.65000000008, 115953.69, 143525.51000000018, 166670.82000000004, 120216.66999999977, 171577.50000000017, 128744.7099999996, 141006.67999999982, 107037.69999999972, 135.54000000000002, 156763.72000000026, 117659.1199999999, 140069.3399999998, 111841.94999999976, 820.0699999999999, 188801.22000000023, 123256.53999999986, 153234.83000000005, 282824.09000000055, 365.4, 171192.87000000055, 143993.01000000013, 154613.5900000003, 150627.89000000013, 232522.12000000055, 169634.30000000048, 196100.30000000048, 144870.03999999986, 170425.43000000043, 144422.9499999999, 165692.86000000022, 106167.57999999986, 172666.35000000015, 144433.46999999962, 167240.7299999998, 135677.61999999988, 172892.16000000018, 131680.6899999999, 144375.89999999997, 110771.88999999988, 195732.57000000027, 147321.06999999998, 156245.33000000007, 136383.92999999996, 177857.73000000027, 131367.6399999999, 222750.6900000004, 139492.47999999992, 149713.03999999995, 92592.17999999995, 171822.39000000007, 116861.38999999991, 9112.300000000003, 217364.88000000038, 245586.33000000063, 177325.1600000002, 190727.1200000002, 363.3399999999999, 240151.95000000004, 147480.09000000008, 180781.9400000004, 159271.34000000014, 224045.84000000075, 155604.17999999996, 179827.42000000013, 144958.49000000022, 151326.60000000012, 184236.61000000002, 215414.7400000003, 238068.49000000008, 2165.08, 219009.50000000038, 172799.30000000048, 185111.55000000045, 166384.70000000013, 1635.3799999999999, 181945.83000000034, 129269.41999999981, 136938.70999999973, 128352.23999999987, 146743.14000000022, 111149.41999999985, 119564.83999999998, 105221.24999999988, 124910.4999999999, 123930.25999999985, 138193.12999999977, 109810.95999999993, 170355.46000000037, 144612.88999999975, 168523.9200000002, 146476.59, 180762.96000000046, 133381.51999999981, 128536.95999999983, 108356.56, 144028.51000000007, 97097.6399999998, 140642.89, 122053.78000000001, 134317.46999999997, 113034.69999999981, 151667.06000000006, 128218.16999999994, 176056.57000000036, 106224.9899999998, 134014.12000000002, 138808.63999999996, 153350.8100000001, 117630.94999999992, 130416.83999999998, 112273.80999999991, 900.0, 176294.28000000014, 113496.20999999992, 166630.9299999997, 155372.87000000002, 161543.0500000002, 114065.30999999985, 122139.3899999999, 111272.42999999995, 158522.05000000054, 137013.21999999997, 142818.33999999988, 117559.68999999987, 1125.0, 146392.80000000025, 109696.34999999974, 125840.12999999986, 104490.39999999988, 172320.31000000003, 129387.05999999987, 164831.3300000004, 143961.9700000001, 181215.36000000025, 117407.87999999982, 143231.32999999996, 115746.97999999991, 166215.56000000014, 120359.0099999999, 142522.5799999998, 126025.98999999992, 348253.44000000064, 142916.98999999985, 192421.9700000003, 148986.85999999978, 168513.41000000012, 142381.41999999998, 140109.72999999963, 98546.87999999998, 3963.0, 148337.93000000008, 134721.20999999982, 118609.71999999993, 117831.55999999987, 151225.24999999994, 137062.6199999998, 150070.73999999987, 146604.2300000001, 182252.7200000003, 145384.35999999996, 130199.78999999988, 140908.38999999998, 111614.69999999992, 124146.42000000001, 140033.39999999997, 138927.5899999999, 800.4, 193828.8300000001, 144058.27999999988, 141250.36999999982, 117466.91000000008, 188976.82, 133070.95999999985, 145693.72, 129027.83999999991, 148740.86000000007, 149704.67000000027, 148706.6600000002, 124700.77999999978, 873.36, 180655.9700000003, 167934.5000000002, 144286.3800000001, 141877.97999999998, 114754.13999999987, 132926.96000000005, 136724.29, 106478.77999999993, 1655.04, 181468.02000000046, 128247.06999999989, 135276.99999999985, 138335.79999999978, 43258.92999999999, 113690.90000000002, 77944.57999999993, 127663.44999999992, 124231.76999999992, 44087.75999999999, 145046.3099999999, 85654.68999999989, 132446.6399999999, 132852.71999999997, 55696.05999999999, 146132.42000000022, 81632.44999999992, 143179.5300000001, 170175.51000000027, 46408.15999999999, 158087.12, 88129.62999999992, 121415.68999999984, 128250.22999999988, 47120.280000000006, 147487.12000000034, 87912.71999999988, 126211.74999999996, 127684.73999999999, 69185.20999999993, 152164.98000000024, 94384.71999999997, 134933.43999999983, 141254.69000000012, 51881.87999999993, 78959.36999999984, 69619.19999999975, 107081.83999999994, 147431.0599999999, 59031.74999999998, 101167.64000000007, 112450.87999999995, 135305.91000000006, 157327.4700000003, 54070.29, 136883.36000000007, 123637.93000000007, 142450.49999999977, 175235.66000000018, 75265.5099999999, 163175.3300000001, 124541.43999999992, 140786.51999999987, 125484.90999999993, 45246.21000000003, 148570.98999999987, 93509.76999999992, 116916.36999999995, 119816.62999999996, 53719.62999999999, 173798.21999999974, 128713.87000000014, 162550.90000000046, 182547.29000000027, 73236.29, 149108.1999999999, 101845.7400000001, 125307.08000000009, 150190.58000000013, 58630.73000000002, 166412.6400000002, 119086.73999999995, 153173.06000000008, 163458.95000000024, 48804.81999999997, 168294.44999999992, 114780.39000000007, 134197.24999999997, 160417.87000000046, 57238.86999999997, 165569.8900000003, 114233.49999999999, 139813.35000000015, 159379.3599999999, 63433.399999999965, 159759.04999999987, 141086.62000000002, 143165.16000000018, 158431.62000000005, 62581.93999999997, 163131.69000000006, 110417.33999999994, 174030.04000000036, 204301.63000000024, 87826.94999999997, 189282.11999999988, 122446.2400000001, 117972.86000000007, 181813.86000000004, 119913.5699999999, 156317.69000000026, 184215.23000000033, 74503.27000000003, 165996.35000000024, 168096.0400000001, 205717.97000000032, 168695.58000000028, 71969.24999999999, 175521.62000000014, 137247.08999999994, 162128.43, 167133.4500000004, 79014.06999999998, 213706.8400000002, 167387.5100000001, 228962.40000000026, 221732.8600000004, 74115.01000000005, 183829.41000000032, 188489.90000000026, 162817.3300000004, 199145.16000000015, 49060.350000000006, 111961.27999999998, 133333.25, 127182.25000000013, 64197.129999999954, 196275.92000000045, 81637.21, 111848.52999999998, 105541.42999999998, 41262.74000000001, 93993.23999999993, 112868.29999999999, 129149.08999999988, 109581.03999999989, 43719.620000000024, 144971.72999999998, 110579.72999999985, 119702.53999999998, 111521.55999999997, 44752.139999999985, 123324.96999999991, 92101.40999999997, 128520.39999999988, 131088.61000000004, 50646.71999999999, 140618.33999999997, 116970.01999999993, 151344.23999999996, 151609.40999999997, 65780.33999999995, 143861.11000000002, 109029.44000000008, 128139.16000000009, 168915.80000000013, 45171.61999999999, 150708.6300000002, 82774.33000000002, 106114.46999999994, 119944.44999999997, 51936.58999999995, 128526.19999999994, 96336.32999999996, 137991.4800000001, 145673.3999999999, 50650.639999999985, 162137.97000000006, 112987.36999999997, 129744.8000000001, 137031.99999999985, 47894.45999999996, 148857.0499999999, 108394.21, 147964.9400000003, 154747.36000000028, 62862.90999999996, 153071.34000000003, 86679.03000000006, 110355.73000000003, 130477.53000000013, 48935.810000000005, 146419.6899999999, 95956.96000000006, 131380.03, 109904.82000000017, 52014.95000000001, 162042.76999999996, 115377.77000000003, 155091.99000000002, 137729.79999999984, 65488.969999999994, 160800.44000000006, 118802.45999999992, 146685.46000000017, 128204.77999999996, 67149.90000000001, 139841.12, 102295.04999999997, 130508.52, 128228.61, 43258.60000000001, 179624.87000000034, 106386.85000000015, 117878.03000000009, 173140.21999999994, 54065.069999999956, 144127.94999999987, 103162.96000000014, 155525.91000000006, 143654.15999999995, 46821.199999999975, 151882.08000000037, 114180.22000000007, 148032.23999999996, 140876.94999999998, 56143.06999999999, 163328.3100000003, 141868.87999999992, 131276.08000000007, 140622.10000000003, 53979.68999999996, 151419.55000000005, 122749.5299999999, 142262.51999999996, 108808.27999999997, 149780.17000000013, 112679.57000000011, 168931.58000000034, 144038.47999999995, 61941.699999999975, 204176.9300000004, 113363.59000000005, 147984.94999999998, 183951.9300000003, 60778.129999999976, 169914.56000000014, 117250.11999999997, 169789.2100000003, 148189.74000000014, 58386.67999999998, 143409.30999999994, 105623.95, 133834.78999999992, 119011.95999999983, 72268.86999999998, 179214.5500000001, 129885.04000000008, 196047.98000000024, 150306.78999999995, 71662.19999999995, 125439.81999999998, 99860.44, 151759.8000000002, 146865.51000000024, 59131.92999999994, 162409.26, 133179.55999999988, 154884.4300000002, 115368.89000000007, 55988.39999999997, 165943.8000000003, 109562.82999999997, 146578.82999999996, 153483.87, 56957.739999999954, 156311.18000000005, 121981.52000000009, 139842.23999999993, 137404.71000000017, 46700.38999999999, 159736.96000000002, 112749.33000000005, 142382.62999999998, 140405.11000000004, 55302.20999999999, 156378.28000000017, 115436.69000000013, 130512.69, 129314.26999999997, 56725.88000000003, 155809.42, 120248.97999999997, 135938.92999999996, 158818.41000000015, 60322.930000000015, 172814.45000000024, 105464.05, 145506.0599999999, 119986.18999999993, 50828.909999999996, 200294.6600000001, 145591.58, 161503.20000000007, 136780.8499999998, 75829.48999999996, 131540.92000000007, 155627.42000000036, 165376.0800000002, 52523.34999999994, 190274.14000000022, 155779.82000000004, 149704.84000000005, 187582.20000000013, 50558.899999999965, 162430.48, 119844.21000000015, 137481.08999999994, 128238.86000000009, 46931.66, 145749.45999999976, 103136.75000000001, 134778.80000000002, 99080.90000000001, 47520.92999999997, 215390.77000000014, 145404.89000000004, 150383.56000000014, 326211.4800000004, 67244.77999999996, 162004.1299999999, 128939.02999999998, 137992.70000000007, 152748.3700000003, 64470.419999999925, 145502.16999999972, 172890.25000000023, 149847.84999999995, 134864.30000000013, 59432.759999999944, 176517.64000000016, 156239.98000000024, 145765.30999999988, 124537.33000000007, 71870.06999999996, 140317.04, 83699.48999999987, 142387.69999999998, 122622.29000000001, 57192.61999999999, 173568.57000000004, 162403.93999999992, 157467.93999999997, 160066.44999999998, 69503.81000000001, 150372.37999999992, 156501.81, 161523.57000000018, 154640.13000000015, 97801.26999999997, 196501.5200000001, 137160.97999999992, 74843.54999999999, 157648.27000000022, 149220.1900000001, 143808.98999999982, 201330.15999999997, 84935.60000000003, 246051.20000000007, 179269.00000000023, 169370.06000000017, 192167.97000000006, 72343.33999999998, 176294.7000000002, 157218.29000000007, 182368.03000000035, 148498.9199999999, 60196.95999999996, 183445.75000000006, 162532.61999999988, 163285.1000000005, 199473.9700000001, 218494.43000000025, 179047.28000000017, 179647.69000000003, 187173.44000000018, 71623.21, 112291.76999999987, 146653.7000000001, 120692.50999999992, 65391.639999999985, 191467.61000000042, 143936.0099999998, 122604.97000000019, 105881.80000000005, 43014.03999999998, 154465.73999999993, 99328.72, 118540.21999999994, 105315.29999999986, 50473.799999999996, 161104.50000000006, 110502.05999999992, 130001.69999999998, 116129.11999999988, 50845.85999999996, 178244.8100000001, 106948.03999999998, 132617.36999999997, 126177.44000000019, 38301.14000000001, 167549.60000000024, 114920.40999999981, 133965.98999999985, 153226.05999999997, 49093.71999999999, 161935.83000000034, 149138.96000000005, 119793.46999999996, 122753.24999999997, 53795.89999999996, 118686.6899999999, 123163.73999999996, 118630.82999999997, 160248.69000000012, 48679.13999999997, 165327.5900000002, 109311.86999999997, 126612.61999999975, 102271.82999999986, 56030.46999999999, 189891.1100000003, 139642.77999999997, 152644.77999999997, 177983.79000000027, 50391.01000000002, 170498.59000000008, 129623.42999999973, 148415.80000000034, 140817.8200000001, 48997.82, 179922.64, 117261.00999999998, 136111.57999999993, 150020.77000000014, 50392.44999999996, 172817.36000000016, 122128.81999999972, 151246.57000000027, 146193.39999999997, 53661.42999999992, 157776.8700000001, 136007.8199999999, 154052.91999999998, 130156.18999999993, 51794.900000000045, 175788.37999999995, 139525.02999999994, 148608.67999999988, 186731.0100000001, 61341.06999999999, 155984.95000000007, 120369.16999999995, 135004.73999999993, 127275.77000000003, 50656.20999999996, 156443.53000000014, 132537.53999999986, 138948.07000000012, 143877.23999999993, 63382.96999999996, 184648.98000000016, 137995.2799999999, 180624.28999999966, 154853.16, 73730.37999999998, 151697.71000000008, 140229.72999999975, 165614.80000000013, 183643.41999999995, 49797.939999999966, 154155.4600000002, 79418.20000000003, 181664.18000000005, 141940.83000000007, 49462.879999999954, 162270.3500000002, 127692.06999999995, 147730.98000000013, 149695.86000000002, 178569.49000000002, 163071.27000000005, 169688.15000000002, 160252.61000000007, 59520.380000000034, 190579.9200000002, 149470.25000000012, 160925.9300000004, 178262.67000000013, 51144.83999999998, 146384.4299999998, 147973.07999999984, 159210.4100000001, 180079.19, 61761.99999999994, 133101.2399999999, 121849.26999999979, 122636.40000000013, 145678.41000000015, 47130.579999999994, 167878.9400000002, 158374.3800000001, 193028.6700000002, 157078.13999999993, 192020.57999999996, 104628.31999999999, 120689.87000000004, 127508.92000000004, 61234.27, 160580.2300000001, 150780.61999999997, 175020.05000000005, 120521.36000000006, 67557.34000000004, 146347.74999999974, 142567.96999999988, 178148.93000000008, 156509.38999999996, 51442.530000000064, 189282.7399999999, 128263.51999999997, 151161.68, 168428.13000000032, 75274.95999999993, 149831.35000000006, 131035.65999999992, 162124.38999999993, 169658.22, 46537.279999999984, 143302.9, 128287.00999999997, 152257.04999999993, 149380.34000000023, 73277.66999999995, 156995.13000000006, 143011.3599999999, 151047.9199999999, 151129.4700000002, 54853.62000000002, 158577.66999999998, 127420.18999999986, 142941.85999999984, 135792.79999999993, 55466.44999999996, 159912.42000000016, 145090.95999999988, 169776.63000000015, 155641.2099999999, 155101.2699999999, 136761.30999999985, 171309.91000000006, 158860.12, 49148.849999999955, 159375.4800000001, 144105.58999999997, 143891.93, 133415.3700000001, 56681.970000000045, 152473.65000000017, 128877.59999999986, 165761.2099999999, 132137.58, 59390.729999999974, 173761.81000000008, 142749.47000000006, 141165.25000000006, 159674.5599999999, 52753.57999999997, 168601.0800000001, 177794.40000000017, 151775.6399999998, 241071.4500000003, 50317.80999999994, 170463.8600000001, 195120.76999999993, 198307.01000000024, 146777.9000000003, 60357.97999999998, 182615.0199999999, 133470.27, 169592.4299999999, 202584.23000000004, 80701.9000000001, 194346.03000000014, 204805.2500000003, 174286.80999999982, 164176.60000000027, 55043.38000000002, 156310.1400000002, 181015.4200000001, 132216.64, 143589.7500000001, 57817.780000000035, 161175.6, 163826.44000000006, 180150.66000000035, 162958.50999999998, 66659.65000000002, 173611.33000000002, 152908.27999999997, 200698.78000000003, 178232.36000000004, 71173.58000000003, 195771.10000000012, 138050.94999999995, 89444.68000000005, 232256.47999999998, 200887.9700000001, 184475.7100000001, 201375.35, 95188.39000000009, 173906.34000000035, 207081.37999999983, 240704.06000000017, 261219.2900000003, 96078.67000000011, 219942.55999999985, 153527.49999999997, 213804.79000000007, 227382.76000000036, 73217.30999999992, 258571.58000000005, 207394.98999999973, 183359.9799999999, 225139.69000000024, 226970.4199999998, 6522.57, 198228.81000000014, 213439.00000000026, 197023.60000000003, 63381.159999999974, 172539.18999999994, 119422.76999999968, 142934.27999999988, 144104.1800000001, 152637.2800000001, 102993.25999999978, 131027.77000000002, 124761.98999999998, 59264.029999999955, 123004.57, 108002.88999999991, 131559.16999999987, 120205.42000000001, 100611.09999999999, 123050.49999999987, 112318.59000000003, 161452.90000000014, 84019.11999999995, 184529.6499999998, 108589.07000000004, 106703.45999999999, 125060.30999999998, 60531.87, 151964.31000000003, 117210.76999999984, 134356.99999999997, 158078.06999999998, 65019.08999999992, 164722.58999999994, 112042.04999999997, 140658.1999999999, 127796.56000000001, 46915.980000000025, 139471.83999999988, 125482.23999999987, 138513.79000000012, 165173.06, 58167.41999999999, 142893.2599999998, 130782.01999999992, 135373.14999999985, 114993.98999999999, 69698.63999999997, 165490.5200000001, 154766.28000000006, 164956.10000000006, 156604.76, 67123.38, 148161.73999999976, 149280.85999999987, 181105.04999999978, 141276.95000000004, 54580.359999999986, 151833.22000000012, 88693.39, 136077.3099999999, 132107.90999999995, 43307.57999999997, 156299.03000000006, 100601.28999999988, 127970.04999999993, 139479.61000000002, 53572.58999999999, 142075.7800000001, 114291.35999999999, 152805.1400000002, 162747.47000000018, 58234.639999999956, 172396.56999999992, 115559.90999999986, 161598.10000000012, 127043.94000000002, 75613.43999999992, 118364.84999999998, 118524.68999999989, 141935.84999999992, 137272.8899999999, 122219.68999999996, 154934.16000000015, 116821.1299999999, 205361.22999999975, 135469.18999999994, 171373.82000000027, 130611.10000000002, 114426.84000000001, 138811.95999999993, 184322.53999999995, 107563.95999999995, 135578.84999999992, 141693.83999999988, 123718.05999999998, 140335.42000000007, 138796.77999999985, 159751.68000000025, 148258.41999999995, 170902.28, 132797.71999999997, 138868.96999999988, 290.21999999999997, 169003.1700000001, 140688.17000000004, 172825.0200000001, 139658.03999999983, 140660.4299999999, 221136.0899999999, 175149.13, 163105.88000000018, 195300.51000000004, 180309.54000000027, 143547.34000000014, 144289.07000000007, 158315.97000000012, 117534.4499999999, 128527.68999999993, 132998.9899999997, 155737.09999999995, 157066.17000000004, 144396.88999999987, 29907.340000000007, 129719.88000000005, 141369.82999999996, 139976.74999999974, 102549.00999999997, 146318.62999999995, 167847.42000000007, 163259.87000000005, 188343.49, 164216.1900000001, 150442.97000000018, 175487.63000000027, 112935.91000000006, 137083.06000000017, 16623.95, 221597.2800000003, 168161.54, 116638.15999999987, 137155.08999999988, 103922.17999999995, 139487.66999999993, 138724.50999999998, 113586.84000000004, 149878.46, 98763.86000000003, 125111.1599999999, 152830.43000000002, 106378.26999999984, 143609.90000000005, 122813.13999999998, 148041.99, 178304.06999999998, 125025.40999999992, 243035.64999999994, 151068.40000000017, 115764.57000000008, 131310.50000000017, 126947.04999999999, 125769.48999999995, 97067.19000000003, 107045.11000000003, 115299.35000000005, 122478.39999999992, 109326.23999999993, 112279.38999999985, 118423.08999999998, 142397.37999999998, 108156.91000000006, 131636.33000000002, 127143.47000000006, 118907.34999999996, 163497.13000000027, 134005.54999999978, 157730.2600000001, 145593.42, 120409.31999999985, 141687.55999999988, 108895.08000000012, 212318.24000000005, 122488.55000000003, 125613.7600000001, 119316.07000000015, 136352.84000000008, 143281.00000000023, 121809.06999999995, 176744.5800000002, 127301.60999999991, 134818.32999999987, 113778.11000000006, 105525.54999999992, 128520.96000000008, 209627.34000000017, 176262.89000000013, 218789.33000000025, 120953.36000000004, 29174.06, 185272.91, 143121.48999999996, 142387.74999999997, 124093.70000000003, 150198.75000000012, 135267.87999999995, 167275.3300000002, 170282.46000000017, 191622.7599999998, 144946.06000000014, 178620.11000000025, 144385.88999999998, 155233.59000000014, 156317.1700000001, 149666.78000000026, 127756.10000000003, 132410.66999999987, 141363.24000000014, 130990.5100000001, 131112.56000000006, 146148.87, 126218.68999999997, 157776.11000000022, 120826.98000000007, 167068.13000000027, 211.56, 165105.66999999993, 124115.41999999997, 178920.40000000008, 161560.27000000028, 153696.12000000008, 165165.94000000012, 132074.24000000008, 164161.71000000002, 154341.12000000005, 36543.63, 119373.81000000004, 137307.28999999998, 158544.33000000002, 208874.7100000003, 129512.53000000013, 41682.659999999996, 132695.62000000005, 184352.9899999999, 147982.46000000017, 137747.33, 167208.48000000016, 46156.46000000002, 143073.46000000005, 182628.76000000033, 166949.4000000002, 167426.32999999984, 166907.62999999983, 202995.23999999996, 167370.95000000022, 172876.12, 159552.3700000001, 139601.32999999993, 179323.7999999998, 185643.0000000005, 185688.06999999998, 170093.98000000013, 201609.93000000023, 193122.0000000002, 167160.1199999999, 191656.90999999997, 179536.13000000024, 128379.26999999997, 156612.70000000004, 143366.94999999995, 131701.56000000008, 160009.96000000014, 128508.73, 140375.10000000003, 107673.1299999999, 132318.07000000015, 103309.07, 125447.96, 90552.98000000004, 118820.45999999996, 102830.51999999996, 104484.97, 116768.87000000002, 101630.82000000002, 125256.11000000003, 118459.58000000007, 119831.13, 135170.54999999996, 97448.92000000004, 118923.84000000003, 106124.83000000005, 111446.5199999999, 130140.36000000002, 125366.5799999999, 119997.38000000016, 124275.28000000009, 124887.60999999994, 139156.82000000007, 95311.27000000003, 150825.91, 115454.84000000005, 87230.47999999986, 167517.86000000002, 105529.39999999989, 175799.4399999999, 116989.10999999999, 116407.49000000006, 169589.2600000001, 135006.85000000006, 121271.3700000001, 113728.48999999993, 105640.25000000009, 173277.24999999994, 132115.76999999996, 134477.87999999998, 126798.26000000007, 150729.3199999999, 164787.89000000007, 154836.53999999975, 150692.4100000001, 136264.46999999997, 161214.52000000002, 174166.07000000004, 124083.40999999999, 127871.13999999998, 81308.6, 144564.68999999983, 119811.58000000018, 131844.42000000004, 141114.48000000004, 85364.06000000003, 133461.08, 116507.84, 130600.14000000001, 103733.42000000004, 69506.33000000006, 143898.29000000004, 111389.91000000003, 171300.87000000032, 139477.77999999988, 97128.82999999996, 163552.33999999988, 129569.9999999999, 180708.87000000037, 98361.1, 89075.71999999993, 138216.88999999993, 128428.33999999991, 139401.76999999987, 117698.50000000003, 94146.22000000003, 170017.9300000001, 132763.84999999995, 145880.95000000007, 141520.07999999996, 99568.57999999994, 128716.72999999997, 144581.88000000006, 160349.0300000002, 128336.07999999987, 95957.69999999994, 147101.0999999999, 148962.0300000003, 165002.02000000025, 128795.47000000013, 116183.27999999996, 155226.31000000008, 149798.73000000007, 145296.05000000002, 137271.28, 116844.31000000008, 139478.21000000002, 141689.48000000004, 144040.65999999992, 188938.39000000007, 197103.70000000048, 170361.41000000012, 172670.0100000001, 150225.42000000027, 116542.77999999994, 148124.82000000024, 158758.71000000025, 142394.15000000008, 145734.58, 133003.45999999988, 173798.04, 157764.20000000016, 173540.37000000026, 165787.46, 139892.78000000006, 159373.68000000014, 174196.45, 170984.16000000006, 172082.3600000002, 153103.45000000004, 170245.00000000017, 172283.42000000007, 173005.09000000005, 207264.68, 135666.58000000002, 134303.3900000001, 143804.92, 142568.1600000001, 148941.23999999996, 130725.46999999996, 139799.02, 151692.3600000002, 143052.89999999994, 168096.72999999992, 111244.45, 127341.24999999999, 163037.15000000005, 178388.2799999999, 142792.58, 94707.60999999994, 146081.99999999997, 110.64, 146289.40000000002, 152143.0900000002, 156077.15000000002, 162805.9200000002, 141114.92999999996, 144527.35999999987, 168172.59000000005, 169612.02000000002, 150969.65000000008, 144651.45000000013, 161893.92000000013, 123073.57000000005, 176360.8699999998, 157959.35000000003, 133586.84999999977, 167995.89000000007, 162035.04999999987, 148110.66, 131387.69999999995, 152480.68000000002, 180303.88999999984, 210588.25000000006, 198181.51999999981, 172407.06999999986, 174774.9800000002, 466.56, 157786.86000000028, 185870.95000000007, 141626.3899999999, 133284.93000000002, 168653.06999999998, 157305.33000000025, 195818.68000000008, 185397.33999999994, 184031.3200000003, 149889.27000000028, 144060.47999999992, 135311.87000000023, 112191.79999999997, 137495.25, 154780.51000000027, 159450.16000000012, 317915.57, 112732.81999999999, 128844.80000000012, 152054.52000000022, 282867.39000000025, 153960.70000000007, 383253.64000000013, 157831.45000000024, 148530.23000000019, 168712.59999999998, 162479.49000000005, 130927.29999999993, 170967.74000000002, 5528.16, 146753.98999999982, 181239.1900000002, 174417.89000000004, 173807.07999999993, 162070.32000000004, 192764.86000000013, 151213.07, 143268.9, 136553.83999999997, 168355.9599999999, 194737.38999999996, 169476.87000000026, 165099.94000000003, 139481.0599999999, 189852.75000000015]}],\n",
              "                        {\"template\": {\"data\": {\"bar\": [{\"error_x\": {\"color\": \"#2a3f5f\"}, \"error_y\": {\"color\": \"#2a3f5f\"}, \"marker\": {\"line\": {\"color\": \"#E5ECF6\", \"width\": 0.5}}, \"type\": \"bar\"}], \"barpolar\": [{\"marker\": {\"line\": {\"color\": \"#E5ECF6\", \"width\": 0.5}}, \"type\": \"barpolar\"}], \"carpet\": [{\"aaxis\": {\"endlinecolor\": \"#2a3f5f\", \"gridcolor\": \"white\", \"linecolor\": \"white\", \"minorgridcolor\": \"white\", \"startlinecolor\": \"#2a3f5f\"}, \"baxis\": {\"endlinecolor\": \"#2a3f5f\", \"gridcolor\": \"white\", \"linecolor\": \"white\", \"minorgridcolor\": \"white\", \"startlinecolor\": \"#2a3f5f\"}, \"type\": \"carpet\"}], \"choropleth\": [{\"colorbar\": {\"outlinewidth\": 0, \"ticks\": \"\"}, \"type\": \"choropleth\"}], \"contour\": [{\"colorbar\": {\"outlinewidth\": 0, \"ticks\": \"\"}, \"colorscale\": [[0.0, \"#0d0887\"], [0.1111111111111111, \"#46039f\"], [0.2222222222222222, \"#7201a8\"], [0.3333333333333333, \"#9c179e\"], [0.4444444444444444, \"#bd3786\"], [0.5555555555555556, \"#d8576b\"], [0.6666666666666666, \"#ed7953\"], [0.7777777777777778, \"#fb9f3a\"], [0.8888888888888888, \"#fdca26\"], [1.0, \"#f0f921\"]], \"type\": \"contour\"}], \"contourcarpet\": [{\"colorbar\": {\"outlinewidth\": 0, \"ticks\": \"\"}, \"type\": \"contourcarpet\"}], \"heatmap\": [{\"colorbar\": {\"outlinewidth\": 0, \"ticks\": \"\"}, \"colorscale\": [[0.0, \"#0d0887\"], [0.1111111111111111, \"#46039f\"], [0.2222222222222222, \"#7201a8\"], [0.3333333333333333, \"#9c179e\"], [0.4444444444444444, \"#bd3786\"], [0.5555555555555556, \"#d8576b\"], [0.6666666666666666, \"#ed7953\"], [0.7777777777777778, \"#fb9f3a\"], [0.8888888888888888, \"#fdca26\"], [1.0, \"#f0f921\"]], \"type\": \"heatmap\"}], \"heatmapgl\": [{\"colorbar\": {\"outlinewidth\": 0, \"ticks\": \"\"}, \"colorscale\": [[0.0, \"#0d0887\"], [0.1111111111111111, \"#46039f\"], [0.2222222222222222, \"#7201a8\"], [0.3333333333333333, \"#9c179e\"], [0.4444444444444444, \"#bd3786\"], [0.5555555555555556, \"#d8576b\"], [0.6666666666666666, \"#ed7953\"], [0.7777777777777778, \"#fb9f3a\"], [0.8888888888888888, \"#fdca26\"], [1.0, \"#f0f921\"]], \"type\": \"heatmapgl\"}], \"histogram\": [{\"marker\": {\"colorbar\": {\"outlinewidth\": 0, \"ticks\": \"\"}}, \"type\": \"histogram\"}], \"histogram2d\": [{\"colorbar\": {\"outlinewidth\": 0, \"ticks\": \"\"}, \"colorscale\": [[0.0, \"#0d0887\"], [0.1111111111111111, \"#46039f\"], [0.2222222222222222, \"#7201a8\"], [0.3333333333333333, \"#9c179e\"], [0.4444444444444444, \"#bd3786\"], [0.5555555555555556, \"#d8576b\"], [0.6666666666666666, \"#ed7953\"], [0.7777777777777778, \"#fb9f3a\"], [0.8888888888888888, \"#fdca26\"], [1.0, \"#f0f921\"]], \"type\": \"histogram2d\"}], \"histogram2dcontour\": [{\"colorbar\": {\"outlinewidth\": 0, \"ticks\": \"\"}, \"colorscale\": [[0.0, \"#0d0887\"], [0.1111111111111111, \"#46039f\"], [0.2222222222222222, \"#7201a8\"], [0.3333333333333333, \"#9c179e\"], [0.4444444444444444, \"#bd3786\"], [0.5555555555555556, \"#d8576b\"], [0.6666666666666666, \"#ed7953\"], [0.7777777777777778, \"#fb9f3a\"], [0.8888888888888888, \"#fdca26\"], [1.0, \"#f0f921\"]], \"type\": \"histogram2dcontour\"}], \"mesh3d\": [{\"colorbar\": {\"outlinewidth\": 0, \"ticks\": \"\"}, \"type\": \"mesh3d\"}], \"parcoords\": [{\"line\": {\"colorbar\": {\"outlinewidth\": 0, \"ticks\": \"\"}}, \"type\": \"parcoords\"}], \"pie\": [{\"automargin\": true, \"type\": \"pie\"}], \"scatter\": [{\"marker\": {\"colorbar\": {\"outlinewidth\": 0, \"ticks\": \"\"}}, \"type\": \"scatter\"}], \"scatter3d\": [{\"line\": {\"colorbar\": {\"outlinewidth\": 0, \"ticks\": \"\"}}, \"marker\": {\"colorbar\": {\"outlinewidth\": 0, \"ticks\": \"\"}}, \"type\": \"scatter3d\"}], \"scattercarpet\": [{\"marker\": {\"colorbar\": {\"outlinewidth\": 0, \"ticks\": \"\"}}, \"type\": \"scattercarpet\"}], \"scattergeo\": [{\"marker\": {\"colorbar\": {\"outlinewidth\": 0, \"ticks\": \"\"}}, \"type\": \"scattergeo\"}], \"scattergl\": [{\"marker\": {\"colorbar\": {\"outlinewidth\": 0, \"ticks\": \"\"}}, \"type\": \"scattergl\"}], \"scattermapbox\": [{\"marker\": {\"colorbar\": {\"outlinewidth\": 0, \"ticks\": \"\"}}, \"type\": \"scattermapbox\"}], \"scatterpolar\": [{\"marker\": {\"colorbar\": {\"outlinewidth\": 0, \"ticks\": \"\"}}, \"type\": \"scatterpolar\"}], \"scatterpolargl\": [{\"marker\": {\"colorbar\": {\"outlinewidth\": 0, \"ticks\": \"\"}}, \"type\": \"scatterpolargl\"}], \"scatterternary\": [{\"marker\": {\"colorbar\": {\"outlinewidth\": 0, \"ticks\": \"\"}}, \"type\": \"scatterternary\"}], \"surface\": [{\"colorbar\": {\"outlinewidth\": 0, \"ticks\": \"\"}, \"colorscale\": [[0.0, \"#0d0887\"], [0.1111111111111111, \"#46039f\"], [0.2222222222222222, \"#7201a8\"], [0.3333333333333333, \"#9c179e\"], [0.4444444444444444, \"#bd3786\"], [0.5555555555555556, \"#d8576b\"], [0.6666666666666666, \"#ed7953\"], [0.7777777777777778, \"#fb9f3a\"], [0.8888888888888888, \"#fdca26\"], [1.0, \"#f0f921\"]], \"type\": \"surface\"}], \"table\": [{\"cells\": {\"fill\": {\"color\": \"#EBF0F8\"}, \"line\": {\"color\": \"white\"}}, \"header\": {\"fill\": {\"color\": \"#C8D4E3\"}, \"line\": {\"color\": \"white\"}}, \"type\": \"table\"}]}, \"layout\": {\"annotationdefaults\": {\"arrowcolor\": \"#2a3f5f\", \"arrowhead\": 0, \"arrowwidth\": 1}, \"coloraxis\": {\"colorbar\": {\"outlinewidth\": 0, \"ticks\": \"\"}}, \"colorscale\": {\"diverging\": [[0, \"#8e0152\"], [0.1, \"#c51b7d\"], [0.2, \"#de77ae\"], [0.3, \"#f1b6da\"], [0.4, \"#fde0ef\"], [0.5, \"#f7f7f7\"], [0.6, \"#e6f5d0\"], [0.7, \"#b8e186\"], [0.8, \"#7fbc41\"], [0.9, \"#4d9221\"], [1, \"#276419\"]], \"sequential\": [[0.0, \"#0d0887\"], [0.1111111111111111, \"#46039f\"], [0.2222222222222222, \"#7201a8\"], [0.3333333333333333, \"#9c179e\"], [0.4444444444444444, \"#bd3786\"], [0.5555555555555556, \"#d8576b\"], [0.6666666666666666, \"#ed7953\"], [0.7777777777777778, \"#fb9f3a\"], [0.8888888888888888, \"#fdca26\"], [1.0, \"#f0f921\"]], \"sequentialminus\": [[0.0, \"#0d0887\"], [0.1111111111111111, \"#46039f\"], [0.2222222222222222, \"#7201a8\"], [0.3333333333333333, \"#9c179e\"], [0.4444444444444444, \"#bd3786\"], [0.5555555555555556, \"#d8576b\"], [0.6666666666666666, \"#ed7953\"], [0.7777777777777778, \"#fb9f3a\"], [0.8888888888888888, \"#fdca26\"], [1.0, \"#f0f921\"]]}, \"colorway\": [\"#636efa\", \"#EF553B\", \"#00cc96\", \"#ab63fa\", \"#FFA15A\", \"#19d3f3\", \"#FF6692\", \"#B6E880\", \"#FF97FF\", \"#FECB52\"], \"font\": {\"color\": \"#2a3f5f\"}, \"geo\": {\"bgcolor\": \"white\", \"lakecolor\": \"white\", \"landcolor\": \"#E5ECF6\", \"showlakes\": true, \"showland\": true, \"subunitcolor\": \"white\"}, \"hoverlabel\": {\"align\": \"left\"}, \"hovermode\": \"closest\", \"mapbox\": {\"style\": \"light\"}, \"paper_bgcolor\": \"white\", \"plot_bgcolor\": \"#E5ECF6\", \"polar\": {\"angularaxis\": {\"gridcolor\": \"white\", \"linecolor\": \"white\", \"ticks\": \"\"}, \"bgcolor\": \"#E5ECF6\", \"radialaxis\": {\"gridcolor\": \"white\", \"linecolor\": \"white\", \"ticks\": \"\"}}, \"scene\": {\"xaxis\": {\"backgroundcolor\": \"#E5ECF6\", \"gridcolor\": \"white\", \"gridwidth\": 2, \"linecolor\": \"white\", \"showbackground\": true, \"ticks\": \"\", \"zerolinecolor\": \"white\"}, \"yaxis\": {\"backgroundcolor\": \"#E5ECF6\", \"gridcolor\": \"white\", \"gridwidth\": 2, \"linecolor\": \"white\", \"showbackground\": true, \"ticks\": \"\", \"zerolinecolor\": \"white\"}, \"zaxis\": {\"backgroundcolor\": \"#E5ECF6\", \"gridcolor\": \"white\", \"gridwidth\": 2, \"linecolor\": \"white\", \"showbackground\": true, \"ticks\": \"\", \"zerolinecolor\": \"white\"}}, \"shapedefaults\": {\"line\": {\"color\": \"#2a3f5f\"}}, \"ternary\": {\"aaxis\": {\"gridcolor\": \"white\", \"linecolor\": \"white\", \"ticks\": \"\"}, \"baxis\": {\"gridcolor\": \"white\", \"linecolor\": \"white\", \"ticks\": \"\"}, \"bgcolor\": \"#E5ECF6\", \"caxis\": {\"gridcolor\": \"white\", \"linecolor\": \"white\", \"ticks\": \"\"}}, \"title\": {\"x\": 0.05}, \"xaxis\": {\"automargin\": true, \"gridcolor\": \"white\", \"linecolor\": \"white\", \"ticks\": \"\", \"title\": {\"standoff\": 15}, \"zerolinecolor\": \"white\", \"zerolinewidth\": 2}, \"yaxis\": {\"automargin\": true, \"gridcolor\": \"white\", \"linecolor\": \"white\", \"ticks\": \"\", \"title\": {\"standoff\": 15}, \"zerolinecolor\": \"white\", \"zerolinewidth\": 2}}}, \"title\": {\"text\": \"Daily sales\"}, \"xaxis\": {\"title\": {\"text\": \"date\"}}, \"yaxis\": {\"title\": {\"text\": \"sales\"}}},\n",
              "                        {\"responsive\": true}\n",
              "                    ).then(function(){\n",
              "                            \n",
              "var gd = document.getElementById('f9e70fb7-f8d8-4c3b-953c-33fcbeaaa8af');\n",
              "var x = new MutationObserver(function (mutations, observer) {{\n",
              "        var display = window.getComputedStyle(gd).display;\n",
              "        if (!display || display === 'none') {{\n",
              "            console.log([gd, 'removed!']);\n",
              "            Plotly.purge(gd);\n",
              "            observer.disconnect();\n",
              "        }}\n",
              "}});\n",
              "\n",
              "// Listen for the removal of the full notebook cells\n",
              "var notebookContainer = gd.closest('#notebook-container');\n",
              "if (notebookContainer) {{\n",
              "    x.observe(notebookContainer, {childList: true});\n",
              "}}\n",
              "\n",
              "// Listen for the clearing of the current output cell\n",
              "var outputEl = gd.closest('.output');\n",
              "if (outputEl) {{\n",
              "    x.observe(outputEl, {childList: true});\n",
              "}}\n",
              "\n",
              "                        })\n",
              "                };\n",
              "                \n",
              "            </script>\n",
              "        </div>\n",
              "</body>\n",
              "</html>"
            ]
          },
          "metadata": {
            "tags": []
          }
        }
      ]
    },
    {
      "cell_type": "code",
      "metadata": {
        "id": "ceBQg2GG7qPt",
        "outputId": "1840170d-cf83-43c5-9c4d-1064ef51b3d0",
        "colab": {
          "base_uri": "https://localhost:8080/",
          "height": 428
        }
      },
      "source": [
        "df.head()"
      ],
      "execution_count": 213,
      "outputs": [
        {
          "output_type": "execute_result",
          "data": {
            "text/html": [
              "<div>\n",
              "<style scoped>\n",
              "    .dataframe tbody tr th:only-of-type {\n",
              "        vertical-align: middle;\n",
              "    }\n",
              "\n",
              "    .dataframe tbody tr th {\n",
              "        vertical-align: top;\n",
              "    }\n",
              "\n",
              "    .dataframe thead th {\n",
              "        text-align: right;\n",
              "    }\n",
              "</style>\n",
              "<table border=\"1\" class=\"dataframe\">\n",
              "  <thead>\n",
              "    <tr style=\"text-align: right;\">\n",
              "      <th></th>\n",
              "      <th>invoice_and_item_number</th>\n",
              "      <th>date</th>\n",
              "      <th>store_number</th>\n",
              "      <th>store_name</th>\n",
              "      <th>address</th>\n",
              "      <th>city</th>\n",
              "      <th>zip_code</th>\n",
              "      <th>county_number</th>\n",
              "      <th>county</th>\n",
              "      <th>category</th>\n",
              "      <th>category_name</th>\n",
              "      <th>vendor_number</th>\n",
              "      <th>vendor_name</th>\n",
              "      <th>item_number</th>\n",
              "      <th>item_description</th>\n",
              "      <th>pack</th>\n",
              "      <th>bottle_volume_ml</th>\n",
              "      <th>state_bottle_cost</th>\n",
              "      <th>state_bottle_retail</th>\n",
              "      <th>bottles_sold</th>\n",
              "      <th>sale_dollars</th>\n",
              "      <th>volume_sold_liters</th>\n",
              "      <th>year</th>\n",
              "      <th>month</th>\n",
              "      <th>day</th>\n",
              "    </tr>\n",
              "  </thead>\n",
              "  <tbody>\n",
              "    <tr>\n",
              "      <th>1</th>\n",
              "      <td>S28766800075</td>\n",
              "      <td>2015-10-29</td>\n",
              "      <td>2627</td>\n",
              "      <td>Hy-Vee Wine and Spirits #1</td>\n",
              "      <td>3424 MARTIN LUTHER KING JR PKW</td>\n",
              "      <td>des moines</td>\n",
              "      <td>50310</td>\n",
              "      <td>77</td>\n",
              "      <td>polk</td>\n",
              "      <td>1081030</td>\n",
              "      <td>coffee liqueurs</td>\n",
              "      <td>370</td>\n",
              "      <td>pernod ricard usa/austin nichols</td>\n",
              "      <td>67526</td>\n",
              "      <td>kahlua coffee liqueur</td>\n",
              "      <td>12</td>\n",
              "      <td>750</td>\n",
              "      <td>11.99</td>\n",
              "      <td>17.99</td>\n",
              "      <td>36</td>\n",
              "      <td>647.64</td>\n",
              "      <td>27.0</td>\n",
              "      <td>2015</td>\n",
              "      <td>10</td>\n",
              "      <td>29</td>\n",
              "    </tr>\n",
              "    <tr>\n",
              "      <th>2</th>\n",
              "      <td>INV-21177600024</td>\n",
              "      <td>2019-08-12</td>\n",
              "      <td>2465</td>\n",
              "      <td>Sid's Beverage Shop</td>\n",
              "      <td>2727 Dodge St</td>\n",
              "      <td>dubuque</td>\n",
              "      <td>52003</td>\n",
              "      <td>31</td>\n",
              "      <td>dubuque</td>\n",
              "      <td>1081100</td>\n",
              "      <td>coffee liqueurs</td>\n",
              "      <td>065</td>\n",
              "      <td>jim beam brands</td>\n",
              "      <td>67557</td>\n",
              "      <td>kamora coffee liqueur</td>\n",
              "      <td>12</td>\n",
              "      <td>1000</td>\n",
              "      <td>8.39</td>\n",
              "      <td>12.59</td>\n",
              "      <td>6</td>\n",
              "      <td>75.54</td>\n",
              "      <td>6.0</td>\n",
              "      <td>2019</td>\n",
              "      <td>8</td>\n",
              "      <td>12</td>\n",
              "    </tr>\n",
              "    <tr>\n",
              "      <th>3</th>\n",
              "      <td>INV-21158400005</td>\n",
              "      <td>2019-08-12</td>\n",
              "      <td>2190</td>\n",
              "      <td>Central City Liquor, Inc.</td>\n",
              "      <td>1460 2ND AVE</td>\n",
              "      <td>des moines</td>\n",
              "      <td>50314</td>\n",
              "      <td>77</td>\n",
              "      <td>polk</td>\n",
              "      <td>1082100</td>\n",
              "      <td>imported cordials &amp; liqueur</td>\n",
              "      <td>421</td>\n",
              "      <td>sazerac company  inc</td>\n",
              "      <td>964039</td>\n",
              "      <td>sooh aalborg taffel aquavit</td>\n",
              "      <td>6</td>\n",
              "      <td>750</td>\n",
              "      <td>11.00</td>\n",
              "      <td>16.50</td>\n",
              "      <td>30</td>\n",
              "      <td>495.00</td>\n",
              "      <td>22.5</td>\n",
              "      <td>2019</td>\n",
              "      <td>8</td>\n",
              "      <td>12</td>\n",
              "    </tr>\n",
              "    <tr>\n",
              "      <th>4</th>\n",
              "      <td>S23027000038</td>\n",
              "      <td>2014-12-18</td>\n",
              "      <td>3678</td>\n",
              "      <td>Smoke Shop, The</td>\n",
              "      <td>1918 SE 14TH ST</td>\n",
              "      <td>des moines</td>\n",
              "      <td>50320</td>\n",
              "      <td>77</td>\n",
              "      <td>polk</td>\n",
              "      <td>1701100</td>\n",
              "      <td>decanters &amp; specialty packages</td>\n",
              "      <td>420</td>\n",
              "      <td>moet hennessy usa, inc.</td>\n",
              "      <td>561</td>\n",
              "      <td>ardbeg 10yr exploration pack</td>\n",
              "      <td>6</td>\n",
              "      <td>850</td>\n",
              "      <td>25.98</td>\n",
              "      <td>38.97</td>\n",
              "      <td>2</td>\n",
              "      <td>77.94</td>\n",
              "      <td>1.7</td>\n",
              "      <td>2014</td>\n",
              "      <td>12</td>\n",
              "      <td>18</td>\n",
              "    </tr>\n",
              "    <tr>\n",
              "      <th>5</th>\n",
              "      <td>S25314400137</td>\n",
              "      <td>2015-04-27</td>\n",
              "      <td>2633</td>\n",
              "      <td>Hy-Vee #3 / BDI / Des Moines</td>\n",
              "      <td>3221 SE 14TH ST</td>\n",
              "      <td>des moines</td>\n",
              "      <td>50320</td>\n",
              "      <td>77</td>\n",
              "      <td>polk</td>\n",
              "      <td>1081700</td>\n",
              "      <td>distilled spirits specialty</td>\n",
              "      <td>421</td>\n",
              "      <td>sazerac co., inc.</td>\n",
              "      <td>77487</td>\n",
              "      <td>tortilla gold dss</td>\n",
              "      <td>12</td>\n",
              "      <td>1000</td>\n",
              "      <td>4.51</td>\n",
              "      <td>6.77</td>\n",
              "      <td>48</td>\n",
              "      <td>324.96</td>\n",
              "      <td>48.0</td>\n",
              "      <td>2015</td>\n",
              "      <td>4</td>\n",
              "      <td>27</td>\n",
              "    </tr>\n",
              "  </tbody>\n",
              "</table>\n",
              "</div>"
            ],
            "text/plain": [
              "  invoice_and_item_number       date store_number  ...  year month day\n",
              "1            S28766800075 2015-10-29         2627  ...  2015    10  29\n",
              "2         INV-21177600024 2019-08-12         2465  ...  2019     8  12\n",
              "3         INV-21158400005 2019-08-12         2190  ...  2019     8  12\n",
              "4            S23027000038 2014-12-18         3678  ...  2014    12  18\n",
              "5            S25314400137 2015-04-27         2633  ...  2015     4  27\n",
              "\n",
              "[5 rows x 25 columns]"
            ]
          },
          "metadata": {
            "tags": []
          },
          "execution_count": 213
        }
      ]
    },
    {
      "cell_type": "markdown",
      "metadata": {
        "id": "GEN4oXlhwNwV"
      },
      "source": [
        "##### markup"
      ]
    },
    {
      "cell_type": "code",
      "metadata": {
        "id": "s5nX1Pcy8_sN",
        "outputId": "e5dcbe5c-a3df-434c-a924-e94cc2fdf0e6",
        "colab": {
          "base_uri": "https://localhost:8080/"
        }
      },
      "source": [
        "m_u = df['state_bottle_retail'] / df['state_bottle_cost']\n",
        "m_u.mean()"
      ],
      "execution_count": 214,
      "outputs": [
        {
          "output_type": "execute_result",
          "data": {
            "text/plain": [
              "1.501627721496729"
            ]
          },
          "metadata": {
            "tags": []
          },
          "execution_count": 214
        }
      ]
    },
    {
      "cell_type": "markdown",
      "metadata": {
        "id": "nc9yrV0O6Q96"
      },
      "source": [
        "### Assumptions about valuable information, which can be extracted and presented for business."
      ]
    },
    {
      "cell_type": "markdown",
      "metadata": {
        "id": "cLv_MFMU00BU"
      },
      "source": [
        "We already found some useful info : from plots above we can see that diageo americas is most popular vendor_name in terms of sales; october and december are most popular months to buy liquors, probably because people preparing for holidays and liquers are integral part of holidays for most people; types of most profitable types of liquers. \n",
        "\n",
        "Also we could extract information about placement of best stores : are they near campuses or big centers.\n",
        "\n"
      ]
    }
  ]
}