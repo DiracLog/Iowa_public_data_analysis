{
  "nbformat": 4,
  "nbformat_minor": 0,
  "metadata": {
    "colab": {
      "name": "test.ipynb",
      "provenance": [],
      "collapsed_sections": [],
      "toc_visible": true
    },
    "kernelspec": {
      "name": "python3",
      "display_name": "Python 3"
    }
  },
  "cells": [
    {
      "cell_type": "code",
      "metadata": {
        "id": "tX-Erfy-j-av"
      },
      "source": [
        "from google.cloud import bigquery\n",
        "import os\n",
        "\n",
        "path = \"/content/credentials.json\"\n",
        "os.environ[\"GOOGLE_APPLICATION_CREDENTIALS\"] = path\n",
        "\n",
        "client = bigquery.Client()\n",
        "dataset_ref = client.dataset(\"iowa_liquor_sales\", project=\"bigquery-public-data\")\n",
        "dataset = client.get_dataset(dataset_ref)\n",
        "table_ref = dataset_ref.table(\"sales\")\n",
        "table = client.get_table(table_ref)\n",
        "\n",
        "df = client.list_rows(table=table, max_results=1000000).to_dataframe()\n",
        "\n",
        "\n"
      ],
      "execution_count": 199,
      "outputs": []
    },
    {
      "cell_type": "markdown",
      "metadata": {
        "id": "WLnvA9kUX7zq"
      },
      "source": [
        "Let's take a look on data"
      ]
    },
    {
      "cell_type": "code",
      "metadata": {
        "id": "gg0LSMctXpEP",
        "outputId": "ce4c409a-85b9-4d66-9188-877ec88c767c",
        "colab": {
          "base_uri": "https://localhost:8080/",
          "height": 1000
        }
      },
      "source": [
        "df.head(30)\n"
      ],
      "execution_count": 200,
      "outputs": [
        {
          "output_type": "execute_result",
          "data": {
            "text/html": [
              "<div>\n",
              "<style scoped>\n",
              "    .dataframe tbody tr th:only-of-type {\n",
              "        vertical-align: middle;\n",
              "    }\n",
              "\n",
              "    .dataframe tbody tr th {\n",
              "        vertical-align: top;\n",
              "    }\n",
              "\n",
              "    .dataframe thead th {\n",
              "        text-align: right;\n",
              "    }\n",
              "</style>\n",
              "<table border=\"1\" class=\"dataframe\">\n",
              "  <thead>\n",
              "    <tr style=\"text-align: right;\">\n",
              "      <th></th>\n",
              "      <th>invoice_and_item_number</th>\n",
              "      <th>date</th>\n",
              "      <th>store_number</th>\n",
              "      <th>store_name</th>\n",
              "      <th>address</th>\n",
              "      <th>city</th>\n",
              "      <th>zip_code</th>\n",
              "      <th>store_location</th>\n",
              "      <th>county_number</th>\n",
              "      <th>county</th>\n",
              "      <th>category</th>\n",
              "      <th>category_name</th>\n",
              "      <th>vendor_number</th>\n",
              "      <th>vendor_name</th>\n",
              "      <th>item_number</th>\n",
              "      <th>item_description</th>\n",
              "      <th>pack</th>\n",
              "      <th>bottle_volume_ml</th>\n",
              "      <th>state_bottle_cost</th>\n",
              "      <th>state_bottle_retail</th>\n",
              "      <th>bottles_sold</th>\n",
              "      <th>sale_dollars</th>\n",
              "      <th>volume_sold_liters</th>\n",
              "      <th>volume_sold_gallons</th>\n",
              "    </tr>\n",
              "  </thead>\n",
              "  <tbody>\n",
              "    <tr>\n",
              "      <th>0</th>\n",
              "      <td>INV-29710100033</td>\n",
              "      <td>2020-08-25</td>\n",
              "      <td>2665</td>\n",
              "      <td>Hy-Vee / Waukee</td>\n",
              "      <td>1005 E Hickman Rd</td>\n",
              "      <td>Waukee</td>\n",
              "      <td>50263</td>\n",
              "      <td>POINT (-93.854477 41.615059)</td>\n",
              "      <td>25</td>\n",
              "      <td>DALLAS</td>\n",
              "      <td>1081100</td>\n",
              "      <td>Coffee Liqueurs</td>\n",
              "      <td>370</td>\n",
              "      <td>PERNOD RICARD USA</td>\n",
              "      <td>67522</td>\n",
              "      <td>Kahlua Coffee Mini</td>\n",
              "      <td>12</td>\n",
              "      <td>50</td>\n",
              "      <td>6.60</td>\n",
              "      <td>9.90</td>\n",
              "      <td>2</td>\n",
              "      <td>19.80</td>\n",
              "      <td>0.10</td>\n",
              "      <td>0.02</td>\n",
              "    </tr>\n",
              "    <tr>\n",
              "      <th>1</th>\n",
              "      <td>S28766800075</td>\n",
              "      <td>2015-10-29</td>\n",
              "      <td>2627</td>\n",
              "      <td>Hy-Vee Wine and Spirits #1</td>\n",
              "      <td>3424 MARTIN LUTHER KING JR PKW</td>\n",
              "      <td>DES MOINES</td>\n",
              "      <td>50310</td>\n",
              "      <td>POINT (-93.65129 41.626668)</td>\n",
              "      <td>77</td>\n",
              "      <td>Polk</td>\n",
              "      <td>1081030</td>\n",
              "      <td>COFFEE LIQUEURS</td>\n",
              "      <td>370</td>\n",
              "      <td>Pernod Ricard USA/Austin Nichols</td>\n",
              "      <td>67526</td>\n",
              "      <td>Kahlua Coffee Liqueur</td>\n",
              "      <td>12</td>\n",
              "      <td>750</td>\n",
              "      <td>11.99</td>\n",
              "      <td>17.99</td>\n",
              "      <td>36</td>\n",
              "      <td>647.64</td>\n",
              "      <td>27.00</td>\n",
              "      <td>7.13</td>\n",
              "    </tr>\n",
              "    <tr>\n",
              "      <th>2</th>\n",
              "      <td>INV-21177600024</td>\n",
              "      <td>2019-08-12</td>\n",
              "      <td>2465</td>\n",
              "      <td>Sid's Beverage Shop</td>\n",
              "      <td>2727 Dodge St</td>\n",
              "      <td>Dubuque</td>\n",
              "      <td>52003</td>\n",
              "      <td>POINT (-90.705328 42.491862)</td>\n",
              "      <td>31</td>\n",
              "      <td>DUBUQUE</td>\n",
              "      <td>1081100</td>\n",
              "      <td>Coffee Liqueurs</td>\n",
              "      <td>065</td>\n",
              "      <td>Jim Beam Brands</td>\n",
              "      <td>67557</td>\n",
              "      <td>Kamora Coffee Liqueur</td>\n",
              "      <td>12</td>\n",
              "      <td>1000</td>\n",
              "      <td>8.39</td>\n",
              "      <td>12.59</td>\n",
              "      <td>6</td>\n",
              "      <td>75.54</td>\n",
              "      <td>6.00</td>\n",
              "      <td>1.58</td>\n",
              "    </tr>\n",
              "    <tr>\n",
              "      <th>3</th>\n",
              "      <td>INV-21158400005</td>\n",
              "      <td>2019-08-12</td>\n",
              "      <td>2190</td>\n",
              "      <td>Central City Liquor, Inc.</td>\n",
              "      <td>1460 2ND AVE</td>\n",
              "      <td>Des Moines</td>\n",
              "      <td>50314</td>\n",
              "      <td>POINT (-93.619787 41.60566)</td>\n",
              "      <td>77</td>\n",
              "      <td>POLK</td>\n",
              "      <td>1082100</td>\n",
              "      <td>Imported Cordials &amp; Liqueur</td>\n",
              "      <td>421</td>\n",
              "      <td>SAZERAC COMPANY  INC</td>\n",
              "      <td>964039</td>\n",
              "      <td>SOOH Aalborg Taffel Aquavit</td>\n",
              "      <td>6</td>\n",
              "      <td>750</td>\n",
              "      <td>11.00</td>\n",
              "      <td>16.50</td>\n",
              "      <td>30</td>\n",
              "      <td>495.00</td>\n",
              "      <td>22.50</td>\n",
              "      <td>5.94</td>\n",
              "    </tr>\n",
              "    <tr>\n",
              "      <th>4</th>\n",
              "      <td>S23027000038</td>\n",
              "      <td>2014-12-18</td>\n",
              "      <td>3678</td>\n",
              "      <td>Smoke Shop, The</td>\n",
              "      <td>1918 SE 14TH ST</td>\n",
              "      <td>DES MOINES</td>\n",
              "      <td>50320</td>\n",
              "      <td>POINT (-93.597011 41.570844)</td>\n",
              "      <td>77</td>\n",
              "      <td>Polk</td>\n",
              "      <td>1701100</td>\n",
              "      <td>DECANTERS &amp; SPECIALTY PACKAGES</td>\n",
              "      <td>420</td>\n",
              "      <td>Moet Hennessy USA, Inc.</td>\n",
              "      <td>561</td>\n",
              "      <td>Ardbeg 10YR Exploration Pack</td>\n",
              "      <td>6</td>\n",
              "      <td>850</td>\n",
              "      <td>25.98</td>\n",
              "      <td>38.97</td>\n",
              "      <td>2</td>\n",
              "      <td>77.94</td>\n",
              "      <td>1.70</td>\n",
              "      <td>0.45</td>\n",
              "    </tr>\n",
              "    <tr>\n",
              "      <th>5</th>\n",
              "      <td>S25314400137</td>\n",
              "      <td>2015-04-27</td>\n",
              "      <td>2633</td>\n",
              "      <td>Hy-Vee #3 / BDI / Des Moines</td>\n",
              "      <td>3221 SE 14TH ST</td>\n",
              "      <td>DES MOINES</td>\n",
              "      <td>50320</td>\n",
              "      <td>POINT (-93.596754 41.554101)</td>\n",
              "      <td>77</td>\n",
              "      <td>Polk</td>\n",
              "      <td>1081700</td>\n",
              "      <td>DISTILLED SPIRITS SPECIALTY</td>\n",
              "      <td>421</td>\n",
              "      <td>Sazerac Co., Inc.</td>\n",
              "      <td>77487</td>\n",
              "      <td>Tortilla Gold Dss</td>\n",
              "      <td>12</td>\n",
              "      <td>1000</td>\n",
              "      <td>4.51</td>\n",
              "      <td>6.77</td>\n",
              "      <td>48</td>\n",
              "      <td>324.96</td>\n",
              "      <td>48.00</td>\n",
              "      <td>12.68</td>\n",
              "    </tr>\n",
              "    <tr>\n",
              "      <th>6</th>\n",
              "      <td>S11773400003</td>\n",
              "      <td>2013-04-22</td>\n",
              "      <td>3820</td>\n",
              "      <td>Charlie's Wine and Spirits,</td>\n",
              "      <td>507 W 19th St</td>\n",
              "      <td>SIOUX CITY</td>\n",
              "      <td>51103</td>\n",
              "      <td>POINT (-96.420193 42.510535)</td>\n",
              "      <td>97</td>\n",
              "      <td>Woodbury</td>\n",
              "      <td>1081400</td>\n",
              "      <td>TRIPLE SEC</td>\n",
              "      <td>434</td>\n",
              "      <td>Luxco-St Louis</td>\n",
              "      <td>86251</td>\n",
              "      <td>Juarez Triple Sec</td>\n",
              "      <td>12</td>\n",
              "      <td>1000</td>\n",
              "      <td>2.21</td>\n",
              "      <td>3.31</td>\n",
              "      <td>48</td>\n",
              "      <td>158.88</td>\n",
              "      <td>48.00</td>\n",
              "      <td>12.68</td>\n",
              "    </tr>\n",
              "    <tr>\n",
              "      <th>7</th>\n",
              "      <td>S22784200001</td>\n",
              "      <td>2014-12-08</td>\n",
              "      <td>3644</td>\n",
              "      <td>Wal-Mart 2764 / Altoona</td>\n",
              "      <td>3501  8TH ST SW</td>\n",
              "      <td>ALTOONA</td>\n",
              "      <td>50009</td>\n",
              "      <td>POINT (-93.505276 41.644195)</td>\n",
              "      <td>77</td>\n",
              "      <td>Polk</td>\n",
              "      <td>1701100</td>\n",
              "      <td>DECANTERS &amp; SPECIALTY PACKAGES</td>\n",
              "      <td>305</td>\n",
              "      <td>MHW Ltd</td>\n",
              "      <td>40614</td>\n",
              "      <td>Rumchata w/Thermal Cup</td>\n",
              "      <td>6</td>\n",
              "      <td>750</td>\n",
              "      <td>12.50</td>\n",
              "      <td>18.75</td>\n",
              "      <td>30</td>\n",
              "      <td>562.50</td>\n",
              "      <td>22.50</td>\n",
              "      <td>5.94</td>\n",
              "    </tr>\n",
              "    <tr>\n",
              "      <th>8</th>\n",
              "      <td>S08912500001</td>\n",
              "      <td>2012-11-13</td>\n",
              "      <td>4576</td>\n",
              "      <td>THE BOONEDOCKS</td>\n",
              "      <td>228 N HWY 71</td>\n",
              "      <td>ARNOLDS PARK</td>\n",
              "      <td>51331</td>\n",
              "      <td>POINT (-95.125928 43.370941)</td>\n",
              "      <td>30</td>\n",
              "      <td>Dickinson</td>\n",
              "      <td>1011500</td>\n",
              "      <td>STRAIGHT RYE WHISKIES</td>\n",
              "      <td>255</td>\n",
              "      <td>Wilson Daniels Ltd.</td>\n",
              "      <td>27102</td>\n",
              "      <td>Templeton Rye</td>\n",
              "      <td>6</td>\n",
              "      <td>750</td>\n",
              "      <td>18.08</td>\n",
              "      <td>27.13</td>\n",
              "      <td>18</td>\n",
              "      <td>488.34</td>\n",
              "      <td>13.50</td>\n",
              "      <td>3.57</td>\n",
              "    </tr>\n",
              "    <tr>\n",
              "      <th>9</th>\n",
              "      <td>INV-23602600014</td>\n",
              "      <td>2019-12-02</td>\n",
              "      <td>3855</td>\n",
              "      <td>Dyno's Wine and Spirits / Storm Lake</td>\n",
              "      <td>1201 1/2 Lakeshore Dr</td>\n",
              "      <td>Storm Lake</td>\n",
              "      <td>50588</td>\n",
              "      <td>None</td>\n",
              "      <td>11</td>\n",
              "      <td>BUENA VIST</td>\n",
              "      <td>1062100</td>\n",
              "      <td>Gold Rum</td>\n",
              "      <td>035</td>\n",
              "      <td>BACARDI USA INC</td>\n",
              "      <td>43037</td>\n",
              "      <td>Bacardi Gold</td>\n",
              "      <td>12</td>\n",
              "      <td>1000</td>\n",
              "      <td>9.50</td>\n",
              "      <td>14.25</td>\n",
              "      <td>2</td>\n",
              "      <td>28.50</td>\n",
              "      <td>2.00</td>\n",
              "      <td>0.52</td>\n",
              "    </tr>\n",
              "    <tr>\n",
              "      <th>10</th>\n",
              "      <td>S28360900006</td>\n",
              "      <td>2015-10-08</td>\n",
              "      <td>2248</td>\n",
              "      <td>Ingersoll Liquor and Beverage</td>\n",
              "      <td>3500 INGERSOLL AVE</td>\n",
              "      <td>DES MOINES</td>\n",
              "      <td>50312</td>\n",
              "      <td>POINT (-93.664182 41.586319)</td>\n",
              "      <td>77</td>\n",
              "      <td>Polk</td>\n",
              "      <td>1701100</td>\n",
              "      <td>DECANTERS &amp; SPECIALTY PACKAGES</td>\n",
              "      <td>260</td>\n",
              "      <td>Diageo Americas</td>\n",
              "      <td>558</td>\n",
              "      <td>Crown Royal w/2 Glasses</td>\n",
              "      <td>4</td>\n",
              "      <td>1750</td>\n",
              "      <td>31.99</td>\n",
              "      <td>47.99</td>\n",
              "      <td>4</td>\n",
              "      <td>191.96</td>\n",
              "      <td>7.00</td>\n",
              "      <td>1.85</td>\n",
              "    </tr>\n",
              "    <tr>\n",
              "      <th>11</th>\n",
              "      <td>S28488500093</td>\n",
              "      <td>2015-10-15</td>\n",
              "      <td>4829</td>\n",
              "      <td>Central City 2</td>\n",
              "      <td>1501 MICHIGAN AVE</td>\n",
              "      <td>DES MOINES</td>\n",
              "      <td>50314</td>\n",
              "      <td>POINT (-93.613739 41.60572)</td>\n",
              "      <td>77</td>\n",
              "      <td>Polk</td>\n",
              "      <td>1081330</td>\n",
              "      <td>PEACH SCHNAPPS</td>\n",
              "      <td>65</td>\n",
              "      <td>Jim Beam Brands</td>\n",
              "      <td>82847</td>\n",
              "      <td>Dekuyper Peachtree</td>\n",
              "      <td>12</td>\n",
              "      <td>1000</td>\n",
              "      <td>7.62</td>\n",
              "      <td>11.43</td>\n",
              "      <td>72</td>\n",
              "      <td>822.96</td>\n",
              "      <td>72.00</td>\n",
              "      <td>19.02</td>\n",
              "    </tr>\n",
              "    <tr>\n",
              "      <th>12</th>\n",
              "      <td>S16488700057</td>\n",
              "      <td>2013-12-27</td>\n",
              "      <td>3814</td>\n",
              "      <td>Costco Wholesale #788</td>\n",
              "      <td>7205 MILLS CIVIC PKWY</td>\n",
              "      <td>WEST DES MOINES</td>\n",
              "      <td>50266</td>\n",
              "      <td>POINT (-93.806489 41.561342)</td>\n",
              "      <td>25</td>\n",
              "      <td>Dallas</td>\n",
              "      <td>1081015</td>\n",
              "      <td>IMPORTED AMARETTO</td>\n",
              "      <td>130</td>\n",
              "      <td>Disaronno International LLC</td>\n",
              "      <td>64136</td>\n",
              "      <td>Disaronno Amaretto</td>\n",
              "      <td>12</td>\n",
              "      <td>750</td>\n",
              "      <td>12.86</td>\n",
              "      <td>19.79</td>\n",
              "      <td>108</td>\n",
              "      <td>2137.32</td>\n",
              "      <td>81.00</td>\n",
              "      <td>21.40</td>\n",
              "    </tr>\n",
              "    <tr>\n",
              "      <th>13</th>\n",
              "      <td>INV-29820800112</td>\n",
              "      <td>2020-08-28</td>\n",
              "      <td>4291</td>\n",
              "      <td>Fareway Stores #597 / Creston</td>\n",
              "      <td>105 E Adams St</td>\n",
              "      <td>Creston</td>\n",
              "      <td>50801</td>\n",
              "      <td>POINT (-94.237509 40.715722)</td>\n",
              "      <td>88</td>\n",
              "      <td>UNION</td>\n",
              "      <td>1081500</td>\n",
              "      <td>Triple Sec</td>\n",
              "      <td>434</td>\n",
              "      <td>LUXCO INC</td>\n",
              "      <td>86251</td>\n",
              "      <td>Juarez Triple Sec</td>\n",
              "      <td>12</td>\n",
              "      <td>1000</td>\n",
              "      <td>2.42</td>\n",
              "      <td>3.63</td>\n",
              "      <td>5</td>\n",
              "      <td>18.15</td>\n",
              "      <td>5.00</td>\n",
              "      <td>1.32</td>\n",
              "    </tr>\n",
              "    <tr>\n",
              "      <th>14</th>\n",
              "      <td>INV-29829800003</td>\n",
              "      <td>2020-08-28</td>\n",
              "      <td>2718</td>\n",
              "      <td>Hy-Vee Waukon Dollar Fresh</td>\n",
              "      <td>819 11th Ave SW</td>\n",
              "      <td>Waukon</td>\n",
              "      <td>52172</td>\n",
              "      <td>POINT (-91.487004 43.256597)</td>\n",
              "      <td>3</td>\n",
              "      <td>ALLAMAKEE</td>\n",
              "      <td>1011600</td>\n",
              "      <td>Straight Rye Whiskies</td>\n",
              "      <td>255</td>\n",
              "      <td>Infinium Spirits</td>\n",
              "      <td>27102</td>\n",
              "      <td>Templeton 4YR Rye</td>\n",
              "      <td>6</td>\n",
              "      <td>750</td>\n",
              "      <td>18.09</td>\n",
              "      <td>27.14</td>\n",
              "      <td>30</td>\n",
              "      <td>814.20</td>\n",
              "      <td>22.50</td>\n",
              "      <td>5.94</td>\n",
              "    </tr>\n",
              "    <tr>\n",
              "      <th>15</th>\n",
              "      <td>INV-29859200055</td>\n",
              "      <td>2020-08-31</td>\n",
              "      <td>2593</td>\n",
              "      <td>Hy-Vee Food Store / Carroll</td>\n",
              "      <td>905 US Highway 30 West</td>\n",
              "      <td>Carroll</td>\n",
              "      <td>51401</td>\n",
              "      <td>POINT (-94.853591 42.064155)</td>\n",
              "      <td>14</td>\n",
              "      <td>CARROLL</td>\n",
              "      <td>1011600</td>\n",
              "      <td>Straight Rye Whiskies</td>\n",
              "      <td>255</td>\n",
              "      <td>Infinium Spirits</td>\n",
              "      <td>27125</td>\n",
              "      <td>Templeton 6YR Rye</td>\n",
              "      <td>6</td>\n",
              "      <td>750</td>\n",
              "      <td>22.75</td>\n",
              "      <td>34.13</td>\n",
              "      <td>60</td>\n",
              "      <td>2047.80</td>\n",
              "      <td>45.00</td>\n",
              "      <td>11.88</td>\n",
              "    </tr>\n",
              "    <tr>\n",
              "      <th>16</th>\n",
              "      <td>INV-21532100232</td>\n",
              "      <td>2019-08-27</td>\n",
              "      <td>2621</td>\n",
              "      <td>Hy-Vee Food Store #3 / Sioux City</td>\n",
              "      <td>3301 Gordon Dr</td>\n",
              "      <td>Sioux City</td>\n",
              "      <td>51105</td>\n",
              "      <td>POINT (-96.364108 42.487752)</td>\n",
              "      <td>97</td>\n",
              "      <td>WOODBURY</td>\n",
              "      <td>1081500</td>\n",
              "      <td>Triple Sec</td>\n",
              "      <td>434</td>\n",
              "      <td>LUXCO INC</td>\n",
              "      <td>86251</td>\n",
              "      <td>Juarez Triple Sec</td>\n",
              "      <td>12</td>\n",
              "      <td>1000</td>\n",
              "      <td>2.42</td>\n",
              "      <td>3.63</td>\n",
              "      <td>6</td>\n",
              "      <td>21.78</td>\n",
              "      <td>6.00</td>\n",
              "      <td>1.58</td>\n",
              "    </tr>\n",
              "    <tr>\n",
              "      <th>17</th>\n",
              "      <td>S22239300002</td>\n",
              "      <td>2014-11-07</td>\n",
              "      <td>4098</td>\n",
              "      <td>Wal-Mart 1475 / Washington</td>\n",
              "      <td>2485 HWY 92</td>\n",
              "      <td>WASHINGTON</td>\n",
              "      <td>52353</td>\n",
              "      <td>POINT (-91.660194 41.296202)</td>\n",
              "      <td>92</td>\n",
              "      <td>Washington</td>\n",
              "      <td>1701100</td>\n",
              "      <td>DECANTERS &amp; SPECIALTY PACKAGES</td>\n",
              "      <td>305</td>\n",
              "      <td>MHW Ltd</td>\n",
              "      <td>40614</td>\n",
              "      <td>Rumchata w/Thermal Cup</td>\n",
              "      <td>6</td>\n",
              "      <td>750</td>\n",
              "      <td>12.50</td>\n",
              "      <td>18.75</td>\n",
              "      <td>36</td>\n",
              "      <td>675.00</td>\n",
              "      <td>27.00</td>\n",
              "      <td>7.13</td>\n",
              "    </tr>\n",
              "    <tr>\n",
              "      <th>18</th>\n",
              "      <td>S14080600046</td>\n",
              "      <td>2013-10-11</td>\n",
              "      <td>2512</td>\n",
              "      <td>Hy-Vee Wine and Spirits / Iowa City</td>\n",
              "      <td>1720 WATERFRONT DR</td>\n",
              "      <td>IOWA CITY</td>\n",
              "      <td>52240</td>\n",
              "      <td>POINT (-91.53046300000001 41.642764)</td>\n",
              "      <td>52</td>\n",
              "      <td>Johnson</td>\n",
              "      <td>1701100</td>\n",
              "      <td>DECANTERS &amp; SPECIALTY PACKAGES</td>\n",
              "      <td>370</td>\n",
              "      <td>Pernod Ricard USA/Austin Nichols</td>\n",
              "      <td>1500</td>\n",
              "      <td>Jameson Irish Whiskey Tin</td>\n",
              "      <td>6</td>\n",
              "      <td>750</td>\n",
              "      <td>13.74</td>\n",
              "      <td>20.99</td>\n",
              "      <td>56</td>\n",
              "      <td>1175.44</td>\n",
              "      <td>42.00</td>\n",
              "      <td>11.10</td>\n",
              "    </tr>\n",
              "    <tr>\n",
              "      <th>19</th>\n",
              "      <td>S32091700014</td>\n",
              "      <td>2016-05-02</td>\n",
              "      <td>2512</td>\n",
              "      <td>Hy-Vee Wine and Spirits / Iowa City</td>\n",
              "      <td>1720 Waterfront Dr</td>\n",
              "      <td>Iowa City</td>\n",
              "      <td>52240</td>\n",
              "      <td>POINT (-91.53046300000001 41.642764)</td>\n",
              "      <td>52</td>\n",
              "      <td>Johnson</td>\n",
              "      <td>1081330</td>\n",
              "      <td>PEACH SCHNAPPS</td>\n",
              "      <td>434</td>\n",
              "      <td>Luxco-St Louis</td>\n",
              "      <td>84457</td>\n",
              "      <td>Paramount Peach Schnapps</td>\n",
              "      <td>12</td>\n",
              "      <td>1000</td>\n",
              "      <td>5.42</td>\n",
              "      <td>8.13</td>\n",
              "      <td>96</td>\n",
              "      <td>780.48</td>\n",
              "      <td>96.00</td>\n",
              "      <td>25.36</td>\n",
              "    </tr>\n",
              "    <tr>\n",
              "      <th>20</th>\n",
              "      <td>INV-15505000094</td>\n",
              "      <td>2018-11-06</td>\n",
              "      <td>3385</td>\n",
              "      <td>Sam's Club 8162 / Cedar Rapids</td>\n",
              "      <td>2605 Blairs Ferry Rd NE</td>\n",
              "      <td>Cedar Rapids</td>\n",
              "      <td>52402</td>\n",
              "      <td>POINT (-91.67969 42.031819)</td>\n",
              "      <td>57</td>\n",
              "      <td>LINN</td>\n",
              "      <td>1081500</td>\n",
              "      <td>Triple Sec</td>\n",
              "      <td>055</td>\n",
              "      <td>SAZERAC NORTH AMERICA</td>\n",
              "      <td>86390</td>\n",
              "      <td>Montezuma Triple Sec</td>\n",
              "      <td>12</td>\n",
              "      <td>1000</td>\n",
              "      <td>2.13</td>\n",
              "      <td>3.20</td>\n",
              "      <td>660</td>\n",
              "      <td>2112.00</td>\n",
              "      <td>660.00</td>\n",
              "      <td>174.35</td>\n",
              "    </tr>\n",
              "    <tr>\n",
              "      <th>21</th>\n",
              "      <td>INV-15718500035</td>\n",
              "      <td>2018-11-14</td>\n",
              "      <td>5380</td>\n",
              "      <td>Transit General Store</td>\n",
              "      <td>2324 Transit Plaza</td>\n",
              "      <td>Sioux City</td>\n",
              "      <td>51106</td>\n",
              "      <td>POINT (-96.378682 42.476368)</td>\n",
              "      <td>97</td>\n",
              "      <td>WOODBURY</td>\n",
              "      <td>None</td>\n",
              "      <td>None</td>\n",
              "      <td>055</td>\n",
              "      <td>SAZERAC NORTH AMERICA</td>\n",
              "      <td>84197</td>\n",
              "      <td>99 Pineapple Mini</td>\n",
              "      <td>10</td>\n",
              "      <td>600</td>\n",
              "      <td>6.00</td>\n",
              "      <td>9.00</td>\n",
              "      <td>2</td>\n",
              "      <td>18.00</td>\n",
              "      <td>1.20</td>\n",
              "      <td>0.31</td>\n",
              "    </tr>\n",
              "    <tr>\n",
              "      <th>22</th>\n",
              "      <td>INV-15670700168</td>\n",
              "      <td>2018-11-13</td>\n",
              "      <td>2513</td>\n",
              "      <td>Hy-Vee Food Store #2 / Iowa City</td>\n",
              "      <td>812  S 1st Ave</td>\n",
              "      <td>Iowa City</td>\n",
              "      <td>52240</td>\n",
              "      <td>None</td>\n",
              "      <td>52</td>\n",
              "      <td>JOHNSON</td>\n",
              "      <td>1081500</td>\n",
              "      <td>Triple Sec</td>\n",
              "      <td>434</td>\n",
              "      <td>LUXCO INC</td>\n",
              "      <td>86251</td>\n",
              "      <td>Juarez Triple Sec</td>\n",
              "      <td>12</td>\n",
              "      <td>1000</td>\n",
              "      <td>2.42</td>\n",
              "      <td>3.63</td>\n",
              "      <td>6</td>\n",
              "      <td>21.78</td>\n",
              "      <td>6.00</td>\n",
              "      <td>1.58</td>\n",
              "    </tr>\n",
              "    <tr>\n",
              "      <th>23</th>\n",
              "      <td>INV-01461500057</td>\n",
              "      <td>2016-11-08</td>\n",
              "      <td>4167</td>\n",
              "      <td>Iowa Street Market, Inc.</td>\n",
              "      <td>1256 Iowa St</td>\n",
              "      <td>Dubuque</td>\n",
              "      <td>52001</td>\n",
              "      <td>POINT (-90.668138 42.504959)</td>\n",
              "      <td>31</td>\n",
              "      <td>DUBUQUE</td>\n",
              "      <td>1092100</td>\n",
              "      <td>Imported Distilled Spirit Specialty</td>\n",
              "      <td>055</td>\n",
              "      <td>SAZERAC NORTH AMERICA</td>\n",
              "      <td>76227</td>\n",
              "      <td>Montezuma Blue</td>\n",
              "      <td>12</td>\n",
              "      <td>1000</td>\n",
              "      <td>4.66</td>\n",
              "      <td>6.99</td>\n",
              "      <td>16</td>\n",
              "      <td>111.84</td>\n",
              "      <td>16.00</td>\n",
              "      <td>4.23</td>\n",
              "    </tr>\n",
              "    <tr>\n",
              "      <th>24</th>\n",
              "      <td>INV-10798900011</td>\n",
              "      <td>2018-03-08</td>\n",
              "      <td>2515</td>\n",
              "      <td>Hy-Vee Food Store #1 / Mason City</td>\n",
              "      <td>2400 4th St SW</td>\n",
              "      <td>Mason City</td>\n",
              "      <td>50401</td>\n",
              "      <td>POINT (-93.23551 43.149557)</td>\n",
              "      <td>17</td>\n",
              "      <td>CERRO GORD</td>\n",
              "      <td>1012300</td>\n",
              "      <td>Single Malt Scotch</td>\n",
              "      <td>370</td>\n",
              "      <td>PERNOD RICARD USA</td>\n",
              "      <td>5153</td>\n",
              "      <td>Glenlivet Founders Reserve</td>\n",
              "      <td>12</td>\n",
              "      <td>750</td>\n",
              "      <td>19.98</td>\n",
              "      <td>29.97</td>\n",
              "      <td>120</td>\n",
              "      <td>3596.40</td>\n",
              "      <td>90.00</td>\n",
              "      <td>23.78</td>\n",
              "    </tr>\n",
              "    <tr>\n",
              "      <th>25</th>\n",
              "      <td>INV-04738400060</td>\n",
              "      <td>2017-05-04</td>\n",
              "      <td>2130</td>\n",
              "      <td>Sycamore Convenience</td>\n",
              "      <td>617 Sycamore</td>\n",
              "      <td>Waterloo</td>\n",
              "      <td>50703</td>\n",
              "      <td>POINT (-92.335358 42.497854)</td>\n",
              "      <td>7</td>\n",
              "      <td>BLACK HAWK</td>\n",
              "      <td>1081500</td>\n",
              "      <td>Triple Sec</td>\n",
              "      <td>434</td>\n",
              "      <td>LUXCO INC</td>\n",
              "      <td>86251</td>\n",
              "      <td>Juarez Triple Sec</td>\n",
              "      <td>12</td>\n",
              "      <td>1000</td>\n",
              "      <td>2.42</td>\n",
              "      <td>3.63</td>\n",
              "      <td>72</td>\n",
              "      <td>261.36</td>\n",
              "      <td>72.00</td>\n",
              "      <td>19.02</td>\n",
              "    </tr>\n",
              "    <tr>\n",
              "      <th>26</th>\n",
              "      <td>INV-26587500021</td>\n",
              "      <td>2020-04-15</td>\n",
              "      <td>2584</td>\n",
              "      <td>Hy-Vee Food Store / Fort Madison</td>\n",
              "      <td>2606 Avenue L</td>\n",
              "      <td>Fort Madison</td>\n",
              "      <td>52627</td>\n",
              "      <td>POINT (-91.343544 40.626988)</td>\n",
              "      <td>56</td>\n",
              "      <td>LEE</td>\n",
              "      <td>1062100</td>\n",
              "      <td>Gold Rum</td>\n",
              "      <td>434</td>\n",
              "      <td>LUXCO INC</td>\n",
              "      <td>45248</td>\n",
              "      <td>Paramount Gold Rum</td>\n",
              "      <td>6</td>\n",
              "      <td>1750</td>\n",
              "      <td>7.50</td>\n",
              "      <td>11.25</td>\n",
              "      <td>3</td>\n",
              "      <td>33.75</td>\n",
              "      <td>5.25</td>\n",
              "      <td>1.38</td>\n",
              "    </tr>\n",
              "    <tr>\n",
              "      <th>27</th>\n",
              "      <td>INV-23960300100</td>\n",
              "      <td>2019-12-16</td>\n",
              "      <td>2573</td>\n",
              "      <td>Hy-Vee Food Store / Muscatine</td>\n",
              "      <td>2400 2nd Ave</td>\n",
              "      <td>Muscatine</td>\n",
              "      <td>52761</td>\n",
              "      <td>POINT (-91.035138 41.451349)</td>\n",
              "      <td>70</td>\n",
              "      <td>MUSCATINE</td>\n",
              "      <td>1011600</td>\n",
              "      <td>Straight Rye Whiskies</td>\n",
              "      <td>260</td>\n",
              "      <td>DIAGEO AMERICAS</td>\n",
              "      <td>27026</td>\n",
              "      <td>Bulleit 95 Rye</td>\n",
              "      <td>12</td>\n",
              "      <td>1000</td>\n",
              "      <td>20.49</td>\n",
              "      <td>30.74</td>\n",
              "      <td>2</td>\n",
              "      <td>61.48</td>\n",
              "      <td>2.00</td>\n",
              "      <td>0.52</td>\n",
              "    </tr>\n",
              "    <tr>\n",
              "      <th>28</th>\n",
              "      <td>INV-24003200025</td>\n",
              "      <td>2019-12-18</td>\n",
              "      <td>2521</td>\n",
              "      <td>Hy-Vee Food and Drug / Grand / WDM</td>\n",
              "      <td>1990 Grand Avenue</td>\n",
              "      <td>West Des Moines</td>\n",
              "      <td>50265</td>\n",
              "      <td>POINT (-93.73162 41.571127)</td>\n",
              "      <td>77</td>\n",
              "      <td>POLK</td>\n",
              "      <td>1081100</td>\n",
              "      <td>Coffee Liqueurs</td>\n",
              "      <td>370</td>\n",
              "      <td>PERNOD RICARD USA</td>\n",
              "      <td>67526</td>\n",
              "      <td>Kahlua Coffee</td>\n",
              "      <td>12</td>\n",
              "      <td>750</td>\n",
              "      <td>12.49</td>\n",
              "      <td>18.74</td>\n",
              "      <td>60</td>\n",
              "      <td>1124.40</td>\n",
              "      <td>45.00</td>\n",
              "      <td>11.88</td>\n",
              "    </tr>\n",
              "    <tr>\n",
              "      <th>29</th>\n",
              "      <td>S23808300138</td>\n",
              "      <td>2015-02-02</td>\n",
              "      <td>2633</td>\n",
              "      <td>Hy-Vee #3 / BDI / Des Moines</td>\n",
              "      <td>3221 SE 14TH ST</td>\n",
              "      <td>DES MOINES</td>\n",
              "      <td>50320</td>\n",
              "      <td>POINT (-93.596754 41.554101)</td>\n",
              "      <td>77</td>\n",
              "      <td>Polk</td>\n",
              "      <td>1081400</td>\n",
              "      <td>TRIPLE SEC</td>\n",
              "      <td>434</td>\n",
              "      <td>Luxco-St Louis</td>\n",
              "      <td>86251</td>\n",
              "      <td>Juarez Triple Sec</td>\n",
              "      <td>12</td>\n",
              "      <td>1000</td>\n",
              "      <td>2.42</td>\n",
              "      <td>3.63</td>\n",
              "      <td>60</td>\n",
              "      <td>217.80</td>\n",
              "      <td>60.00</td>\n",
              "      <td>15.85</td>\n",
              "    </tr>\n",
              "  </tbody>\n",
              "</table>\n",
              "</div>"
            ],
            "text/plain": [
              "   invoice_and_item_number        date  ... volume_sold_liters volume_sold_gallons\n",
              "0          INV-29710100033  2020-08-25  ...               0.10                0.02\n",
              "1             S28766800075  2015-10-29  ...              27.00                7.13\n",
              "2          INV-21177600024  2019-08-12  ...               6.00                1.58\n",
              "3          INV-21158400005  2019-08-12  ...              22.50                5.94\n",
              "4             S23027000038  2014-12-18  ...               1.70                0.45\n",
              "5             S25314400137  2015-04-27  ...              48.00               12.68\n",
              "6             S11773400003  2013-04-22  ...              48.00               12.68\n",
              "7             S22784200001  2014-12-08  ...              22.50                5.94\n",
              "8             S08912500001  2012-11-13  ...              13.50                3.57\n",
              "9          INV-23602600014  2019-12-02  ...               2.00                0.52\n",
              "10            S28360900006  2015-10-08  ...               7.00                1.85\n",
              "11            S28488500093  2015-10-15  ...              72.00               19.02\n",
              "12            S16488700057  2013-12-27  ...              81.00               21.40\n",
              "13         INV-29820800112  2020-08-28  ...               5.00                1.32\n",
              "14         INV-29829800003  2020-08-28  ...              22.50                5.94\n",
              "15         INV-29859200055  2020-08-31  ...              45.00               11.88\n",
              "16         INV-21532100232  2019-08-27  ...               6.00                1.58\n",
              "17            S22239300002  2014-11-07  ...              27.00                7.13\n",
              "18            S14080600046  2013-10-11  ...              42.00               11.10\n",
              "19            S32091700014  2016-05-02  ...              96.00               25.36\n",
              "20         INV-15505000094  2018-11-06  ...             660.00              174.35\n",
              "21         INV-15718500035  2018-11-14  ...               1.20                0.31\n",
              "22         INV-15670700168  2018-11-13  ...               6.00                1.58\n",
              "23         INV-01461500057  2016-11-08  ...              16.00                4.23\n",
              "24         INV-10798900011  2018-03-08  ...              90.00               23.78\n",
              "25         INV-04738400060  2017-05-04  ...              72.00               19.02\n",
              "26         INV-26587500021  2020-04-15  ...               5.25                1.38\n",
              "27         INV-23960300100  2019-12-16  ...               2.00                0.52\n",
              "28         INV-24003200025  2019-12-18  ...              45.00               11.88\n",
              "29            S23808300138  2015-02-02  ...              60.00               15.85\n",
              "\n",
              "[30 rows x 24 columns]"
            ]
          },
          "metadata": {
            "tags": []
          },
          "execution_count": 200
        }
      ]
    },
    {
      "cell_type": "code",
      "metadata": {
        "id": "k_OGo1cmYuhr",
        "outputId": "3054d080-29ba-46c7-8460-ec38400ab19b",
        "colab": {
          "base_uri": "https://localhost:8080/",
          "height": 317
        }
      },
      "source": [
        "df.describe()\n"
      ],
      "execution_count": 201,
      "outputs": [
        {
          "output_type": "execute_result",
          "data": {
            "text/html": [
              "<div>\n",
              "<style scoped>\n",
              "    .dataframe tbody tr th:only-of-type {\n",
              "        vertical-align: middle;\n",
              "    }\n",
              "\n",
              "    .dataframe tbody tr th {\n",
              "        vertical-align: top;\n",
              "    }\n",
              "\n",
              "    .dataframe thead th {\n",
              "        text-align: right;\n",
              "    }\n",
              "</style>\n",
              "<table border=\"1\" class=\"dataframe\">\n",
              "  <thead>\n",
              "    <tr style=\"text-align: right;\">\n",
              "      <th></th>\n",
              "      <th>pack</th>\n",
              "      <th>bottle_volume_ml</th>\n",
              "      <th>state_bottle_cost</th>\n",
              "      <th>state_bottle_retail</th>\n",
              "      <th>bottles_sold</th>\n",
              "      <th>sale_dollars</th>\n",
              "      <th>volume_sold_liters</th>\n",
              "      <th>volume_sold_gallons</th>\n",
              "    </tr>\n",
              "  </thead>\n",
              "  <tbody>\n",
              "    <tr>\n",
              "      <th>count</th>\n",
              "      <td>1000000.000000</td>\n",
              "      <td>1000000.000000</td>\n",
              "      <td>1000000.000000</td>\n",
              "      <td>1000000.000000</td>\n",
              "      <td>1000000.000000</td>\n",
              "      <td>1000000.000000</td>\n",
              "      <td>1000000.000000</td>\n",
              "      <td>1000000.000000</td>\n",
              "    </tr>\n",
              "    <tr>\n",
              "      <th>mean</th>\n",
              "      <td>12.178318</td>\n",
              "      <td>945.408873</td>\n",
              "      <td>9.398323</td>\n",
              "      <td>14.110303</td>\n",
              "      <td>10.930650</td>\n",
              "      <td>129.745426</td>\n",
              "      <td>9.762765</td>\n",
              "      <td>2.577720</td>\n",
              "    </tr>\n",
              "    <tr>\n",
              "      <th>std</th>\n",
              "      <td>7.810563</td>\n",
              "      <td>658.208399</td>\n",
              "      <td>8.819324</td>\n",
              "      <td>13.229067</td>\n",
              "      <td>27.495669</td>\n",
              "      <td>403.351800</td>\n",
              "      <td>31.710294</td>\n",
              "      <td>8.377024</td>\n",
              "    </tr>\n",
              "    <tr>\n",
              "      <th>min</th>\n",
              "      <td>1.000000</td>\n",
              "      <td>15.000000</td>\n",
              "      <td>0.000000</td>\n",
              "      <td>0.000000</td>\n",
              "      <td>1.000000</td>\n",
              "      <td>0.000000</td>\n",
              "      <td>0.050000</td>\n",
              "      <td>0.010000</td>\n",
              "    </tr>\n",
              "    <tr>\n",
              "      <th>25%</th>\n",
              "      <td>6.000000</td>\n",
              "      <td>750.000000</td>\n",
              "      <td>5.150000</td>\n",
              "      <td>7.750000</td>\n",
              "      <td>3.000000</td>\n",
              "      <td>33.000000</td>\n",
              "      <td>2.000000</td>\n",
              "      <td>0.530000</td>\n",
              "    </tr>\n",
              "    <tr>\n",
              "      <th>50%</th>\n",
              "      <td>12.000000</td>\n",
              "      <td>750.000000</td>\n",
              "      <td>7.600000</td>\n",
              "      <td>11.400000</td>\n",
              "      <td>6.000000</td>\n",
              "      <td>69.600000</td>\n",
              "      <td>9.000000</td>\n",
              "      <td>2.370000</td>\n",
              "    </tr>\n",
              "    <tr>\n",
              "      <th>75%</th>\n",
              "      <td>12.000000</td>\n",
              "      <td>1000.000000</td>\n",
              "      <td>11.490000</td>\n",
              "      <td>17.240000</td>\n",
              "      <td>12.000000</td>\n",
              "      <td>135.000000</td>\n",
              "      <td>10.500000</td>\n",
              "      <td>2.770000</td>\n",
              "    </tr>\n",
              "    <tr>\n",
              "      <th>max</th>\n",
              "      <td>312.000000</td>\n",
              "      <td>378000.000000</td>\n",
              "      <td>3537.300000</td>\n",
              "      <td>5305.950000</td>\n",
              "      <td>2700.000000</td>\n",
              "      <td>53976.000000</td>\n",
              "      <td>4252.500000</td>\n",
              "      <td>1123.390000</td>\n",
              "    </tr>\n",
              "  </tbody>\n",
              "</table>\n",
              "</div>"
            ],
            "text/plain": [
              "                 pack  ...  volume_sold_gallons\n",
              "count  1000000.000000  ...       1000000.000000\n",
              "mean        12.178318  ...             2.577720\n",
              "std          7.810563  ...             8.377024\n",
              "min          1.000000  ...             0.010000\n",
              "25%          6.000000  ...             0.530000\n",
              "50%         12.000000  ...             2.370000\n",
              "75%         12.000000  ...             2.770000\n",
              "max        312.000000  ...          1123.390000\n",
              "\n",
              "[8 rows x 8 columns]"
            ]
          },
          "metadata": {
            "tags": []
          },
          "execution_count": 201
        }
      ]
    },
    {
      "cell_type": "code",
      "metadata": {
        "id": "kbo737-_YvxQ",
        "outputId": "12dd70cf-eecc-465b-c7fe-49a1ace11d16",
        "colab": {
          "base_uri": "https://localhost:8080/"
        }
      },
      "source": [
        "df.columns.tolist()"
      ],
      "execution_count": 202,
      "outputs": [
        {
          "output_type": "execute_result",
          "data": {
            "text/plain": [
              "['invoice_and_item_number',\n",
              " 'date',\n",
              " 'store_number',\n",
              " 'store_name',\n",
              " 'address',\n",
              " 'city',\n",
              " 'zip_code',\n",
              " 'store_location',\n",
              " 'county_number',\n",
              " 'county',\n",
              " 'category',\n",
              " 'category_name',\n",
              " 'vendor_number',\n",
              " 'vendor_name',\n",
              " 'item_number',\n",
              " 'item_description',\n",
              " 'pack',\n",
              " 'bottle_volume_ml',\n",
              " 'state_bottle_cost',\n",
              " 'state_bottle_retail',\n",
              " 'bottles_sold',\n",
              " 'sale_dollars',\n",
              " 'volume_sold_liters',\n",
              " 'volume_sold_gallons']"
            ]
          },
          "metadata": {
            "tags": []
          },
          "execution_count": 202
        }
      ]
    },
    {
      "cell_type": "markdown",
      "metadata": {
        "id": "6tG182LLN65X"
      },
      "source": [
        "# Data Cleaning"
      ]
    },
    {
      "cell_type": "code",
      "metadata": {
        "id": "-gfVswduKWPp"
      },
      "source": [
        "import plotly.graph_objects as go\n",
        "import plotly.express as px\n",
        "import numpy as np\n",
        "import pandas as pd\n",
        "import seaborn as sns\n",
        "import matplotlib.pyplot as plt\n",
        "import datetime\n",
        "from plotly.offline import init_notebook_mode, iplot\n",
        "%matplotlib inline"
      ],
      "execution_count": 203,
      "outputs": []
    },
    {
      "cell_type": "code",
      "metadata": {
        "id": "XeJ5m-SeNJCX",
        "outputId": "92f70155-024a-4cf0-9540-c2545ec8a674",
        "colab": {
          "base_uri": "https://localhost:8080/"
        }
      },
      "source": [
        "df.dtypes"
      ],
      "execution_count": 204,
      "outputs": [
        {
          "output_type": "execute_result",
          "data": {
            "text/plain": [
              "invoice_and_item_number     object\n",
              "date                        object\n",
              "store_number                object\n",
              "store_name                  object\n",
              "address                     object\n",
              "city                        object\n",
              "zip_code                    object\n",
              "store_location              object\n",
              "county_number               object\n",
              "county                      object\n",
              "category                    object\n",
              "category_name               object\n",
              "vendor_number               object\n",
              "vendor_name                 object\n",
              "item_number                 object\n",
              "item_description            object\n",
              "pack                         int64\n",
              "bottle_volume_ml             int64\n",
              "state_bottle_cost          float64\n",
              "state_bottle_retail        float64\n",
              "bottles_sold                 int64\n",
              "sale_dollars               float64\n",
              "volume_sold_liters         float64\n",
              "volume_sold_gallons        float64\n",
              "dtype: object"
            ]
          },
          "metadata": {
            "tags": []
          },
          "execution_count": 204
        }
      ]
    },
    {
      "cell_type": "code",
      "metadata": {
        "id": "fSyhBu7IaLpz",
        "outputId": "94bf3592-e983-4640-e378-2c27b4fb68b3",
        "colab": {
          "base_uri": "https://localhost:8080/"
        }
      },
      "source": [
        "df['city'].value_counts()"
      ],
      "execution_count": 205,
      "outputs": [
        {
          "output_type": "execute_result",
          "data": {
            "text/plain": [
              "Des Moines          44096\n",
              "DES MOINES          41522\n",
              "Cedar Rapids        34991\n",
              "CEDAR RAPIDS        30448\n",
              "Davenport           23125\n",
              "                    ...  \n",
              "LOHRVILLE               3\n",
              "RUNNELLS                3\n",
              "Colesburg               2\n",
              "Colorado Springs        1\n",
              "ALVORD                  1\n",
              "Name: city, Length: 837, dtype: int64"
            ]
          },
          "metadata": {
            "tags": []
          },
          "execution_count": 205
        }
      ]
    },
    {
      "cell_type": "markdown",
      "metadata": {
        "id": "i_f8uyMvaQ6Y"
      },
      "source": [
        "##### We can see that there are register problem in the data"
      ]
    },
    {
      "cell_type": "code",
      "metadata": {
        "id": "AGVKEqD-NXsJ",
        "outputId": "a63d9fa9-bc72-4043-e3b2-22ccfc2997ea",
        "colab": {
          "base_uri": "https://localhost:8080/"
        }
      },
      "source": [
        "df['city'] = df['city'].str.lower()\n",
        "print(df['city'].nunique())\n",
        "df['city'].value_counts()\n"
      ],
      "execution_count": 206,
      "outputs": [
        {
          "output_type": "stream",
          "text": [
            "456\n"
          ],
          "name": "stdout"
        },
        {
          "output_type": "execute_result",
          "data": {
            "text/plain": [
              "des moines          85618\n",
              "cedar rapids        65439\n",
              "davenport           44302\n",
              "waterloo            31419\n",
              "council bluffs      29812\n",
              "                    ...  \n",
              "washta                  5\n",
              "allerton                4\n",
              "earling                 3\n",
              "alvord                  1\n",
              "colorado springs        1\n",
              "Name: city, Length: 456, dtype: int64"
            ]
          },
          "metadata": {
            "tags": []
          },
          "execution_count": 206
        }
      ]
    },
    {
      "cell_type": "markdown",
      "metadata": {
        "id": "nd08N6Lhjyqa"
      },
      "source": [
        "##### Let's do it for \"same\" columns"
      ]
    },
    {
      "cell_type": "code",
      "metadata": {
        "id": "QD6zOipOjg5d"
      },
      "source": [
        "def register_preprocess(columns):\n",
        "  for col in columns:\n",
        "    df[col] = df[col].str.lower()"
      ],
      "execution_count": 207,
      "outputs": []
    },
    {
      "cell_type": "code",
      "metadata": {
        "id": "VD51hd47hBle"
      },
      "source": [
        "columns = ['city', 'category_name', 'item_description', 'county', 'vendor_name']"
      ],
      "execution_count": 208,
      "outputs": []
    },
    {
      "cell_type": "code",
      "metadata": {
        "id": "A8rd0VZbjjS7"
      },
      "source": [
        "register_preprocess(columns=columns)"
      ],
      "execution_count": 209,
      "outputs": []
    },
    {
      "cell_type": "markdown",
      "metadata": {
        "id": "-m1pOu26UdKE"
      },
      "source": [
        "##### Lets calculate amount of missing values"
      ]
    },
    {
      "cell_type": "code",
      "metadata": {
        "id": "CMsWY-6aS0mC",
        "outputId": "7ce1c6f2-e6fd-470e-a738-4c3d20b98ed7",
        "colab": {
          "base_uri": "https://localhost:8080/"
        }
      },
      "source": [
        "df.isnull().sum()"
      ],
      "execution_count": 210,
      "outputs": [
        {
          "output_type": "execute_result",
          "data": {
            "text/plain": [
              "invoice_and_item_number        0\n",
              "date                           0\n",
              "store_number                   0\n",
              "store_name                     0\n",
              "address                     3839\n",
              "city                        3839\n",
              "zip_code                    3840\n",
              "store_location             95389\n",
              "county_number               7644\n",
              "county                      7643\n",
              "category                    1419\n",
              "category_name               2087\n",
              "vendor_number                  0\n",
              "vendor_name                    0\n",
              "item_number                    0\n",
              "item_description               0\n",
              "pack                           0\n",
              "bottle_volume_ml               0\n",
              "state_bottle_cost              0\n",
              "state_bottle_retail            0\n",
              "bottles_sold                   0\n",
              "sale_dollars                   0\n",
              "volume_sold_liters             0\n",
              "volume_sold_gallons            0\n",
              "dtype: int64"
            ]
          },
          "metadata": {
            "tags": []
          },
          "execution_count": 210
        }
      ]
    },
    {
      "cell_type": "markdown",
      "metadata": {
        "id": "1efMsmrCO5mM"
      },
      "source": [
        "##### Let's delete column 'store location'. This column is useless for our analysis and also contain a lot of missing values. Also we don't need \"volume sold gallons\" column for future analysis."
      ]
    },
    {
      "cell_type": "code",
      "metadata": {
        "id": "smK5DG4dS8e6",
        "outputId": "52ebebe4-17b7-44d9-955f-56173e3fb1db",
        "colab": {
          "base_uri": "https://localhost:8080/"
        }
      },
      "source": [
        "df = df.drop(['store_location','volume_sold_gallons'], 1)\n",
        "df.isnull().sum()"
      ],
      "execution_count": 211,
      "outputs": [
        {
          "output_type": "execute_result",
          "data": {
            "text/plain": [
              "invoice_and_item_number       0\n",
              "date                          0\n",
              "store_number                  0\n",
              "store_name                    0\n",
              "address                    3839\n",
              "city                       3839\n",
              "zip_code                   3840\n",
              "county_number              7644\n",
              "county                     7643\n",
              "category                   1419\n",
              "category_name              2087\n",
              "vendor_number                 0\n",
              "vendor_name                   0\n",
              "item_number                   0\n",
              "item_description              0\n",
              "pack                          0\n",
              "bottle_volume_ml              0\n",
              "state_bottle_cost             0\n",
              "state_bottle_retail           0\n",
              "bottles_sold                  0\n",
              "sale_dollars                  0\n",
              "volume_sold_liters            0\n",
              "dtype: int64"
            ]
          },
          "metadata": {
            "tags": []
          },
          "execution_count": 211
        }
      ]
    },
    {
      "cell_type": "markdown",
      "metadata": {
        "id": "_WWbbG3VPbe7"
      },
      "source": [
        "##### There are also missed values in other columns. Their amount relatively to size of the dataset is quite low thats why we can just delete rows which contain missing values."
      ]
    },
    {
      "cell_type": "code",
      "metadata": {
        "id": "y0NjY_-abmDX",
        "outputId": "0a5d4476-fd5f-4c20-9084-c91fc13d3b25",
        "colab": {
          "base_uri": "https://localhost:8080/"
        }
      },
      "source": [
        "df.shape"
      ],
      "execution_count": 212,
      "outputs": [
        {
          "output_type": "execute_result",
          "data": {
            "text/plain": [
              "(1000000, 22)"
            ]
          },
          "metadata": {
            "tags": []
          },
          "execution_count": 212
        }
      ]
    },
    {
      "cell_type": "code",
      "metadata": {
        "id": "1LBiaUg8P7Xf",
        "outputId": "fb534a87-b7c0-46e9-fd99-774e856bcea0",
        "colab": {
          "base_uri": "https://localhost:8080/"
        }
      },
      "source": [
        "df.dropna(inplace = True)\n",
        "df.shape"
      ],
      "execution_count": 213,
      "outputs": [
        {
          "output_type": "execute_result",
          "data": {
            "text/plain": [
              "(990300, 22)"
            ]
          },
          "metadata": {
            "tags": []
          },
          "execution_count": 213
        }
      ]
    },
    {
      "cell_type": "markdown",
      "metadata": {
        "id": "6CJzy_33b65y"
      },
      "source": [
        "##### We can preprocess data entries and separate them to 3 distinct columns."
      ]
    },
    {
      "cell_type": "code",
      "metadata": {
        "id": "ITNnfdFpQAUa"
      },
      "source": [
        "df['date'] = pd.to_datetime(df['date'])"
      ],
      "execution_count": 214,
      "outputs": []
    },
    {
      "cell_type": "code",
      "metadata": {
        "id": "lJPGlQCOcBKv"
      },
      "source": [
        "df['year'] = df['date'].dt.year\n",
        "df['month'] = df['date'].dt.month\n",
        "df['day'] = df['date'].dt.day"
      ],
      "execution_count": 215,
      "outputs": []
    },
    {
      "cell_type": "code",
      "metadata": {
        "id": "gSewpJdjQHh8",
        "outputId": "2688991a-2ae1-436f-aa44-1bf13cbacc0b",
        "colab": {
          "base_uri": "https://localhost:8080/",
          "height": 428
        }
      },
      "source": [
        "df.head()"
      ],
      "execution_count": 216,
      "outputs": [
        {
          "output_type": "execute_result",
          "data": {
            "text/html": [
              "<div>\n",
              "<style scoped>\n",
              "    .dataframe tbody tr th:only-of-type {\n",
              "        vertical-align: middle;\n",
              "    }\n",
              "\n",
              "    .dataframe tbody tr th {\n",
              "        vertical-align: top;\n",
              "    }\n",
              "\n",
              "    .dataframe thead th {\n",
              "        text-align: right;\n",
              "    }\n",
              "</style>\n",
              "<table border=\"1\" class=\"dataframe\">\n",
              "  <thead>\n",
              "    <tr style=\"text-align: right;\">\n",
              "      <th></th>\n",
              "      <th>invoice_and_item_number</th>\n",
              "      <th>date</th>\n",
              "      <th>store_number</th>\n",
              "      <th>store_name</th>\n",
              "      <th>address</th>\n",
              "      <th>city</th>\n",
              "      <th>zip_code</th>\n",
              "      <th>county_number</th>\n",
              "      <th>county</th>\n",
              "      <th>category</th>\n",
              "      <th>category_name</th>\n",
              "      <th>vendor_number</th>\n",
              "      <th>vendor_name</th>\n",
              "      <th>item_number</th>\n",
              "      <th>item_description</th>\n",
              "      <th>pack</th>\n",
              "      <th>bottle_volume_ml</th>\n",
              "      <th>state_bottle_cost</th>\n",
              "      <th>state_bottle_retail</th>\n",
              "      <th>bottles_sold</th>\n",
              "      <th>sale_dollars</th>\n",
              "      <th>volume_sold_liters</th>\n",
              "      <th>year</th>\n",
              "      <th>month</th>\n",
              "      <th>day</th>\n",
              "    </tr>\n",
              "  </thead>\n",
              "  <tbody>\n",
              "    <tr>\n",
              "      <th>0</th>\n",
              "      <td>INV-29710100033</td>\n",
              "      <td>2020-08-25</td>\n",
              "      <td>2665</td>\n",
              "      <td>Hy-Vee / Waukee</td>\n",
              "      <td>1005 E Hickman Rd</td>\n",
              "      <td>waukee</td>\n",
              "      <td>50263</td>\n",
              "      <td>25</td>\n",
              "      <td>dallas</td>\n",
              "      <td>1081100</td>\n",
              "      <td>coffee liqueurs</td>\n",
              "      <td>370</td>\n",
              "      <td>pernod ricard usa</td>\n",
              "      <td>67522</td>\n",
              "      <td>kahlua coffee mini</td>\n",
              "      <td>12</td>\n",
              "      <td>50</td>\n",
              "      <td>6.60</td>\n",
              "      <td>9.90</td>\n",
              "      <td>2</td>\n",
              "      <td>19.80</td>\n",
              "      <td>0.1</td>\n",
              "      <td>2020</td>\n",
              "      <td>8</td>\n",
              "      <td>25</td>\n",
              "    </tr>\n",
              "    <tr>\n",
              "      <th>1</th>\n",
              "      <td>S28766800075</td>\n",
              "      <td>2015-10-29</td>\n",
              "      <td>2627</td>\n",
              "      <td>Hy-Vee Wine and Spirits #1</td>\n",
              "      <td>3424 MARTIN LUTHER KING JR PKW</td>\n",
              "      <td>des moines</td>\n",
              "      <td>50310</td>\n",
              "      <td>77</td>\n",
              "      <td>polk</td>\n",
              "      <td>1081030</td>\n",
              "      <td>coffee liqueurs</td>\n",
              "      <td>370</td>\n",
              "      <td>pernod ricard usa/austin nichols</td>\n",
              "      <td>67526</td>\n",
              "      <td>kahlua coffee liqueur</td>\n",
              "      <td>12</td>\n",
              "      <td>750</td>\n",
              "      <td>11.99</td>\n",
              "      <td>17.99</td>\n",
              "      <td>36</td>\n",
              "      <td>647.64</td>\n",
              "      <td>27.0</td>\n",
              "      <td>2015</td>\n",
              "      <td>10</td>\n",
              "      <td>29</td>\n",
              "    </tr>\n",
              "    <tr>\n",
              "      <th>2</th>\n",
              "      <td>INV-21177600024</td>\n",
              "      <td>2019-08-12</td>\n",
              "      <td>2465</td>\n",
              "      <td>Sid's Beverage Shop</td>\n",
              "      <td>2727 Dodge St</td>\n",
              "      <td>dubuque</td>\n",
              "      <td>52003</td>\n",
              "      <td>31</td>\n",
              "      <td>dubuque</td>\n",
              "      <td>1081100</td>\n",
              "      <td>coffee liqueurs</td>\n",
              "      <td>065</td>\n",
              "      <td>jim beam brands</td>\n",
              "      <td>67557</td>\n",
              "      <td>kamora coffee liqueur</td>\n",
              "      <td>12</td>\n",
              "      <td>1000</td>\n",
              "      <td>8.39</td>\n",
              "      <td>12.59</td>\n",
              "      <td>6</td>\n",
              "      <td>75.54</td>\n",
              "      <td>6.0</td>\n",
              "      <td>2019</td>\n",
              "      <td>8</td>\n",
              "      <td>12</td>\n",
              "    </tr>\n",
              "    <tr>\n",
              "      <th>3</th>\n",
              "      <td>INV-21158400005</td>\n",
              "      <td>2019-08-12</td>\n",
              "      <td>2190</td>\n",
              "      <td>Central City Liquor, Inc.</td>\n",
              "      <td>1460 2ND AVE</td>\n",
              "      <td>des moines</td>\n",
              "      <td>50314</td>\n",
              "      <td>77</td>\n",
              "      <td>polk</td>\n",
              "      <td>1082100</td>\n",
              "      <td>imported cordials &amp; liqueur</td>\n",
              "      <td>421</td>\n",
              "      <td>sazerac company  inc</td>\n",
              "      <td>964039</td>\n",
              "      <td>sooh aalborg taffel aquavit</td>\n",
              "      <td>6</td>\n",
              "      <td>750</td>\n",
              "      <td>11.00</td>\n",
              "      <td>16.50</td>\n",
              "      <td>30</td>\n",
              "      <td>495.00</td>\n",
              "      <td>22.5</td>\n",
              "      <td>2019</td>\n",
              "      <td>8</td>\n",
              "      <td>12</td>\n",
              "    </tr>\n",
              "    <tr>\n",
              "      <th>4</th>\n",
              "      <td>S23027000038</td>\n",
              "      <td>2014-12-18</td>\n",
              "      <td>3678</td>\n",
              "      <td>Smoke Shop, The</td>\n",
              "      <td>1918 SE 14TH ST</td>\n",
              "      <td>des moines</td>\n",
              "      <td>50320</td>\n",
              "      <td>77</td>\n",
              "      <td>polk</td>\n",
              "      <td>1701100</td>\n",
              "      <td>decanters &amp; specialty packages</td>\n",
              "      <td>420</td>\n",
              "      <td>moet hennessy usa, inc.</td>\n",
              "      <td>561</td>\n",
              "      <td>ardbeg 10yr exploration pack</td>\n",
              "      <td>6</td>\n",
              "      <td>850</td>\n",
              "      <td>25.98</td>\n",
              "      <td>38.97</td>\n",
              "      <td>2</td>\n",
              "      <td>77.94</td>\n",
              "      <td>1.7</td>\n",
              "      <td>2014</td>\n",
              "      <td>12</td>\n",
              "      <td>18</td>\n",
              "    </tr>\n",
              "  </tbody>\n",
              "</table>\n",
              "</div>"
            ],
            "text/plain": [
              "  invoice_and_item_number       date store_number  ...  year month day\n",
              "0         INV-29710100033 2020-08-25         2665  ...  2020     8  25\n",
              "1            S28766800075 2015-10-29         2627  ...  2015    10  29\n",
              "2         INV-21177600024 2019-08-12         2465  ...  2019     8  12\n",
              "3         INV-21158400005 2019-08-12         2190  ...  2019     8  12\n",
              "4            S23027000038 2014-12-18         3678  ...  2014    12  18\n",
              "\n",
              "[5 rows x 25 columns]"
            ]
          },
          "metadata": {
            "tags": []
          },
          "execution_count": 216
        }
      ]
    },
    {
      "cell_type": "code",
      "metadata": {
        "id": "z3IDccHpQP6z",
        "outputId": "a5946fa6-76f5-4e9f-ec16-19a2df98c1d2",
        "colab": {
          "base_uri": "https://localhost:8080/"
        }
      },
      "source": [
        "print(df['date'].min())\n",
        "print(df['date'].max())"
      ],
      "execution_count": 217,
      "outputs": [
        {
          "output_type": "stream",
          "text": [
            "2012-01-03 00:00:00\n",
            "2020-10-30 00:00:00\n"
          ],
          "name": "stdout"
        }
      ]
    },
    {
      "cell_type": "markdown",
      "metadata": {
        "id": "cpASthb4Xe3n"
      },
      "source": [
        "### Basic analysis"
      ]
    },
    {
      "cell_type": "code",
      "metadata": {
        "id": "X0-z-R7nkTEq",
        "outputId": "65e08b84-0f8f-42bb-a395-6dad2126ce89",
        "colab": {
          "base_uri": "https://localhost:8080/",
          "height": 224
        }
      },
      "source": [
        "df_num = df.select_dtypes(include = ['float64', 'int64'])\n",
        "df_num.head()"
      ],
      "execution_count": 218,
      "outputs": [
        {
          "output_type": "execute_result",
          "data": {
            "text/html": [
              "<div>\n",
              "<style scoped>\n",
              "    .dataframe tbody tr th:only-of-type {\n",
              "        vertical-align: middle;\n",
              "    }\n",
              "\n",
              "    .dataframe tbody tr th {\n",
              "        vertical-align: top;\n",
              "    }\n",
              "\n",
              "    .dataframe thead th {\n",
              "        text-align: right;\n",
              "    }\n",
              "</style>\n",
              "<table border=\"1\" class=\"dataframe\">\n",
              "  <thead>\n",
              "    <tr style=\"text-align: right;\">\n",
              "      <th></th>\n",
              "      <th>pack</th>\n",
              "      <th>bottle_volume_ml</th>\n",
              "      <th>state_bottle_cost</th>\n",
              "      <th>state_bottle_retail</th>\n",
              "      <th>bottles_sold</th>\n",
              "      <th>sale_dollars</th>\n",
              "      <th>volume_sold_liters</th>\n",
              "      <th>year</th>\n",
              "      <th>month</th>\n",
              "      <th>day</th>\n",
              "    </tr>\n",
              "  </thead>\n",
              "  <tbody>\n",
              "    <tr>\n",
              "      <th>0</th>\n",
              "      <td>12</td>\n",
              "      <td>50</td>\n",
              "      <td>6.60</td>\n",
              "      <td>9.90</td>\n",
              "      <td>2</td>\n",
              "      <td>19.80</td>\n",
              "      <td>0.1</td>\n",
              "      <td>2020</td>\n",
              "      <td>8</td>\n",
              "      <td>25</td>\n",
              "    </tr>\n",
              "    <tr>\n",
              "      <th>1</th>\n",
              "      <td>12</td>\n",
              "      <td>750</td>\n",
              "      <td>11.99</td>\n",
              "      <td>17.99</td>\n",
              "      <td>36</td>\n",
              "      <td>647.64</td>\n",
              "      <td>27.0</td>\n",
              "      <td>2015</td>\n",
              "      <td>10</td>\n",
              "      <td>29</td>\n",
              "    </tr>\n",
              "    <tr>\n",
              "      <th>2</th>\n",
              "      <td>12</td>\n",
              "      <td>1000</td>\n",
              "      <td>8.39</td>\n",
              "      <td>12.59</td>\n",
              "      <td>6</td>\n",
              "      <td>75.54</td>\n",
              "      <td>6.0</td>\n",
              "      <td>2019</td>\n",
              "      <td>8</td>\n",
              "      <td>12</td>\n",
              "    </tr>\n",
              "    <tr>\n",
              "      <th>3</th>\n",
              "      <td>6</td>\n",
              "      <td>750</td>\n",
              "      <td>11.00</td>\n",
              "      <td>16.50</td>\n",
              "      <td>30</td>\n",
              "      <td>495.00</td>\n",
              "      <td>22.5</td>\n",
              "      <td>2019</td>\n",
              "      <td>8</td>\n",
              "      <td>12</td>\n",
              "    </tr>\n",
              "    <tr>\n",
              "      <th>4</th>\n",
              "      <td>6</td>\n",
              "      <td>850</td>\n",
              "      <td>25.98</td>\n",
              "      <td>38.97</td>\n",
              "      <td>2</td>\n",
              "      <td>77.94</td>\n",
              "      <td>1.7</td>\n",
              "      <td>2014</td>\n",
              "      <td>12</td>\n",
              "      <td>18</td>\n",
              "    </tr>\n",
              "  </tbody>\n",
              "</table>\n",
              "</div>"
            ],
            "text/plain": [
              "   pack  bottle_volume_ml  state_bottle_cost  ...  year  month  day\n",
              "0    12                50               6.60  ...  2020      8   25\n",
              "1    12               750              11.99  ...  2015     10   29\n",
              "2    12              1000               8.39  ...  2019      8   12\n",
              "3     6               750              11.00  ...  2019      8   12\n",
              "4     6               850              25.98  ...  2014     12   18\n",
              "\n",
              "[5 rows x 10 columns]"
            ]
          },
          "metadata": {
            "tags": []
          },
          "execution_count": 218
        }
      ]
    },
    {
      "cell_type": "code",
      "metadata": {
        "id": "wDN9H7D4kVgT",
        "outputId": "3fb7729b-fe63-442a-8f29-81bb0ddea62e",
        "colab": {
          "base_uri": "https://localhost:8080/",
          "height": 1000
        }
      },
      "source": [
        "df_num.hist(figsize=(16, 20), bins=10, xlabelsize=8, ylabelsize=8)"
      ],
      "execution_count": 219,
      "outputs": [
        {
          "output_type": "execute_result",
          "data": {
            "text/plain": [
              "array([[<matplotlib.axes._subplots.AxesSubplot object at 0x7f5f288edb38>,\n",
              "        <matplotlib.axes._subplots.AxesSubplot object at 0x7f5fcdce7fd0>,\n",
              "        <matplotlib.axes._subplots.AxesSubplot object at 0x7f5f28f95d68>],\n",
              "       [<matplotlib.axes._subplots.AxesSubplot object at 0x7f5f29208208>,\n",
              "        <matplotlib.axes._subplots.AxesSubplot object at 0x7f5f294ec128>,\n",
              "        <matplotlib.axes._subplots.AxesSubplot object at 0x7f5f296712b0>],\n",
              "       [<matplotlib.axes._subplots.AxesSubplot object at 0x7f5f29883550>,\n",
              "        <matplotlib.axes._subplots.AxesSubplot object at 0x7f5f29a91a20>,\n",
              "        <matplotlib.axes._subplots.AxesSubplot object at 0x7f5f29a91748>],\n",
              "       [<matplotlib.axes._subplots.AxesSubplot object at 0x7f5f29e5c320>,\n",
              "        <matplotlib.axes._subplots.AxesSubplot object at 0x7f5f2a001d30>,\n",
              "        <matplotlib.axes._subplots.AxesSubplot object at 0x7f5f2a2041d0>]],\n",
              "      dtype=object)"
            ]
          },
          "metadata": {
            "tags": []
          },
          "execution_count": 219
        },
        {
          "output_type": "display_data",
          "data": {
            "image/png": "[encoded data removed]",
            "text/plain": [
              "<Figure size 1152x1440 with 12 Axes>"
            ]
          },
          "metadata": {
            "tags": [],
            "needs_background": "light"
          }
        }
      ]
    },
    {
      "cell_type": "markdown",
      "metadata": {
        "id": "MbdQ2swdXxm7"
      },
      "source": [
        "##### Top 10 sales in dollars depending on category"
      ]
    },
    {
      "cell_type": "code",
      "metadata": {
        "id": "E4kPbNVJSVXF"
      },
      "source": [
        "df_plot = df.groupby(['category_name'])['sale_dollars'].sum().sort_values(ascending=False)\n",
        "top_count = pd.DataFrame(df_plot)\n",
        "top_count1 = pd.DataFrame(df_plot.head(10))"
      ],
      "execution_count": 220,
      "outputs": []
    },
    {
      "cell_type": "code",
      "metadata": {
        "id": "Mr5Rb2VRSi1n",
        "outputId": "e9b960c8-d500-4e65-ba45-5bf0f3f055c9",
        "colab": {
          "base_uri": "https://localhost:8080/",
          "height": 542
        }
      },
      "source": [
        "\n",
        "\n",
        "fig_reg = px.bar(top_count1,x=top_count1.index, y='sale_dollars',color='sale_dollars')\n",
        "fig_reg.update_layout(\n",
        "    title=\"Sales of liquor per category\",\n",
        "    xaxis_title=\" Category Name\",\n",
        "    yaxis_title=\"Sales in dollars\",\n",
        "    )\n",
        "fig_reg.show()"
      ],
      "execution_count": 221,
      "outputs": [
        {
          "output_type": "display_data",
          "data": {
            "text/html": [
              "<html>\n",
              "<head><meta charset=\"utf-8\" /></head>\n",
              "<body>\n",
              "    <div>\n",
              "            <script src=\"https://cdnjs.cloudflare.com/ajax/libs/mathjax/2.7.5/MathJax.js?config=TeX-AMS-MML_SVG\"></script><script type=\"text/javascript\">if (window.MathJax) {MathJax.Hub.Config({SVG: {font: \"STIX-Web\"}});}</script>\n",
              "                <script type=\"text/javascript\">window.PlotlyConfig = {MathJaxConfig: 'local'};</script>\n",
              "        <script src=\"https://cdn.plot.ly/plotly-latest.min.js\"></script>    \n",
              "            <div id=\"43dc349f-fc10-4c63-b32b-f18704e6b6b9\" class=\"plotly-graph-div\" style=\"height:525px; width:100%;\"></div>\n",
              "            <script type=\"text/javascript\">\n",
              "                \n",
              "                    window.PLOTLYENV=window.PLOTLYENV || {};\n",
              "                    \n",
              "                if (document.getElementById(\"43dc349f-fc10-4c63-b32b-f18704e6b6b9\")) {\n",
              "                    Plotly.newPlot(\n",
              "                        '43dc349f-fc10-4c63-b32b-f18704e6b6b9',\n",
              "                        [{\"alignmentgroup\": \"True\", \"hoverlabel\": {\"namelength\": 0}, \"hovertemplate\": \"x=%{x}<br>sale_dollars=%{marker.color}\", \"legendgroup\": \"\", \"marker\": {\"color\": [17021009.990001466, 16134654.630001562, 11966228.599998906, 10688709.549999507, 6372436.899999751, 6306397.679998928, 5702216.780000149, 5570721.809999422, 5064467.039999831, 4702598.089999621], \"coloraxis\": \"coloraxis\"}, \"name\": \"\", \"offsetgroup\": \"\", \"orientation\": \"v\", \"showlegend\": false, \"textposition\": \"auto\", \"type\": \"bar\", \"x\": [\"american vodkas\", \"spiced rum\", \"vodka 80 proof\", \"whiskey liqueur\", \"imported vodka\", \"blended whiskies\", \"tequila\", \"imported vodkas\", \"cream liqueurs\", \"flavored rum\"], \"xaxis\": \"x\", \"y\": [17021009.990001466, 16134654.630001562, 11966228.599998906, 10688709.549999507, 6372436.899999751, 6306397.679998928, 5702216.780000149, 5570721.809999422, 5064467.039999831, 4702598.089999621], \"yaxis\": \"y\"}],\n",
              "                        {\"barmode\": \"relative\", \"coloraxis\": {\"colorbar\": {\"title\": {\"text\": \"sale_dollars\"}}, \"colorscale\": [[0.0, \"#0d0887\"], [0.1111111111111111, \"#46039f\"], [0.2222222222222222, \"#7201a8\"], [0.3333333333333333, \"#9c179e\"], [0.4444444444444444, \"#bd3786\"], [0.5555555555555556, \"#d8576b\"], [0.6666666666666666, \"#ed7953\"], [0.7777777777777778, \"#fb9f3a\"], [0.8888888888888888, \"#fdca26\"], [1.0, \"#f0f921\"]]}, \"legend\": {\"tracegroupgap\": 0}, \"margin\": {\"t\": 60}, \"template\": {\"data\": {\"bar\": [{\"error_x\": {\"color\": \"#2a3f5f\"}, \"error_y\": {\"color\": \"#2a3f5f\"}, \"marker\": {\"line\": {\"color\": \"#E5ECF6\", \"width\": 0.5}}, \"type\": \"bar\"}], \"barpolar\": [{\"marker\": {\"line\": {\"color\": \"#E5ECF6\", \"width\": 0.5}}, \"type\": \"barpolar\"}], \"carpet\": [{\"aaxis\": {\"endlinecolor\": \"#2a3f5f\", \"gridcolor\": \"white\", \"linecolor\": \"white\", \"minorgridcolor\": \"white\", \"startlinecolor\": \"#2a3f5f\"}, \"baxis\": {\"endlinecolor\": \"#2a3f5f\", \"gridcolor\": \"white\", \"linecolor\": \"white\", \"minorgridcolor\": \"white\", \"startlinecolor\": \"#2a3f5f\"}, \"type\": \"carpet\"}], \"choropleth\": [{\"colorbar\": {\"outlinewidth\": 0, \"ticks\": \"\"}, \"type\": \"choropleth\"}], \"contour\": [{\"colorbar\": {\"outlinewidth\": 0, \"ticks\": \"\"}, \"colorscale\": [[0.0, \"#0d0887\"], [0.1111111111111111, \"#46039f\"], [0.2222222222222222, \"#7201a8\"], [0.3333333333333333, \"#9c179e\"], [0.4444444444444444, \"#bd3786\"], [0.5555555555555556, \"#d8576b\"], [0.6666666666666666, \"#ed7953\"], [0.7777777777777778, \"#fb9f3a\"], [0.8888888888888888, \"#fdca26\"], [1.0, \"#f0f921\"]], \"type\": \"contour\"}], \"contourcarpet\": [{\"colorbar\": {\"outlinewidth\": 0, \"ticks\": \"\"}, \"type\": \"contourcarpet\"}], \"heatmap\": [{\"colorbar\": {\"outlinewidth\": 0, \"ticks\": \"\"}, \"colorscale\": [[0.0, \"#0d0887\"], [0.1111111111111111, \"#46039f\"], [0.2222222222222222, \"#7201a8\"], [0.3333333333333333, \"#9c179e\"], [0.4444444444444444, \"#bd3786\"], [0.5555555555555556, \"#d8576b\"], [0.6666666666666666, \"#ed7953\"], [0.7777777777777778, \"#fb9f3a\"], [0.8888888888888888, \"#fdca26\"], [1.0, \"#f0f921\"]], \"type\": \"heatmap\"}], \"heatmapgl\": [{\"colorbar\": {\"outlinewidth\": 0, \"ticks\": \"\"}, \"colorscale\": [[0.0, \"#0d0887\"], [0.1111111111111111, \"#46039f\"], [0.2222222222222222, \"#7201a8\"], [0.3333333333333333, \"#9c179e\"], [0.4444444444444444, \"#bd3786\"], [0.5555555555555556, \"#d8576b\"], [0.6666666666666666, \"#ed7953\"], [0.7777777777777778, \"#fb9f3a\"], [0.8888888888888888, \"#fdca26\"], [1.0, \"#f0f921\"]], \"type\": \"heatmapgl\"}], \"histogram\": [{\"marker\": {\"colorbar\": {\"outlinewidth\": 0, \"ticks\": \"\"}}, \"type\": \"histogram\"}], \"histogram2d\": [{\"colorbar\": {\"outlinewidth\": 0, \"ticks\": \"\"}, \"colorscale\": [[0.0, \"#0d0887\"], [0.1111111111111111, \"#46039f\"], [0.2222222222222222, \"#7201a8\"], [0.3333333333333333, \"#9c179e\"], [0.4444444444444444, \"#bd3786\"], [0.5555555555555556, \"#d8576b\"], [0.6666666666666666, \"#ed7953\"], [0.7777777777777778, \"#fb9f3a\"], [0.8888888888888888, \"#fdca26\"], [1.0, \"#f0f921\"]], \"type\": \"histogram2d\"}], \"histogram2dcontour\": [{\"colorbar\": {\"outlinewidth\": 0, \"ticks\": \"\"}, \"colorscale\": [[0.0, \"#0d0887\"], [0.1111111111111111, \"#46039f\"], [0.2222222222222222, \"#7201a8\"], [0.3333333333333333, \"#9c179e\"], [0.4444444444444444, \"#bd3786\"], [0.5555555555555556, \"#d8576b\"], [0.6666666666666666, \"#ed7953\"], [0.7777777777777778, \"#fb9f3a\"], [0.8888888888888888, \"#fdca26\"], [1.0, \"#f0f921\"]], \"type\": \"histogram2dcontour\"}], \"mesh3d\": [{\"colorbar\": {\"outlinewidth\": 0, \"ticks\": \"\"}, \"type\": \"mesh3d\"}], \"parcoords\": [{\"line\": {\"colorbar\": {\"outlinewidth\": 0, \"ticks\": \"\"}}, \"type\": \"parcoords\"}], \"pie\": [{\"automargin\": true, \"type\": \"pie\"}], \"scatter\": [{\"marker\": {\"colorbar\": {\"outlinewidth\": 0, \"ticks\": \"\"}}, \"type\": \"scatter\"}], \"scatter3d\": [{\"line\": {\"colorbar\": {\"outlinewidth\": 0, \"ticks\": \"\"}}, \"marker\": {\"colorbar\": {\"outlinewidth\": 0, \"ticks\": \"\"}}, \"type\": \"scatter3d\"}], \"scattercarpet\": [{\"marker\": {\"colorbar\": {\"outlinewidth\": 0, \"ticks\": \"\"}}, \"type\": \"scattercarpet\"}], \"scattergeo\": [{\"marker\": {\"colorbar\": {\"outlinewidth\": 0, \"ticks\": \"\"}}, \"type\": \"scattergeo\"}], \"scattergl\": [{\"marker\": {\"colorbar\": {\"outlinewidth\": 0, \"ticks\": \"\"}}, \"type\": \"scattergl\"}], \"scattermapbox\": [{\"marker\": {\"colorbar\": {\"outlinewidth\": 0, \"ticks\": \"\"}}, \"type\": \"scattermapbox\"}], \"scatterpolar\": [{\"marker\": {\"colorbar\": {\"outlinewidth\": 0, \"ticks\": \"\"}}, \"type\": \"scatterpolar\"}], \"scatterpolargl\": [{\"marker\": {\"colorbar\": {\"outlinewidth\": 0, \"ticks\": \"\"}}, \"type\": \"scatterpolargl\"}], \"scatterternary\": [{\"marker\": {\"colorbar\": {\"outlinewidth\": 0, \"ticks\": \"\"}}, \"type\": \"scatterternary\"}], \"surface\": [{\"colorbar\": {\"outlinewidth\": 0, \"ticks\": \"\"}, \"colorscale\": [[0.0, \"#0d0887\"], [0.1111111111111111, \"#46039f\"], [0.2222222222222222, \"#7201a8\"], [0.3333333333333333, \"#9c179e\"], [0.4444444444444444, \"#bd3786\"], [0.5555555555555556, \"#d8576b\"], [0.6666666666666666, \"#ed7953\"], [0.7777777777777778, \"#fb9f3a\"], [0.8888888888888888, \"#fdca26\"], [1.0, \"#f0f921\"]], \"type\": \"surface\"}], \"table\": [{\"cells\": {\"fill\": {\"color\": \"#EBF0F8\"}, \"line\": {\"color\": \"white\"}}, \"header\": {\"fill\": {\"color\": \"#C8D4E3\"}, \"line\": {\"color\": \"white\"}}, \"type\": \"table\"}]}, \"layout\": {\"annotationdefaults\": {\"arrowcolor\": \"#2a3f5f\", \"arrowhead\": 0, \"arrowwidth\": 1}, \"coloraxis\": {\"colorbar\": {\"outlinewidth\": 0, \"ticks\": \"\"}}, \"colorscale\": {\"diverging\": [[0, \"#8e0152\"], [0.1, \"#c51b7d\"], [0.2, \"#de77ae\"], [0.3, \"#f1b6da\"], [0.4, \"#fde0ef\"], [0.5, \"#f7f7f7\"], [0.6, \"#e6f5d0\"], [0.7, \"#b8e186\"], [0.8, \"#7fbc41\"], [0.9, \"#4d9221\"], [1, \"#276419\"]], \"sequential\": [[0.0, \"#0d0887\"], [0.1111111111111111, \"#46039f\"], [0.2222222222222222, \"#7201a8\"], [0.3333333333333333, \"#9c179e\"], [0.4444444444444444, \"#bd3786\"], [0.5555555555555556, \"#d8576b\"], [0.6666666666666666, \"#ed7953\"], [0.7777777777777778, \"#fb9f3a\"], [0.8888888888888888, \"#fdca26\"], [1.0, \"#f0f921\"]], \"sequentialminus\": [[0.0, \"#0d0887\"], [0.1111111111111111, \"#46039f\"], [0.2222222222222222, \"#7201a8\"], [0.3333333333333333, \"#9c179e\"], [0.4444444444444444, \"#bd3786\"], [0.5555555555555556, \"#d8576b\"], [0.6666666666666666, \"#ed7953\"], [0.7777777777777778, \"#fb9f3a\"], [0.8888888888888888, \"#fdca26\"], [1.0, \"#f0f921\"]]}, \"colorway\": [\"#636efa\", \"#EF553B\", \"#00cc96\", \"#ab63fa\", \"#FFA15A\", \"#19d3f3\", \"#FF6692\", \"#B6E880\", \"#FF97FF\", \"#FECB52\"], \"font\": {\"color\": \"#2a3f5f\"}, \"geo\": {\"bgcolor\": \"white\", \"lakecolor\": \"white\", \"landcolor\": \"#E5ECF6\", \"showlakes\": true, \"showland\": true, \"subunitcolor\": \"white\"}, \"hoverlabel\": {\"align\": \"left\"}, \"hovermode\": \"closest\", \"mapbox\": {\"style\": \"light\"}, \"paper_bgcolor\": \"white\", \"plot_bgcolor\": \"#E5ECF6\", \"polar\": {\"angularaxis\": {\"gridcolor\": \"white\", \"linecolor\": \"white\", \"ticks\": \"\"}, \"bgcolor\": \"#E5ECF6\", \"radialaxis\": {\"gridcolor\": \"white\", \"linecolor\": \"white\", \"ticks\": \"\"}}, \"scene\": {\"xaxis\": {\"backgroundcolor\": \"#E5ECF6\", \"gridcolor\": \"white\", \"gridwidth\": 2, \"linecolor\": \"white\", \"showbackground\": true, \"ticks\": \"\", \"zerolinecolor\": \"white\"}, \"yaxis\": {\"backgroundcolor\": \"#E5ECF6\", \"gridcolor\": \"white\", \"gridwidth\": 2, \"linecolor\": \"white\", \"showbackground\": true, \"ticks\": \"\", \"zerolinecolor\": \"white\"}, \"zaxis\": {\"backgroundcolor\": \"#E5ECF6\", \"gridcolor\": \"white\", \"gridwidth\": 2, \"linecolor\": \"white\", \"showbackground\": true, \"ticks\": \"\", \"zerolinecolor\": \"white\"}}, \"shapedefaults\": {\"line\": {\"color\": \"#2a3f5f\"}}, \"ternary\": {\"aaxis\": {\"gridcolor\": \"white\", \"linecolor\": \"white\", \"ticks\": \"\"}, \"baxis\": {\"gridcolor\": \"white\", \"linecolor\": \"white\", \"ticks\": \"\"}, \"bgcolor\": \"#E5ECF6\", \"caxis\": {\"gridcolor\": \"white\", \"linecolor\": \"white\", \"ticks\": \"\"}}, \"title\": {\"x\": 0.05}, \"xaxis\": {\"automargin\": true, \"gridcolor\": \"white\", \"linecolor\": \"white\", \"ticks\": \"\", \"title\": {\"standoff\": 15}, \"zerolinecolor\": \"white\", \"zerolinewidth\": 2}, \"yaxis\": {\"automargin\": true, \"gridcolor\": \"white\", \"linecolor\": \"white\", \"ticks\": \"\", \"title\": {\"standoff\": 15}, \"zerolinecolor\": \"white\", \"zerolinewidth\": 2}}}, \"title\": {\"text\": \"Sales of liquor per category\"}, \"xaxis\": {\"anchor\": \"y\", \"domain\": [0.0, 1.0], \"title\": {\"text\": \" Category Name\"}}, \"yaxis\": {\"anchor\": \"x\", \"domain\": [0.0, 1.0], \"title\": {\"text\": \"Sales in dollars\"}}},\n",
              "                        {\"responsive\": true}\n",
              "                    ).then(function(){\n",
              "                            \n",
              "var gd = document.getElementById('43dc349f-fc10-4c63-b32b-f18704e6b6b9');\n",
              "var x = new MutationObserver(function (mutations, observer) {{\n",
              "        var display = window.getComputedStyle(gd).display;\n",
              "        if (!display || display === 'none') {{\n",
              "            console.log([gd, 'removed!']);\n",
              "            Plotly.purge(gd);\n",
              "            observer.disconnect();\n",
              "        }}\n",
              "}});\n",
              "\n",
              "// Listen for the removal of the full notebook cells\n",
              "var notebookContainer = gd.closest('#notebook-container');\n",
              "if (notebookContainer) {{\n",
              "    x.observe(notebookContainer, {childList: true});\n",
              "}}\n",
              "\n",
              "// Listen for the clearing of the current output cell\n",
              "var outputEl = gd.closest('.output');\n",
              "if (outputEl) {{\n",
              "    x.observe(outputEl, {childList: true});\n",
              "}}\n",
              "\n",
              "                        })\n",
              "                };\n",
              "                \n",
              "            </script>\n",
              "        </div>\n",
              "</body>\n",
              "</html>"
            ]
          },
          "metadata": {
            "tags": []
          }
        }
      ]
    },
    {
      "cell_type": "markdown",
      "metadata": {
        "id": "zSX8cSTKX7me"
      },
      "source": [
        "###### Top 10 sales in dollars dependent on city"
      ]
    },
    {
      "cell_type": "code",
      "metadata": {
        "id": "48-s5IeyXtB5"
      },
      "source": [
        "df_plot = df.groupby(['city'])['sale_dollars'].sum().sort_values(ascending=False)\n",
        "top_count = pd.DataFrame(df_plot)\n",
        "top_count1 = pd.DataFrame(df_plot.head(10))\n"
      ],
      "execution_count": 222,
      "outputs": []
    },
    {
      "cell_type": "code",
      "metadata": {
        "id": "VJ_hwMEoXNq9",
        "outputId": "456ec364-254f-4e00-b512-4ec44b50849c",
        "colab": {
          "base_uri": "https://localhost:8080/",
          "height": 542
        }
      },
      "source": [
        "fig_reg = px.bar(top_count1,x=top_count1.index, y='sale_dollars',color='sale_dollars')\n",
        "fig_reg.update_layout(\n",
        "    title=\"Sales of liquor per city\",\n",
        "    xaxis_title=\" city\",\n",
        "    yaxis_title=\"Sales in dollars\",\n",
        "    )\n",
        "fig_reg.show()"
      ],
      "execution_count": 223,
      "outputs": [
        {
          "output_type": "display_data",
          "data": {
            "text/html": [
              "<html>\n",
              "<head><meta charset=\"utf-8\" /></head>\n",
              "<body>\n",
              "    <div>\n",
              "            <script src=\"https://cdnjs.cloudflare.com/ajax/libs/mathjax/2.7.5/MathJax.js?config=TeX-AMS-MML_SVG\"></script><script type=\"text/javascript\">if (window.MathJax) {MathJax.Hub.Config({SVG: {font: \"STIX-Web\"}});}</script>\n",
              "                <script type=\"text/javascript\">window.PlotlyConfig = {MathJaxConfig: 'local'};</script>\n",
              "        <script src=\"https://cdn.plot.ly/plotly-latest.min.js\"></script>    \n",
              "            <div id=\"f843ae85-85f5-48f4-a6a9-e04baa963afc\" class=\"plotly-graph-div\" style=\"height:525px; width:100%;\"></div>\n",
              "            <script type=\"text/javascript\">\n",
              "                \n",
              "                    window.PLOTLYENV=window.PLOTLYENV || {};\n",
              "                    \n",
              "                if (document.getElementById(\"f843ae85-85f5-48f4-a6a9-e04baa963afc\")) {\n",
              "                    Plotly.newPlot(\n",
              "                        'f843ae85-85f5-48f4-a6a9-e04baa963afc',\n",
              "                        [{\"alignmentgroup\": \"True\", \"hoverlabel\": {\"namelength\": 0}, \"hovertemplate\": \"x=%{x}<br>sale_dollars=%{marker.color}\", \"legendgroup\": \"\", \"marker\": {\"color\": [15515068.95000141, 8968658.5799993, 6665918.379999511, 5177430.359999893, 4348309.449999955, 4330088.969999935, 4262090.579999935, 4136276.659999975, 3685993.1899999743, 3603361.6099999105], \"coloraxis\": \"coloraxis\"}, \"name\": \"\", \"offsetgroup\": \"\", \"orientation\": \"v\", \"showlegend\": false, \"textposition\": \"auto\", \"type\": \"bar\", \"x\": [\"des moines\", \"cedar rapids\", \"davenport\", \"west des moines\", \"waterloo\", \"council bluffs\", \"iowa city\", \"sioux city\", \"dubuque\", \"ames\"], \"xaxis\": \"x\", \"y\": [15515068.95000141, 8968658.5799993, 6665918.379999511, 5177430.359999893, 4348309.449999955, 4330088.969999935, 4262090.579999935, 4136276.659999975, 3685993.1899999743, 3603361.6099999105], \"yaxis\": \"y\"}],\n",
              "                        {\"barmode\": \"relative\", \"coloraxis\": {\"colorbar\": {\"title\": {\"text\": \"sale_dollars\"}}, \"colorscale\": [[0.0, \"#0d0887\"], [0.1111111111111111, \"#46039f\"], [0.2222222222222222, \"#7201a8\"], [0.3333333333333333, \"#9c179e\"], [0.4444444444444444, \"#bd3786\"], [0.5555555555555556, \"#d8576b\"], [0.6666666666666666, \"#ed7953\"], [0.7777777777777778, \"#fb9f3a\"], [0.8888888888888888, \"#fdca26\"], [1.0, \"#f0f921\"]]}, \"legend\": {\"tracegroupgap\": 0}, \"margin\": {\"t\": 60}, \"template\": {\"data\": {\"bar\": [{\"error_x\": {\"color\": \"#2a3f5f\"}, \"error_y\": {\"color\": \"#2a3f5f\"}, \"marker\": {\"line\": {\"color\": \"#E5ECF6\", \"width\": 0.5}}, \"type\": \"bar\"}], \"barpolar\": [{\"marker\": {\"line\": {\"color\": \"#E5ECF6\", \"width\": 0.5}}, \"type\": \"barpolar\"}], \"carpet\": [{\"aaxis\": {\"endlinecolor\": \"#2a3f5f\", \"gridcolor\": \"white\", \"linecolor\": \"white\", \"minorgridcolor\": \"white\", \"startlinecolor\": \"#2a3f5f\"}, \"baxis\": {\"endlinecolor\": \"#2a3f5f\", \"gridcolor\": \"white\", \"linecolor\": \"white\", \"minorgridcolor\": \"white\", \"startlinecolor\": \"#2a3f5f\"}, \"type\": \"carpet\"}], \"choropleth\": [{\"colorbar\": {\"outlinewidth\": 0, \"ticks\": \"\"}, \"type\": \"choropleth\"}], \"contour\": [{\"colorbar\": {\"outlinewidth\": 0, \"ticks\": \"\"}, \"colorscale\": [[0.0, \"#0d0887\"], [0.1111111111111111, \"#46039f\"], [0.2222222222222222, \"#7201a8\"], [0.3333333333333333, \"#9c179e\"], [0.4444444444444444, \"#bd3786\"], [0.5555555555555556, \"#d8576b\"], [0.6666666666666666, \"#ed7953\"], [0.7777777777777778, \"#fb9f3a\"], [0.8888888888888888, \"#fdca26\"], [1.0, \"#f0f921\"]], \"type\": \"contour\"}], \"contourcarpet\": [{\"colorbar\": {\"outlinewidth\": 0, \"ticks\": \"\"}, \"type\": \"contourcarpet\"}], \"heatmap\": [{\"colorbar\": {\"outlinewidth\": 0, \"ticks\": \"\"}, \"colorscale\": [[0.0, \"#0d0887\"], [0.1111111111111111, \"#46039f\"], [0.2222222222222222, \"#7201a8\"], [0.3333333333333333, \"#9c179e\"], [0.4444444444444444, \"#bd3786\"], [0.5555555555555556, \"#d8576b\"], [0.6666666666666666, \"#ed7953\"], [0.7777777777777778, \"#fb9f3a\"], [0.8888888888888888, \"#fdca26\"], [1.0, \"#f0f921\"]], \"type\": \"heatmap\"}], \"heatmapgl\": [{\"colorbar\": {\"outlinewidth\": 0, \"ticks\": \"\"}, \"colorscale\": [[0.0, \"#0d0887\"], [0.1111111111111111, \"#46039f\"], [0.2222222222222222, \"#7201a8\"], [0.3333333333333333, \"#9c179e\"], [0.4444444444444444, \"#bd3786\"], [0.5555555555555556, \"#d8576b\"], [0.6666666666666666, \"#ed7953\"], [0.7777777777777778, \"#fb9f3a\"], [0.8888888888888888, \"#fdca26\"], [1.0, \"#f0f921\"]], \"type\": \"heatmapgl\"}], \"histogram\": [{\"marker\": {\"colorbar\": {\"outlinewidth\": 0, \"ticks\": \"\"}}, \"type\": \"histogram\"}], \"histogram2d\": [{\"colorbar\": {\"outlinewidth\": 0, \"ticks\": \"\"}, \"colorscale\": [[0.0, \"#0d0887\"], [0.1111111111111111, \"#46039f\"], [0.2222222222222222, \"#7201a8\"], [0.3333333333333333, \"#9c179e\"], [0.4444444444444444, \"#bd3786\"], [0.5555555555555556, \"#d8576b\"], [0.6666666666666666, \"#ed7953\"], [0.7777777777777778, \"#fb9f3a\"], [0.8888888888888888, \"#fdca26\"], [1.0, \"#f0f921\"]], \"type\": \"histogram2d\"}], \"histogram2dcontour\": [{\"colorbar\": {\"outlinewidth\": 0, \"ticks\": \"\"}, \"colorscale\": [[0.0, \"#0d0887\"], [0.1111111111111111, \"#46039f\"], [0.2222222222222222, \"#7201a8\"], [0.3333333333333333, \"#9c179e\"], [0.4444444444444444, \"#bd3786\"], [0.5555555555555556, \"#d8576b\"], [0.6666666666666666, \"#ed7953\"], [0.7777777777777778, \"#fb9f3a\"], [0.8888888888888888, \"#fdca26\"], [1.0, \"#f0f921\"]], \"type\": \"histogram2dcontour\"}], \"mesh3d\": [{\"colorbar\": {\"outlinewidth\": 0, \"ticks\": \"\"}, \"type\": \"mesh3d\"}], \"parcoords\": [{\"line\": {\"colorbar\": {\"outlinewidth\": 0, \"ticks\": \"\"}}, \"type\": \"parcoords\"}], \"pie\": [{\"automargin\": true, \"type\": \"pie\"}], \"scatter\": [{\"marker\": {\"colorbar\": {\"outlinewidth\": 0, \"ticks\": \"\"}}, \"type\": \"scatter\"}], \"scatter3d\": [{\"line\": {\"colorbar\": {\"outlinewidth\": 0, \"ticks\": \"\"}}, \"marker\": {\"colorbar\": {\"outlinewidth\": 0, \"ticks\": \"\"}}, \"type\": \"scatter3d\"}], \"scattercarpet\": [{\"marker\": {\"colorbar\": {\"outlinewidth\": 0, \"ticks\": \"\"}}, \"type\": \"scattercarpet\"}], \"scattergeo\": [{\"marker\": {\"colorbar\": {\"outlinewidth\": 0, \"ticks\": \"\"}}, \"type\": \"scattergeo\"}], \"scattergl\": [{\"marker\": {\"colorbar\": {\"outlinewidth\": 0, \"ticks\": \"\"}}, \"type\": \"scattergl\"}], \"scattermapbox\": [{\"marker\": {\"colorbar\": {\"outlinewidth\": 0, \"ticks\": \"\"}}, \"type\": \"scattermapbox\"}], \"scatterpolar\": [{\"marker\": {\"colorbar\": {\"outlinewidth\": 0, \"ticks\": \"\"}}, \"type\": \"scatterpolar\"}], \"scatterpolargl\": [{\"marker\": {\"colorbar\": {\"outlinewidth\": 0, \"ticks\": \"\"}}, \"type\": \"scatterpolargl\"}], \"scatterternary\": [{\"marker\": {\"colorbar\": {\"outlinewidth\": 0, \"ticks\": \"\"}}, \"type\": \"scatterternary\"}], \"surface\": [{\"colorbar\": {\"outlinewidth\": 0, \"ticks\": \"\"}, \"colorscale\": [[0.0, \"#0d0887\"], [0.1111111111111111, \"#46039f\"], [0.2222222222222222, \"#7201a8\"], [0.3333333333333333, \"#9c179e\"], [0.4444444444444444, \"#bd3786\"], [0.5555555555555556, \"#d8576b\"], [0.6666666666666666, \"#ed7953\"], [0.7777777777777778, \"#fb9f3a\"], [0.8888888888888888, \"#fdca26\"], [1.0, \"#f0f921\"]], \"type\": \"surface\"}], \"table\": [{\"cells\": {\"fill\": {\"color\": \"#EBF0F8\"}, \"line\": {\"color\": \"white\"}}, \"header\": {\"fill\": {\"color\": \"#C8D4E3\"}, \"line\": {\"color\": \"white\"}}, \"type\": \"table\"}]}, \"layout\": {\"annotationdefaults\": {\"arrowcolor\": \"#2a3f5f\", \"arrowhead\": 0, \"arrowwidth\": 1}, \"coloraxis\": {\"colorbar\": {\"outlinewidth\": 0, \"ticks\": \"\"}}, \"colorscale\": {\"diverging\": [[0, \"#8e0152\"], [0.1, \"#c51b7d\"], [0.2, \"#de77ae\"], [0.3, \"#f1b6da\"], [0.4, \"#fde0ef\"], [0.5, \"#f7f7f7\"], [0.6, \"#e6f5d0\"], [0.7, \"#b8e186\"], [0.8, \"#7fbc41\"], [0.9, \"#4d9221\"], [1, \"#276419\"]], \"sequential\": [[0.0, \"#0d0887\"], [0.1111111111111111, \"#46039f\"], [0.2222222222222222, \"#7201a8\"], [0.3333333333333333, \"#9c179e\"], [0.4444444444444444, \"#bd3786\"], [0.5555555555555556, \"#d8576b\"], [0.6666666666666666, \"#ed7953\"], [0.7777777777777778, \"#fb9f3a\"], [0.8888888888888888, \"#fdca26\"], [1.0, \"#f0f921\"]], \"sequentialminus\": [[0.0, \"#0d0887\"], [0.1111111111111111, \"#46039f\"], [0.2222222222222222, \"#7201a8\"], [0.3333333333333333, \"#9c179e\"], [0.4444444444444444, \"#bd3786\"], [0.5555555555555556, \"#d8576b\"], [0.6666666666666666, \"#ed7953\"], [0.7777777777777778, \"#fb9f3a\"], [0.8888888888888888, \"#fdca26\"], [1.0, \"#f0f921\"]]}, \"colorway\": [\"#636efa\", \"#EF553B\", \"#00cc96\", \"#ab63fa\", \"#FFA15A\", \"#19d3f3\", \"#FF6692\", \"#B6E880\", \"#FF97FF\", \"#FECB52\"], \"font\": {\"color\": \"#2a3f5f\"}, \"geo\": {\"bgcolor\": \"white\", \"lakecolor\": \"white\", \"landcolor\": \"#E5ECF6\", \"showlakes\": true, \"showland\": true, \"subunitcolor\": \"white\"}, \"hoverlabel\": {\"align\": \"left\"}, \"hovermode\": \"closest\", \"mapbox\": {\"style\": \"light\"}, \"paper_bgcolor\": \"white\", \"plot_bgcolor\": \"#E5ECF6\", \"polar\": {\"angularaxis\": {\"gridcolor\": \"white\", \"linecolor\": \"white\", \"ticks\": \"\"}, \"bgcolor\": \"#E5ECF6\", \"radialaxis\": {\"gridcolor\": \"white\", \"linecolor\": \"white\", \"ticks\": \"\"}}, \"scene\": {\"xaxis\": {\"backgroundcolor\": \"#E5ECF6\", \"gridcolor\": \"white\", \"gridwidth\": 2, \"linecolor\": \"white\", \"showbackground\": true, \"ticks\": \"\", \"zerolinecolor\": \"white\"}, \"yaxis\": {\"backgroundcolor\": \"#E5ECF6\", \"gridcolor\": \"white\", \"gridwidth\": 2, \"linecolor\": \"white\", \"showbackground\": true, \"ticks\": \"\", \"zerolinecolor\": \"white\"}, \"zaxis\": {\"backgroundcolor\": \"#E5ECF6\", \"gridcolor\": \"white\", \"gridwidth\": 2, \"linecolor\": \"white\", \"showbackground\": true, \"ticks\": \"\", \"zerolinecolor\": \"white\"}}, \"shapedefaults\": {\"line\": {\"color\": \"#2a3f5f\"}}, \"ternary\": {\"aaxis\": {\"gridcolor\": \"white\", \"linecolor\": \"white\", \"ticks\": \"\"}, \"baxis\": {\"gridcolor\": \"white\", \"linecolor\": \"white\", \"ticks\": \"\"}, \"bgcolor\": \"#E5ECF6\", \"caxis\": {\"gridcolor\": \"white\", \"linecolor\": \"white\", \"ticks\": \"\"}}, \"title\": {\"x\": 0.05}, \"xaxis\": {\"automargin\": true, \"gridcolor\": \"white\", \"linecolor\": \"white\", \"ticks\": \"\", \"title\": {\"standoff\": 15}, \"zerolinecolor\": \"white\", \"zerolinewidth\": 2}, \"yaxis\": {\"automargin\": true, \"gridcolor\": \"white\", \"linecolor\": \"white\", \"ticks\": \"\", \"title\": {\"standoff\": 15}, \"zerolinecolor\": \"white\", \"zerolinewidth\": 2}}}, \"title\": {\"text\": \"Sales of liquor per city\"}, \"xaxis\": {\"anchor\": \"y\", \"domain\": [0.0, 1.0], \"title\": {\"text\": \" city\"}}, \"yaxis\": {\"anchor\": \"x\", \"domain\": [0.0, 1.0], \"title\": {\"text\": \"Sales in dollars\"}}},\n",
              "                        {\"responsive\": true}\n",
              "                    ).then(function(){\n",
              "                            \n",
              "var gd = document.getElementById('f843ae85-85f5-48f4-a6a9-e04baa963afc');\n",
              "var x = new MutationObserver(function (mutations, observer) {{\n",
              "        var display = window.getComputedStyle(gd).display;\n",
              "        if (!display || display === 'none') {{\n",
              "            console.log([gd, 'removed!']);\n",
              "            Plotly.purge(gd);\n",
              "            observer.disconnect();\n",
              "        }}\n",
              "}});\n",
              "\n",
              "// Listen for the removal of the full notebook cells\n",
              "var notebookContainer = gd.closest('#notebook-container');\n",
              "if (notebookContainer) {{\n",
              "    x.observe(notebookContainer, {childList: true});\n",
              "}}\n",
              "\n",
              "// Listen for the clearing of the current output cell\n",
              "var outputEl = gd.closest('.output');\n",
              "if (outputEl) {{\n",
              "    x.observe(outputEl, {childList: true});\n",
              "}}\n",
              "\n",
              "                        })\n",
              "                };\n",
              "                \n",
              "            </script>\n",
              "        </div>\n",
              "</body>\n",
              "</html>"
            ]
          },
          "metadata": {
            "tags": []
          }
        }
      ]
    },
    {
      "cell_type": "code",
      "metadata": {
        "id": "hAesLJyMaq3t"
      },
      "source": [
        "def transform(a):\n",
        "  return datetime.date(1900, a, 1).strftime('%B')"
      ],
      "execution_count": 224,
      "outputs": []
    },
    {
      "cell_type": "markdown",
      "metadata": {
        "id": "RZLabbAsZGfV"
      },
      "source": [
        "##### Distribution of sales during the year"
      ]
    },
    {
      "cell_type": "code",
      "metadata": {
        "id": "o6ChHjqZZAg8"
      },
      "source": [
        "df_plot = df.groupby(['month'])['sale_dollars'].sum().sort_values(ascending=False)\n",
        "top_count = pd.DataFrame(df_plot)\n",
        "new = []\n",
        "for i in top_count.index:\n",
        "  new.append(transform(i))"
      ],
      "execution_count": 225,
      "outputs": []
    },
    {
      "cell_type": "code",
      "metadata": {
        "id": "hLgQ7W6AZQhx",
        "outputId": "4b409424-56b6-49d4-958b-47c937605de5",
        "colab": {
          "base_uri": "https://localhost:8080/",
          "height": 542
        }
      },
      "source": [
        "fig_reg = px.bar(top_count,x=new, y='sale_dollars',color='sale_dollars')\n",
        "fig_reg.update_layout(\n",
        "    title=\"Sales of liquor per month\",\n",
        "    xaxis_title=\" Month\",\n",
        "    yaxis_title=\"Sales in dollars\",\n",
        "    )\n",
        "fig_reg.show()"
      ],
      "execution_count": 226,
      "outputs": [
        {
          "output_type": "display_data",
          "data": {
            "text/html": [
              "<html>\n",
              "<head><meta charset=\"utf-8\" /></head>\n",
              "<body>\n",
              "    <div>\n",
              "            <script src=\"https://cdnjs.cloudflare.com/ajax/libs/mathjax/2.7.5/MathJax.js?config=TeX-AMS-MML_SVG\"></script><script type=\"text/javascript\">if (window.MathJax) {MathJax.Hub.Config({SVG: {font: \"STIX-Web\"}});}</script>\n",
              "                <script type=\"text/javascript\">window.PlotlyConfig = {MathJaxConfig: 'local'};</script>\n",
              "        <script src=\"https://cdn.plot.ly/plotly-latest.min.js\"></script>    \n",
              "            <div id=\"0c594550-95e0-4117-820e-31cc19d972fe\" class=\"plotly-graph-div\" style=\"height:525px; width:100%;\"></div>\n",
              "            <script type=\"text/javascript\">\n",
              "                \n",
              "                    window.PLOTLYENV=window.PLOTLYENV || {};\n",
              "                    \n",
              "                if (document.getElementById(\"0c594550-95e0-4117-820e-31cc19d972fe\")) {\n",
              "                    Plotly.newPlot(\n",
              "                        '0c594550-95e0-4117-820e-31cc19d972fe',\n",
              "                        [{\"alignmentgroup\": \"True\", \"hoverlabel\": {\"namelength\": 0}, \"hovertemplate\": \"x=%{x}<br>sale_dollars=%{marker.color}\", \"legendgroup\": \"\", \"marker\": {\"color\": [12893277.770001203, 11922043.7600008, 11673803.590000551, 11266327.090000603, 11151381.250000177, 10868236.530000255, 10748478.309999812, 10466283.689999664, 10206978.559999742, 9164622.619999275, 9057702.199999154, 9018254.369999232], \"coloraxis\": \"coloraxis\"}, \"name\": \"\", \"offsetgroup\": \"\", \"orientation\": \"v\", \"showlegend\": false, \"textposition\": \"auto\", \"type\": \"bar\", \"x\": [\"October\", \"December\", \"June\", \"May\", \"August\", \"July\", \"September\", \"March\", \"April\", \"January\", \"November\", \"February\"], \"xaxis\": \"x\", \"y\": [12893277.770001203, 11922043.7600008, 11673803.590000551, 11266327.090000603, 11151381.250000177, 10868236.530000255, 10748478.309999812, 10466283.689999664, 10206978.559999742, 9164622.619999275, 9057702.199999154, 9018254.369999232], \"yaxis\": \"y\"}],\n",
              "                        {\"barmode\": \"relative\", \"coloraxis\": {\"colorbar\": {\"title\": {\"text\": \"sale_dollars\"}}, \"colorscale\": [[0.0, \"#0d0887\"], [0.1111111111111111, \"#46039f\"], [0.2222222222222222, \"#7201a8\"], [0.3333333333333333, \"#9c179e\"], [0.4444444444444444, \"#bd3786\"], [0.5555555555555556, \"#d8576b\"], [0.6666666666666666, \"#ed7953\"], [0.7777777777777778, \"#fb9f3a\"], [0.8888888888888888, \"#fdca26\"], [1.0, \"#f0f921\"]]}, \"legend\": {\"tracegroupgap\": 0}, \"margin\": {\"t\": 60}, \"template\": {\"data\": {\"bar\": [{\"error_x\": {\"color\": \"#2a3f5f\"}, \"error_y\": {\"color\": \"#2a3f5f\"}, \"marker\": {\"line\": {\"color\": \"#E5ECF6\", \"width\": 0.5}}, \"type\": \"bar\"}], \"barpolar\": [{\"marker\": {\"line\": {\"color\": \"#E5ECF6\", \"width\": 0.5}}, \"type\": \"barpolar\"}], \"carpet\": [{\"aaxis\": {\"endlinecolor\": \"#2a3f5f\", \"gridcolor\": \"white\", \"linecolor\": \"white\", \"minorgridcolor\": \"white\", \"startlinecolor\": \"#2a3f5f\"}, \"baxis\": {\"endlinecolor\": \"#2a3f5f\", \"gridcolor\": \"white\", \"linecolor\": \"white\", \"minorgridcolor\": \"white\", \"startlinecolor\": \"#2a3f5f\"}, \"type\": \"carpet\"}], \"choropleth\": [{\"colorbar\": {\"outlinewidth\": 0, \"ticks\": \"\"}, \"type\": \"choropleth\"}], \"contour\": [{\"colorbar\": {\"outlinewidth\": 0, \"ticks\": \"\"}, \"colorscale\": [[0.0, \"#0d0887\"], [0.1111111111111111, \"#46039f\"], [0.2222222222222222, \"#7201a8\"], [0.3333333333333333, \"#9c179e\"], [0.4444444444444444, \"#bd3786\"], [0.5555555555555556, \"#d8576b\"], [0.6666666666666666, \"#ed7953\"], [0.7777777777777778, \"#fb9f3a\"], [0.8888888888888888, \"#fdca26\"], [1.0, \"#f0f921\"]], \"type\": \"contour\"}], \"contourcarpet\": [{\"colorbar\": {\"outlinewidth\": 0, \"ticks\": \"\"}, \"type\": \"contourcarpet\"}], \"heatmap\": [{\"colorbar\": {\"outlinewidth\": 0, \"ticks\": \"\"}, \"colorscale\": [[0.0, \"#0d0887\"], [0.1111111111111111, \"#46039f\"], [0.2222222222222222, \"#7201a8\"], [0.3333333333333333, \"#9c179e\"], [0.4444444444444444, \"#bd3786\"], [0.5555555555555556, \"#d8576b\"], [0.6666666666666666, \"#ed7953\"], [0.7777777777777778, \"#fb9f3a\"], [0.8888888888888888, \"#fdca26\"], [1.0, \"#f0f921\"]], \"type\": \"heatmap\"}], \"heatmapgl\": [{\"colorbar\": {\"outlinewidth\": 0, \"ticks\": \"\"}, \"colorscale\": [[0.0, \"#0d0887\"], [0.1111111111111111, \"#46039f\"], [0.2222222222222222, \"#7201a8\"], [0.3333333333333333, \"#9c179e\"], [0.4444444444444444, \"#bd3786\"], [0.5555555555555556, \"#d8576b\"], [0.6666666666666666, \"#ed7953\"], [0.7777777777777778, \"#fb9f3a\"], [0.8888888888888888, \"#fdca26\"], [1.0, \"#f0f921\"]], \"type\": \"heatmapgl\"}], \"histogram\": [{\"marker\": {\"colorbar\": {\"outlinewidth\": 0, \"ticks\": \"\"}}, \"type\": \"histogram\"}], \"histogram2d\": [{\"colorbar\": {\"outlinewidth\": 0, \"ticks\": \"\"}, \"colorscale\": [[0.0, \"#0d0887\"], [0.1111111111111111, \"#46039f\"], [0.2222222222222222, \"#7201a8\"], [0.3333333333333333, \"#9c179e\"], [0.4444444444444444, \"#bd3786\"], [0.5555555555555556, \"#d8576b\"], [0.6666666666666666, \"#ed7953\"], [0.7777777777777778, \"#fb9f3a\"], [0.8888888888888888, \"#fdca26\"], [1.0, \"#f0f921\"]], \"type\": \"histogram2d\"}], \"histogram2dcontour\": [{\"colorbar\": {\"outlinewidth\": 0, \"ticks\": \"\"}, \"colorscale\": [[0.0, \"#0d0887\"], [0.1111111111111111, \"#46039f\"], [0.2222222222222222, \"#7201a8\"], [0.3333333333333333, \"#9c179e\"], [0.4444444444444444, \"#bd3786\"], [0.5555555555555556, \"#d8576b\"], [0.6666666666666666, \"#ed7953\"], [0.7777777777777778, \"#fb9f3a\"], [0.8888888888888888, \"#fdca26\"], [1.0, \"#f0f921\"]], \"type\": \"histogram2dcontour\"}], \"mesh3d\": [{\"colorbar\": {\"outlinewidth\": 0, \"ticks\": \"\"}, \"type\": \"mesh3d\"}], \"parcoords\": [{\"line\": {\"colorbar\": {\"outlinewidth\": 0, \"ticks\": \"\"}}, \"type\": \"parcoords\"}], \"pie\": [{\"automargin\": true, \"type\": \"pie\"}], \"scatter\": [{\"marker\": {\"colorbar\": {\"outlinewidth\": 0, \"ticks\": \"\"}}, \"type\": \"scatter\"}], \"scatter3d\": [{\"line\": {\"colorbar\": {\"outlinewidth\": 0, \"ticks\": \"\"}}, \"marker\": {\"colorbar\": {\"outlinewidth\": 0, \"ticks\": \"\"}}, \"type\": \"scatter3d\"}], \"scattercarpet\": [{\"marker\": {\"colorbar\": {\"outlinewidth\": 0, \"ticks\": \"\"}}, \"type\": \"scattercarpet\"}], \"scattergeo\": [{\"marker\": {\"colorbar\": {\"outlinewidth\": 0, \"ticks\": \"\"}}, \"type\": \"scattergeo\"}], \"scattergl\": [{\"marker\": {\"colorbar\": {\"outlinewidth\": 0, \"ticks\": \"\"}}, \"type\": \"scattergl\"}], \"scattermapbox\": [{\"marker\": {\"colorbar\": {\"outlinewidth\": 0, \"ticks\": \"\"}}, \"type\": \"scattermapbox\"}], \"scatterpolar\": [{\"marker\": {\"colorbar\": {\"outlinewidth\": 0, \"ticks\": \"\"}}, \"type\": \"scatterpolar\"}], \"scatterpolargl\": [{\"marker\": {\"colorbar\": {\"outlinewidth\": 0, \"ticks\": \"\"}}, \"type\": \"scatterpolargl\"}], \"scatterternary\": [{\"marker\": {\"colorbar\": {\"outlinewidth\": 0, \"ticks\": \"\"}}, \"type\": \"scatterternary\"}], \"surface\": [{\"colorbar\": {\"outlinewidth\": 0, \"ticks\": \"\"}, \"colorscale\": [[0.0, \"#0d0887\"], [0.1111111111111111, \"#46039f\"], [0.2222222222222222, \"#7201a8\"], [0.3333333333333333, \"#9c179e\"], [0.4444444444444444, \"#bd3786\"], [0.5555555555555556, \"#d8576b\"], [0.6666666666666666, \"#ed7953\"], [0.7777777777777778, \"#fb9f3a\"], [0.8888888888888888, \"#fdca26\"], [1.0, \"#f0f921\"]], \"type\": \"surface\"}], \"table\": [{\"cells\": {\"fill\": {\"color\": \"#EBF0F8\"}, \"line\": {\"color\": \"white\"}}, \"header\": {\"fill\": {\"color\": \"#C8D4E3\"}, \"line\": {\"color\": \"white\"}}, \"type\": \"table\"}]}, \"layout\": {\"annotationdefaults\": {\"arrowcolor\": \"#2a3f5f\", \"arrowhead\": 0, \"arrowwidth\": 1}, \"coloraxis\": {\"colorbar\": {\"outlinewidth\": 0, \"ticks\": \"\"}}, \"colorscale\": {\"diverging\": [[0, \"#8e0152\"], [0.1, \"#c51b7d\"], [0.2, \"#de77ae\"], [0.3, \"#f1b6da\"], [0.4, \"#fde0ef\"], [0.5, \"#f7f7f7\"], [0.6, \"#e6f5d0\"], [0.7, \"#b8e186\"], [0.8, \"#7fbc41\"], [0.9, \"#4d9221\"], [1, \"#276419\"]], \"sequential\": [[0.0, \"#0d0887\"], [0.1111111111111111, \"#46039f\"], [0.2222222222222222, \"#7201a8\"], [0.3333333333333333, \"#9c179e\"], [0.4444444444444444, \"#bd3786\"], [0.5555555555555556, \"#d8576b\"], [0.6666666666666666, \"#ed7953\"], [0.7777777777777778, \"#fb9f3a\"], [0.8888888888888888, \"#fdca26\"], [1.0, \"#f0f921\"]], \"sequentialminus\": [[0.0, \"#0d0887\"], [0.1111111111111111, \"#46039f\"], [0.2222222222222222, \"#7201a8\"], [0.3333333333333333, \"#9c179e\"], [0.4444444444444444, \"#bd3786\"], [0.5555555555555556, \"#d8576b\"], [0.6666666666666666, \"#ed7953\"], [0.7777777777777778, \"#fb9f3a\"], [0.8888888888888888, \"#fdca26\"], [1.0, \"#f0f921\"]]}, \"colorway\": [\"#636efa\", \"#EF553B\", \"#00cc96\", \"#ab63fa\", \"#FFA15A\", \"#19d3f3\", \"#FF6692\", \"#B6E880\", \"#FF97FF\", \"#FECB52\"], \"font\": {\"color\": \"#2a3f5f\"}, \"geo\": {\"bgcolor\": \"white\", \"lakecolor\": \"white\", \"landcolor\": \"#E5ECF6\", \"showlakes\": true, \"showland\": true, \"subunitcolor\": \"white\"}, \"hoverlabel\": {\"align\": \"left\"}, \"hovermode\": \"closest\", \"mapbox\": {\"style\": \"light\"}, \"paper_bgcolor\": \"white\", \"plot_bgcolor\": \"#E5ECF6\", \"polar\": {\"angularaxis\": {\"gridcolor\": \"white\", \"linecolor\": \"white\", \"ticks\": \"\"}, \"bgcolor\": \"#E5ECF6\", \"radialaxis\": {\"gridcolor\": \"white\", \"linecolor\": \"white\", \"ticks\": \"\"}}, \"scene\": {\"xaxis\": {\"backgroundcolor\": \"#E5ECF6\", \"gridcolor\": \"white\", \"gridwidth\": 2, \"linecolor\": \"white\", \"showbackground\": true, \"ticks\": \"\", \"zerolinecolor\": \"white\"}, \"yaxis\": {\"backgroundcolor\": \"#E5ECF6\", \"gridcolor\": \"white\", \"gridwidth\": 2, \"linecolor\": \"white\", \"showbackground\": true, \"ticks\": \"\", \"zerolinecolor\": \"white\"}, \"zaxis\": {\"backgroundcolor\": \"#E5ECF6\", \"gridcolor\": \"white\", \"gridwidth\": 2, \"linecolor\": \"white\", \"showbackground\": true, \"ticks\": \"\", \"zerolinecolor\": \"white\"}}, \"shapedefaults\": {\"line\": {\"color\": \"#2a3f5f\"}}, \"ternary\": {\"aaxis\": {\"gridcolor\": \"white\", \"linecolor\": \"white\", \"ticks\": \"\"}, \"baxis\": {\"gridcolor\": \"white\", \"linecolor\": \"white\", \"ticks\": \"\"}, \"bgcolor\": \"#E5ECF6\", \"caxis\": {\"gridcolor\": \"white\", \"linecolor\": \"white\", \"ticks\": \"\"}}, \"title\": {\"x\": 0.05}, \"xaxis\": {\"automargin\": true, \"gridcolor\": \"white\", \"linecolor\": \"white\", \"ticks\": \"\", \"title\": {\"standoff\": 15}, \"zerolinecolor\": \"white\", \"zerolinewidth\": 2}, \"yaxis\": {\"automargin\": true, \"gridcolor\": \"white\", \"linecolor\": \"white\", \"ticks\": \"\", \"title\": {\"standoff\": 15}, \"zerolinecolor\": \"white\", \"zerolinewidth\": 2}}}, \"title\": {\"text\": \"Sales of liquor per month\"}, \"xaxis\": {\"anchor\": \"y\", \"domain\": [0.0, 1.0], \"title\": {\"text\": \" Month\"}}, \"yaxis\": {\"anchor\": \"x\", \"domain\": [0.0, 1.0], \"title\": {\"text\": \"Sales in dollars\"}}},\n",
              "                        {\"responsive\": true}\n",
              "                    ).then(function(){\n",
              "                            \n",
              "var gd = document.getElementById('0c594550-95e0-4117-820e-31cc19d972fe');\n",
              "var x = new MutationObserver(function (mutations, observer) {{\n",
              "        var display = window.getComputedStyle(gd).display;\n",
              "        if (!display || display === 'none') {{\n",
              "            console.log([gd, 'removed!']);\n",
              "            Plotly.purge(gd);\n",
              "            observer.disconnect();\n",
              "        }}\n",
              "}});\n",
              "\n",
              "// Listen for the removal of the full notebook cells\n",
              "var notebookContainer = gd.closest('#notebook-container');\n",
              "if (notebookContainer) {{\n",
              "    x.observe(notebookContainer, {childList: true});\n",
              "}}\n",
              "\n",
              "// Listen for the clearing of the current output cell\n",
              "var outputEl = gd.closest('.output');\n",
              "if (outputEl) {{\n",
              "    x.observe(outputEl, {childList: true});\n",
              "}}\n",
              "\n",
              "                        })\n",
              "                };\n",
              "                \n",
              "            </script>\n",
              "        </div>\n",
              "</body>\n",
              "</html>"
            ]
          },
          "metadata": {
            "tags": []
          }
        }
      ]
    },
    {
      "cell_type": "markdown",
      "metadata": {
        "id": "1ewu8ZEQovoW"
      },
      "source": [
        "##### Also we can take a look at daily sales data"
      ]
    },
    {
      "cell_type": "code",
      "metadata": {
        "id": "D2vK0nU8cWbd"
      },
      "source": [
        "daily_sales = df.groupby('date', as_index=False)['sale_dollars'].sum()"
      ],
      "execution_count": 227,
      "outputs": []
    },
    {
      "cell_type": "code",
      "metadata": {
        "id": "8aIJS4DpcXqr",
        "outputId": "bc1e7d00-6689-4c3e-da2e-8d862c94c74c",
        "colab": {
          "base_uri": "https://localhost:8080/",
          "height": 542
        }
      },
      "source": [
        "daily_sales_sc = go.Scatter(x=daily_sales['date'], y=daily_sales['sale_dollars'])\n",
        "layout = go.Layout(title='Daily sales', xaxis=dict(title='date'), yaxis=dict(title='sales'))\n",
        "fig = go.Figure(data=[daily_sales_sc], layout=layout)\n",
        "iplot(fig)"
      ],
      "execution_count": 228,
      "outputs": [
        {
          "output_type": "display_data",
          "data": {
            "text/html": [
              "<html>\n",
              "<head><meta charset=\"utf-8\" /></head>\n",
              "<body>\n",
              "    <div>\n",
              "            <script src=\"https://cdnjs.cloudflare.com/ajax/libs/mathjax/2.7.5/MathJax.js?config=TeX-AMS-MML_SVG\"></script><script type=\"text/javascript\">if (window.MathJax) {MathJax.Hub.Config({SVG: {font: \"STIX-Web\"}});}</script>\n",
              "                <script type=\"text/javascript\">window.PlotlyConfig = {MathJaxConfig: 'local'};</script>\n",
              "        <script src=\"https://cdn.plot.ly/plotly-latest.min.js\"></script>    \n",
              "            <div id=\"74c940bb-8bbc-4805-9cba-d98208627546\" class=\"plotly-graph-div\" style=\"height:525px; width:100%;\"></div>\n",
              "            <script type=\"text/javascript\">\n",
              "                \n",
              "                    window.PLOTLYENV=window.PLOTLYENV || {};\n",
              "                    \n",
              "                if (document.getElementById(\"74c940bb-8bbc-4805-9cba-d98208627546\")) {\n",
              "                    Plotly.newPlot(\n",
              "                        '74c940bb-8bbc-4805-9cba-d98208627546',\n",
              "                        [{\"type\": \"scatter\", \"x\": [\"2012-01-03T00:00:00\", \"2012-01-04T00:00:00\", \"2012-01-05T00:00:00\", \"2012-01-09T00:00:00\", \"2012-01-10T00:00:00\", \"2012-01-11T00:00:00\", \"2012-01-12T00:00:00\", \"2012-01-16T00:00:00\", \"2012-01-17T00:00:00\", \"2012-01-18T00:00:00\", \"2012-01-19T00:00:00\", \"2012-01-23T00:00:00\", \"2012-01-24T00:00:00\", \"2012-01-25T00:00:00\", \"2012-01-26T00:00:00\", \"2012-01-27T00:00:00\", \"2012-01-30T00:00:00\", \"2012-01-31T00:00:00\", \"2012-02-01T00:00:00\", \"2012-02-02T00:00:00\", \"2012-02-06T00:00:00\", \"2012-02-07T00:00:00\", \"2012-02-08T00:00:00\", \"2012-02-09T00:00:00\", \"2012-02-13T00:00:00\", \"2012-02-14T00:00:00\", \"2012-02-15T00:00:00\", \"2012-02-16T00:00:00\", \"2012-02-20T00:00:00\", \"2012-02-21T00:00:00\", \"2012-02-22T00:00:00\", \"2012-02-23T00:00:00\", \"2012-02-27T00:00:00\", \"2012-02-28T00:00:00\", \"2012-02-29T00:00:00\", \"2012-03-01T00:00:00\", \"2012-03-05T00:00:00\", \"2012-03-06T00:00:00\", \"2012-03-07T00:00:00\", \"2012-03-08T00:00:00\", \"2012-03-09T00:00:00\", \"2012-03-12T00:00:00\", \"2012-03-13T00:00:00\", \"2012-03-14T00:00:00\", \"2012-03-15T00:00:00\", \"2012-03-19T00:00:00\", \"2012-03-20T00:00:00\", \"2012-03-21T00:00:00\", \"2012-03-22T00:00:00\", \"2012-03-26T00:00:00\", \"2012-03-27T00:00:00\", \"2012-03-28T00:00:00\", \"2012-03-29T00:00:00\", \"2012-04-02T00:00:00\", \"2012-04-03T00:00:00\", \"2012-04-04T00:00:00\", \"2012-04-05T00:00:00\", \"2012-04-09T00:00:00\", \"2012-04-10T00:00:00\", \"2012-04-11T00:00:00\", \"2012-04-12T00:00:00\", \"2012-04-16T00:00:00\", \"2012-04-17T00:00:00\", \"2012-04-18T00:00:00\", \"2012-04-19T00:00:00\", \"2012-04-23T00:00:00\", \"2012-04-24T00:00:00\", \"2012-04-25T00:00:00\", \"2012-04-26T00:00:00\", \"2012-04-27T00:00:00\", \"2012-04-30T00:00:00\", \"2012-05-01T00:00:00\", \"2012-05-02T00:00:00\", \"2012-05-03T00:00:00\", \"2012-05-07T00:00:00\", \"2012-05-08T00:00:00\", \"2012-05-09T00:00:00\", \"2012-05-10T00:00:00\", \"2012-05-14T00:00:00\", \"2012-05-15T00:00:00\", \"2012-05-16T00:00:00\", \"2012-05-17T00:00:00\", \"2012-05-21T00:00:00\", \"2012-05-22T00:00:00\", \"2012-05-23T00:00:00\", \"2012-05-24T00:00:00\", \"2012-05-25T00:00:00\", \"2012-05-29T00:00:00\", \"2012-05-30T00:00:00\", \"2012-05-31T00:00:00\", \"2012-06-01T00:00:00\", \"2012-06-04T00:00:00\", \"2012-06-05T00:00:00\", \"2012-06-06T00:00:00\", \"2012-06-07T00:00:00\", \"2012-06-11T00:00:00\", \"2012-06-12T00:00:00\", \"2012-06-13T00:00:00\", \"2012-06-14T00:00:00\", \"2012-06-18T00:00:00\", \"2012-06-19T00:00:00\", \"2012-06-20T00:00:00\", \"2012-06-21T00:00:00\", \"2012-06-22T00:00:00\", \"2012-06-25T00:00:00\", \"2012-06-26T00:00:00\", \"2012-06-27T00:00:00\", \"2012-06-28T00:00:00\", \"2012-06-29T00:00:00\", \"2012-07-02T00:00:00\", \"2012-07-03T00:00:00\", \"2012-07-05T00:00:00\", \"2012-07-06T00:00:00\", \"2012-07-09T00:00:00\", \"2012-07-10T00:00:00\", \"2012-07-11T00:00:00\", \"2012-07-12T00:00:00\", \"2012-07-16T00:00:00\", \"2012-07-17T00:00:00\", \"2012-07-18T00:00:00\", \"2012-07-19T00:00:00\", \"2012-07-23T00:00:00\", \"2012-07-24T00:00:00\", \"2012-07-25T00:00:00\", \"2012-07-26T00:00:00\", \"2012-07-27T00:00:00\", \"2012-07-30T00:00:00\", \"2012-07-31T00:00:00\", \"2012-08-01T00:00:00\", \"2012-08-02T00:00:00\", \"2012-08-03T00:00:00\", \"2012-08-06T00:00:00\", \"2012-08-07T00:00:00\", \"2012-08-08T00:00:00\", \"2012-08-09T00:00:00\", \"2012-08-13T00:00:00\", \"2012-08-14T00:00:00\", \"2012-08-15T00:00:00\", \"2012-08-16T00:00:00\", \"2012-08-20T00:00:00\", \"2012-08-21T00:00:00\", \"2012-08-22T00:00:00\", \"2012-08-23T00:00:00\", \"2012-08-27T00:00:00\", \"2012-08-28T00:00:00\", \"2012-08-29T00:00:00\", \"2012-08-30T00:00:00\", \"2012-08-31T00:00:00\", \"2012-09-04T00:00:00\", \"2012-09-05T00:00:00\", \"2012-09-06T00:00:00\", \"2012-09-10T00:00:00\", \"2012-09-11T00:00:00\", \"2012-09-12T00:00:00\", \"2012-09-13T00:00:00\", \"2012-09-14T00:00:00\", \"2012-09-17T00:00:00\", \"2012-09-18T00:00:00\", \"2012-09-19T00:00:00\", \"2012-09-20T00:00:00\", \"2012-09-24T00:00:00\", \"2012-09-25T00:00:00\", \"2012-09-26T00:00:00\", \"2012-09-27T00:00:00\", \"2012-10-01T00:00:00\", \"2012-10-02T00:00:00\", \"2012-10-03T00:00:00\", \"2012-10-04T00:00:00\", \"2012-10-05T00:00:00\", \"2012-10-08T00:00:00\", \"2012-10-09T00:00:00\", \"2012-10-10T00:00:00\", \"2012-10-11T00:00:00\", \"2012-10-12T00:00:00\", \"2012-10-15T00:00:00\", \"2012-10-16T00:00:00\", \"2012-10-17T00:00:00\", \"2012-10-18T00:00:00\", \"2012-10-19T00:00:00\", \"2012-10-22T00:00:00\", \"2012-10-23T00:00:00\", \"2012-10-24T00:00:00\", \"2012-10-25T00:00:00\", \"2012-10-26T00:00:00\", \"2012-10-29T00:00:00\", \"2012-10-30T00:00:00\", \"2012-10-31T00:00:00\", \"2012-11-01T00:00:00\", \"2012-11-05T00:00:00\", \"2012-11-06T00:00:00\", \"2012-11-07T00:00:00\", \"2012-11-08T00:00:00\", \"2012-11-12T00:00:00\", \"2012-11-13T00:00:00\", \"2012-11-14T00:00:00\", \"2012-11-15T00:00:00\", \"2012-11-16T00:00:00\", \"2012-11-17T00:00:00\", \"2012-11-19T00:00:00\", \"2012-11-20T00:00:00\", \"2012-11-21T00:00:00\", \"2012-11-26T00:00:00\", \"2012-11-27T00:00:00\", \"2012-11-28T00:00:00\", \"2012-11-29T00:00:00\", \"2012-12-03T00:00:00\", \"2012-12-04T00:00:00\", \"2012-12-05T00:00:00\", \"2012-12-06T00:00:00\", \"2012-12-10T00:00:00\", \"2012-12-11T00:00:00\", \"2012-12-12T00:00:00\", \"2012-12-13T00:00:00\", \"2012-12-14T00:00:00\", \"2012-12-17T00:00:00\", \"2012-12-18T00:00:00\", \"2012-12-19T00:00:00\", \"2012-12-20T00:00:00\", \"2012-12-21T00:00:00\", \"2012-12-24T00:00:00\", \"2012-12-26T00:00:00\", \"2012-12-27T00:00:00\", \"2012-12-28T00:00:00\", \"2012-12-31T00:00:00\", \"2013-01-02T00:00:00\", \"2013-01-03T00:00:00\", \"2013-01-07T00:00:00\", \"2013-01-08T00:00:00\", \"2013-01-09T00:00:00\", \"2013-01-10T00:00:00\", \"2013-01-14T00:00:00\", \"2013-01-15T00:00:00\", \"2013-01-16T00:00:00\", \"2013-01-17T00:00:00\", \"2013-01-21T00:00:00\", \"2013-01-22T00:00:00\", \"2013-01-23T00:00:00\", \"2013-01-24T00:00:00\", \"2013-01-28T00:00:00\", \"2013-01-29T00:00:00\", \"2013-01-30T00:00:00\", \"2013-01-31T00:00:00\", \"2013-02-04T00:00:00\", \"2013-02-05T00:00:00\", \"2013-02-06T00:00:00\", \"2013-02-07T00:00:00\", \"2013-02-11T00:00:00\", \"2013-02-12T00:00:00\", \"2013-02-13T00:00:00\", \"2013-02-14T00:00:00\", \"2013-02-18T00:00:00\", \"2013-02-19T00:00:00\", \"2013-02-20T00:00:00\", \"2013-02-21T00:00:00\", \"2013-02-22T00:00:00\", \"2013-02-25T00:00:00\", \"2013-02-26T00:00:00\", \"2013-02-27T00:00:00\", \"2013-02-28T00:00:00\", \"2013-03-04T00:00:00\", \"2013-03-05T00:00:00\", \"2013-03-06T00:00:00\", \"2013-03-07T00:00:00\", \"2013-03-11T00:00:00\", \"2013-03-12T00:00:00\", \"2013-03-13T00:00:00\", \"2013-03-14T00:00:00\", \"2013-03-15T00:00:00\", \"2013-03-18T00:00:00\", \"2013-03-19T00:00:00\", \"2013-03-20T00:00:00\", \"2013-03-21T00:00:00\", \"2013-03-25T00:00:00\", \"2013-03-26T00:00:00\", \"2013-03-27T00:00:00\", \"2013-03-28T00:00:00\", \"2013-04-01T00:00:00\", \"2013-04-02T00:00:00\", \"2013-04-03T00:00:00\", \"2013-04-04T00:00:00\", \"2013-04-08T00:00:00\", \"2013-04-09T00:00:00\", \"2013-04-10T00:00:00\", \"2013-04-11T00:00:00\", \"2013-04-15T00:00:00\", \"2013-04-16T00:00:00\", \"2013-04-17T00:00:00\", \"2013-04-18T00:00:00\", \"2013-04-22T00:00:00\", \"2013-04-23T00:00:00\", \"2013-04-24T00:00:00\", \"2013-04-25T00:00:00\", \"2013-04-29T00:00:00\", \"2013-04-30T00:00:00\", \"2013-05-01T00:00:00\", \"2013-05-02T00:00:00\", \"2013-05-03T00:00:00\", \"2013-05-06T00:00:00\", \"2013-05-07T00:00:00\", \"2013-05-08T00:00:00\", \"2013-05-09T00:00:00\", \"2013-05-13T00:00:00\", \"2013-05-14T00:00:00\", \"2013-05-15T00:00:00\", \"2013-05-16T00:00:00\", \"2013-05-20T00:00:00\", \"2013-05-21T00:00:00\", \"2013-05-22T00:00:00\", \"2013-05-23T00:00:00\", \"2013-05-24T00:00:00\", \"2013-05-28T00:00:00\", \"2013-05-29T00:00:00\", \"2013-05-30T00:00:00\", \"2013-05-31T00:00:00\", \"2013-06-03T00:00:00\", \"2013-06-04T00:00:00\", \"2013-06-05T00:00:00\", \"2013-06-06T00:00:00\", \"2013-06-10T00:00:00\", \"2013-06-11T00:00:00\", \"2013-06-12T00:00:00\", \"2013-06-13T00:00:00\", \"2013-06-14T00:00:00\", \"2013-06-15T00:00:00\", \"2013-06-17T00:00:00\", \"2013-06-18T00:00:00\", \"2013-06-21T00:00:00\", \"2013-06-22T00:00:00\", \"2013-06-24T00:00:00\", \"2013-06-25T00:00:00\", \"2013-06-26T00:00:00\", \"2013-06-27T00:00:00\", \"2013-07-01T00:00:00\", \"2013-07-02T00:00:00\", \"2013-07-03T00:00:00\", \"2013-07-04T00:00:00\", \"2013-07-08T00:00:00\", \"2013-07-09T00:00:00\", \"2013-07-10T00:00:00\", \"2013-07-11T00:00:00\", \"2013-07-15T00:00:00\", \"2013-07-16T00:00:00\", \"2013-07-17T00:00:00\", \"2013-07-18T00:00:00\", \"2013-07-22T00:00:00\", \"2013-07-23T00:00:00\", \"2013-07-24T00:00:00\", \"2013-07-25T00:00:00\", \"2013-07-29T00:00:00\", \"2013-07-30T00:00:00\", \"2013-07-31T00:00:00\", \"2013-08-01T00:00:00\", \"2013-08-05T00:00:00\", \"2013-08-06T00:00:00\", \"2013-08-07T00:00:00\", \"2013-08-08T00:00:00\", \"2013-08-12T00:00:00\", \"2013-08-13T00:00:00\", \"2013-08-14T00:00:00\", \"2013-08-15T00:00:00\", \"2013-08-16T00:00:00\", \"2013-08-19T00:00:00\", \"2013-08-20T00:00:00\", \"2013-08-21T00:00:00\", \"2013-08-22T00:00:00\", \"2013-08-26T00:00:00\", \"2013-08-27T00:00:00\", \"2013-08-28T00:00:00\", \"2013-08-29T00:00:00\", \"2013-08-30T00:00:00\", \"2013-09-03T00:00:00\", \"2013-09-04T00:00:00\", \"2013-09-05T00:00:00\", \"2013-09-06T00:00:00\", \"2013-09-09T00:00:00\", \"2013-09-10T00:00:00\", \"2013-09-11T00:00:00\", \"2013-09-12T00:00:00\", \"2013-09-16T00:00:00\", \"2013-09-17T00:00:00\", \"2013-09-18T00:00:00\", \"2013-09-19T00:00:00\", \"2013-09-20T00:00:00\", \"2013-09-23T00:00:00\", \"2013-09-24T00:00:00\", \"2013-09-25T00:00:00\", \"2013-09-26T00:00:00\", \"2013-09-30T00:00:00\", \"2013-10-01T00:00:00\", \"2013-10-02T00:00:00\", \"2013-10-03T00:00:00\", \"2013-10-04T00:00:00\", \"2013-10-07T00:00:00\", \"2013-10-08T00:00:00\", \"2013-10-09T00:00:00\", \"2013-10-10T00:00:00\", \"2013-10-11T00:00:00\", \"2013-10-14T00:00:00\", \"2013-10-15T00:00:00\", \"2013-10-16T00:00:00\", \"2013-10-17T00:00:00\", \"2013-10-21T00:00:00\", \"2013-10-22T00:00:00\", \"2013-10-23T00:00:00\", \"2013-10-24T00:00:00\", \"2013-10-25T00:00:00\", \"2013-10-28T00:00:00\", \"2013-10-29T00:00:00\", \"2013-10-30T00:00:00\", \"2013-10-31T00:00:00\", \"2013-11-04T00:00:00\", \"2013-11-05T00:00:00\", \"2013-11-06T00:00:00\", \"2013-11-07T00:00:00\", \"2013-11-08T00:00:00\", \"2013-11-11T00:00:00\", \"2013-11-12T00:00:00\", \"2013-11-13T00:00:00\", \"2013-11-14T00:00:00\", \"2013-11-15T00:00:00\", \"2013-11-18T00:00:00\", \"2013-11-19T00:00:00\", \"2013-11-20T00:00:00\", \"2013-11-21T00:00:00\", \"2013-11-22T00:00:00\", \"2013-11-23T00:00:00\", \"2013-11-25T00:00:00\", \"2013-11-26T00:00:00\", \"2013-11-27T00:00:00\", \"2013-12-02T00:00:00\", \"2013-12-03T00:00:00\", \"2013-12-04T00:00:00\", \"2013-12-05T00:00:00\", \"2013-12-06T00:00:00\", \"2013-12-09T00:00:00\", \"2013-12-10T00:00:00\", \"2013-12-11T00:00:00\", \"2013-12-12T00:00:00\", \"2013-12-13T00:00:00\", \"2013-12-16T00:00:00\", \"2013-12-17T00:00:00\", \"2013-12-18T00:00:00\", \"2013-12-19T00:00:00\", \"2013-12-20T00:00:00\", \"2013-12-21T00:00:00\", \"2013-12-23T00:00:00\", \"2013-12-24T00:00:00\", \"2013-12-26T00:00:00\", \"2013-12-27T00:00:00\", \"2013-12-28T00:00:00\", \"2013-12-30T00:00:00\", \"2013-12-31T00:00:00\", \"2014-01-02T00:00:00\", \"2014-01-06T00:00:00\", \"2014-01-07T00:00:00\", \"2014-01-08T00:00:00\", \"2014-01-09T00:00:00\", \"2014-01-13T00:00:00\", \"2014-01-14T00:00:00\", \"2014-01-15T00:00:00\", \"2014-01-16T00:00:00\", \"2014-01-20T00:00:00\", \"2014-01-21T00:00:00\", \"2014-01-22T00:00:00\", \"2014-01-23T00:00:00\", \"2014-01-27T00:00:00\", \"2014-01-28T00:00:00\", \"2014-01-29T00:00:00\", \"2014-01-30T00:00:00\", \"2014-01-31T00:00:00\", \"2014-02-03T00:00:00\", \"2014-02-04T00:00:00\", \"2014-02-05T00:00:00\", \"2014-02-06T00:00:00\", \"2014-02-10T00:00:00\", \"2014-02-11T00:00:00\", \"2014-02-12T00:00:00\", \"2014-02-13T00:00:00\", \"2014-02-17T00:00:00\", \"2014-02-18T00:00:00\", \"2014-02-19T00:00:00\", \"2014-02-20T00:00:00\", \"2014-02-24T00:00:00\", \"2014-02-25T00:00:00\", \"2014-02-26T00:00:00\", \"2014-02-27T00:00:00\", \"2014-03-03T00:00:00\", \"2014-03-04T00:00:00\", \"2014-03-05T00:00:00\", \"2014-03-06T00:00:00\", \"2014-03-10T00:00:00\", \"2014-03-11T00:00:00\", \"2014-03-12T00:00:00\", \"2014-03-13T00:00:00\", \"2014-03-14T00:00:00\", \"2014-03-17T00:00:00\", \"2014-03-18T00:00:00\", \"2014-03-19T00:00:00\", \"2014-03-20T00:00:00\", \"2014-03-24T00:00:00\", \"2014-03-25T00:00:00\", \"2014-03-26T00:00:00\", \"2014-03-27T00:00:00\", \"2014-03-31T00:00:00\", \"2014-04-01T00:00:00\", \"2014-04-02T00:00:00\", \"2014-04-03T00:00:00\", \"2014-04-07T00:00:00\", \"2014-04-08T00:00:00\", \"2014-04-09T00:00:00\", \"2014-04-10T00:00:00\", \"2014-04-11T00:00:00\", \"2014-04-14T00:00:00\", \"2014-04-15T00:00:00\", \"2014-04-16T00:00:00\", \"2014-04-17T00:00:00\", \"2014-04-21T00:00:00\", \"2014-04-22T00:00:00\", \"2014-04-23T00:00:00\", \"2014-04-24T00:00:00\", \"2014-04-28T00:00:00\", \"2014-04-29T00:00:00\", \"2014-04-30T00:00:00\", \"2014-05-01T00:00:00\", \"2014-05-05T00:00:00\", \"2014-05-06T00:00:00\", \"2014-05-07T00:00:00\", \"2014-05-08T00:00:00\", \"2014-05-12T00:00:00\", \"2014-05-13T00:00:00\", \"2014-05-14T00:00:00\", \"2014-05-15T00:00:00\", \"2014-05-19T00:00:00\", \"2014-05-20T00:00:00\", \"2014-05-21T00:00:00\", \"2014-05-22T00:00:00\", \"2014-05-23T00:00:00\", \"2014-05-27T00:00:00\", \"2014-05-28T00:00:00\", \"2014-05-29T00:00:00\", \"2014-06-02T00:00:00\", \"2014-06-03T00:00:00\", \"2014-06-04T00:00:00\", \"2014-06-05T00:00:00\", \"2014-06-09T00:00:00\", \"2014-06-10T00:00:00\", \"2014-06-11T00:00:00\", \"2014-06-12T00:00:00\", \"2014-06-16T00:00:00\", \"2014-06-17T00:00:00\", \"2014-06-18T00:00:00\", \"2014-06-19T00:00:00\", \"2014-06-23T00:00:00\", \"2014-06-24T00:00:00\", \"2014-06-25T00:00:00\", \"2014-06-26T00:00:00\", \"2014-06-27T00:00:00\", \"2014-06-30T00:00:00\", \"2014-07-01T00:00:00\", \"2014-07-02T00:00:00\", \"2014-07-03T00:00:00\", \"2014-07-07T00:00:00\", \"2014-07-08T00:00:00\", \"2014-07-09T00:00:00\", \"2014-07-10T00:00:00\", \"2014-07-14T00:00:00\", \"2014-07-15T00:00:00\", \"2014-07-16T00:00:00\", \"2014-07-17T00:00:00\", \"2014-07-21T00:00:00\", \"2014-07-22T00:00:00\", \"2014-07-23T00:00:00\", \"2014-07-24T00:00:00\", \"2014-07-28T00:00:00\", \"2014-07-29T00:00:00\", \"2014-07-30T00:00:00\", \"2014-07-31T00:00:00\", \"2014-08-04T00:00:00\", \"2014-08-05T00:00:00\", \"2014-08-06T00:00:00\", \"2014-08-07T00:00:00\", \"2014-08-11T00:00:00\", \"2014-08-12T00:00:00\", \"2014-08-13T00:00:00\", \"2014-08-14T00:00:00\", \"2014-08-18T00:00:00\", \"2014-08-19T00:00:00\", \"2014-08-20T00:00:00\", \"2014-08-21T00:00:00\", \"2014-08-25T00:00:00\", \"2014-08-26T00:00:00\", \"2014-08-27T00:00:00\", \"2014-08-28T00:00:00\", \"2014-08-29T00:00:00\", \"2014-09-02T00:00:00\", \"2014-09-03T00:00:00\", \"2014-09-04T00:00:00\", \"2014-09-08T00:00:00\", \"2014-09-09T00:00:00\", \"2014-09-10T00:00:00\", \"2014-09-11T00:00:00\", \"2014-09-15T00:00:00\", \"2014-09-16T00:00:00\", \"2014-09-17T00:00:00\", \"2014-09-18T00:00:00\", \"2014-09-22T00:00:00\", \"2014-09-23T00:00:00\", \"2014-09-24T00:00:00\", \"2014-09-25T00:00:00\", \"2014-09-29T00:00:00\", \"2014-09-30T00:00:00\", \"2014-10-01T00:00:00\", \"2014-10-02T00:00:00\", \"2014-10-06T00:00:00\", \"2014-10-07T00:00:00\", \"2014-10-08T00:00:00\", \"2014-10-09T00:00:00\", \"2014-10-10T00:00:00\", \"2014-10-13T00:00:00\", \"2014-10-14T00:00:00\", \"2014-10-15T00:00:00\", \"2014-10-16T00:00:00\", \"2014-10-20T00:00:00\", \"2014-10-21T00:00:00\", \"2014-10-22T00:00:00\", \"2014-10-23T00:00:00\", \"2014-10-27T00:00:00\", \"2014-10-28T00:00:00\", \"2014-10-29T00:00:00\", \"2014-10-30T00:00:00\", \"2014-11-03T00:00:00\", \"2014-11-04T00:00:00\", \"2014-11-05T00:00:00\", \"2014-11-06T00:00:00\", \"2014-11-07T00:00:00\", \"2014-11-10T00:00:00\", \"2014-11-12T00:00:00\", \"2014-11-13T00:00:00\", \"2014-11-17T00:00:00\", \"2014-11-18T00:00:00\", \"2014-11-19T00:00:00\", \"2014-11-20T00:00:00\", \"2014-11-21T00:00:00\", \"2014-11-22T00:00:00\", \"2014-11-24T00:00:00\", \"2014-11-25T00:00:00\", \"2014-11-26T00:00:00\", \"2014-12-01T00:00:00\", \"2014-12-02T00:00:00\", \"2014-12-03T00:00:00\", \"2014-12-04T00:00:00\", \"2014-12-08T00:00:00\", \"2014-12-09T00:00:00\", \"2014-12-10T00:00:00\", \"2014-12-11T00:00:00\", \"2014-12-12T00:00:00\", \"2014-12-15T00:00:00\", \"2014-12-16T00:00:00\", \"2014-12-17T00:00:00\", \"2014-12-18T00:00:00\", \"2014-12-19T00:00:00\", \"2014-12-20T00:00:00\", \"2014-12-22T00:00:00\", \"2014-12-23T00:00:00\", \"2014-12-24T00:00:00\", \"2014-12-26T00:00:00\", \"2014-12-27T00:00:00\", \"2014-12-29T00:00:00\", \"2014-12-30T00:00:00\", \"2014-12-31T00:00:00\", \"2015-01-05T00:00:00\", \"2015-01-06T00:00:00\", \"2015-01-07T00:00:00\", \"2015-01-08T00:00:00\", \"2015-01-12T00:00:00\", \"2015-01-13T00:00:00\", \"2015-01-14T00:00:00\", \"2015-01-15T00:00:00\", \"2015-01-16T00:00:00\", \"2015-01-20T00:00:00\", \"2015-01-21T00:00:00\", \"2015-01-22T00:00:00\", \"2015-01-23T00:00:00\", \"2015-01-26T00:00:00\", \"2015-01-27T00:00:00\", \"2015-01-28T00:00:00\", \"2015-01-29T00:00:00\", \"2015-02-02T00:00:00\", \"2015-02-03T00:00:00\", \"2015-02-04T00:00:00\", \"2015-02-05T00:00:00\", \"2015-02-09T00:00:00\", \"2015-02-10T00:00:00\", \"2015-02-11T00:00:00\", \"2015-02-12T00:00:00\", \"2015-02-16T00:00:00\", \"2015-02-17T00:00:00\", \"2015-02-18T00:00:00\", \"2015-02-19T00:00:00\", \"2015-02-23T00:00:00\", \"2015-02-24T00:00:00\", \"2015-02-25T00:00:00\", \"2015-02-26T00:00:00\", \"2015-03-02T00:00:00\", \"2015-03-03T00:00:00\", \"2015-03-04T00:00:00\", \"2015-03-05T00:00:00\", \"2015-03-09T00:00:00\", \"2015-03-10T00:00:00\", \"2015-03-11T00:00:00\", \"2015-03-12T00:00:00\", \"2015-03-16T00:00:00\", \"2015-03-17T00:00:00\", \"2015-03-18T00:00:00\", \"2015-03-19T00:00:00\", \"2015-03-23T00:00:00\", \"2015-03-24T00:00:00\", \"2015-03-25T00:00:00\", \"2015-03-26T00:00:00\", \"2015-03-30T00:00:00\", \"2015-03-31T00:00:00\", \"2015-04-01T00:00:00\", \"2015-04-02T00:00:00\", \"2015-04-06T00:00:00\", \"2015-04-07T00:00:00\", \"2015-04-08T00:00:00\", \"2015-04-09T00:00:00\", \"2015-04-13T00:00:00\", \"2015-04-14T00:00:00\", \"2015-04-15T00:00:00\", \"2015-04-16T00:00:00\", \"2015-04-20T00:00:00\", \"2015-04-21T00:00:00\", \"2015-04-22T00:00:00\", \"2015-04-23T00:00:00\", \"2015-04-27T00:00:00\", \"2015-04-28T00:00:00\", \"2015-04-29T00:00:00\", \"2015-04-30T00:00:00\", \"2015-05-04T00:00:00\", \"2015-05-05T00:00:00\", \"2015-05-06T00:00:00\", \"2015-05-07T00:00:00\", \"2015-05-11T00:00:00\", \"2015-05-12T00:00:00\", \"2015-05-13T00:00:00\", \"2015-05-14T00:00:00\", \"2015-05-18T00:00:00\", \"2015-05-19T00:00:00\", \"2015-05-20T00:00:00\", \"2015-05-21T00:00:00\", \"2015-05-22T00:00:00\", \"2015-05-26T00:00:00\", \"2015-05-27T00:00:00\", \"2015-05-28T00:00:00\", \"2015-06-01T00:00:00\", \"2015-06-02T00:00:00\", \"2015-06-03T00:00:00\", \"2015-06-04T00:00:00\", \"2015-06-08T00:00:00\", \"2015-06-09T00:00:00\", \"2015-06-10T00:00:00\", \"2015-06-11T00:00:00\", \"2015-06-12T00:00:00\", \"2015-06-15T00:00:00\", \"2015-06-16T00:00:00\", \"2015-06-17T00:00:00\", \"2015-06-18T00:00:00\", \"2015-06-22T00:00:00\", \"2015-06-23T00:00:00\", \"2015-06-24T00:00:00\", \"2015-06-25T00:00:00\", \"2015-06-26T00:00:00\", \"2015-06-29T00:00:00\", \"2015-06-30T00:00:00\", \"2015-07-01T00:00:00\", \"2015-07-02T00:00:00\", \"2015-07-06T00:00:00\", \"2015-07-07T00:00:00\", \"2015-07-08T00:00:00\", \"2015-07-09T00:00:00\", \"2015-07-13T00:00:00\", \"2015-07-14T00:00:00\", \"2015-07-15T00:00:00\", \"2015-07-16T00:00:00\", \"2015-07-20T00:00:00\", \"2015-07-21T00:00:00\", \"2015-07-22T00:00:00\", \"2015-07-23T00:00:00\", \"2015-07-27T00:00:00\", \"2015-07-28T00:00:00\", \"2015-07-29T00:00:00\", \"2015-07-30T00:00:00\", \"2015-08-03T00:00:00\", \"2015-08-04T00:00:00\", \"2015-08-05T00:00:00\", \"2015-08-06T00:00:00\", \"2015-08-07T00:00:00\", \"2015-08-10T00:00:00\", \"2015-08-11T00:00:00\", \"2015-08-12T00:00:00\", \"2015-08-13T00:00:00\", \"2015-08-17T00:00:00\", \"2015-08-18T00:00:00\", \"2015-08-19T00:00:00\", \"2015-08-20T00:00:00\", \"2015-08-24T00:00:00\", \"2015-08-25T00:00:00\", \"2015-08-26T00:00:00\", \"2015-08-27T00:00:00\", \"2015-08-31T00:00:00\", \"2015-09-01T00:00:00\", \"2015-09-02T00:00:00\", \"2015-09-03T00:00:00\", \"2015-09-04T00:00:00\", \"2015-09-08T00:00:00\", \"2015-09-09T00:00:00\", \"2015-09-10T00:00:00\", \"2015-09-14T00:00:00\", \"2015-09-15T00:00:00\", \"2015-09-16T00:00:00\", \"2015-09-17T00:00:00\", \"2015-09-21T00:00:00\", \"2015-09-22T00:00:00\", \"2015-09-23T00:00:00\", \"2015-09-24T00:00:00\", \"2015-09-25T00:00:00\", \"2015-09-28T00:00:00\", \"2015-09-29T00:00:00\", \"2015-09-30T00:00:00\", \"2015-10-01T00:00:00\", \"2015-10-02T00:00:00\", \"2015-10-05T00:00:00\", \"2015-10-06T00:00:00\", \"2015-10-07T00:00:00\", \"2015-10-08T00:00:00\", \"2015-10-12T00:00:00\", \"2015-10-13T00:00:00\", \"2015-10-14T00:00:00\", \"2015-10-15T00:00:00\", \"2015-10-19T00:00:00\", \"2015-10-20T00:00:00\", \"2015-10-21T00:00:00\", \"2015-10-22T00:00:00\", \"2015-10-26T00:00:00\", \"2015-10-27T00:00:00\", \"2015-10-28T00:00:00\", \"2015-10-29T00:00:00\", \"2015-11-02T00:00:00\", \"2015-11-03T00:00:00\", \"2015-11-04T00:00:00\", \"2015-11-05T00:00:00\", \"2015-11-09T00:00:00\", \"2015-11-10T00:00:00\", \"2015-11-11T00:00:00\", \"2015-11-12T00:00:00\", \"2015-11-16T00:00:00\", \"2015-11-17T00:00:00\", \"2015-11-18T00:00:00\", \"2015-11-19T00:00:00\", \"2015-11-20T00:00:00\", \"2015-11-21T00:00:00\", \"2015-11-23T00:00:00\", \"2015-11-24T00:00:00\", \"2015-11-25T00:00:00\", \"2015-11-30T00:00:00\", \"2015-12-01T00:00:00\", \"2015-12-02T00:00:00\", \"2015-12-03T00:00:00\", \"2015-12-04T00:00:00\", \"2015-12-07T00:00:00\", \"2015-12-08T00:00:00\", \"2015-12-09T00:00:00\", \"2015-12-10T00:00:00\", \"2015-12-14T00:00:00\", \"2015-12-15T00:00:00\", \"2015-12-16T00:00:00\", \"2015-12-17T00:00:00\", \"2015-12-18T00:00:00\", \"2015-12-21T00:00:00\", \"2015-12-22T00:00:00\", \"2015-12-23T00:00:00\", \"2015-12-24T00:00:00\", \"2015-12-26T00:00:00\", \"2015-12-28T00:00:00\", \"2015-12-29T00:00:00\", \"2015-12-30T00:00:00\", \"2015-12-31T00:00:00\", \"2016-01-04T00:00:00\", \"2016-01-05T00:00:00\", \"2016-01-06T00:00:00\", \"2016-01-07T00:00:00\", \"2016-01-11T00:00:00\", \"2016-01-12T00:00:00\", \"2016-01-13T00:00:00\", \"2016-01-14T00:00:00\", \"2016-01-15T00:00:00\", \"2016-01-19T00:00:00\", \"2016-01-20T00:00:00\", \"2016-01-21T00:00:00\", \"2016-01-25T00:00:00\", \"2016-01-26T00:00:00\", \"2016-01-27T00:00:00\", \"2016-01-28T00:00:00\", \"2016-02-01T00:00:00\", \"2016-02-02T00:00:00\", \"2016-02-03T00:00:00\", \"2016-02-04T00:00:00\", \"2016-02-08T00:00:00\", \"2016-02-09T00:00:00\", \"2016-02-10T00:00:00\", \"2016-02-11T00:00:00\", \"2016-02-15T00:00:00\", \"2016-02-16T00:00:00\", \"2016-02-17T00:00:00\", \"2016-02-18T00:00:00\", \"2016-02-22T00:00:00\", \"2016-02-23T00:00:00\", \"2016-02-24T00:00:00\", \"2016-02-25T00:00:00\", \"2016-02-29T00:00:00\", \"2016-03-01T00:00:00\", \"2016-03-02T00:00:00\", \"2016-03-03T00:00:00\", \"2016-03-04T00:00:00\", \"2016-03-07T00:00:00\", \"2016-03-08T00:00:00\", \"2016-03-09T00:00:00\", \"2016-03-10T00:00:00\", \"2016-03-14T00:00:00\", \"2016-03-15T00:00:00\", \"2016-03-16T00:00:00\", \"2016-03-17T00:00:00\", \"2016-03-21T00:00:00\", \"2016-03-22T00:00:00\", \"2016-03-23T00:00:00\", \"2016-03-24T00:00:00\", \"2016-03-25T00:00:00\", \"2016-03-28T00:00:00\", \"2016-03-29T00:00:00\", \"2016-03-30T00:00:00\", \"2016-03-31T00:00:00\", \"2016-04-04T00:00:00\", \"2016-04-05T00:00:00\", \"2016-04-06T00:00:00\", \"2016-04-07T00:00:00\", \"2016-04-11T00:00:00\", \"2016-04-12T00:00:00\", \"2016-04-13T00:00:00\", \"2016-04-14T00:00:00\", \"2016-04-18T00:00:00\", \"2016-04-19T00:00:00\", \"2016-04-20T00:00:00\", \"2016-04-21T00:00:00\", \"2016-04-25T00:00:00\", \"2016-04-26T00:00:00\", \"2016-04-27T00:00:00\", \"2016-04-28T00:00:00\", \"2016-05-02T00:00:00\", \"2016-05-03T00:00:00\", \"2016-05-04T00:00:00\", \"2016-05-05T00:00:00\", \"2016-05-06T00:00:00\", \"2016-05-09T00:00:00\", \"2016-05-10T00:00:00\", \"2016-05-11T00:00:00\", \"2016-05-12T00:00:00\", \"2016-05-16T00:00:00\", \"2016-05-17T00:00:00\", \"2016-05-18T00:00:00\", \"2016-05-19T00:00:00\", \"2016-05-23T00:00:00\", \"2016-05-24T00:00:00\", \"2016-05-25T00:00:00\", \"2016-05-26T00:00:00\", \"2016-05-27T00:00:00\", \"2016-05-31T00:00:00\", \"2016-06-01T00:00:00\", \"2016-06-02T00:00:00\", \"2016-06-06T00:00:00\", \"2016-06-07T00:00:00\", \"2016-06-08T00:00:00\", \"2016-06-09T00:00:00\", \"2016-06-13T00:00:00\", \"2016-06-14T00:00:00\", \"2016-06-15T00:00:00\", \"2016-06-16T00:00:00\", \"2016-06-20T00:00:00\", \"2016-06-21T00:00:00\", \"2016-06-22T00:00:00\", \"2016-06-23T00:00:00\", \"2016-06-27T00:00:00\", \"2016-06-28T00:00:00\", \"2016-06-29T00:00:00\", \"2016-06-30T00:00:00\", \"2016-07-01T00:00:00\", \"2016-07-05T00:00:00\", \"2016-07-06T00:00:00\", \"2016-07-07T00:00:00\", \"2016-07-11T00:00:00\", \"2016-07-12T00:00:00\", \"2016-07-13T00:00:00\", \"2016-07-14T00:00:00\", \"2016-07-15T00:00:00\", \"2016-07-18T00:00:00\", \"2016-07-19T00:00:00\", \"2016-07-20T00:00:00\", \"2016-07-21T00:00:00\", \"2016-07-22T00:00:00\", \"2016-07-25T00:00:00\", \"2016-07-26T00:00:00\", \"2016-07-27T00:00:00\", \"2016-07-28T00:00:00\", \"2016-07-29T00:00:00\", \"2016-08-01T00:00:00\", \"2016-08-02T00:00:00\", \"2016-08-03T00:00:00\", \"2016-08-04T00:00:00\", \"2016-08-05T00:00:00\", \"2016-08-08T00:00:00\", \"2016-08-09T00:00:00\", \"2016-08-10T00:00:00\", \"2016-08-11T00:00:00\", \"2016-08-12T00:00:00\", \"2016-08-15T00:00:00\", \"2016-08-16T00:00:00\", \"2016-08-17T00:00:00\", \"2016-08-18T00:00:00\", \"2016-08-19T00:00:00\", \"2016-08-22T00:00:00\", \"2016-08-23T00:00:00\", \"2016-08-24T00:00:00\", \"2016-08-25T00:00:00\", \"2016-08-26T00:00:00\", \"2016-08-29T00:00:00\", \"2016-08-30T00:00:00\", \"2016-08-31T00:00:00\", \"2016-09-01T00:00:00\", \"2016-09-02T00:00:00\", \"2016-09-03T00:00:00\", \"2016-09-06T00:00:00\", \"2016-09-07T00:00:00\", \"2016-09-08T00:00:00\", \"2016-09-09T00:00:00\", \"2016-09-12T00:00:00\", \"2016-09-13T00:00:00\", \"2016-09-14T00:00:00\", \"2016-09-15T00:00:00\", \"2016-09-16T00:00:00\", \"2016-09-19T00:00:00\", \"2016-09-20T00:00:00\", \"2016-09-21T00:00:00\", \"2016-09-22T00:00:00\", \"2016-09-23T00:00:00\", \"2016-09-26T00:00:00\", \"2016-09-27T00:00:00\", \"2016-09-28T00:00:00\", \"2016-09-29T00:00:00\", \"2016-09-30T00:00:00\", \"2016-10-03T00:00:00\", \"2016-10-04T00:00:00\", \"2016-10-05T00:00:00\", \"2016-10-06T00:00:00\", \"2016-10-07T00:00:00\", \"2016-10-10T00:00:00\", \"2016-10-11T00:00:00\", \"2016-10-12T00:00:00\", \"2016-10-13T00:00:00\", \"2016-10-14T00:00:00\", \"2016-10-17T00:00:00\", \"2016-10-18T00:00:00\", \"2016-10-19T00:00:00\", \"2016-10-20T00:00:00\", \"2016-10-21T00:00:00\", \"2016-10-24T00:00:00\", \"2016-10-25T00:00:00\", \"2016-10-26T00:00:00\", \"2016-10-27T00:00:00\", \"2016-10-28T00:00:00\", \"2016-10-31T00:00:00\", \"2016-11-01T00:00:00\", \"2016-11-02T00:00:00\", \"2016-11-03T00:00:00\", \"2016-11-04T00:00:00\", \"2016-11-07T00:00:00\", \"2016-11-08T00:00:00\", \"2016-11-09T00:00:00\", \"2016-11-10T00:00:00\", \"2016-11-11T00:00:00\", \"2016-11-14T00:00:00\", \"2016-11-15T00:00:00\", \"2016-11-16T00:00:00\", \"2016-11-17T00:00:00\", \"2016-11-18T00:00:00\", \"2016-11-21T00:00:00\", \"2016-11-22T00:00:00\", \"2016-11-23T00:00:00\", \"2016-11-28T00:00:00\", \"2016-11-29T00:00:00\", \"2016-11-30T00:00:00\", \"2016-12-01T00:00:00\", \"2016-12-02T00:00:00\", \"2016-12-05T00:00:00\", \"2016-12-06T00:00:00\", \"2016-12-07T00:00:00\", \"2016-12-08T00:00:00\", \"2016-12-09T00:00:00\", \"2016-12-12T00:00:00\", \"2016-12-13T00:00:00\", \"2016-12-14T00:00:00\", \"2016-12-15T00:00:00\", \"2016-12-16T00:00:00\", \"2016-12-19T00:00:00\", \"2016-12-20T00:00:00\", \"2016-12-21T00:00:00\", \"2016-12-22T00:00:00\", \"2016-12-23T00:00:00\", \"2016-12-26T00:00:00\", \"2016-12-27T00:00:00\", \"2016-12-28T00:00:00\", \"2016-12-29T00:00:00\", \"2016-12-30T00:00:00\", \"2017-01-03T00:00:00\", \"2017-01-04T00:00:00\", \"2017-01-05T00:00:00\", \"2017-01-06T00:00:00\", \"2017-01-09T00:00:00\", \"2017-01-10T00:00:00\", \"2017-01-11T00:00:00\", \"2017-01-12T00:00:00\", \"2017-01-13T00:00:00\", \"2017-01-16T00:00:00\", \"2017-01-17T00:00:00\", \"2017-01-18T00:00:00\", \"2017-01-19T00:00:00\", \"2017-01-20T00:00:00\", \"2017-01-23T00:00:00\", \"2017-01-24T00:00:00\", \"2017-01-25T00:00:00\", \"2017-01-26T00:00:00\", \"2017-01-27T00:00:00\", \"2017-01-30T00:00:00\", \"2017-01-31T00:00:00\", \"2017-02-01T00:00:00\", \"2017-02-02T00:00:00\", \"2017-02-03T00:00:00\", \"2017-02-06T00:00:00\", \"2017-02-07T00:00:00\", \"2017-02-08T00:00:00\", \"2017-02-09T00:00:00\", \"2017-02-10T00:00:00\", \"2017-02-13T00:00:00\", \"2017-02-14T00:00:00\", \"2017-02-15T00:00:00\", \"2017-02-16T00:00:00\", \"2017-02-17T00:00:00\", \"2017-02-20T00:00:00\", \"2017-02-21T00:00:00\", \"2017-02-22T00:00:00\", \"2017-02-23T00:00:00\", \"2017-02-24T00:00:00\", \"2017-02-27T00:00:00\", \"2017-02-28T00:00:00\", \"2017-03-01T00:00:00\", \"2017-03-02T00:00:00\", \"2017-03-03T00:00:00\", \"2017-03-06T00:00:00\", \"2017-03-07T00:00:00\", \"2017-03-08T00:00:00\", \"2017-03-09T00:00:00\", \"2017-03-10T00:00:00\", \"2017-03-13T00:00:00\", \"2017-03-14T00:00:00\", \"2017-03-15T00:00:00\", \"2017-03-16T00:00:00\", \"2017-03-17T00:00:00\", \"2017-03-20T00:00:00\", \"2017-03-21T00:00:00\", \"2017-03-22T00:00:00\", \"2017-03-23T00:00:00\", \"2017-03-24T00:00:00\", \"2017-03-27T00:00:00\", \"2017-03-28T00:00:00\", \"2017-03-29T00:00:00\", \"2017-03-30T00:00:00\", \"2017-03-31T00:00:00\", \"2017-04-03T00:00:00\", \"2017-04-04T00:00:00\", \"2017-04-05T00:00:00\", \"2017-04-06T00:00:00\", \"2017-04-07T00:00:00\", \"2017-04-10T00:00:00\", \"2017-04-11T00:00:00\", \"2017-04-12T00:00:00\", \"2017-04-13T00:00:00\", \"2017-04-14T00:00:00\", \"2017-04-17T00:00:00\", \"2017-04-18T00:00:00\", \"2017-04-19T00:00:00\", \"2017-04-20T00:00:00\", \"2017-04-21T00:00:00\", \"2017-04-24T00:00:00\", \"2017-04-25T00:00:00\", \"2017-04-26T00:00:00\", \"2017-04-27T00:00:00\", \"2017-04-28T00:00:00\", \"2017-05-01T00:00:00\", \"2017-05-02T00:00:00\", \"2017-05-03T00:00:00\", \"2017-05-04T00:00:00\", \"2017-05-05T00:00:00\", \"2017-05-08T00:00:00\", \"2017-05-09T00:00:00\", \"2017-05-10T00:00:00\", \"2017-05-11T00:00:00\", \"2017-05-12T00:00:00\", \"2017-05-15T00:00:00\", \"2017-05-16T00:00:00\", \"2017-05-17T00:00:00\", \"2017-05-18T00:00:00\", \"2017-05-19T00:00:00\", \"2017-05-22T00:00:00\", \"2017-05-23T00:00:00\", \"2017-05-24T00:00:00\", \"2017-05-25T00:00:00\", \"2017-05-26T00:00:00\", \"2017-05-30T00:00:00\", \"2017-05-31T00:00:00\", \"2017-06-01T00:00:00\", \"2017-06-02T00:00:00\", \"2017-06-05T00:00:00\", \"2017-06-06T00:00:00\", \"2017-06-07T00:00:00\", \"2017-06-08T00:00:00\", \"2017-06-09T00:00:00\", \"2017-06-12T00:00:00\", \"2017-06-13T00:00:00\", \"2017-06-14T00:00:00\", \"2017-06-15T00:00:00\", \"2017-06-16T00:00:00\", \"2017-06-19T00:00:00\", \"2017-06-20T00:00:00\", \"2017-06-21T00:00:00\", \"2017-06-22T00:00:00\", \"2017-06-23T00:00:00\", \"2017-06-26T00:00:00\", \"2017-06-27T00:00:00\", \"2017-06-28T00:00:00\", \"2017-06-29T00:00:00\", \"2017-06-30T00:00:00\", \"2017-07-03T00:00:00\", \"2017-07-04T00:00:00\", \"2017-07-05T00:00:00\", \"2017-07-06T00:00:00\", \"2017-07-07T00:00:00\", \"2017-07-10T00:00:00\", \"2017-07-11T00:00:00\", \"2017-07-12T00:00:00\", \"2017-07-13T00:00:00\", \"2017-07-14T00:00:00\", \"2017-07-17T00:00:00\", \"2017-07-18T00:00:00\", \"2017-07-19T00:00:00\", \"2017-07-20T00:00:00\", \"2017-07-21T00:00:00\", \"2017-07-24T00:00:00\", \"2017-07-25T00:00:00\", \"2017-07-26T00:00:00\", \"2017-07-27T00:00:00\", \"2017-07-28T00:00:00\", \"2017-07-31T00:00:00\", \"2017-08-01T00:00:00\", \"2017-08-02T00:00:00\", \"2017-08-03T00:00:00\", \"2017-08-04T00:00:00\", \"2017-08-07T00:00:00\", \"2017-08-08T00:00:00\", \"2017-08-09T00:00:00\", \"2017-08-10T00:00:00\", \"2017-08-11T00:00:00\", \"2017-08-14T00:00:00\", \"2017-08-15T00:00:00\", \"2017-08-16T00:00:00\", \"2017-08-17T00:00:00\", \"2017-08-18T00:00:00\", \"2017-08-21T00:00:00\", \"2017-08-22T00:00:00\", \"2017-08-23T00:00:00\", \"2017-08-24T00:00:00\", \"2017-08-25T00:00:00\", \"2017-08-28T00:00:00\", \"2017-08-29T00:00:00\", \"2017-08-30T00:00:00\", \"2017-08-31T00:00:00\", \"2017-09-01T00:00:00\", \"2017-09-05T00:00:00\", \"2017-09-06T00:00:00\", \"2017-09-07T00:00:00\", \"2017-09-08T00:00:00\", \"2017-09-11T00:00:00\", \"2017-09-12T00:00:00\", \"2017-09-13T00:00:00\", \"2017-09-14T00:00:00\", \"2017-09-15T00:00:00\", \"2017-09-18T00:00:00\", \"2017-09-19T00:00:00\", \"2017-09-20T00:00:00\", \"2017-09-21T00:00:00\", \"2017-09-22T00:00:00\", \"2017-09-25T00:00:00\", \"2017-09-26T00:00:00\", \"2017-09-27T00:00:00\", \"2017-09-28T00:00:00\", \"2017-09-29T00:00:00\", \"2017-10-02T00:00:00\", \"2017-10-03T00:00:00\", \"2017-10-04T00:00:00\", \"2017-10-05T00:00:00\", \"2017-10-06T00:00:00\", \"2017-10-09T00:00:00\", \"2017-10-10T00:00:00\", \"2017-10-11T00:00:00\", \"2017-10-12T00:00:00\", \"2017-10-13T00:00:00\", \"2017-10-16T00:00:00\", \"2017-10-17T00:00:00\", \"2017-10-18T00:00:00\", \"2017-10-19T00:00:00\", \"2017-10-20T00:00:00\", \"2017-10-23T00:00:00\", \"2017-10-24T00:00:00\", \"2017-10-25T00:00:00\", \"2017-10-26T00:00:00\", \"2017-10-27T00:00:00\", \"2017-10-30T00:00:00\", \"2017-10-31T00:00:00\", \"2017-11-01T00:00:00\", \"2017-11-02T00:00:00\", \"2017-11-03T00:00:00\", \"2017-11-06T00:00:00\", \"2017-11-07T00:00:00\", \"2017-11-08T00:00:00\", \"2017-11-09T00:00:00\", \"2017-11-10T00:00:00\", \"2017-11-13T00:00:00\", \"2017-11-14T00:00:00\", \"2017-11-15T00:00:00\", \"2017-11-16T00:00:00\", \"2017-11-17T00:00:00\", \"2017-11-20T00:00:00\", \"2017-11-21T00:00:00\", \"2017-11-22T00:00:00\", \"2017-11-27T00:00:00\", \"2017-11-28T00:00:00\", \"2017-11-29T00:00:00\", \"2017-11-30T00:00:00\", \"2017-12-01T00:00:00\", \"2017-12-04T00:00:00\", \"2017-12-05T00:00:00\", \"2017-12-06T00:00:00\", \"2017-12-07T00:00:00\", \"2017-12-08T00:00:00\", \"2017-12-11T00:00:00\", \"2017-12-12T00:00:00\", \"2017-12-13T00:00:00\", \"2017-12-14T00:00:00\", \"2017-12-15T00:00:00\", \"2017-12-18T00:00:00\", \"2017-12-19T00:00:00\", \"2017-12-20T00:00:00\", \"2017-12-21T00:00:00\", \"2017-12-22T00:00:00\", \"2017-12-26T00:00:00\", \"2017-12-27T00:00:00\", \"2017-12-28T00:00:00\", \"2017-12-29T00:00:00\", \"2018-01-02T00:00:00\", \"2018-01-03T00:00:00\", \"2018-01-04T00:00:00\", \"2018-01-05T00:00:00\", \"2018-01-08T00:00:00\", \"2018-01-09T00:00:00\", \"2018-01-10T00:00:00\", \"2018-01-11T00:00:00\", \"2018-01-12T00:00:00\", \"2018-01-15T00:00:00\", \"2018-01-16T00:00:00\", \"2018-01-17T00:00:00\", \"2018-01-18T00:00:00\", \"2018-01-19T00:00:00\", \"2018-01-22T00:00:00\", \"2018-01-23T00:00:00\", \"2018-01-24T00:00:00\", \"2018-01-25T00:00:00\", \"2018-01-26T00:00:00\", \"2018-01-29T00:00:00\", \"2018-01-30T00:00:00\", \"2018-01-31T00:00:00\", \"2018-02-01T00:00:00\", \"2018-02-02T00:00:00\", \"2018-02-05T00:00:00\", \"2018-02-06T00:00:00\", \"2018-02-07T00:00:00\", \"2018-02-08T00:00:00\", \"2018-02-09T00:00:00\", \"2018-02-12T00:00:00\", \"2018-02-13T00:00:00\", \"2018-02-14T00:00:00\", \"2018-02-15T00:00:00\", \"2018-02-16T00:00:00\", \"2018-02-19T00:00:00\", \"2018-02-20T00:00:00\", \"2018-02-21T00:00:00\", \"2018-02-22T00:00:00\", \"2018-02-23T00:00:00\", \"2018-02-26T00:00:00\", \"2018-02-27T00:00:00\", \"2018-02-28T00:00:00\", \"2018-03-01T00:00:00\", \"2018-03-02T00:00:00\", \"2018-03-05T00:00:00\", \"2018-03-06T00:00:00\", \"2018-03-07T00:00:00\", \"2018-03-08T00:00:00\", \"2018-03-09T00:00:00\", \"2018-03-12T00:00:00\", \"2018-03-13T00:00:00\", \"2018-03-14T00:00:00\", \"2018-03-15T00:00:00\", \"2018-03-16T00:00:00\", \"2018-03-19T00:00:00\", \"2018-03-20T00:00:00\", \"2018-03-21T00:00:00\", \"2018-03-22T00:00:00\", \"2018-03-23T00:00:00\", \"2018-03-26T00:00:00\", \"2018-03-27T00:00:00\", \"2018-03-28T00:00:00\", \"2018-03-29T00:00:00\", \"2018-03-30T00:00:00\", \"2018-04-02T00:00:00\", \"2018-04-03T00:00:00\", \"2018-04-04T00:00:00\", \"2018-04-05T00:00:00\", \"2018-04-06T00:00:00\", \"2018-04-09T00:00:00\", \"2018-04-10T00:00:00\", \"2018-04-11T00:00:00\", \"2018-04-12T00:00:00\", \"2018-04-13T00:00:00\", \"2018-04-16T00:00:00\", \"2018-04-17T00:00:00\", \"2018-04-18T00:00:00\", \"2018-04-19T00:00:00\", \"2018-04-20T00:00:00\", \"2018-04-23T00:00:00\", \"2018-04-24T00:00:00\", \"2018-04-25T00:00:00\", \"2018-04-26T00:00:00\", \"2018-04-27T00:00:00\", \"2018-04-30T00:00:00\", \"2018-05-01T00:00:00\", \"2018-05-02T00:00:00\", \"2018-05-03T00:00:00\", \"2018-05-04T00:00:00\", \"2018-05-07T00:00:00\", \"2018-05-08T00:00:00\", \"2018-05-09T00:00:00\", \"2018-05-10T00:00:00\", \"2018-05-11T00:00:00\", \"2018-05-14T00:00:00\", \"2018-05-15T00:00:00\", \"2018-05-16T00:00:00\", \"2018-05-17T00:00:00\", \"2018-05-18T00:00:00\", \"2018-05-21T00:00:00\", \"2018-05-22T00:00:00\", \"2018-05-23T00:00:00\", \"2018-05-24T00:00:00\", \"2018-05-25T00:00:00\", \"2018-05-29T00:00:00\", \"2018-05-30T00:00:00\", \"2018-05-31T00:00:00\", \"2018-06-01T00:00:00\", \"2018-06-04T00:00:00\", \"2018-06-05T00:00:00\", \"2018-06-06T00:00:00\", \"2018-06-07T00:00:00\", \"2018-06-08T00:00:00\", \"2018-06-11T00:00:00\", \"2018-06-12T00:00:00\", \"2018-06-13T00:00:00\", \"2018-06-14T00:00:00\", \"2018-06-15T00:00:00\", \"2018-06-18T00:00:00\", \"2018-06-19T00:00:00\", \"2018-06-20T00:00:00\", \"2018-06-21T00:00:00\", \"2018-06-22T00:00:00\", \"2018-06-25T00:00:00\", \"2018-06-26T00:00:00\", \"2018-06-27T00:00:00\", \"2018-06-28T00:00:00\", \"2018-06-29T00:00:00\", \"2018-07-02T00:00:00\", \"2018-07-03T00:00:00\", \"2018-07-05T00:00:00\", \"2018-07-06T00:00:00\", \"2018-07-09T00:00:00\", \"2018-07-10T00:00:00\", \"2018-07-11T00:00:00\", \"2018-07-12T00:00:00\", \"2018-07-13T00:00:00\", \"2018-07-16T00:00:00\", \"2018-07-17T00:00:00\", \"2018-07-18T00:00:00\", \"2018-07-19T00:00:00\", \"2018-07-20T00:00:00\", \"2018-07-23T00:00:00\", \"2018-07-24T00:00:00\", \"2018-07-25T00:00:00\", \"2018-07-26T00:00:00\", \"2018-07-27T00:00:00\", \"2018-07-30T00:00:00\", \"2018-07-31T00:00:00\", \"2018-08-01T00:00:00\", \"2018-08-02T00:00:00\", \"2018-08-03T00:00:00\", \"2018-08-06T00:00:00\", \"2018-08-07T00:00:00\", \"2018-08-08T00:00:00\", \"2018-08-09T00:00:00\", \"2018-08-10T00:00:00\", \"2018-08-13T00:00:00\", \"2018-08-14T00:00:00\", \"2018-08-15T00:00:00\", \"2018-08-16T00:00:00\", \"2018-08-17T00:00:00\", \"2018-08-20T00:00:00\", \"2018-08-21T00:00:00\", \"2018-08-22T00:00:00\", \"2018-08-23T00:00:00\", \"2018-08-24T00:00:00\", \"2018-08-27T00:00:00\", \"2018-08-28T00:00:00\", \"2018-08-29T00:00:00\", \"2018-08-30T00:00:00\", \"2018-08-31T00:00:00\", \"2018-09-04T00:00:00\", \"2018-09-05T00:00:00\", \"2018-09-06T00:00:00\", \"2018-09-07T00:00:00\", \"2018-09-10T00:00:00\", \"2018-09-11T00:00:00\", \"2018-09-12T00:00:00\", \"2018-09-13T00:00:00\", \"2018-09-14T00:00:00\", \"2018-09-17T00:00:00\", \"2018-09-18T00:00:00\", \"2018-09-19T00:00:00\", \"2018-09-20T00:00:00\", \"2018-09-21T00:00:00\", \"2018-09-24T00:00:00\", \"2018-09-25T00:00:00\", \"2018-09-26T00:00:00\", \"2018-09-27T00:00:00\", \"2018-09-28T00:00:00\", \"2018-10-01T00:00:00\", \"2018-10-02T00:00:00\", \"2018-10-03T00:00:00\", \"2018-10-04T00:00:00\", \"2018-10-05T00:00:00\", \"2018-10-08T00:00:00\", \"2018-10-09T00:00:00\", \"2018-10-10T00:00:00\", \"2018-10-11T00:00:00\", \"2018-10-12T00:00:00\", \"2018-10-15T00:00:00\", \"2018-10-16T00:00:00\", \"2018-10-17T00:00:00\", \"2018-10-18T00:00:00\", \"2018-10-19T00:00:00\", \"2018-10-22T00:00:00\", \"2018-10-23T00:00:00\", \"2018-10-24T00:00:00\", \"2018-10-25T00:00:00\", \"2018-10-26T00:00:00\", \"2018-10-29T00:00:00\", \"2018-10-30T00:00:00\", \"2018-10-31T00:00:00\", \"2018-11-01T00:00:00\", \"2018-11-02T00:00:00\", \"2018-11-05T00:00:00\", \"2018-11-06T00:00:00\", \"2018-11-07T00:00:00\", \"2018-11-08T00:00:00\", \"2018-11-09T00:00:00\", \"2018-11-12T00:00:00\", \"2018-11-13T00:00:00\", \"2018-11-14T00:00:00\", \"2018-11-15T00:00:00\", \"2018-11-16T00:00:00\", \"2018-11-19T00:00:00\", \"2018-11-20T00:00:00\", \"2018-11-21T00:00:00\", \"2018-11-26T00:00:00\", \"2018-11-27T00:00:00\", \"2018-11-28T00:00:00\", \"2018-11-29T00:00:00\", \"2018-11-30T00:00:00\", \"2018-12-03T00:00:00\", \"2018-12-04T00:00:00\", \"2018-12-05T00:00:00\", \"2018-12-06T00:00:00\", \"2018-12-07T00:00:00\", \"2018-12-10T00:00:00\", \"2018-12-11T00:00:00\", \"2018-12-12T00:00:00\", \"2018-12-13T00:00:00\", \"2018-12-14T00:00:00\", \"2018-12-17T00:00:00\", \"2018-12-18T00:00:00\", \"2018-12-19T00:00:00\", \"2018-12-20T00:00:00\", \"2018-12-21T00:00:00\", \"2018-12-24T00:00:00\", \"2018-12-26T00:00:00\", \"2018-12-27T00:00:00\", \"2018-12-28T00:00:00\", \"2018-12-29T00:00:00\", \"2018-12-31T00:00:00\", \"2019-01-02T00:00:00\", \"2019-01-03T00:00:00\", \"2019-01-04T00:00:00\", \"2019-01-07T00:00:00\", \"2019-01-08T00:00:00\", \"2019-01-09T00:00:00\", \"2019-01-10T00:00:00\", \"2019-01-11T00:00:00\", \"2019-01-14T00:00:00\", \"2019-01-15T00:00:00\", \"2019-01-16T00:00:00\", \"2019-01-17T00:00:00\", \"2019-01-18T00:00:00\", \"2019-01-22T00:00:00\", \"2019-01-23T00:00:00\", \"2019-01-24T00:00:00\", \"2019-01-25T00:00:00\", \"2019-01-28T00:00:00\", \"2019-01-29T00:00:00\", \"2019-01-30T00:00:00\", \"2019-01-31T00:00:00\", \"2019-02-01T00:00:00\", \"2019-02-04T00:00:00\", \"2019-02-05T00:00:00\", \"2019-02-06T00:00:00\", \"2019-02-07T00:00:00\", \"2019-02-08T00:00:00\", \"2019-02-11T00:00:00\", \"2019-02-12T00:00:00\", \"2019-02-13T00:00:00\", \"2019-02-14T00:00:00\", \"2019-02-15T00:00:00\", \"2019-02-18T00:00:00\", \"2019-02-19T00:00:00\", \"2019-02-20T00:00:00\", \"2019-02-21T00:00:00\", \"2019-02-22T00:00:00\", \"2019-02-25T00:00:00\", \"2019-02-26T00:00:00\", \"2019-02-27T00:00:00\", \"2019-02-28T00:00:00\", \"2019-03-01T00:00:00\", \"2019-03-04T00:00:00\", \"2019-03-05T00:00:00\", \"2019-03-06T00:00:00\", \"2019-03-07T00:00:00\", \"2019-03-08T00:00:00\", \"2019-03-11T00:00:00\", \"2019-03-12T00:00:00\", \"2019-03-13T00:00:00\", \"2019-03-14T00:00:00\", \"2019-03-15T00:00:00\", \"2019-03-18T00:00:00\", \"2019-03-19T00:00:00\", \"2019-03-20T00:00:00\", \"2019-03-21T00:00:00\", \"2019-03-22T00:00:00\", \"2019-03-25T00:00:00\", \"2019-03-26T00:00:00\", \"2019-03-27T00:00:00\", \"2019-03-28T00:00:00\", \"2019-03-29T00:00:00\", \"2019-04-01T00:00:00\", \"2019-04-02T00:00:00\", \"2019-04-03T00:00:00\", \"2019-04-04T00:00:00\", \"2019-04-05T00:00:00\", \"2019-04-08T00:00:00\", \"2019-04-09T00:00:00\", \"2019-04-10T00:00:00\", \"2019-04-11T00:00:00\", \"2019-04-13T00:00:00\", \"2019-04-15T00:00:00\", \"2019-04-16T00:00:00\", \"2019-04-17T00:00:00\", \"2019-04-18T00:00:00\", \"2019-04-19T00:00:00\", \"2019-04-22T00:00:00\", \"2019-04-23T00:00:00\", \"2019-04-24T00:00:00\", \"2019-04-25T00:00:00\", \"2019-04-26T00:00:00\", \"2019-04-29T00:00:00\", \"2019-04-30T00:00:00\", \"2019-05-01T00:00:00\", \"2019-05-02T00:00:00\", \"2019-05-03T00:00:00\", \"2019-05-06T00:00:00\", \"2019-05-07T00:00:00\", \"2019-05-08T00:00:00\", \"2019-05-09T00:00:00\", \"2019-05-10T00:00:00\", \"2019-05-13T00:00:00\", \"2019-05-14T00:00:00\", \"2019-05-15T00:00:00\", \"2019-05-16T00:00:00\", \"2019-05-17T00:00:00\", \"2019-05-19T00:00:00\", \"2019-05-20T00:00:00\", \"2019-05-21T00:00:00\", \"2019-05-22T00:00:00\", \"2019-05-23T00:00:00\", \"2019-05-24T00:00:00\", \"2019-05-28T00:00:00\", \"2019-05-29T00:00:00\", \"2019-05-30T00:00:00\", \"2019-05-31T00:00:00\", \"2019-06-03T00:00:00\", \"2019-06-04T00:00:00\", \"2019-06-05T00:00:00\", \"2019-06-06T00:00:00\", \"2019-06-07T00:00:00\", \"2019-06-10T00:00:00\", \"2019-06-11T00:00:00\", \"2019-06-12T00:00:00\", \"2019-06-13T00:00:00\", \"2019-06-14T00:00:00\", \"2019-06-15T00:00:00\", \"2019-06-17T00:00:00\", \"2019-06-18T00:00:00\", \"2019-06-19T00:00:00\", \"2019-06-20T00:00:00\", \"2019-06-21T00:00:00\", \"2019-06-24T00:00:00\", \"2019-06-25T00:00:00\", \"2019-06-26T00:00:00\", \"2019-06-27T00:00:00\", \"2019-06-28T00:00:00\", \"2019-07-01T00:00:00\", \"2019-07-02T00:00:00\", \"2019-07-03T00:00:00\", \"2019-07-04T00:00:00\", \"2019-07-05T00:00:00\", \"2019-07-08T00:00:00\", \"2019-07-09T00:00:00\", \"2019-07-10T00:00:00\", \"2019-07-11T00:00:00\", \"2019-07-12T00:00:00\", \"2019-07-15T00:00:00\", \"2019-07-16T00:00:00\", \"2019-07-17T00:00:00\", \"2019-07-18T00:00:00\", \"2019-07-19T00:00:00\", \"2019-07-22T00:00:00\", \"2019-07-23T00:00:00\", \"2019-07-24T00:00:00\", \"2019-07-25T00:00:00\", \"2019-07-26T00:00:00\", \"2019-07-29T00:00:00\", \"2019-07-30T00:00:00\", \"2019-07-31T00:00:00\", \"2019-08-01T00:00:00\", \"2019-08-02T00:00:00\", \"2019-08-05T00:00:00\", \"2019-08-06T00:00:00\", \"2019-08-07T00:00:00\", \"2019-08-08T00:00:00\", \"2019-08-09T00:00:00\", \"2019-08-12T00:00:00\", \"2019-08-13T00:00:00\", \"2019-08-14T00:00:00\", \"2019-08-15T00:00:00\", \"2019-08-16T00:00:00\", \"2019-08-19T00:00:00\", \"2019-08-20T00:00:00\", \"2019-08-21T00:00:00\", \"2019-08-22T00:00:00\", \"2019-08-23T00:00:00\", \"2019-08-26T00:00:00\", \"2019-08-27T00:00:00\", \"2019-08-28T00:00:00\", \"2019-08-29T00:00:00\", \"2019-08-30T00:00:00\", \"2019-09-03T00:00:00\", \"2019-09-04T00:00:00\", \"2019-09-05T00:00:00\", \"2019-09-06T00:00:00\", \"2019-09-09T00:00:00\", \"2019-09-10T00:00:00\", \"2019-09-11T00:00:00\", \"2019-09-12T00:00:00\", \"2019-09-13T00:00:00\", \"2019-09-16T00:00:00\", \"2019-09-17T00:00:00\", \"2019-09-18T00:00:00\", \"2019-09-19T00:00:00\", \"2019-09-20T00:00:00\", \"2019-09-23T00:00:00\", \"2019-09-24T00:00:00\", \"2019-09-25T00:00:00\", \"2019-09-26T00:00:00\", \"2019-09-27T00:00:00\", \"2019-09-29T00:00:00\", \"2019-09-30T00:00:00\", \"2019-10-01T00:00:00\", \"2019-10-02T00:00:00\", \"2019-10-03T00:00:00\", \"2019-10-04T00:00:00\", \"2019-10-07T00:00:00\", \"2019-10-08T00:00:00\", \"2019-10-09T00:00:00\", \"2019-10-10T00:00:00\", \"2019-10-11T00:00:00\", \"2019-10-14T00:00:00\", \"2019-10-15T00:00:00\", \"2019-10-16T00:00:00\", \"2019-10-17T00:00:00\", \"2019-10-18T00:00:00\", \"2019-10-21T00:00:00\", \"2019-10-22T00:00:00\", \"2019-10-23T00:00:00\", \"2019-10-24T00:00:00\", \"2019-10-25T00:00:00\", \"2019-10-28T00:00:00\", \"2019-10-29T00:00:00\", \"2019-10-30T00:00:00\", \"2019-10-31T00:00:00\", \"2019-11-01T00:00:00\", \"2019-11-04T00:00:00\", \"2019-11-05T00:00:00\", \"2019-11-06T00:00:00\", \"2019-11-07T00:00:00\", \"2019-11-08T00:00:00\", \"2019-11-11T00:00:00\", \"2019-11-12T00:00:00\", \"2019-11-13T00:00:00\", \"2019-11-14T00:00:00\", \"2019-11-15T00:00:00\", \"2019-11-16T00:00:00\", \"2019-11-18T00:00:00\", \"2019-11-19T00:00:00\", \"2019-11-20T00:00:00\", \"2019-11-21T00:00:00\", \"2019-11-22T00:00:00\", \"2019-11-23T00:00:00\", \"2019-11-25T00:00:00\", \"2019-11-26T00:00:00\", \"2019-11-27T00:00:00\", \"2019-11-29T00:00:00\", \"2019-11-30T00:00:00\", \"2019-12-02T00:00:00\", \"2019-12-03T00:00:00\", \"2019-12-04T00:00:00\", \"2019-12-05T00:00:00\", \"2019-12-06T00:00:00\", \"2019-12-09T00:00:00\", \"2019-12-10T00:00:00\", \"2019-12-11T00:00:00\", \"2019-12-12T00:00:00\", \"2019-12-13T00:00:00\", \"2019-12-16T00:00:00\", \"2019-12-17T00:00:00\", \"2019-12-18T00:00:00\", \"2019-12-19T00:00:00\", \"2019-12-20T00:00:00\", \"2019-12-23T00:00:00\", \"2019-12-24T00:00:00\", \"2019-12-26T00:00:00\", \"2019-12-27T00:00:00\", \"2019-12-28T00:00:00\", \"2019-12-30T00:00:00\", \"2019-12-31T00:00:00\", \"2020-01-02T00:00:00\", \"2020-01-03T00:00:00\", \"2020-01-06T00:00:00\", \"2020-01-07T00:00:00\", \"2020-01-08T00:00:00\", \"2020-01-09T00:00:00\", \"2020-01-10T00:00:00\", \"2020-01-13T00:00:00\", \"2020-01-14T00:00:00\", \"2020-01-15T00:00:00\", \"2020-01-16T00:00:00\", \"2020-01-17T00:00:00\", \"2020-01-20T00:00:00\", \"2020-01-21T00:00:00\", \"2020-01-22T00:00:00\", \"2020-01-23T00:00:00\", \"2020-01-24T00:00:00\", \"2020-01-27T00:00:00\", \"2020-01-28T00:00:00\", \"2020-01-29T00:00:00\", \"2020-01-30T00:00:00\", \"2020-01-31T00:00:00\", \"2020-02-03T00:00:00\", \"2020-02-04T00:00:00\", \"2020-02-05T00:00:00\", \"2020-02-06T00:00:00\", \"2020-02-07T00:00:00\", \"2020-02-10T00:00:00\", \"2020-02-11T00:00:00\", \"2020-02-12T00:00:00\", \"2020-02-13T00:00:00\", \"2020-02-14T00:00:00\", \"2020-02-17T00:00:00\", \"2020-02-18T00:00:00\", \"2020-02-19T00:00:00\", \"2020-02-20T00:00:00\", \"2020-02-21T00:00:00\", \"2020-02-24T00:00:00\", \"2020-02-25T00:00:00\", \"2020-02-26T00:00:00\", \"2020-02-27T00:00:00\", \"2020-02-28T00:00:00\", \"2020-03-02T00:00:00\", \"2020-03-03T00:00:00\", \"2020-03-04T00:00:00\", \"2020-03-05T00:00:00\", \"2020-03-06T00:00:00\", \"2020-03-09T00:00:00\", \"2020-03-10T00:00:00\", \"2020-03-11T00:00:00\", \"2020-03-12T00:00:00\", \"2020-03-13T00:00:00\", \"2020-03-16T00:00:00\", \"2020-03-17T00:00:00\", \"2020-03-18T00:00:00\", \"2020-03-19T00:00:00\", \"2020-03-20T00:00:00\", \"2020-03-23T00:00:00\", \"2020-03-24T00:00:00\", \"2020-03-25T00:00:00\", \"2020-03-26T00:00:00\", \"2020-03-27T00:00:00\", \"2020-03-30T00:00:00\", \"2020-03-31T00:00:00\", \"2020-04-01T00:00:00\", \"2020-04-02T00:00:00\", \"2020-04-03T00:00:00\", \"2020-04-06T00:00:00\", \"2020-04-07T00:00:00\", \"2020-04-08T00:00:00\", \"2020-04-09T00:00:00\", \"2020-04-10T00:00:00\", \"2020-04-13T00:00:00\", \"2020-04-14T00:00:00\", \"2020-04-15T00:00:00\", \"2020-04-16T00:00:00\", \"2020-04-17T00:00:00\", \"2020-04-20T00:00:00\", \"2020-04-21T00:00:00\", \"2020-04-22T00:00:00\", \"2020-04-23T00:00:00\", \"2020-04-24T00:00:00\", \"2020-04-27T00:00:00\", \"2020-04-28T00:00:00\", \"2020-04-29T00:00:00\", \"2020-04-30T00:00:00\", \"2020-05-01T00:00:00\", \"2020-05-04T00:00:00\", \"2020-05-05T00:00:00\", \"2020-05-06T00:00:00\", \"2020-05-07T00:00:00\", \"2020-05-08T00:00:00\", \"2020-05-11T00:00:00\", \"2020-05-12T00:00:00\", \"2020-05-13T00:00:00\", \"2020-05-14T00:00:00\", \"2020-05-15T00:00:00\", \"2020-05-18T00:00:00\", \"2020-05-19T00:00:00\", \"2020-05-20T00:00:00\", \"2020-05-21T00:00:00\", \"2020-05-22T00:00:00\", \"2020-05-26T00:00:00\", \"2020-05-27T00:00:00\", \"2020-05-28T00:00:00\", \"2020-05-29T00:00:00\", \"2020-06-01T00:00:00\", \"2020-06-02T00:00:00\", \"2020-06-03T00:00:00\", \"2020-06-04T00:00:00\", \"2020-06-05T00:00:00\", \"2020-06-08T00:00:00\", \"2020-06-09T00:00:00\", \"2020-06-10T00:00:00\", \"2020-06-11T00:00:00\", \"2020-06-12T00:00:00\", \"2020-06-15T00:00:00\", \"2020-06-16T00:00:00\", \"2020-06-17T00:00:00\", \"2020-06-18T00:00:00\", \"2020-06-19T00:00:00\", \"2020-06-22T00:00:00\", \"2020-06-23T00:00:00\", \"2020-06-24T00:00:00\", \"2020-06-25T00:00:00\", \"2020-06-26T00:00:00\", \"2020-06-29T00:00:00\", \"2020-06-30T00:00:00\", \"2020-07-01T00:00:00\", \"2020-07-02T00:00:00\", \"2020-07-03T00:00:00\", \"2020-07-06T00:00:00\", \"2020-07-07T00:00:00\", \"2020-07-08T00:00:00\", \"2020-07-09T00:00:00\", \"2020-07-10T00:00:00\", \"2020-07-13T00:00:00\", \"2020-07-14T00:00:00\", \"2020-07-15T00:00:00\", \"2020-07-16T00:00:00\", \"2020-07-17T00:00:00\", \"2020-07-20T00:00:00\", \"2020-07-21T00:00:00\", \"2020-07-22T00:00:00\", \"2020-07-23T00:00:00\", \"2020-07-24T00:00:00\", \"2020-07-27T00:00:00\", \"2020-07-28T00:00:00\", \"2020-07-29T00:00:00\", \"2020-07-30T00:00:00\", \"2020-07-31T00:00:00\", \"2020-08-03T00:00:00\", \"2020-08-04T00:00:00\", \"2020-08-05T00:00:00\", \"2020-08-06T00:00:00\", \"2020-08-07T00:00:00\", \"2020-08-10T00:00:00\", \"2020-08-11T00:00:00\", \"2020-08-12T00:00:00\", \"2020-08-13T00:00:00\", \"2020-08-14T00:00:00\", \"2020-08-17T00:00:00\", \"2020-08-18T00:00:00\", \"2020-08-19T00:00:00\", \"2020-08-20T00:00:00\", \"2020-08-21T00:00:00\", \"2020-08-24T00:00:00\", \"2020-08-25T00:00:00\", \"2020-08-26T00:00:00\", \"2020-08-27T00:00:00\", \"2020-08-28T00:00:00\", \"2020-08-30T00:00:00\", \"2020-08-31T00:00:00\", \"2020-09-01T00:00:00\", \"2020-09-02T00:00:00\", \"2020-09-03T00:00:00\", \"2020-09-04T00:00:00\", \"2020-09-08T00:00:00\", \"2020-09-09T00:00:00\", \"2020-09-10T00:00:00\", \"2020-09-11T00:00:00\", \"2020-09-14T00:00:00\", \"2020-09-15T00:00:00\", \"2020-09-16T00:00:00\", \"2020-09-17T00:00:00\", \"2020-09-18T00:00:00\", \"2020-09-21T00:00:00\", \"2020-09-22T00:00:00\", \"2020-09-23T00:00:00\", \"2020-09-24T00:00:00\", \"2020-09-25T00:00:00\", \"2020-09-28T00:00:00\", \"2020-09-29T00:00:00\", \"2020-09-30T00:00:00\", \"2020-10-01T00:00:00\", \"2020-10-02T00:00:00\", \"2020-10-05T00:00:00\", \"2020-10-06T00:00:00\", \"2020-10-07T00:00:00\", \"2020-10-08T00:00:00\", \"2020-10-09T00:00:00\", \"2020-10-12T00:00:00\", \"2020-10-13T00:00:00\", \"2020-10-14T00:00:00\", \"2020-10-15T00:00:00\", \"2020-10-16T00:00:00\", \"2020-10-19T00:00:00\", \"2020-10-20T00:00:00\", \"2020-10-21T00:00:00\", \"2020-10-22T00:00:00\", \"2020-10-23T00:00:00\", \"2020-10-26T00:00:00\", \"2020-10-27T00:00:00\", \"2020-10-28T00:00:00\", \"2020-10-29T00:00:00\", \"2020-10-30T00:00:00\"], \"y\": [46253.810000000005, 39123.37000000001, 48214.33, 47031.070000000014, 44279.59000000001, 33144.960000000014, 51121.500000000044, 42520.26000000005, 43609.81000000003, 32441.55000000003, 51217.61000000004, 40078.24000000001, 51452.70000000004, 33018.94, 51043.89999999998, 98.75999999999999, 50695.10999999997, 54104.91999999996, 47253.29999999997, 64864.18999999995, 55256.489999999976, 50135.72999999992, 36727.48999999998, 49490.040000000015, 48352.35000000003, 47385.13999999998, 41930.97000000001, 55746.91999999996, 53167.39, 56027.54999999997, 36983.38, 55513.40999999996, 49488.40000000003, 45558.33999999997, 43652.13000000002, 56561.88999999996, 60995.930000000015, 48582.48000000004, 44042.629999999954, 59650.379999999976, 77.86, 44043.85000000001, 55097.499999999985, 46922.39999999999, 61880.269999999946, 64318.05999999998, 47622.49999999997, 47763.470000000016, 50983.88999999998, 50945.65999999994, 50799.93000000006, 38815.32, 56878.189999999966, 49957.889999999956, 63973.84000000003, 39396.68000000002, 70210.51999999992, 38825.67000000005, 58353.77, 54515.42000000003, 52717.139999999934, 55449.10999999998, 52070.72999999996, 47807.26999999996, 54392.63999999991, 50765.369999999944, 62933.119999999966, 37462.20000000004, 56236.919999999984, 2567.6499999999996, 67355.97999999998, 63841.56999999996, 43865.18000000003, 66480.24999999993, 53459.88999999995, 54456.69999999997, 43964.520000000004, 50920.159999999996, 50212.09000000004, 57515.350000000006, 48243.94, 77245.53999999996, 57963.069999999956, 66071.59999999995, 50459.2199999999, 58325.28999999999, 38342.750000000044, 68663.73999999995, 45165.619999999995, 51115.919999999955, 476.88, 62788.050000000025, 64371.26000000006, 63265.650000000016, 48359.48000000001, 50479.27000000004, 72997.40999999997, 48244.38999999997, 63328.55999999998, 51957.31000000009, 68035.69999999994, 40053.00000000008, 55489.03000000003, 225.60000000000002, 71944.57999999977, 99464.53999999985, 76357.07999999991, 74295.94999999997, 1359.87, 59245.959999999875, 60585.68999999996, 43600.069999999956, 54571.02999999994, 64190.629999999976, 74985.31999999995, 45988.50999999996, 45721.99999999993, 69283.10999999993, 59558.81999999998, 55383.369999999966, 58550.61999999993, 85614.45999999999, 54553.60999999994, 50204.73, 45980.4, 155.85999999999999, 52410.46999999998, 57801.78999999999, 38449.11000000001, 56654.369999999995, 121.86, 59339.76000000001, 73691.26999999981, 44581.08999999997, 50902.89999999999, 55985.67000000003, 63761.15999999995, 45158.10999999999, 67234.66999999998, 49374.229999999974, 60738.859999999986, 50252.08000000007, 54046.06999999999, 50260.25999999999, 73719.8499999998, 57503.669999999925, 60816.819999999956, 40386.58999999999, 74351.29999999993, 53473.69999999996, 74290.08999999985, 63635.9299999999, 63789.449999999975, 78773.40999999987, 55668.18999999995, 319.14000000000004, 59876.45999999999, 57391.2, 40570.69, 52722.770000000026, 49277.36, 62051.219999999936, 45910.43, 46462.430000000015, 65490.649999999994, 58384.08999999995, 68027.51000000004, 81936.90999999996, 74081.61999999997, 67034.72, 80087.91999999997, 57102.57999999998, 87499.64000000004, 66264.42, 70274.29999999994, 71541.09999999996, 71098.5399999999, 67634.40000000004, 66525.63, 51233.44, 59732.740000000005, 84954.40999999996, 61900.079999999914, 100300.64999999995, 60581.40000000003, 56079.33999999999, 44953.09000000005, 49928.87999999997, 54620.05999999996, 67605.56999999998, 56066.05000000003, 61115.4699999999, 63390.23999999996, 49857.93000000006, 51239.09000000003, 61785.079999999936, 50294.18999999998, 50665.53999999993, 54588.439999999995, 61882.68999999996, 1756.4099999999999, 64000.47, 64364.67999999994, 50879.890000000065, 58200.89999999999, 69716.64999999992, 55915.390000000014, 54053.07999999996, 62280.14999999996, 83328.98999999993, 60222.45999999988, 162546.8000000003, 72557.96999999996, 66.68, 94239.76, 74098.3999999999, 78500.02999999985, 82407.15999999995, 55877.309999999925, 74546.28000000001, 63016.789999999906, 99722.14, 68417.31999999998, 56927.20999999998, 40906.65000000004, 55473.069999999985, 53322.549999999974, 49528.58999999995, 45586.39000000002, 45979.479999999996, 57953.10999999998, 45509.51, 40987.52999999999, 60607.5299999999, 55091.81999999998, 50786.67000000001, 67432.96000000004, 65476.719999999965, 65699.27000000002, 57842.32999999993, 38638.03000000004, 48992.390000000036, 51711.07999999998, 55700.230000000025, 38126.11000000007, 79987.47000000006, 55676.57000000001, 51523.23999999998, 53443.86000000007, 58151.130000000005, 49536.19000000005, 61560.62999999993, 37240.89000000003, 59534.949999999975, 73.0, 43710.72999999998, 57274.83999999991, 45511.86000000004, 65378.10999999992, 58025.81999999995, 68846.4299999999, 41560.60000000003, 61776.96999999987, 54547.87999999999, 79565.35999999987, 87467.75000000009, 69359.29000000007, 1959.6, 54667.010000000024, 49865.02000000001, 49429.969999999994, 50016.08999999995, 52033.43999999999, 55105.07999999997, 42551.15000000005, 79378.87000000005, 55576.900000000016, 68073.90999999999, 40261.29000000002, 51289.94000000002, 60758.579999999965, 79906.82999999996, 55219.850000000035, 74652.27999999997, 49521.65000000005, 49668.04000000002, 43051.840000000004, 44985.400000000016, 53573.72999999995, 48884.25999999996, 45847.24000000001, 57379.77999999996, 55665.57000000004, 83020.76, 47210.30999999997, 56704.42999999997, 847.44, 52400.99999999998, 70682.71999999994, 51249.53, 59910.9499999999, 64117.35999999998, 59309.38000000003, 38952.54000000002, 62787.87999999998, 60066.01999999998, 67061.49999999997, 73299.59000000005, 70013.09999999996, 990.6899999999999, 61043.40000000002, 75902.14999999994, 48995.14000000001, 139694.14000000022, 59214.58999999995, 60571.81999999994, 47865.56999999996, 54993.66000000002, 59005.580000000016, 63059.450000000004, 45622.49000000001, 57765.50000000003, 56227.48000000003, 49836.53000000001, 37067.20000000005, 68995.16, 1901.5200000000002, 167.42, 74153.66000000002, 82137.99000000014, 59924.53999999995, 84178.22000000004, 52556.41000000003, 71690.4100000001, 47532.950000000055, 58962.30999999999, 65119.31000000001, 39474.339999999946, 57904.5299999999, 55898.46999999999, 82400.91000000006, 60090.779999999955, 45684.71000000002, 54340.02999999996, 74860.01999999997, 65903.08999999992, 59395.379999999954, 39582.590000000026, 72702.83000000005, 47509.680000000044, 62741.08999999999, 56249.68999999996, 73079.74999999996, 55639.000000000015, 66960.08000000006, 59815.05999999995, 62102.43999999994, 62003.17999999993, 56993.91000000004, 56583.11000000004, 610.0, 69425.93999999993, 56570.000000000065, 55868.510000000046, 53491.969999999994, 70736.18999999997, 53073.51999999998, 68648.78999999996, 64525.290000000045, 307.21, 79657.06000000007, 57333.04000000009, 70849.31999999995, 38460.59, 63718.349999999984, 36604.47000000003, 67661.83000000002, 48544.23999999995, 63050.310000000005, 41887.600000000006, 53931.71999999996, 65018.510000000046, 105.94, 56373.500000000124, 35228.210000000014, 59344.24000000008, 47248.64000000004, 72415.10000000003, 44414.09000000003, 106838.9300000001, 61034.92999999997, 159842.20000000013, 114452.2400000002, 45596.58000000004, 66755.63999999991, 70405.65000000004, 193143.05000000013, 132398.54, 69302.21000000005, 91507.84999999996, 61037.39999999996, 63929.48000000003, 61000.73999999997, 62068.049999999894, 45236.56999999999, 479.26, 75680.37000000004, 44674.200000000026, 72502.81999999992, 57553.53000000003, 60280.099999999984, 38712.0, 58179.94000000002, 46378.38000000001, 871.6400000000001, 81212.80000000003, 38676.60000000006, 71589.94000000002, 42120.19000000002, 611.2, 81287.42999999993, 46925.85000000002, 66693.26000000007, 50314.15, 39778.789999999964, 31514.920000000013, 57153.77000000008, 55353.929999999986, 6193.07, 96970.82000000005, 63530.27000000003, 83046.43000000002, 70915.41000000005, 110.05000000000001, 82301.88000000002, 44229.08000000002, 75872.56999999993, 54152.36000000001, 2080.0099999999998, 91488.11, 55634.21999999999, 89538.78000000001, 66999.95000000004, 80475.97999999998, 37822.310000000034, 66298.94999999998, 3096.5200000000004, 78900.15000000011, 86829.00000000001, 52148.80000000001, 73624.63000000003, 6305.72, 54480.94000000001, 91865.87999999995, 54686.98000000008, 68979.13999999998, 41741.189999999995, 58241.49999999999, 35313.4, 56938.19999999996, 40501.770000000026, 85339.06000000003, 47936.710000000036, 65794.60000000003, 55788.32999999998, 77223.08000000005, 58102.229999999996, 109005.64999999998, 66528.52000000008, 374.03999999999996, 85159.09000000003, 33152.69, 65904.06000000003, 48019.32999999999, 99346.3099999999, 34960.79000000001, 59119.48999999992, 51084.249999999956, 57038.62999999996, 32507.099999999984, 57597.020000000026, 50125.89000000003, 87762.05, 33286.83, 61969.939999999944, 57325.06, 78780.43999999996, 32349.10000000001, 67642.67999999998, 56431.55000000003, 99317.27999999998, 50909.159999999974, 64327.060000000005, 58079.61000000003, 1689.3000000000002, 67445.17000000004, 46050.21000000009, 52661.27000000004, 37442.350000000006, 61684.68000000002, 35488.780000000006, 51951.610000000015, 32163.95000000001, 71694.02999999997, 41055.739999999976, 69649.25, 52395.75999999998, 69967.56000000006, 60369.850000000035, 78510.33000000006, 56256.36000000002, 409.65, 93651.24999999994, 40020.69000000002, 50216.40000000004, 64524.310000000005, 61705.95000000006, 56795.86000000002, 65902.85, 51709.77999999999, 84624.13, 55329.83999999999, 72663.06999999999, 55656.469999999994, 79997.08999999997, 53258.03999999999, 54507.60999999997, 56184.49, 77190.41, 40634.94000000003, 62992.81000000001, 43241.56999999999, 77819.06999999999, 44848.16000000004, 58998.23999999994, 50199.889999999956, 53662.11999999994, 48786.11000000001, 74782.16999999998, 58543.720000000016, 86704.12000000007, 48468.25000000003, 57191.59, 66259.9, 86296.41, 49791.32000000001, 64734.89000000001, 69371.29000000002, 72053.98, 58066.28000000001, 61567.76000000007, 45592.50999999999, 87819.63000000009, 72958.94999999997, 67852.28000000004, 86808.18000000001, 57642.41000000008, 61801.119999999966, 65898.09000000003, 55401.82000000002, 1894.7500000000002, 87011.50000000004, 60216.620000000024, 65040.080000000075, 60008.14999999997, 69291.30999999997, 41968.22000000004, 76331.07000000011, 54492.97000000002, 71968.56000000004, 45096.24000000001, 60484.030000000064, 48950.87999999999, 67210.83999999998, 42550.27000000004, 65574.83000000009, 48694.029999999984, 92512.53999999989, 53324.979999999974, 67602.47000000002, 55729.54999999993, 82037.53999999986, 46205.64999999998, 59341.91999999998, 57091.27999999997, 73298.02999999984, 51213.11999999997, 80969.02999999991, 56151.26999999998, 83583.12999999983, 58172.31, 97427.34999999973, 49590.13999999998, 50011.71999999996, 57514.97999999999, 85071.37, 85455.93999999992, 103853.44999999981, 63312.34999999999, 102543.9099999999, 58773.25999999997, 80400.34999999995, 56279.69999999999, 66807.79, 47557.699999999975, 68701.93000000004, 61728.94999999993, 57852.93000000005, 55270.86999999998, 81925.95999999993, 68253.67999999992, 89794.2699999999, 65556.93000000002, 96550.7399999999, 57393.36000000001, 83887.57999999991, 54812.81999999998, 1024.29, 125982.70999999995, 63417.23999999998, 87051.40999999984, 52141.70999999998, 90055.20999999985, 60356.47000000002, 71308.63000000003, 84947.60999999996, 90541.10999999986, 61888.459999999985, 81410.9799999999, 57191.299999999945, 70531.55999999991, 51527.92999999997, 91586.3199999999, 49541.10999999999, 41152.939999999995, 55038.91999999995, 76477.50999999997, 60813.89999999996, 96142.13999999988, 66151.16000000002, 81783.15999999987, 59229.930000000015, 49558.499999999985, 40999.67000000002, 53698.37999999995, 58226.11, 1043.9099999999999, 119846.99999999987, 83695.52, 96439.83999999987, 67292.27999999993, 82490.70000000001, 66223.22999999991, 90114.88999999988, 64424.22999999994, 1507.5299999999997, 77739.20999999992, 62806.43999999998, 85585.18999999984, 54247.07999999997, 52007.76999999997, 44083.999999999985, 74692.78999999992, 45151.30999999999, 3087.31, 89011.51999999996, 55859.569999999956, 97242.24999999977, 80673.91999999995, 5337.99, 82126.08999999991, 53771.519999999924, 79958.58999999997, 72089.65999999996, 53577.06000000001, 62920.939999999886, 40706.889999999985, 56413.75999999995, 41000.18999999998, 42289.94999999994, 73420.5699999999, 39868.370000000024, 247.76000000000002, 95605.23999999992, 45289.669999999955, 74128.06999999989, 42836.829999999965, 72461.00999999994, 41373.21999999994, 73612.10999999999, 52259.28999999995, 75960.64, 40119.26, 84614.88999999987, 52772.94999999999, 61766.32999999995, 57982.59, 58913.22000000002, 48330.40999999995, 69360.69999999997, 49552.439999999944, 59587.92999999995, 56500.67999999994, 61637.75999999991, 69434.33999999994, 66011.96999999994, 62063.99999999997, 75849.50999999995, 66383.24, 74601.37999999998, 57090.16000000001, 115761.70999999993, 68239.61999999984, 71765.85999999996, 52215.24999999997, 53202.399999999936, 59480.439999999995, 53679.719999999965, 64527.53999999999, 64475.71999999999, 62058.51999999994, 58731.70999999999, 52097.319999999934, 62755.93999999998, 62388.349999999846, 48820.66999999995, 53841.79999999997, 67212.36999999998, 56573.279999999904, 64552.14999999996, 49446.52, 75028.2799999999, 46808.02999999995, 70425.45000000006, 54324.459999999985, 94652.23999999982, 63283.22000000001, 71355.03999999998, 50588.80999999995, 86079.7799999998, 62194.39999999998, 59393.02999999994, 56318.19999999995, 74298.63999999988, 64587.81999999994, 54167.78999999995, 51662.439999999995, 104078.48999999989, 85860.45999999989, 86564.51999999999, 70930.62999999996, 53202.95999999993, 73851.46999999994, 72723.82999999991, 56130.98999999995, 87423.90999999977, 56640.169999999925, 67260.62999999999, 58071.48999999995, 67057.35999999996, 123516.8299999998, 58321.56999999995, 63629.62999999993, 2431.68, 98590.36999999979, 88904.95999999998, 69701.16999999988, 57082.40999999994, 68189.9599999999, 63105.93999999993, 72719.83, 66835.61999999992, 63716.35999999994, 74077.89999999994, 61633.80999999991, 55350.55999999995, 2545.25, 72400.60999999996, 69231.72999999997, 61585.96999999993, 47774.67999999998, 98221.19999999987, 64700.389999999985, 64541.85999999991, 60563.37999999995, 65230.45999999998, 50138.62999999995, 58408.57999999996, 48175.39999999997, 87073.23999999993, 75781.90999999996, 88721.92000000003, 40955.979999999974, 82928.9999999999, 62444.18999999995, 59021.60999999993, 51297.50999999995, 239.39999999999998, 60306.10999999994, 52826.89999999994, 52866.73999999993, 53191.09000000003, 57509.139999999956, 59566.79999999988, 74017.56999999989, 54203.919999999955, 86246.42999999986, 61651.52999999996, 88718.05999999992, 47933.0599999999, 71225.01999999996, 76352.11, 93431.00999999985, 68120.28999999994, 67873.35999999999, 62675.39999999994, 72800.4799999999, 49121.94999999992, 81462.28999999989, 63378.719999999936, 66283.07999999999, 52494.82999999992, 62233.48999999995, 52895.829999999885, 67854.47999999992, 49516.779999999955, 453.14, 77914.50999999992, 64773.31999999994, 74158.45999999995, 81508.16999999998, 263.4, 62258.94999999988, 65238.00999999991, 75298.92999999985, 62701.04999999994, 84453.56999999998, 88263.43000000004, 94105.50999999983, 60205.42999999997, 81533.45999999982, 64921.74999999998, 72027.67999999998, 46116.439999999915, 80854.34000000001, 65253.139999999956, 69759.86999999997, 64520.64999999995, 68472.52999999998, 62688.74999999994, 61757.66, 50227.40999999995, 97147.49, 70500.6999999999, 61119.009999999944, 62566.79999999996, 72547.23999999999, 70882.10999999994, 89998.95999999995, 58086.41999999999, 46616.74999999996, 53133.319999999956, 56110.92999999998, 44915.69999999997, 3574.1200000000003, 94630.99999999991, 104011.54999999992, 80540.34000000001, 86720.15999999989, 269.92999999999995, 123806.37, 67589.81000000003, 71119.45999999995, 60642.12999999997, 97488.51999999999, 66859.71, 87858.77999999984, 62082.339999999975, 60314.24000000001, 69535.49999999996, 89582.42999999983, 83747.82999999999, 1286.54, 88981.51999999974, 79575.76999999997, 79466.16999999994, 66066.76999999996, 491.88, 77636.55999999991, 67403.63999999998, 76147.52999999984, 54209.419999999984, 63645.82999999997, 50979.98999999996, 55106.57999999994, 42524.090000000004, 49721.599999999926, 46754.709999999934, 60353.58999999987, 44166.599999999984, 82092.70000000006, 66619.44999999992, 70149.56, 73030.53, 97683.80999999992, 63972.41999999988, 55843.209999999934, 44139.6, 68865.47999999991, 54610.60999999989, 66476.31999999998, 44501.66999999996, 48483.60999999997, 69087.16000000003, 70022.9500000001, 73663.67000000004, 64193.859999999964, 55473.68999999999, 66938.23999999992, 52944.04999999996, 72594.71999999996, 52296.45999999992, 58265.499999999985, 50957.87000000003, 900.0, 84359.52999999994, 46076.72999999993, 75712.05999999992, 77777.09000000001, 61909.129999999896, 50064.95999999994, 46765.359999999935, 51701.359999999964, 86131.88999999993, 54198.639999999985, 60960.11999999991, 50243.569999999956, 1125.0, 67319.64999999995, 44222.529999999955, 71423.96999999996, 44839.17999999996, 82858.23999999993, 66102.98, 77288.96, 62945.03999999999, 86217.15999999989, 50264.41999999991, 64743.74999999995, 59997.39999999997, 68988.06000000006, 64666.33999999999, 70485.88999999993, 54249.67999999999, 73952.75999999988, 68469.55000000003, 60251.91000000001, 56933.539999999986, 69977.40999999992, 66029.25999999997, 69919.37999999992, 42088.26999999996, 1892.28, 65986.55999999998, 61999.58999999998, 52146.56999999991, 50568.64999999992, 67398.54999999996, 69618.81999999995, 71359.91999999998, 56815.93999999996, 84716.41000000005, 89910.68, 61622.39999999993, 52442.87999999997, 69792.85000000003, 65408.72999999991, 74523.79000000001, 65868.30999999995, 91064.76000000005, 78286.58999999997, 73210.99999999996, 58961.73999999993, 85412.74999999999, 75186.46, 63632.15999999997, 54868.36999999994, 76752.63999999991, 88998.85999999999, 69614.01999999996, 61059.37999999998, 96811.30999999991, 80498.01000000007, 80421.58999999997, 62631.11, 53406.48999999999, 55664.21999999992, 57981.20000000001, 45213.70999999997, 85344.47999999998, 68780.99999999991, 75314.0399999999, 70091.80999999995, 25898.679999999986, 51616.71999999998, 34624.92999999999, 59208.75999999994, 51473.65999999996, 20452.119999999988, 78809.80000000005, 42679.68999999997, 69641.11999999998, 74854.83999999997, 30678.99999999997, 62714.02999999996, 46553.689999999966, 83104.46999999999, 76401.31, 22719.60000000002, 61254.04999999999, 53911.35999999994, 50877.45999999995, 54975.84999999997, 31345.62999999999, 60678.47999999996, 47949.29999999993, 58147.539999999964, 53207.719999999965, 24942.32999999998, 61873.010000000024, 46048.97000000002, 61098.17999999993, 68008.13999999996, 27418.010000000006, 33252.13000000003, 32065.780000000013, 45721.26000000002, 66279.45, 32712.900000000005, 59383.919999999984, 49418.94999999997, 73914.19999999998, 69677.11999999995, 29504.289999999997, 51730.97, 59374.95999999997, 53100.709999999955, 71307.79999999993, 43526.66999999996, 57419.90999999992, 69484.57000000004, 56874.679999999986, 52835.21999999998, 19589.24000000001, 50866.30999999996, 46279.53999999998, 52865.459999999955, 58655.17999999998, 28338.670000000006, 68394.42999999995, 54743.62999999997, 61731.95999999998, 98369.57000000005, 41649.58999999998, 77028.08999999994, 44705.91999999999, 59426.87999999996, 62644.81999999996, 26684.800000000007, 65654.65999999997, 48250.26999999997, 73496.55999999994, 70093.57000000002, 28808.64, 60687.52999999995, 44188.44999999998, 51959.97999999999, 67630.69999999998, 24476.3, 68012.83999999994, 50753.61999999997, 70342.16000000008, 59559.81999999997, 31395.699999999997, 56178.489999999976, 55521.88999999998, 62229.41, 69897.89999999995, 30307.93999999999, 58318.37999999995, 51971.61999999996, 85612.42000000003, 89990.31999999999, 39988.649999999965, 81404.73999999995, 59346.70000000001, 55150.819999999985, 70429.67999999998, 58256.04999999998, 69905.57000000004, 80739.04999999994, 33599.75999999997, 62981.24999999999, 75132.29999999999, 96273.69000000009, 78686.7400000001, 31340.319999999978, 79209.61999999991, 71680.46999999997, 66924.19999999995, 65661.36, 35892.449999999946, 93480.3999999999, 72529.90999999997, 112328.03000000001, 109576.83000000003, 46153.49999999994, 81027.21000000005, 87781.13999999997, 68656.75999999988, 67830.9499999999, 26738.059999999987, 40818.09000000001, 52186.27999999999, 53758.99000000001, 35250.759999999995, 76030.26999999996, 49502.32999999998, 57192.87999999992, 41078.99999999999, 17995.449999999997, 50032.81000000002, 46076.420000000006, 61829.34999999998, 40171.99999999999, 21037.23000000001, 58295.53000000004, 50130.00999999995, 49665.229999999945, 49936.75999999998, 22494.519999999975, 68725.06999999996, 46760.67999999997, 71780.95, 57588.04999999996, 24355.889999999992, 60442.88999999997, 79587.37000000004, 65016.679999999964, 71743.65999999996, 21501.26999999998, 61248.13, 42228.08999999997, 61413.54, 69935.04999999997, 23700.370000000014, 65294.64000000003, 39529.769999999975, 55133.039999999906, 42851.23999999999, 31185.05999999999, 52657.96999999989, 42484.99999999995, 77196.35999999994, 61780.469999999965, 22021.72, 90532.16000000002, 62733.880000000005, 66066.99999999999, 65208.78999999999, 43867.849999999955, 64076.389999999956, 50906.159999999974, 63413.169999999984, 77287.21000000004, 25673.40999999999, 56692.89999999993, 42506.73999999995, 50077.68999999994, 59827.399999999965, 20279.509999999995, 60066.380000000005, 39186.95999999998, 56347.40999999992, 45333.75000000003, 22869.98, 57951.27999999994, 64000.95999999998, 71160.31999999993, 48432.94000000002, 28965.940000000006, 54813.25999999998, 47698.54000000001, 58416.4, 55546.27, 34098.559999999976, 70738.92000000009, 47366.32, 50557.82999999994, 62746.640000000014, 21025.409999999996, 60853.05999999992, 44601.56999999997, 45864.45999999998, 56969.03999999996, 24332.00999999998, 57010.99000000002, 49177.759999999944, 78162.29000000002, 52954.019999999946, 31775.929999999993, 88740.89000000017, 53818.980000000054, 66053.38999999997, 58807.21999999997, 30535.499999999996, 64878.00999999997, 50937.56999999992, 58782.40999999998, 62191.49999999991, 25997.58999999999, 78842.22, 50685.019999999946, 57092.12999999994, 50996.52999999999, 62491.459999999985, 66627.69999999995, 86583.52000000009, 64683.21999999998, 26820.739999999983, 102022.33999999995, 51586.340000000004, 79295.09999999996, 69988.46000000005, 35069.739999999976, 59779.51999999998, 59698.56000000003, 71966.65000000004, 100385.11000000007, 24327.739999999998, 60885.43999999997, 55552.319999999905, 63794.49999999995, 55219.20999999998, 31908.940000000013, 74260.46000000004, 67293.45000000003, 91214.3800000002, 56721.759999999966, 39135.979999999974, 67372.01, 50376.090000000026, 64549.21999999992, 90551.46000000002, 29923.889999999978, 74924.43000000001, 61302.57999999995, 77044.12000000001, 60761.04999999996, 24836.07000000001, 84006.91000000006, 61203.969999999965, 79732.76999999999, 67829.86999999992, 29519.039999999986, 73827.95999999996, 54866.67999999996, 81094.5700000001, 75556.07999999999, 22387.710000000003, 63415.95, 53717.98999999998, 65156.850000000035, 62457.059999999925, 24892.41000000001, 66617.53999999998, 48905.329999999914, 64273.120000000024, 48458.700000000004, 26078.370000000003, 73085.80999999994, 59012.25, 71613.98000000003, 70633.03000000001, 25375.040000000005, 83381.71, 46952.54999999999, 54339.71999999992, 52490.11999999998, 24840.04000000001, 99747.9500000001, 60226.38999999999, 70743.28999999998, 57039.67999999997, 45716.49, 82857.40999999999, 75828.68000000007, 59779.52999999998, 25419.020000000004, 101481.22000000019, 84248.57, 97795.55000000015, 86299.83000000005, 42152.23999999996, 71920.59999999998, 50588.72999999999, 61361.119999999944, 61173.58999999998, 25002.56999999999, 53062.76999999996, 53350.489999999976, 69334.93000000011, 48090.140000000014, 25529.98, 71395.91000000003, 79280.21999999996, 64732.51999999996, 67625.11000000004, 29965.17, 74505.22000000009, 58146.57999999992, 60973.670000000035, 74763.86, 39710.95, 52969.659999999974, 69136.71000000002, 68084.24000000008, 65247.41000000001, 30701.92999999999, 71516.05000000005, 95765.55999999998, 70372.62000000002, 56543.430000000015, 29280.340000000004, 70973.26, 39673.29999999995, 58934.979999999945, 40186.799999999974, 24591.149999999987, 60854.23999999997, 83837.55999999992, 80082.36999999995, 65647.51, 31172.960000000006, 63753.90999999995, 69418.19999999994, 74731.69000000003, 71657.54999999997, 35660.60999999994, 68038.16999999998, 56841.89999999997, 35164.51999999996, 56841.489999999976, 64690.66000000001, 67398.97999999997, 97836.88000000012, 45233.72999999993, 96458.97000000004, 68574.31000000001, 69734.17000000007, 79747.20000000008, 34476.139999999985, 80556.03000000001, 67712.98000000004, 76650.25000000001, 61474.92, 27597.11, 72559.82999999996, 75120.55000000009, 70993.70999999995, 104127.14999999997, 90190.31999999999, 87110.84000000011, 95990.18000000015, 86792.53000000007, 25127.749999999996, 49326.60000000002, 57645.39999999999, 43709.42999999998, 24363.76000000001, 83190.65000000008, 63223.919999999984, 53979.18999999992, 48176.44000000001, 23875.759999999995, 64316.16999999998, 52018.92999999996, 60805.509999999966, 53711.06999999995, 22203.73999999999, 70890.97999999997, 49079.21999999993, 64611.849999999984, 50473.84999999997, 22828.600000000002, 97771.73000000003, 58626.99999999998, 54423.25999999998, 50032.39999999996, 23230.0, 58112.44999999999, 50743.58999999994, 60533.64999999998, 79625.67000000013, 21317.289999999994, 53138.44000000001, 59515.04999999996, 57260.049999999945, 60402.18999999997, 21003.84999999999, 43500.54999999994, 74857.65000000004, 50645.589999999975, 75825.51000000002, 21149.230000000007, 63126.929999999986, 56011.34999999997, 53754.99999999992, 64560.85999999999, 23047.77000000002, 74395.96, 98095.77999999998, 59873.049999999945, 81097.29999999994, 21347.070000000007, 78855.15000000005, 54620.12999999996, 66917.99999999999, 51034.76, 26874.019999999997, 72021.62000000005, 57912.18999999999, 56901.28999999992, 60496.29000000004, 28162.269999999993, 85396.41000000005, 69422.84000000001, 61779.72999999994, 76002.66000000006, 30972.429999999982, 61483.66, 60158.83999999997, 80245.65999999996, 62065.799999999974, 25713.89999999999, 71583.63000000003, 80715.51000000005, 59859.869999999966, 86336.87, 28748.229999999985, 71676.45000000003, 55399.96999999995, 55093.81999999999, 54360.38999999996, 24640.49999999997, 55773.0, 58069.04999999989, 75941.43999999994, 73477.10000000011, 27271.189999999995, 76911.72, 118875.00000000015, 99812.8900000001, 46807.61000000001, 32058.079999999994, 67143.64999999998, 57306.039999999935, 73747.38999999998, 74787.45, 27985.549999999985, 73940.13, 32258.639999999978, 91103.70000000011, 67828.99999999994, 25003.56999999999, 58674.00999999989, 76784.79, 70057.81999999999, 69238.97999999997, 74232.53000000001, 89491.77999999996, 71067.51000000001, 79854.20000000004, 25499.14, 73328.41000000009, 63085.90999999997, 69453.28000000001, 81442.52000000003, 31339.909999999974, 77823.62000000001, 77467.35, 76360.52, 82060.13999999998, 33730.91, 70062.38999999998, 52744.17999999999, 70959.89999999998, 87268.89, 24557.780000000002, 76037.18000000004, 64901.869999999995, 102994.89000000003, 89515.59000000001, 84844.03000000003, 35468.839999999975, 57738.13999999994, 49030.72999999999, 30244.81999999999, 63207.93999999995, 63682.739999999925, 91939.15, 63071.999999999956, 31089.019999999997, 52426.67999999994, 59915.62999999991, 72646.26999999999, 57480.64999999999, 25912.32000000001, 70559.01999999999, 62700.54999999995, 72401.33999999997, 80810.62, 48560.67999999996, 69280.61999999998, 61639.96, 80384.23000000004, 108190.38000000003, 21337.92000000001, 65805.42, 60162.259999999995, 75832.14, 63581.35, 37512.229999999996, 62714.159999999974, 77077.89999999992, 71350.61, 65191.52999999991, 26559.400000000016, 84536.8500000001, 63756.61999999997, 54579.619999999995, 60581.61000000003, 24847.4, 60179.879999999976, 64428.220000000016, 61283.7, 67415.40999999997, 82278.51000000007, 71446.49999999996, 64617.670000000064, 78867.09, 21009.189999999995, 89615.38, 77697.00999999995, 72959.52000000009, 56800.049999999974, 24537.23, 74523.41999999991, 67853.61000000002, 73430.12999999999, 47518.809999999954, 26448.350000000013, 69992.63999999997, 70574.51999999996, 73171.51, 57079.14999999995, 26968.999999999996, 69383.27000000002, 58301.11000000005, 69663.62000000001, 75229.64, 26417.94, 71219.71, 82486.42999999996, 73246.68000000008, 64194.34000000001, 27507.229999999992, 70122.4, 53971.16999999998, 64501.850000000035, 69606.66999999998, 32936.12000000001, 72789.01000000001, 61707.38999999999, 75447.30999999995, 66329.73999999996, 25508.929999999986, 59714.59999999998, 63914.78000000002, 60724.809999999976, 54515.189999999995, 25322.420000000006, 56163.69999999999, 68556.42000000004, 70196.71000000011, 70339.93000000004, 30098.579999999994, 76011.33000000005, 68618.7200000001, 92700.98999999996, 85712.53999999996, 35485.51999999999, 74570.78000000001, 71078.27000000002, 38119.409999999996, 71779.93999999999, 101493.34000000007, 87754.01000000014, 96121.93000000014, 45983.02999999994, 62511.76, 86970.30999999994, 87044.4200000001, 126476.55999999998, 44863.57, 95913.12000000004, 73193.46000000004, 87846.27, 125742.13000000012, 29878.700000000008, 102855.77000000014, 75540.72000000002, 94225.36000000009, 101682.62000000005, 94202.77999999998, 2377.5800000000004, 80705.88999999996, 96532.26000000008, 78902.62, 23761.909999999996, 65904.33999999991, 51970.609999999986, 54144.07999999998, 67919.45000000001, 53163.160000000025, 46472.409999999974, 59674.98000000001, 73528.40999999999, 27637.449999999997, 49400.090000000004, 46123.77999999995, 58122.28999999998, 46723.78000000001, 34294.68999999997, 73707.53000000006, 53436.14999999999, 77142.46000000002, 47430.70999999995, 78635.36000000016, 52400.64000000003, 53807.66, 61848.409999999974, 25482.699999999997, 67384.02, 53830.7, 60200.57000000008, 62395.59000000003, 23677.61, 82181.15000000004, 65367.83999999999, 53102.07999999998, 66396.65999999997, 26991.160000000003, 60312.39999999995, 52871.32000000003, 65160.01999999996, 76466.53000000001, 25786.85000000001, 78942.85, 69965.25000000001, 64447.15000000003, 49407.43999999999, 31144.43, 73416.27000000008, 85105.69000000003, 80078.19000000005, 77875.02999999997, 28118.749999999993, 62594.950000000004, 63149.62999999998, 89955.15000000004, 78469.93, 27811.090000000004, 65778.94999999998, 51463.660000000025, 67987.62, 56686.579999999994, 21625.610000000008, 67036.90999999996, 46673.450000000004, 56967.07, 92881.48000000001, 31003.309999999976, 53923.25000000002, 51583.47999999998, 68825.39000000006, 60556.07000000001, 28435.68999999999, 56482.12999999999, 63689.61999999998, 70208.23000000001, 56950.479999999996, 33589.59, 43984.850000000006, 49068.16999999996, 68280.47999999997, 56144.82999999999, 58274.270000000026, 70037.79999999996, 57273.91999999999, 68396.08999999994, 56496.540000000015, 56380.15999999995, 51243.48000000001, 50279.41999999998, 59079.630000000005, 84960.7, 55831.29000000001, 64941.11999999999, 63019.520000000004, 71217.09999999998, 93674.63999999997, 62507.00999999999, 52633.920000000006, 80863.51000000001, 67130.93999999999, 60065.70000000004, 75354.88, 9.9, 81574.88999999997, 71221.21000000006, 77265.11000000006, 61861.93999999996, 75314.13, 78219.51999999999, 80870.64999999998, 82758.31000000006, 75925.03000000001, 77641.09999999998, 74990.03000000003, 66675.00999999998, 55308.19999999996, 51128.36000000003, 58952.329999999965, 68026.26, 75958.39999999997, 63403.790000000015, 60383.42000000001, 12887.779999999995, 56610.82000000005, 60473.719999999994, 56001.849999999984, 34320.05999999998, 67763.90000000004, 84612.24999999997, 81888.59000000001, 88161.49000000002, 61516.59999999995, 70367.67000000003, 80244.73000000001, 67119.02, 52230.42000000001, 3145.78, 100070.56000000008, 65073.18000000003, 49560.19000000002, 56317.04, 35869.81999999999, 60761.06999999996, 60937.00999999999, 48488.79999999995, 56133.15999999996, 44671.450000000004, 51205.549999999974, 55691.870000000046, 52513.53, 67533.31000000001, 55739.340000000004, 66865.30999999997, 59902.42999999998, 62684.290000000045, 124446.87999999998, 64335.18000000001, 53827.95999999995, 63086.09, 56267.31999999998, 63824.25999999996, 45641.889999999985, 53202.14999999997, 62655.769999999946, 51312.829999999994, 50296.839999999975, 52787.379999999954, 62554.71999999996, 60078.649999999965, 50967.24000000002, 54990.36999999999, 52871.96000000001, 57388.88999999999, 72220.94000000002, 93608.75000000006, 95049.47000000003, 108715.77999999987, 71537.20999999995, 122657.99999999994, 49104.82999999998, 113805.10999999997, 49537.54999999997, 59238.08000000002, 54786.62999999998, 53581.560000000056, 52455.969999999994, 55965.61999999995, 53381.98000000001, 79631.1800000001, 59837.35000000002, 41610.68000000001, 51508.53999999998, 47297.920000000006, 103923.56000000008, 71762.85000000002, 85420.76000000002, 81367.63, 21133.07, 60026.27999999998, 48688.02, 55374.33999999998, 44126.05999999995, 78217.84000000003, 63430.589999999946, 75903.39000000003, 62893.61, 81809.38, 51843.13000000001, 65743.58, 70890.38999999998, 57898.73000000002, 69273.89000000003, 72553.08000000003, 70251.27, 56601.580000000016, 63187.700000000026, 49974.420000000006, 46617.05999999998, 63883.75999999995, 106632.53000000007, 62406.879999999976, 43593.46, 93953.69000000008, 60771.30999999998, 63010.18000000003, 69009.88999999997, 51420.119999999944, 55180.899999999965, 54724.44000000001, 59047.51, 81473.60999999999, 54218.79000000003, 11726.570000000005, 55872.83999999993, 64380.90999999993, 76696.52000000005, 80084.84000000007, 60469.290000000045, 21222.039999999997, 63521.790000000015, 58091.819999999985, 73412.60000000003, 55783.79999999997, 63376.580000000016, 21155.799999999992, 58628.880000000005, 75808.12000000002, 80616.52000000003, 66099.38999999998, 82101.31999999999, 81595.51999999999, 73089.02999999997, 80201.01999999996, 55222.94999999999, 61522.45999999999, 80362.54000000001, 75940.90000000004, 90330.40000000002, 63236.20000000004, 81073.32000000011, 56690.060000000005, 72569.82000000002, 69321.20999999999, 82472.44999999995, 55329.88000000003, 62944.159999999996, 60890.89999999992, 56864.66000000004, 71837.87, 52739.95000000001, 46408.20999999996, 46282.09999999996, 54887.159999999945, 44828.94, 49127.48999999997, 42235.69999999999, 49175.339999999946, 45627.250000000015, 50045.81999999995, 48226.64999999997, 48201.65000000001, 59643.51999999998, 39938.010000000024, 62584.99999999999, 68758.56999999999, 47340.97999999998, 49324.08999999997, 39551.57999999998, 54285.469999999965, 60349.78, 61569.01000000002, 50364.689999999995, 38080.42999999998, 59196.92000000005, 54335.209999999985, 44072.59999999996, 54780.80999999998, 50961.520000000004, 55918.549999999996, 67060.66999999995, 62251.76000000004, 93940.42000000004, 49635.939999999944, 50103.829999999994, 56416.61000000003, 83429.82000000012, 68281.65999999997, 62901.55000000001, 50072.22000000001, 61334.14999999998, 63750.009999999966, 60103.31000000003, 61659.94999999998, 64037.720000000016, 76470.62000000002, 69197.43000000002, 65752.09999999996, 64734.660000000025, 81813.02999999997, 82064.61999999995, 70033.53000000001, 83753.13000000006, 44893.37999999997, 87079.4800000001, 66685.01000000004, 117806.88999999993, 86801.41999999998, 50746.430000000015, 70516.78000000001, 53923.72, 59585.19000000002, 61586.19000000004, 43001.24, 76208.47, 61619.610000000015, 90433.00000000012, 84940.47000000009, 51201.21999999998, 77073.56000000006, 63897.58000000002, 101863.65000000017, 58533.009999999995, 44478.09999999995, 77258.94999999997, 74312.73000000005, 61633.84999999998, 50546.369999999995, 41295.77, 85866.71000000005, 74425.01000000001, 71559.51000000007, 90178.47000000007, 53905.100000000006, 73832.56000000003, 81285.64999999997, 94904.49999999993, 60640.99000000006, 48838.020000000026, 79803.10000000006, 79404.84000000003, 67356.1200000001, 62504.849999999984, 52957.97999999999, 88802.92, 71639.65, 83301.55000000006, 67578.47000000002, 59063.71000000005, 68705.31999999999, 61372.65999999998, 72828.69000000002, 72129.97000000002, 101276.76000000008, 79202.00999999998, 85652.03000000006, 73165.57000000004, 74996.26000000002, 78955.07999999997, 66285.41, 89516.19000000015, 73124.99999999999, 57573.779999999955, 110927.70999999995, 71022.26999999999, 82721.54000000005, 86526.41000000005, 47210.01000000001, 65719.85, 69290.18999999999, 78724.48999999999, 75929.18999999996, 82601.57, 83545.11000000006, 82921.25000000006, 90155.36000000003, 105467.1000000001, 56438.42, 71853.38, 62189.899999999965, 63939.82999999995, 72835.23999999998, 69342.51, 76576.86999999998, 63271.07999999997, 55297.660000000025, 70948.92999999996, 43149.67, 63508.619999999995, 72355.14000000001, 67273.98000000001, 65225.61999999999, 53149.590000000004, 74008.79000000002, 70697.21, 74418.97000000003, 81425.94, 77034.37, 61774.24999999999, 60929.950000000004, 73202.60000000005, 80953.43000000002, 81542.20000000003, 94878.91999999997, 60744.189999999995, 49712.09999999997, 84132.01000000001, 69850.84000000004, 60816.41000000002, 77938.89000000006, 84985.40000000007, 69220.20000000006, 59423.51, 71060.02999999998, 77858.89000000006, 67303.00000000003, 97084.65999999999, 67134.74999999999, 84706.77999999994, 466.56, 80201.55000000006, 78546.75999999998, 75738.2600000001, 42900.27000000002, 69104.18000000004, 78969.97, 104748.58999999997, 88883.33000000007, 84241.82000000005, 65189.52999999998, 73101.64000000007, 67985.17000000001, 45014.549999999974, 116879.19999999988, 87126.09000000003, 66701.01000000002, 79476.78000000003, 60660.98000000004, 79179.93999999996, 92233.83000000006, 85130.60000000005, 78290.61000000003, 67977.54999999994, 72534.55999999995, 73042.59000000003, 70817.76999999997, 91858.57, 60458.289999999986, 68778.48999999999, 63544.32999999996, 79123.49000000012, 77809.29999999994, 72215.65000000005, 71917.69000000003, 84200.68999999996, 65049.54000000002, 71495.66999999998, 44381.91, 82450.24, 113773.49000000002, 80336.77999999998, 79676.24, 48533.34999999997, 89409.11]}],\n",
              "                        {\"template\": {\"data\": {\"bar\": [{\"error_x\": {\"color\": \"#2a3f5f\"}, \"error_y\": {\"color\": \"#2a3f5f\"}, \"marker\": {\"line\": {\"color\": \"#E5ECF6\", \"width\": 0.5}}, \"type\": \"bar\"}], \"barpolar\": [{\"marker\": {\"line\": {\"color\": \"#E5ECF6\", \"width\": 0.5}}, \"type\": \"barpolar\"}], \"carpet\": [{\"aaxis\": {\"endlinecolor\": \"#2a3f5f\", \"gridcolor\": \"white\", \"linecolor\": \"white\", \"minorgridcolor\": \"white\", \"startlinecolor\": \"#2a3f5f\"}, \"baxis\": {\"endlinecolor\": \"#2a3f5f\", \"gridcolor\": \"white\", \"linecolor\": \"white\", \"minorgridcolor\": \"white\", \"startlinecolor\": \"#2a3f5f\"}, \"type\": \"carpet\"}], \"choropleth\": [{\"colorbar\": {\"outlinewidth\": 0, \"ticks\": \"\"}, \"type\": \"choropleth\"}], \"contour\": [{\"colorbar\": {\"outlinewidth\": 0, \"ticks\": \"\"}, \"colorscale\": [[0.0, \"#0d0887\"], [0.1111111111111111, \"#46039f\"], [0.2222222222222222, \"#7201a8\"], [0.3333333333333333, \"#9c179e\"], [0.4444444444444444, \"#bd3786\"], [0.5555555555555556, \"#d8576b\"], [0.6666666666666666, \"#ed7953\"], [0.7777777777777778, \"#fb9f3a\"], [0.8888888888888888, \"#fdca26\"], [1.0, \"#f0f921\"]], \"type\": \"contour\"}], \"contourcarpet\": [{\"colorbar\": {\"outlinewidth\": 0, \"ticks\": \"\"}, \"type\": \"contourcarpet\"}], \"heatmap\": [{\"colorbar\": {\"outlinewidth\": 0, \"ticks\": \"\"}, \"colorscale\": [[0.0, \"#0d0887\"], [0.1111111111111111, \"#46039f\"], [0.2222222222222222, \"#7201a8\"], [0.3333333333333333, \"#9c179e\"], [0.4444444444444444, \"#bd3786\"], [0.5555555555555556, \"#d8576b\"], [0.6666666666666666, \"#ed7953\"], [0.7777777777777778, \"#fb9f3a\"], [0.8888888888888888, \"#fdca26\"], [1.0, \"#f0f921\"]], \"type\": \"heatmap\"}], \"heatmapgl\": [{\"colorbar\": {\"outlinewidth\": 0, \"ticks\": \"\"}, \"colorscale\": [[0.0, \"#0d0887\"], [0.1111111111111111, \"#46039f\"], [0.2222222222222222, \"#7201a8\"], [0.3333333333333333, \"#9c179e\"], [0.4444444444444444, \"#bd3786\"], [0.5555555555555556, \"#d8576b\"], [0.6666666666666666, \"#ed7953\"], [0.7777777777777778, \"#fb9f3a\"], [0.8888888888888888, \"#fdca26\"], [1.0, \"#f0f921\"]], \"type\": \"heatmapgl\"}], \"histogram\": [{\"marker\": {\"colorbar\": {\"outlinewidth\": 0, \"ticks\": \"\"}}, \"type\": \"histogram\"}], \"histogram2d\": [{\"colorbar\": {\"outlinewidth\": 0, \"ticks\": \"\"}, \"colorscale\": [[0.0, \"#0d0887\"], [0.1111111111111111, \"#46039f\"], [0.2222222222222222, \"#7201a8\"], [0.3333333333333333, \"#9c179e\"], [0.4444444444444444, \"#bd3786\"], [0.5555555555555556, \"#d8576b\"], [0.6666666666666666, \"#ed7953\"], [0.7777777777777778, \"#fb9f3a\"], [0.8888888888888888, \"#fdca26\"], [1.0, \"#f0f921\"]], \"type\": \"histogram2d\"}], \"histogram2dcontour\": [{\"colorbar\": {\"outlinewidth\": 0, \"ticks\": \"\"}, \"colorscale\": [[0.0, \"#0d0887\"], [0.1111111111111111, \"#46039f\"], [0.2222222222222222, \"#7201a8\"], [0.3333333333333333, \"#9c179e\"], [0.4444444444444444, \"#bd3786\"], [0.5555555555555556, \"#d8576b\"], [0.6666666666666666, \"#ed7953\"], [0.7777777777777778, \"#fb9f3a\"], [0.8888888888888888, \"#fdca26\"], [1.0, \"#f0f921\"]], \"type\": \"histogram2dcontour\"}], \"mesh3d\": [{\"colorbar\": {\"outlinewidth\": 0, \"ticks\": \"\"}, \"type\": \"mesh3d\"}], \"parcoords\": [{\"line\": {\"colorbar\": {\"outlinewidth\": 0, \"ticks\": \"\"}}, \"type\": \"parcoords\"}], \"pie\": [{\"automargin\": true, \"type\": \"pie\"}], \"scatter\": [{\"marker\": {\"colorbar\": {\"outlinewidth\": 0, \"ticks\": \"\"}}, \"type\": \"scatter\"}], \"scatter3d\": [{\"line\": {\"colorbar\": {\"outlinewidth\": 0, \"ticks\": \"\"}}, \"marker\": {\"colorbar\": {\"outlinewidth\": 0, \"ticks\": \"\"}}, \"type\": \"scatter3d\"}], \"scattercarpet\": [{\"marker\": {\"colorbar\": {\"outlinewidth\": 0, \"ticks\": \"\"}}, \"type\": \"scattercarpet\"}], \"scattergeo\": [{\"marker\": {\"colorbar\": {\"outlinewidth\": 0, \"ticks\": \"\"}}, \"type\": \"scattergeo\"}], \"scattergl\": [{\"marker\": {\"colorbar\": {\"outlinewidth\": 0, \"ticks\": \"\"}}, \"type\": \"scattergl\"}], \"scattermapbox\": [{\"marker\": {\"colorbar\": {\"outlinewidth\": 0, \"ticks\": \"\"}}, \"type\": \"scattermapbox\"}], \"scatterpolar\": [{\"marker\": {\"colorbar\": {\"outlinewidth\": 0, \"ticks\": \"\"}}, \"type\": \"scatterpolar\"}], \"scatterpolargl\": [{\"marker\": {\"colorbar\": {\"outlinewidth\": 0, \"ticks\": \"\"}}, \"type\": \"scatterpolargl\"}], \"scatterternary\": [{\"marker\": {\"colorbar\": {\"outlinewidth\": 0, \"ticks\": \"\"}}, \"type\": \"scatterternary\"}], \"surface\": [{\"colorbar\": {\"outlinewidth\": 0, \"ticks\": \"\"}, \"colorscale\": [[0.0, \"#0d0887\"], [0.1111111111111111, \"#46039f\"], [0.2222222222222222, \"#7201a8\"], [0.3333333333333333, \"#9c179e\"], [0.4444444444444444, \"#bd3786\"], [0.5555555555555556, \"#d8576b\"], [0.6666666666666666, \"#ed7953\"], [0.7777777777777778, \"#fb9f3a\"], [0.8888888888888888, \"#fdca26\"], [1.0, \"#f0f921\"]], \"type\": \"surface\"}], \"table\": [{\"cells\": {\"fill\": {\"color\": \"#EBF0F8\"}, \"line\": {\"color\": \"white\"}}, \"header\": {\"fill\": {\"color\": \"#C8D4E3\"}, \"line\": {\"color\": \"white\"}}, \"type\": \"table\"}]}, \"layout\": {\"annotationdefaults\": {\"arrowcolor\": \"#2a3f5f\", \"arrowhead\": 0, \"arrowwidth\": 1}, \"coloraxis\": {\"colorbar\": {\"outlinewidth\": 0, \"ticks\": \"\"}}, \"colorscale\": {\"diverging\": [[0, \"#8e0152\"], [0.1, \"#c51b7d\"], [0.2, \"#de77ae\"], [0.3, \"#f1b6da\"], [0.4, \"#fde0ef\"], [0.5, \"#f7f7f7\"], [0.6, \"#e6f5d0\"], [0.7, \"#b8e186\"], [0.8, \"#7fbc41\"], [0.9, \"#4d9221\"], [1, \"#276419\"]], \"sequential\": [[0.0, \"#0d0887\"], [0.1111111111111111, \"#46039f\"], [0.2222222222222222, \"#7201a8\"], [0.3333333333333333, \"#9c179e\"], [0.4444444444444444, \"#bd3786\"], [0.5555555555555556, \"#d8576b\"], [0.6666666666666666, \"#ed7953\"], [0.7777777777777778, \"#fb9f3a\"], [0.8888888888888888, \"#fdca26\"], [1.0, \"#f0f921\"]], \"sequentialminus\": [[0.0, \"#0d0887\"], [0.1111111111111111, \"#46039f\"], [0.2222222222222222, \"#7201a8\"], [0.3333333333333333, \"#9c179e\"], [0.4444444444444444, \"#bd3786\"], [0.5555555555555556, \"#d8576b\"], [0.6666666666666666, \"#ed7953\"], [0.7777777777777778, \"#fb9f3a\"], [0.8888888888888888, \"#fdca26\"], [1.0, \"#f0f921\"]]}, \"colorway\": [\"#636efa\", \"#EF553B\", \"#00cc96\", \"#ab63fa\", \"#FFA15A\", \"#19d3f3\", \"#FF6692\", \"#B6E880\", \"#FF97FF\", \"#FECB52\"], \"font\": {\"color\": \"#2a3f5f\"}, \"geo\": {\"bgcolor\": \"white\", \"lakecolor\": \"white\", \"landcolor\": \"#E5ECF6\", \"showlakes\": true, \"showland\": true, \"subunitcolor\": \"white\"}, \"hoverlabel\": {\"align\": \"left\"}, \"hovermode\": \"closest\", \"mapbox\": {\"style\": \"light\"}, \"paper_bgcolor\": \"white\", \"plot_bgcolor\": \"#E5ECF6\", \"polar\": {\"angularaxis\": {\"gridcolor\": \"white\", \"linecolor\": \"white\", \"ticks\": \"\"}, \"bgcolor\": \"#E5ECF6\", \"radialaxis\": {\"gridcolor\": \"white\", \"linecolor\": \"white\", \"ticks\": \"\"}}, \"scene\": {\"xaxis\": {\"backgroundcolor\": \"#E5ECF6\", \"gridcolor\": \"white\", \"gridwidth\": 2, \"linecolor\": \"white\", \"showbackground\": true, \"ticks\": \"\", \"zerolinecolor\": \"white\"}, \"yaxis\": {\"backgroundcolor\": \"#E5ECF6\", \"gridcolor\": \"white\", \"gridwidth\": 2, \"linecolor\": \"white\", \"showbackground\": true, \"ticks\": \"\", \"zerolinecolor\": \"white\"}, \"zaxis\": {\"backgroundcolor\": \"#E5ECF6\", \"gridcolor\": \"white\", \"gridwidth\": 2, \"linecolor\": \"white\", \"showbackground\": true, \"ticks\": \"\", \"zerolinecolor\": \"white\"}}, \"shapedefaults\": {\"line\": {\"color\": \"#2a3f5f\"}}, \"ternary\": {\"aaxis\": {\"gridcolor\": \"white\", \"linecolor\": \"white\", \"ticks\": \"\"}, \"baxis\": {\"gridcolor\": \"white\", \"linecolor\": \"white\", \"ticks\": \"\"}, \"bgcolor\": \"#E5ECF6\", \"caxis\": {\"gridcolor\": \"white\", \"linecolor\": \"white\", \"ticks\": \"\"}}, \"title\": {\"x\": 0.05}, \"xaxis\": {\"automargin\": true, \"gridcolor\": \"white\", \"linecolor\": \"white\", \"ticks\": \"\", \"title\": {\"standoff\": 15}, \"zerolinecolor\": \"white\", \"zerolinewidth\": 2}, \"yaxis\": {\"automargin\": true, \"gridcolor\": \"white\", \"linecolor\": \"white\", \"ticks\": \"\", \"title\": {\"standoff\": 15}, \"zerolinecolor\": \"white\", \"zerolinewidth\": 2}}}, \"title\": {\"text\": \"Daily sales\"}, \"xaxis\": {\"title\": {\"text\": \"date\"}}, \"yaxis\": {\"title\": {\"text\": \"sales\"}}},\n",
              "                        {\"responsive\": true}\n",
              "                    ).then(function(){\n",
              "                            \n",
              "var gd = document.getElementById('74c940bb-8bbc-4805-9cba-d98208627546');\n",
              "var x = new MutationObserver(function (mutations, observer) {{\n",
              "        var display = window.getComputedStyle(gd).display;\n",
              "        if (!display || display === 'none') {{\n",
              "            console.log([gd, 'removed!']);\n",
              "            Plotly.purge(gd);\n",
              "            observer.disconnect();\n",
              "        }}\n",
              "}});\n",
              "\n",
              "// Listen for the removal of the full notebook cells\n",
              "var notebookContainer = gd.closest('#notebook-container');\n",
              "if (notebookContainer) {{\n",
              "    x.observe(notebookContainer, {childList: true});\n",
              "}}\n",
              "\n",
              "// Listen for the clearing of the current output cell\n",
              "var outputEl = gd.closest('.output');\n",
              "if (outputEl) {{\n",
              "    x.observe(outputEl, {childList: true});\n",
              "}}\n",
              "\n",
              "                        })\n",
              "                };\n",
              "                \n",
              "            </script>\n",
              "        </div>\n",
              "</body>\n",
              "</html>"
            ]
          },
          "metadata": {
            "tags": []
          }
        }
      ]
    },
    {
      "cell_type": "code",
      "metadata": {
        "id": "ceBQg2GG7qPt",
        "outputId": "a8b58e83-9f55-4db8-8b76-fb832aaa3ed6",
        "colab": {
          "base_uri": "https://localhost:8080/",
          "height": 428
        }
      },
      "source": [
        "df.head()"
      ],
      "execution_count": 229,
      "outputs": [
        {
          "output_type": "execute_result",
          "data": {
            "text/html": [
              "<div>\n",
              "<style scoped>\n",
              "    .dataframe tbody tr th:only-of-type {\n",
              "        vertical-align: middle;\n",
              "    }\n",
              "\n",
              "    .dataframe tbody tr th {\n",
              "        vertical-align: top;\n",
              "    }\n",
              "\n",
              "    .dataframe thead th {\n",
              "        text-align: right;\n",
              "    }\n",
              "</style>\n",
              "<table border=\"1\" class=\"dataframe\">\n",
              "  <thead>\n",
              "    <tr style=\"text-align: right;\">\n",
              "      <th></th>\n",
              "      <th>invoice_and_item_number</th>\n",
              "      <th>date</th>\n",
              "      <th>store_number</th>\n",
              "      <th>store_name</th>\n",
              "      <th>address</th>\n",
              "      <th>city</th>\n",
              "      <th>zip_code</th>\n",
              "      <th>county_number</th>\n",
              "      <th>county</th>\n",
              "      <th>category</th>\n",
              "      <th>category_name</th>\n",
              "      <th>vendor_number</th>\n",
              "      <th>vendor_name</th>\n",
              "      <th>item_number</th>\n",
              "      <th>item_description</th>\n",
              "      <th>pack</th>\n",
              "      <th>bottle_volume_ml</th>\n",
              "      <th>state_bottle_cost</th>\n",
              "      <th>state_bottle_retail</th>\n",
              "      <th>bottles_sold</th>\n",
              "      <th>sale_dollars</th>\n",
              "      <th>volume_sold_liters</th>\n",
              "      <th>year</th>\n",
              "      <th>month</th>\n",
              "      <th>day</th>\n",
              "    </tr>\n",
              "  </thead>\n",
              "  <tbody>\n",
              "    <tr>\n",
              "      <th>0</th>\n",
              "      <td>INV-29710100033</td>\n",
              "      <td>2020-08-25</td>\n",
              "      <td>2665</td>\n",
              "      <td>Hy-Vee / Waukee</td>\n",
              "      <td>1005 E Hickman Rd</td>\n",
              "      <td>waukee</td>\n",
              "      <td>50263</td>\n",
              "      <td>25</td>\n",
              "      <td>dallas</td>\n",
              "      <td>1081100</td>\n",
              "      <td>coffee liqueurs</td>\n",
              "      <td>370</td>\n",
              "      <td>pernod ricard usa</td>\n",
              "      <td>67522</td>\n",
              "      <td>kahlua coffee mini</td>\n",
              "      <td>12</td>\n",
              "      <td>50</td>\n",
              "      <td>6.60</td>\n",
              "      <td>9.90</td>\n",
              "      <td>2</td>\n",
              "      <td>19.80</td>\n",
              "      <td>0.1</td>\n",
              "      <td>2020</td>\n",
              "      <td>8</td>\n",
              "      <td>25</td>\n",
              "    </tr>\n",
              "    <tr>\n",
              "      <th>1</th>\n",
              "      <td>S28766800075</td>\n",
              "      <td>2015-10-29</td>\n",
              "      <td>2627</td>\n",
              "      <td>Hy-Vee Wine and Spirits #1</td>\n",
              "      <td>3424 MARTIN LUTHER KING JR PKW</td>\n",
              "      <td>des moines</td>\n",
              "      <td>50310</td>\n",
              "      <td>77</td>\n",
              "      <td>polk</td>\n",
              "      <td>1081030</td>\n",
              "      <td>coffee liqueurs</td>\n",
              "      <td>370</td>\n",
              "      <td>pernod ricard usa/austin nichols</td>\n",
              "      <td>67526</td>\n",
              "      <td>kahlua coffee liqueur</td>\n",
              "      <td>12</td>\n",
              "      <td>750</td>\n",
              "      <td>11.99</td>\n",
              "      <td>17.99</td>\n",
              "      <td>36</td>\n",
              "      <td>647.64</td>\n",
              "      <td>27.0</td>\n",
              "      <td>2015</td>\n",
              "      <td>10</td>\n",
              "      <td>29</td>\n",
              "    </tr>\n",
              "    <tr>\n",
              "      <th>2</th>\n",
              "      <td>INV-21177600024</td>\n",
              "      <td>2019-08-12</td>\n",
              "      <td>2465</td>\n",
              "      <td>Sid's Beverage Shop</td>\n",
              "      <td>2727 Dodge St</td>\n",
              "      <td>dubuque</td>\n",
              "      <td>52003</td>\n",
              "      <td>31</td>\n",
              "      <td>dubuque</td>\n",
              "      <td>1081100</td>\n",
              "      <td>coffee liqueurs</td>\n",
              "      <td>065</td>\n",
              "      <td>jim beam brands</td>\n",
              "      <td>67557</td>\n",
              "      <td>kamora coffee liqueur</td>\n",
              "      <td>12</td>\n",
              "      <td>1000</td>\n",
              "      <td>8.39</td>\n",
              "      <td>12.59</td>\n",
              "      <td>6</td>\n",
              "      <td>75.54</td>\n",
              "      <td>6.0</td>\n",
              "      <td>2019</td>\n",
              "      <td>8</td>\n",
              "      <td>12</td>\n",
              "    </tr>\n",
              "    <tr>\n",
              "      <th>3</th>\n",
              "      <td>INV-21158400005</td>\n",
              "      <td>2019-08-12</td>\n",
              "      <td>2190</td>\n",
              "      <td>Central City Liquor, Inc.</td>\n",
              "      <td>1460 2ND AVE</td>\n",
              "      <td>des moines</td>\n",
              "      <td>50314</td>\n",
              "      <td>77</td>\n",
              "      <td>polk</td>\n",
              "      <td>1082100</td>\n",
              "      <td>imported cordials &amp; liqueur</td>\n",
              "      <td>421</td>\n",
              "      <td>sazerac company  inc</td>\n",
              "      <td>964039</td>\n",
              "      <td>sooh aalborg taffel aquavit</td>\n",
              "      <td>6</td>\n",
              "      <td>750</td>\n",
              "      <td>11.00</td>\n",
              "      <td>16.50</td>\n",
              "      <td>30</td>\n",
              "      <td>495.00</td>\n",
              "      <td>22.5</td>\n",
              "      <td>2019</td>\n",
              "      <td>8</td>\n",
              "      <td>12</td>\n",
              "    </tr>\n",
              "    <tr>\n",
              "      <th>4</th>\n",
              "      <td>S23027000038</td>\n",
              "      <td>2014-12-18</td>\n",
              "      <td>3678</td>\n",
              "      <td>Smoke Shop, The</td>\n",
              "      <td>1918 SE 14TH ST</td>\n",
              "      <td>des moines</td>\n",
              "      <td>50320</td>\n",
              "      <td>77</td>\n",
              "      <td>polk</td>\n",
              "      <td>1701100</td>\n",
              "      <td>decanters &amp; specialty packages</td>\n",
              "      <td>420</td>\n",
              "      <td>moet hennessy usa, inc.</td>\n",
              "      <td>561</td>\n",
              "      <td>ardbeg 10yr exploration pack</td>\n",
              "      <td>6</td>\n",
              "      <td>850</td>\n",
              "      <td>25.98</td>\n",
              "      <td>38.97</td>\n",
              "      <td>2</td>\n",
              "      <td>77.94</td>\n",
              "      <td>1.7</td>\n",
              "      <td>2014</td>\n",
              "      <td>12</td>\n",
              "      <td>18</td>\n",
              "    </tr>\n",
              "  </tbody>\n",
              "</table>\n",
              "</div>"
            ],
            "text/plain": [
              "  invoice_and_item_number       date store_number  ...  year month day\n",
              "0         INV-29710100033 2020-08-25         2665  ...  2020     8  25\n",
              "1            S28766800075 2015-10-29         2627  ...  2015    10  29\n",
              "2         INV-21177600024 2019-08-12         2465  ...  2019     8  12\n",
              "3         INV-21158400005 2019-08-12         2190  ...  2019     8  12\n",
              "4            S23027000038 2014-12-18         3678  ...  2014    12  18\n",
              "\n",
              "[5 rows x 25 columns]"
            ]
          },
          "metadata": {
            "tags": []
          },
          "execution_count": 229
        }
      ]
    },
    {
      "cell_type": "markdown",
      "metadata": {
        "id": "b_zawM2U9ZYj"
      },
      "source": [
        "##### Hypothesis that people buy bigger volumes of cheaper liquers. Let's take a look at plot and correlation matrix between those 2 variables. "
      ]
    },
    {
      "cell_type": "code",
      "metadata": {
        "id": "HWD_AgX13_Of",
        "outputId": "3ed3960f-03d3-42c2-de18-b46dc81de2e5",
        "colab": {
          "base_uri": "https://localhost:8080/",
          "height": 280
        }
      },
      "source": [
        "df.plot.scatter(x='state_bottle_retail',y='volume_sold_liters')\n",
        "plt.show()\n"
      ],
      "execution_count": 230,
      "outputs": [
        {
          "output_type": "display_data",
          "data": {
            "image/png": "[encoded data removed]",
            "text/plain": [
              "<Figure size 432x288 with 1 Axes>"
            ]
          },
          "metadata": {
            "tags": [],
            "needs_background": "light"
          }
        }
      ]
    },
    {
      "cell_type": "code",
      "metadata": {
        "id": "RalQq0Av8fLe",
        "outputId": "c29c6ba3-51cc-4c22-96a3-9cbe00b7233b",
        "colab": {
          "base_uri": "https://localhost:8080/",
          "height": 111
        }
      },
      "source": [
        "df[['state_bottle_retail','volume_sold_liters' ]].corr()"
      ],
      "execution_count": 231,
      "outputs": [
        {
          "output_type": "execute_result",
          "data": {
            "text/html": [
              "<div>\n",
              "<style scoped>\n",
              "    .dataframe tbody tr th:only-of-type {\n",
              "        vertical-align: middle;\n",
              "    }\n",
              "\n",
              "    .dataframe tbody tr th {\n",
              "        vertical-align: top;\n",
              "    }\n",
              "\n",
              "    .dataframe thead th {\n",
              "        text-align: right;\n",
              "    }\n",
              "</style>\n",
              "<table border=\"1\" class=\"dataframe\">\n",
              "  <thead>\n",
              "    <tr style=\"text-align: right;\">\n",
              "      <th></th>\n",
              "      <th>state_bottle_retail</th>\n",
              "      <th>volume_sold_liters</th>\n",
              "    </tr>\n",
              "  </thead>\n",
              "  <tbody>\n",
              "    <tr>\n",
              "      <th>state_bottle_retail</th>\n",
              "      <td>1.000000</td>\n",
              "      <td>0.008183</td>\n",
              "    </tr>\n",
              "    <tr>\n",
              "      <th>volume_sold_liters</th>\n",
              "      <td>0.008183</td>\n",
              "      <td>1.000000</td>\n",
              "    </tr>\n",
              "  </tbody>\n",
              "</table>\n",
              "</div>"
            ],
            "text/plain": [
              "                     state_bottle_retail  volume_sold_liters\n",
              "state_bottle_retail             1.000000            0.008183\n",
              "volume_sold_liters              0.008183            1.000000"
            ]
          },
          "metadata": {
            "tags": []
          },
          "execution_count": 231
        }
      ]
    },
    {
      "cell_type": "code",
      "metadata": {
        "id": "s5nX1Pcy8_sN"
      },
      "source": [
        ""
      ],
      "execution_count": 231,
      "outputs": []
    },
    {
      "cell_type": "code",
      "metadata": {
        "id": "8BNSYbtc71PF"
      },
      "source": [
        ""
      ],
      "execution_count": 231,
      "outputs": []
    }
  ]
}